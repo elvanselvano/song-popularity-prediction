{
 "cells": [
  {
   "cell_type": "markdown",
   "id": "8f6d581a",
   "metadata": {},
   "source": [
    "# *Importing Libraries*"
   ]
  },
  {
   "cell_type": "code",
   "execution_count": 2,
   "id": "d49b9c81",
   "metadata": {},
   "outputs": [
    {
     "data": {
      "text/html": [
       "<style type='text/css'>\n",
       ".datatable table.frame { margin-bottom: 0; }\n",
       ".datatable table.frame thead { border-bottom: none; }\n",
       ".datatable table.frame tr.coltypes td {  color: #FFFFFF;  line-height: 6px;  padding: 0 0.5em;}\n",
       ".datatable .bool    { background: #DDDD99; }\n",
       ".datatable .object  { background: #565656; }\n",
       ".datatable .int     { background: #5D9E5D; }\n",
       ".datatable .float   { background: #4040CC; }\n",
       ".datatable .str     { background: #CC4040; }\n",
       ".datatable .time    { background: #40CC40; }\n",
       ".datatable .row_index {  background: var(--jp-border-color3);  border-right: 1px solid var(--jp-border-color0);  color: var(--jp-ui-font-color3);  font-size: 9px;}\n",
       ".datatable .frame tbody td { text-align: left; }\n",
       ".datatable .frame tr.coltypes .row_index {  background: var(--jp-border-color0);}\n",
       ".datatable th:nth-child(2) { padding-left: 12px; }\n",
       ".datatable .hellipsis {  color: var(--jp-cell-editor-border-color);}\n",
       ".datatable .vellipsis {  background: var(--jp-layout-color0);  color: var(--jp-cell-editor-border-color);}\n",
       ".datatable .na {  color: var(--jp-cell-editor-border-color);  font-size: 80%;}\n",
       ".datatable .sp {  opacity: 0.25;}\n",
       ".datatable .footer { font-size: 9px; }\n",
       ".datatable .frame_dimensions {  background: var(--jp-border-color3);  border-top: 1px solid var(--jp-border-color0);  color: var(--jp-ui-font-color3);  display: inline-block;  opacity: 0.6;  padding: 1px 10px 1px 5px;}\n",
       "</style>\n"
      ],
      "text/plain": [
       "<IPython.core.display.HTML object>"
      ]
     },
     "metadata": {},
     "output_type": "display_data"
    }
   ],
   "source": [
    "#!pip install -U lightautoml\n",
    "# Standard python libraries\n",
    "import os\n",
    "import time\n",
    "\n",
    "# Essential DS libraries\n",
    "import numpy as np\n",
    "import pandas as pd\n",
    "from sklearn.metrics import roc_auc_score\n",
    "from sklearn.model_selection import train_test_split\n",
    "import torch\n",
    "\n",
    "# LightAutoML presets, task and report generation\n",
    "from lightautoml.automl.presets.tabular_presets import TabularAutoML, TabularUtilizedAutoML\n",
    "from lightautoml.tasks import Task\n",
    "from lightautoml.report.report_deco import ReportDeco"
   ]
  },
  {
   "cell_type": "markdown",
   "id": "835e6361",
   "metadata": {},
   "source": [
    "# *Setting up constants*"
   ]
  },
  {
   "cell_type": "code",
   "execution_count": 66,
   "id": "b567d8cd",
   "metadata": {},
   "outputs": [],
   "source": [
    "N_THREADS = 4\n",
    "N_FOLDS = 10\n",
    "RANDOM_STATE = 42\n",
    "TEST_SIZE = 0.2\n",
    "TIMEOUT = 5*3600\n",
    "TARGET_NAME = 'song_popularity'"
   ]
  },
  {
   "cell_type": "code",
   "execution_count": 42,
   "id": "b1ebb679",
   "metadata": {},
   "outputs": [],
   "source": [
    "np.random.seed(RANDOM_STATE)\n",
    "torch.set_num_threads(N_THREADS)"
   ]
  },
  {
   "cell_type": "markdown",
   "id": "c1732b63",
   "metadata": {},
   "source": [
    "# *Load data*"
   ]
  },
  {
   "cell_type": "code",
   "execution_count": 43,
   "id": "fef0b060",
   "metadata": {},
   "outputs": [
    {
     "name": "stdout",
     "output_type": "stream",
     "text": [
      "Wall time: 70.5 ms\n"
     ]
    },
    {
     "data": {
      "text/html": [
       "<div>\n",
       "<style scoped>\n",
       "    .dataframe tbody tr th:only-of-type {\n",
       "        vertical-align: middle;\n",
       "    }\n",
       "\n",
       "    .dataframe tbody tr th {\n",
       "        vertical-align: top;\n",
       "    }\n",
       "\n",
       "    .dataframe thead th {\n",
       "        text-align: right;\n",
       "    }\n",
       "</style>\n",
       "<table border=\"1\" class=\"dataframe\">\n",
       "  <thead>\n",
       "    <tr style=\"text-align: right;\">\n",
       "      <th></th>\n",
       "      <th>id</th>\n",
       "      <th>song_duration_ms</th>\n",
       "      <th>acousticness</th>\n",
       "      <th>danceability</th>\n",
       "      <th>energy</th>\n",
       "      <th>instrumentalness</th>\n",
       "      <th>key</th>\n",
       "      <th>liveness</th>\n",
       "      <th>loudness</th>\n",
       "      <th>audio_mode</th>\n",
       "      <th>speechiness</th>\n",
       "      <th>tempo</th>\n",
       "      <th>time_signature</th>\n",
       "      <th>audio_valence</th>\n",
       "      <th>song_popularity</th>\n",
       "    </tr>\n",
       "  </thead>\n",
       "  <tbody>\n",
       "    <tr>\n",
       "      <th>0</th>\n",
       "      <td>0</td>\n",
       "      <td>212990.0</td>\n",
       "      <td>0.642286</td>\n",
       "      <td>0.856520</td>\n",
       "      <td>0.707073</td>\n",
       "      <td>0.002001</td>\n",
       "      <td>10.0</td>\n",
       "      <td>NaN</td>\n",
       "      <td>-5.619088</td>\n",
       "      <td>0</td>\n",
       "      <td>0.082570</td>\n",
       "      <td>158.386236</td>\n",
       "      <td>4</td>\n",
       "      <td>0.734642</td>\n",
       "      <td>0</td>\n",
       "    </tr>\n",
       "    <tr>\n",
       "      <th>1</th>\n",
       "      <td>1</td>\n",
       "      <td>NaN</td>\n",
       "      <td>0.054866</td>\n",
       "      <td>0.733289</td>\n",
       "      <td>0.835545</td>\n",
       "      <td>0.000996</td>\n",
       "      <td>8.0</td>\n",
       "      <td>0.436428</td>\n",
       "      <td>-5.236965</td>\n",
       "      <td>1</td>\n",
       "      <td>0.127358</td>\n",
       "      <td>102.752988</td>\n",
       "      <td>3</td>\n",
       "      <td>0.711531</td>\n",
       "      <td>1</td>\n",
       "    </tr>\n",
       "    <tr>\n",
       "      <th>2</th>\n",
       "      <td>2</td>\n",
       "      <td>193213.0</td>\n",
       "      <td>NaN</td>\n",
       "      <td>0.188387</td>\n",
       "      <td>0.783524</td>\n",
       "      <td>-0.002694</td>\n",
       "      <td>5.0</td>\n",
       "      <td>0.170499</td>\n",
       "      <td>-4.951759</td>\n",
       "      <td>0</td>\n",
       "      <td>0.052282</td>\n",
       "      <td>178.685791</td>\n",
       "      <td>3</td>\n",
       "      <td>0.425536</td>\n",
       "      <td>0</td>\n",
       "    </tr>\n",
       "    <tr>\n",
       "      <th>3</th>\n",
       "      <td>3</td>\n",
       "      <td>249893.0</td>\n",
       "      <td>0.488660</td>\n",
       "      <td>0.585234</td>\n",
       "      <td>0.552685</td>\n",
       "      <td>0.000608</td>\n",
       "      <td>0.0</td>\n",
       "      <td>0.094805</td>\n",
       "      <td>-7.893694</td>\n",
       "      <td>0</td>\n",
       "      <td>0.035618</td>\n",
       "      <td>128.715630</td>\n",
       "      <td>3</td>\n",
       "      <td>0.453597</td>\n",
       "      <td>0</td>\n",
       "    </tr>\n",
       "    <tr>\n",
       "      <th>4</th>\n",
       "      <td>4</td>\n",
       "      <td>165969.0</td>\n",
       "      <td>0.493017</td>\n",
       "      <td>NaN</td>\n",
       "      <td>0.740982</td>\n",
       "      <td>0.002033</td>\n",
       "      <td>10.0</td>\n",
       "      <td>0.094891</td>\n",
       "      <td>-2.684095</td>\n",
       "      <td>0</td>\n",
       "      <td>0.050746</td>\n",
       "      <td>121.928157</td>\n",
       "      <td>4</td>\n",
       "      <td>0.741311</td>\n",
       "      <td>0</td>\n",
       "    </tr>\n",
       "  </tbody>\n",
       "</table>\n",
       "</div>"
      ],
      "text/plain": [
       "   id  song_duration_ms  acousticness  danceability    energy  \\\n",
       "0   0          212990.0      0.642286      0.856520  0.707073   \n",
       "1   1               NaN      0.054866      0.733289  0.835545   \n",
       "2   2          193213.0           NaN      0.188387  0.783524   \n",
       "3   3          249893.0      0.488660      0.585234  0.552685   \n",
       "4   4          165969.0      0.493017           NaN  0.740982   \n",
       "\n",
       "   instrumentalness   key  liveness  loudness  audio_mode  speechiness  \\\n",
       "0          0.002001  10.0       NaN -5.619088           0     0.082570   \n",
       "1          0.000996   8.0  0.436428 -5.236965           1     0.127358   \n",
       "2         -0.002694   5.0  0.170499 -4.951759           0     0.052282   \n",
       "3          0.000608   0.0  0.094805 -7.893694           0     0.035618   \n",
       "4          0.002033  10.0  0.094891 -2.684095           0     0.050746   \n",
       "\n",
       "        tempo  time_signature  audio_valence  song_popularity  \n",
       "0  158.386236               4       0.734642                0  \n",
       "1  102.752988               3       0.711531                1  \n",
       "2  178.685791               3       0.425536                0  \n",
       "3  128.715630               3       0.453597                0  \n",
       "4  121.928157               4       0.741311                0  "
      ]
     },
     "execution_count": 43,
     "metadata": {},
     "output_type": "execute_result"
    }
   ],
   "source": [
    "%%time\n",
    "\n",
    "train_data = pd.read_csv('D:\\\\COMPI-TOP\\\\Song-popularity\\\\train.csv')\n",
    "train_data.head()"
   ]
  },
  {
   "cell_type": "code",
   "execution_count": 44,
   "id": "22ee9b6c",
   "metadata": {},
   "outputs": [
    {
     "data": {
      "text/html": [
       "<div>\n",
       "<style scoped>\n",
       "    .dataframe tbody tr th:only-of-type {\n",
       "        vertical-align: middle;\n",
       "    }\n",
       "\n",
       "    .dataframe tbody tr th {\n",
       "        vertical-align: top;\n",
       "    }\n",
       "\n",
       "    .dataframe thead th {\n",
       "        text-align: right;\n",
       "    }\n",
       "</style>\n",
       "<table border=\"1\" class=\"dataframe\">\n",
       "  <thead>\n",
       "    <tr style=\"text-align: right;\">\n",
       "      <th></th>\n",
       "      <th>id</th>\n",
       "      <th>song_duration_ms</th>\n",
       "      <th>acousticness</th>\n",
       "      <th>danceability</th>\n",
       "      <th>energy</th>\n",
       "      <th>instrumentalness</th>\n",
       "      <th>key</th>\n",
       "      <th>liveness</th>\n",
       "      <th>loudness</th>\n",
       "      <th>audio_mode</th>\n",
       "      <th>speechiness</th>\n",
       "      <th>tempo</th>\n",
       "      <th>time_signature</th>\n",
       "      <th>audio_valence</th>\n",
       "    </tr>\n",
       "  </thead>\n",
       "  <tbody>\n",
       "    <tr>\n",
       "      <th>0</th>\n",
       "      <td>0</td>\n",
       "      <td>308523.0</td>\n",
       "      <td>0.019845</td>\n",
       "      <td>NaN</td>\n",
       "      <td>0.908939</td>\n",
       "      <td>0.001438</td>\n",
       "      <td>NaN</td>\n",
       "      <td>0.112832</td>\n",
       "      <td>-8.890172</td>\n",
       "      <td>0</td>\n",
       "      <td>0.082714</td>\n",
       "      <td>126.129304</td>\n",
       "      <td>4</td>\n",
       "      <td>0.399620</td>\n",
       "    </tr>\n",
       "    <tr>\n",
       "      <th>1</th>\n",
       "      <td>1</td>\n",
       "      <td>200011.0</td>\n",
       "      <td>0.070119</td>\n",
       "      <td>0.731256</td>\n",
       "      <td>0.444655</td>\n",
       "      <td>0.002020</td>\n",
       "      <td>10.0</td>\n",
       "      <td>0.139040</td>\n",
       "      <td>-6.301214</td>\n",
       "      <td>0</td>\n",
       "      <td>0.061685</td>\n",
       "      <td>86.448149</td>\n",
       "      <td>3</td>\n",
       "      <td>0.499424</td>\n",
       "    </tr>\n",
       "    <tr>\n",
       "      <th>2</th>\n",
       "      <td>2</td>\n",
       "      <td>279758.0</td>\n",
       "      <td>0.810637</td>\n",
       "      <td>0.568858</td>\n",
       "      <td>0.125466</td>\n",
       "      <td>0.898841</td>\n",
       "      <td>0.0</td>\n",
       "      <td>0.226614</td>\n",
       "      <td>-11.542478</td>\n",
       "      <td>0</td>\n",
       "      <td>0.041868</td>\n",
       "      <td>99.544351</td>\n",
       "      <td>3</td>\n",
       "      <td>0.564951</td>\n",
       "    </tr>\n",
       "    <tr>\n",
       "      <th>3</th>\n",
       "      <td>3</td>\n",
       "      <td>249197.0</td>\n",
       "      <td>NaN</td>\n",
       "      <td>0.871789</td>\n",
       "      <td>0.557342</td>\n",
       "      <td>0.000715</td>\n",
       "      <td>4.0</td>\n",
       "      <td>0.325391</td>\n",
       "      <td>-7.905546</td>\n",
       "      <td>1</td>\n",
       "      <td>0.046815</td>\n",
       "      <td>123.063854</td>\n",
       "      <td>4</td>\n",
       "      <td>0.906485</td>\n",
       "    </tr>\n",
       "    <tr>\n",
       "      <th>4</th>\n",
       "      <td>4</td>\n",
       "      <td>NaN</td>\n",
       "      <td>0.765568</td>\n",
       "      <td>0.624687</td>\n",
       "      <td>0.710794</td>\n",
       "      <td>0.000346</td>\n",
       "      <td>8.0</td>\n",
       "      <td>0.308284</td>\n",
       "      <td>NaN</td>\n",
       "      <td>0</td>\n",
       "      <td>0.129284</td>\n",
       "      <td>88.703121</td>\n",
       "      <td>3</td>\n",
       "      <td>0.935571</td>\n",
       "    </tr>\n",
       "  </tbody>\n",
       "</table>\n",
       "</div>"
      ],
      "text/plain": [
       "   id  song_duration_ms  acousticness  danceability    energy  \\\n",
       "0   0          308523.0      0.019845           NaN  0.908939   \n",
       "1   1          200011.0      0.070119      0.731256  0.444655   \n",
       "2   2          279758.0      0.810637      0.568858  0.125466   \n",
       "3   3          249197.0           NaN      0.871789  0.557342   \n",
       "4   4               NaN      0.765568      0.624687  0.710794   \n",
       "\n",
       "   instrumentalness   key  liveness   loudness  audio_mode  speechiness  \\\n",
       "0          0.001438   NaN  0.112832  -8.890172           0     0.082714   \n",
       "1          0.002020  10.0  0.139040  -6.301214           0     0.061685   \n",
       "2          0.898841   0.0  0.226614 -11.542478           0     0.041868   \n",
       "3          0.000715   4.0  0.325391  -7.905546           1     0.046815   \n",
       "4          0.000346   8.0  0.308284        NaN           0     0.129284   \n",
       "\n",
       "        tempo  time_signature  audio_valence  \n",
       "0  126.129304               4       0.399620  \n",
       "1   86.448149               3       0.499424  \n",
       "2   99.544351               3       0.564951  \n",
       "3  123.063854               4       0.906485  \n",
       "4   88.703121               3       0.935571  "
      ]
     },
     "execution_count": 44,
     "metadata": {},
     "output_type": "execute_result"
    }
   ],
   "source": [
    "test_data = pd.read_csv('D:\\\\COMPI-TOP\\\\Song-popularity\\\\test.csv')\n",
    "test_data.head()"
   ]
  },
  {
   "cell_type": "code",
   "execution_count": 45,
   "id": "7810936a",
   "metadata": {},
   "outputs": [
    {
     "data": {
      "text/html": [
       "<div>\n",
       "<style scoped>\n",
       "    .dataframe tbody tr th:only-of-type {\n",
       "        vertical-align: middle;\n",
       "    }\n",
       "\n",
       "    .dataframe tbody tr th {\n",
       "        vertical-align: top;\n",
       "    }\n",
       "\n",
       "    .dataframe thead th {\n",
       "        text-align: right;\n",
       "    }\n",
       "</style>\n",
       "<table border=\"1\" class=\"dataframe\">\n",
       "  <thead>\n",
       "    <tr style=\"text-align: right;\">\n",
       "      <th></th>\n",
       "      <th>id</th>\n",
       "      <th>song_popularity</th>\n",
       "    </tr>\n",
       "  </thead>\n",
       "  <tbody>\n",
       "    <tr>\n",
       "      <th>0</th>\n",
       "      <td>0</td>\n",
       "      <td>0</td>\n",
       "    </tr>\n",
       "    <tr>\n",
       "      <th>1</th>\n",
       "      <td>1</td>\n",
       "      <td>0</td>\n",
       "    </tr>\n",
       "    <tr>\n",
       "      <th>2</th>\n",
       "      <td>2</td>\n",
       "      <td>0</td>\n",
       "    </tr>\n",
       "    <tr>\n",
       "      <th>3</th>\n",
       "      <td>3</td>\n",
       "      <td>0</td>\n",
       "    </tr>\n",
       "    <tr>\n",
       "      <th>4</th>\n",
       "      <td>4</td>\n",
       "      <td>0</td>\n",
       "    </tr>\n",
       "  </tbody>\n",
       "</table>\n",
       "</div>"
      ],
      "text/plain": [
       "   id  song_popularity\n",
       "0   0                0\n",
       "1   1                0\n",
       "2   2                0\n",
       "3   3                0\n",
       "4   4                0"
      ]
     },
     "execution_count": 45,
     "metadata": {},
     "output_type": "execute_result"
    }
   ],
   "source": [
    "samp_sub = pd.read_csv('D:\\\\COMPI-TOP\\\\Song-popularity\\\\sample_submission.csv')\n",
    "samp_sub.head()"
   ]
  },
  {
   "cell_type": "markdown",
   "id": "e0143391",
   "metadata": {},
   "source": [
    "# *Splitting Data*"
   ]
  },
  {
   "cell_type": "code",
   "execution_count": 46,
   "id": "c7b44d3a",
   "metadata": {},
   "outputs": [
    {
     "name": "stdout",
     "output_type": "stream",
     "text": [
      "Data splitted. Parts sizes: tr_data = (32000, 15), te_data = (8000, 15)\n",
      "Wall time: 17 ms\n"
     ]
    }
   ],
   "source": [
    "%%time\n",
    "tr_data, te_data = train_test_split(train_data, \n",
    "                                    test_size=TEST_SIZE, \n",
    "                                    stratify=train_data[TARGET_NAME], \n",
    "                                    random_state=RANDOM_STATE)\n",
    "print('Data splitted. Parts sizes: tr_data = {}, te_data = {}'.format(tr_data.shape, te_data.shape))"
   ]
  },
  {
   "cell_type": "code",
   "execution_count": 47,
   "id": "7e4f4be0",
   "metadata": {},
   "outputs": [
    {
     "data": {
      "text/html": [
       "<div>\n",
       "<style scoped>\n",
       "    .dataframe tbody tr th:only-of-type {\n",
       "        vertical-align: middle;\n",
       "    }\n",
       "\n",
       "    .dataframe tbody tr th {\n",
       "        vertical-align: top;\n",
       "    }\n",
       "\n",
       "    .dataframe thead th {\n",
       "        text-align: right;\n",
       "    }\n",
       "</style>\n",
       "<table border=\"1\" class=\"dataframe\">\n",
       "  <thead>\n",
       "    <tr style=\"text-align: right;\">\n",
       "      <th></th>\n",
       "      <th>id</th>\n",
       "      <th>song_duration_ms</th>\n",
       "      <th>acousticness</th>\n",
       "      <th>danceability</th>\n",
       "      <th>energy</th>\n",
       "      <th>instrumentalness</th>\n",
       "      <th>key</th>\n",
       "      <th>liveness</th>\n",
       "      <th>loudness</th>\n",
       "      <th>audio_mode</th>\n",
       "      <th>speechiness</th>\n",
       "      <th>tempo</th>\n",
       "      <th>time_signature</th>\n",
       "      <th>audio_valence</th>\n",
       "      <th>song_popularity</th>\n",
       "    </tr>\n",
       "  </thead>\n",
       "  <tbody>\n",
       "    <tr>\n",
       "      <th>8445</th>\n",
       "      <td>8445</td>\n",
       "      <td>249165.0</td>\n",
       "      <td>0.018023</td>\n",
       "      <td>0.691292</td>\n",
       "      <td>NaN</td>\n",
       "      <td>0.002070</td>\n",
       "      <td>7.0</td>\n",
       "      <td>0.253386</td>\n",
       "      <td>NaN</td>\n",
       "      <td>0</td>\n",
       "      <td>0.133197</td>\n",
       "      <td>119.674313</td>\n",
       "      <td>4</td>\n",
       "      <td>0.291141</td>\n",
       "      <td>0</td>\n",
       "    </tr>\n",
       "    <tr>\n",
       "      <th>29445</th>\n",
       "      <td>29445</td>\n",
       "      <td>262839.0</td>\n",
       "      <td>0.029204</td>\n",
       "      <td>0.296050</td>\n",
       "      <td>0.747173</td>\n",
       "      <td>0.000863</td>\n",
       "      <td>0.0</td>\n",
       "      <td>0.146838</td>\n",
       "      <td>-10.175356</td>\n",
       "      <td>1</td>\n",
       "      <td>0.331771</td>\n",
       "      <td>97.095876</td>\n",
       "      <td>4</td>\n",
       "      <td>0.476756</td>\n",
       "      <td>1</td>\n",
       "    </tr>\n",
       "    <tr>\n",
       "      <th>27510</th>\n",
       "      <td>27510</td>\n",
       "      <td>249180.0</td>\n",
       "      <td>NaN</td>\n",
       "      <td>0.240227</td>\n",
       "      <td>0.981282</td>\n",
       "      <td>0.003295</td>\n",
       "      <td>6.0</td>\n",
       "      <td>0.111339</td>\n",
       "      <td>NaN</td>\n",
       "      <td>0</td>\n",
       "      <td>0.095754</td>\n",
       "      <td>121.685407</td>\n",
       "      <td>3</td>\n",
       "      <td>0.226383</td>\n",
       "      <td>0</td>\n",
       "    </tr>\n",
       "    <tr>\n",
       "      <th>21464</th>\n",
       "      <td>21464</td>\n",
       "      <td>150192.0</td>\n",
       "      <td>0.896027</td>\n",
       "      <td>0.290141</td>\n",
       "      <td>0.260367</td>\n",
       "      <td>0.004380</td>\n",
       "      <td>10.0</td>\n",
       "      <td>0.210436</td>\n",
       "      <td>-12.902434</td>\n",
       "      <td>0</td>\n",
       "      <td>0.039707</td>\n",
       "      <td>122.609402</td>\n",
       "      <td>3</td>\n",
       "      <td>0.436087</td>\n",
       "      <td>1</td>\n",
       "    </tr>\n",
       "    <tr>\n",
       "      <th>1915</th>\n",
       "      <td>1915</td>\n",
       "      <td>169956.0</td>\n",
       "      <td>0.606447</td>\n",
       "      <td>0.784803</td>\n",
       "      <td>NaN</td>\n",
       "      <td>0.000923</td>\n",
       "      <td>4.0</td>\n",
       "      <td>0.353536</td>\n",
       "      <td>-7.492491</td>\n",
       "      <td>0</td>\n",
       "      <td>0.043732</td>\n",
       "      <td>79.920547</td>\n",
       "      <td>3</td>\n",
       "      <td>0.343077</td>\n",
       "      <td>0</td>\n",
       "    </tr>\n",
       "  </tbody>\n",
       "</table>\n",
       "</div>"
      ],
      "text/plain": [
       "          id  song_duration_ms  acousticness  danceability    energy  \\\n",
       "8445    8445          249165.0      0.018023      0.691292       NaN   \n",
       "29445  29445          262839.0      0.029204      0.296050  0.747173   \n",
       "27510  27510          249180.0           NaN      0.240227  0.981282   \n",
       "21464  21464          150192.0      0.896027      0.290141  0.260367   \n",
       "1915    1915          169956.0      0.606447      0.784803       NaN   \n",
       "\n",
       "       instrumentalness   key  liveness   loudness  audio_mode  speechiness  \\\n",
       "8445           0.002070   7.0  0.253386        NaN           0     0.133197   \n",
       "29445          0.000863   0.0  0.146838 -10.175356           1     0.331771   \n",
       "27510          0.003295   6.0  0.111339        NaN           0     0.095754   \n",
       "21464          0.004380  10.0  0.210436 -12.902434           0     0.039707   \n",
       "1915           0.000923   4.0  0.353536  -7.492491           0     0.043732   \n",
       "\n",
       "            tempo  time_signature  audio_valence  song_popularity  \n",
       "8445   119.674313               4       0.291141                0  \n",
       "29445   97.095876               4       0.476756                1  \n",
       "27510  121.685407               3       0.226383                0  \n",
       "21464  122.609402               3       0.436087                1  \n",
       "1915    79.920547               3       0.343077                0  "
      ]
     },
     "execution_count": 47,
     "metadata": {},
     "output_type": "execute_result"
    }
   ],
   "source": [
    "tr_data.head()"
   ]
  },
  {
   "cell_type": "markdown",
   "id": "34489280",
   "metadata": {},
   "source": [
    "# *Adding oofs and test-predictions from AutoWoe Models*"
   ]
  },
  {
   "cell_type": "code",
   "execution_count": 48,
   "id": "4f40e0df",
   "metadata": {},
   "outputs": [],
   "source": [
    "from autowoe import AutoWoE\n",
    "from sklearn.model_selection import StratifiedKFold\n",
    "\n",
    "def get_oof_and_test_pred(tr, te, real_te):\n",
    "    skf = StratifiedKFold(n_splits=N_FOLDS)\n",
    "\n",
    "    oof_preds_woe = np.zeros(len(tr))\n",
    "    test_preds_woe = np.zeros(len(te))\n",
    "    real_test_preds_woe = np.zeros(len(real_te))\n",
    "\n",
    "    y = tr['song_popularity'].values\n",
    "\n",
    "    for fold, (train_idx, val_idx) in enumerate(skf.split(y, y)):\n",
    "\n",
    "        X_tr, X_val = tr.iloc[train_idx, :], tr.iloc[val_idx, :]\n",
    "\n",
    "        auto_woe = AutoWoE(monotonic=False,\n",
    "                         vif_th=20.,\n",
    "                         imp_th=0,\n",
    "                         th_const=32,\n",
    "                         force_single_split=True,\n",
    "                         min_bin_size = 0.005,\n",
    "                         oof_woe=True,\n",
    "                         n_folds=5,\n",
    "                         n_jobs=N_THREADS,\n",
    "                         regularized_refit=True,\n",
    "                         verbose=0)\n",
    "\n",
    "        auto_woe.fit(X_tr.sample(20000, random_state = 13).drop('id', axis = 1), \n",
    "                     target_name=\"song_popularity\")\n",
    "\n",
    "        val_pred = auto_woe.predict_proba(X_val)\n",
    "        print(\"FOLD {}, AUC_SCORE = {:.5f}\".format(fold, roc_auc_score(X_val['song_popularity'], val_pred)))\n",
    "\n",
    "        oof_preds_woe[val_idx] = val_pred\n",
    "        test_preds_woe += auto_woe.predict_proba(te) / N_FOLDS\n",
    "        real_test_preds_woe += auto_woe.predict_proba(real_te) / N_FOLDS\n",
    "\n",
    "    print(\"AUC_SCORE TRAIN = {:.5f}\".format(roc_auc_score(tr_data['song_popularity'], oof_preds_woe)))\n",
    "    print(\"AUC_SCORE TEST = {:.5f}\".format(roc_auc_score(te_data['song_popularity'], test_preds_woe)))\n",
    "    \n",
    "    return oof_preds_woe, test_preds_woe, real_test_preds_woe"
   ]
  },
  {
   "cell_type": "code",
   "execution_count": 49,
   "id": "a6a86afb",
   "metadata": {
    "scrolled": true
   },
   "outputs": [
    {
     "name": "stdout",
     "output_type": "stream",
     "text": [
      "FOLD 0, AUC_SCORE = 0.53472\n",
      "FOLD 1, AUC_SCORE = 0.57293\n",
      "FOLD 2, AUC_SCORE = 0.56182\n",
      "FOLD 3, AUC_SCORE = 0.55723\n",
      "FOLD 4, AUC_SCORE = 0.57838\n",
      "FOLD 5, AUC_SCORE = 0.54732\n",
      "FOLD 6, AUC_SCORE = 0.56403\n",
      "FOLD 7, AUC_SCORE = 0.55482\n",
      "FOLD 8, AUC_SCORE = 0.56121\n",
      "FOLD 9, AUC_SCORE = 0.55910\n",
      "AUC_SCORE TRAIN = 0.55908\n",
      "AUC_SCORE TEST = 0.56719\n",
      "FOLD 0, AUC_SCORE = 0.53472\n",
      "FOLD 1, AUC_SCORE = 0.57293\n",
      "FOLD 2, AUC_SCORE = 0.56182\n",
      "FOLD 3, AUC_SCORE = 0.55723\n",
      "FOLD 4, AUC_SCORE = 0.57838\n",
      "FOLD 5, AUC_SCORE = 0.54732\n",
      "FOLD 6, AUC_SCORE = 0.56403\n",
      "FOLD 7, AUC_SCORE = 0.55413\n",
      "FOLD 8, AUC_SCORE = 0.56121\n",
      "FOLD 9, AUC_SCORE = 0.55910\n",
      "AUC_SCORE TRAIN = 0.55901\n",
      "AUC_SCORE TEST = 0.56715\n"
     ]
    }
   ],
   "source": [
    "oof_preds_woe, test_preds_woe, real_test_preds_woe = get_oof_and_test_pred(tr_data, te_data, test_data)\n",
    "\n",
    "# This idea was in my mind but as it was already announced in @hiro5299834 \n",
    "tr_data['missed_cnt'] = tr_data.isna().sum(axis=1)\n",
    "te_data['missed_cnt'] = te_data.isna().sum(axis=1)\n",
    "test_data['missed_cnt'] = test_data.isna().sum(axis=1)\n",
    "oof_preds_woe2, test_preds_woe2, real_test_preds_woe2 = get_oof_and_test_pred(tr_data, te_data, test_data)"
   ]
  },
  {
   "cell_type": "code",
   "execution_count": 50,
   "id": "8338eb3d",
   "metadata": {},
   "outputs": [
    {
     "name": "stdout",
     "output_type": "stream",
     "text": [
      "AUC_SCORE TEST = 0.56719\n",
      "AUC_SCORE TEST = 0.56715\n",
      "AUC_SCORE TEST = 0.56717\n"
     ]
    }
   ],
   "source": [
    "print(\"AUC_SCORE TEST = {:.5f}\".format(roc_auc_score(te_data['song_popularity'], test_preds_woe)))\n",
    "print(\"AUC_SCORE TEST = {:.5f}\".format(roc_auc_score(te_data['song_popularity'], test_preds_woe2)))\n",
    "print(\"AUC_SCORE TEST = {:.5f}\".format(roc_auc_score(te_data['song_popularity'], 0.5 * test_preds_woe +\n",
    "                                                                         0.5 * test_preds_woe2)))"
   ]
  },
  {
   "cell_type": "code",
   "execution_count": 51,
   "id": "e8cebada",
   "metadata": {},
   "outputs": [
    {
     "name": "stdout",
     "output_type": "stream",
     "text": [
      "AUC_SCORE TEST = 0.56717\n"
     ]
    }
   ],
   "source": [
    "from scipy.stats import rankdata\n",
    "print(\"AUC_SCORE TEST = {:.5f}\".format(roc_auc_score(te_data['song_popularity'], 0.5 * rankdata(test_preds_woe) +\n",
    "                                                                         0.5 * rankdata(test_preds_woe2))))"
   ]
  },
  {
   "cell_type": "code",
   "execution_count": 52,
   "id": "54dd89d7",
   "metadata": {},
   "outputs": [],
   "source": [
    "tr_data['oof_woe_1'] = oof_preds_woe\n",
    "te_data['oof_woe_1'] = test_preds_woe\n",
    "test_data['oof_woe_1'] = real_test_preds_woe\n",
    "\n",
    "tr_data['oof_woe_2'] = oof_preds_woe2\n",
    "te_data['oof_woe_2'] = test_preds_woe2\n",
    "test_data['oof_woe_2'] = real_test_preds_woe2\n",
    "\n",
    "tr_data['oof_woe_12'] = 0.5 * oof_preds_woe + 0.5 * oof_preds_woe2\n",
    "te_data['oof_woe_12'] = 0.5 * test_preds_woe + 0.5 * test_preds_woe2\n",
    "test_data['oof_woe_12'] = 0.5 * real_test_preds_woe + 0.5 * real_test_preds_woe2\n",
    "\n",
    "tr_data['rank_oof_woe_1'] = rankdata(oof_preds_woe)\n",
    "te_data['rank_oof_woe_1'] = rankdata(test_preds_woe)\n",
    "test_data['rank_oof_woe_1'] = rankdata(real_test_preds_woe)\n",
    "\n",
    "tr_data['rank_oof_woe_2'] = rankdata(oof_preds_woe2)\n",
    "te_data['rank_oof_woe_2'] = rankdata(test_preds_woe2)\n",
    "test_data['rank_oof_woe_2'] = rankdata(real_test_preds_woe2)\n",
    "\n",
    "tr_data['rank_oof_woe_12'] = 0.5 * rankdata(oof_preds_woe) + 0.5 * rankdata(oof_preds_woe2)\n",
    "te_data['rank_oof_woe_12'] = 0.5 * rankdata(test_preds_woe) + 0.5 * rankdata(test_preds_woe2)\n",
    "test_data['rank_oof_woe_12'] = 0.5 * rankdata(real_test_preds_woe) + 0.5 * rankdata(real_test_preds_woe2)"
   ]
  },
  {
   "cell_type": "markdown",
   "id": "116c0b60",
   "metadata": {},
   "source": [
    "# *Model-building*"
   ]
  },
  {
   "cell_type": "markdown",
   "id": "e52c807e",
   "metadata": {},
   "source": [
    "## *Setting up task*"
   ]
  },
  {
   "cell_type": "code",
   "execution_count": 53,
   "id": "28eb63a8",
   "metadata": {},
   "outputs": [
    {
     "name": "stdout",
     "output_type": "stream",
     "text": [
      "Wall time: 1.97 ms\n"
     ]
    }
   ],
   "source": [
    "%%time\n",
    "\n",
    "task = Task('binary', )"
   ]
  },
  {
   "cell_type": "code",
   "execution_count": 54,
   "id": "b387045b",
   "metadata": {},
   "outputs": [
    {
     "name": "stdout",
     "output_type": "stream",
     "text": [
      "Wall time: 0 ns\n"
     ]
    }
   ],
   "source": [
    "%%time\n",
    "\n",
    "roles = {'target': TARGET_NAME,\n",
    "         'drop': ['id']\n",
    "         }"
   ]
  },
  {
   "cell_type": "markdown",
   "id": "8016852c",
   "metadata": {},
   "source": [
    "## *Model Creation*"
   ]
  },
  {
   "cell_type": "code",
   "execution_count": 55,
   "id": "5f647a42",
   "metadata": {},
   "outputs": [
    {
     "name": "stdout",
     "output_type": "stream",
     "text": [
      "Wall time: 8min 47s\n"
     ]
    }
   ],
   "source": [
    "%%time \n",
    "\n",
    "automl = TabularAutoML(task = task, \n",
    "                        timeout = TIMEOUT,\n",
    "                        cpu_limit = N_THREADS,\n",
    "                        reader_params = {'n_jobs': N_THREADS, 'cv': N_FOLDS, 'random_state': RANDOM_STATE},\n",
    "                        general_params = {'use_algos': [['lgb', 'lgb_tuned', 'linear_l2', 'cb', 'cb_tuned'], ['lgb', 'linear_l2']]},\n",
    "                        selection_params = {'mode': 0}\n",
    "                       )\n",
    "\n",
    "RD = ReportDeco(output_path = 'tabularAutoML_model_report')\n",
    "automl_rd = RD(automl)\n",
    "\n",
    "oof_pred = automl_rd.fit_predict(tr_data, roles = roles)"
   ]
  },
  {
   "cell_type": "code",
   "execution_count": 56,
   "id": "d0e4c9a9",
   "metadata": {},
   "outputs": [
    {
     "name": "stdout",
     "output_type": "stream",
     "text": [
      "Prediction for te_data:\n",
      "array([[0.3885191 ],\n",
      "       [0.37146556],\n",
      "       [0.38216656],\n",
      "       ...,\n",
      "       [0.34906876],\n",
      "       [0.38018227],\n",
      "       [0.3144596 ]], dtype=float32)\n",
      "Shape = (8000, 1)\n",
      "Wall time: 2.21 s\n"
     ]
    }
   ],
   "source": [
    "%%time\n",
    "\n",
    "te_pred = automl_rd.predict(te_data)\n",
    "print('Prediction for te_data:\\n{}\\nShape = {}'.format(te_pred, te_pred.shape))"
   ]
  },
  {
   "cell_type": "code",
   "execution_count": 57,
   "id": "bcfe1a58",
   "metadata": {},
   "outputs": [
    {
     "name": "stdout",
     "output_type": "stream",
     "text": [
      "Check scores...\n",
      "OOF score: 0.568856404651221\n",
      "HOLDOUT score: 0.5781695397791575\n"
     ]
    }
   ],
   "source": [
    "print('Check scores...')\n",
    "print('OOF score: {}'.format(roc_auc_score(tr_data[TARGET_NAME].values, oof_pred.data[:, 0])))\n",
    "print('HOLDOUT score: {}'.format(roc_auc_score(te_data[TARGET_NAME].values, te_pred.data[:, 0])))"
   ]
  },
  {
   "cell_type": "markdown",
   "id": "911e6819",
   "metadata": {},
   "source": [
    "# *Training on whole data*"
   ]
  },
  {
   "cell_type": "code",
   "execution_count": 58,
   "id": "83f28f87",
   "metadata": {},
   "outputs": [
    {
     "name": "stdout",
     "output_type": "stream",
     "text": [
      "(40000, 22)\n"
     ]
    },
    {
     "data": {
      "text/html": [
       "<div>\n",
       "<style scoped>\n",
       "    .dataframe tbody tr th:only-of-type {\n",
       "        vertical-align: middle;\n",
       "    }\n",
       "\n",
       "    .dataframe tbody tr th {\n",
       "        vertical-align: top;\n",
       "    }\n",
       "\n",
       "    .dataframe thead th {\n",
       "        text-align: right;\n",
       "    }\n",
       "</style>\n",
       "<table border=\"1\" class=\"dataframe\">\n",
       "  <thead>\n",
       "    <tr style=\"text-align: right;\">\n",
       "      <th></th>\n",
       "      <th>id</th>\n",
       "      <th>song_duration_ms</th>\n",
       "      <th>acousticness</th>\n",
       "      <th>danceability</th>\n",
       "      <th>energy</th>\n",
       "      <th>instrumentalness</th>\n",
       "      <th>key</th>\n",
       "      <th>liveness</th>\n",
       "      <th>loudness</th>\n",
       "      <th>audio_mode</th>\n",
       "      <th>...</th>\n",
       "      <th>time_signature</th>\n",
       "      <th>audio_valence</th>\n",
       "      <th>song_popularity</th>\n",
       "      <th>missed_cnt</th>\n",
       "      <th>oof_woe_1</th>\n",
       "      <th>oof_woe_2</th>\n",
       "      <th>oof_woe_12</th>\n",
       "      <th>rank_oof_woe_1</th>\n",
       "      <th>rank_oof_woe_2</th>\n",
       "      <th>rank_oof_woe_12</th>\n",
       "    </tr>\n",
       "  </thead>\n",
       "  <tbody>\n",
       "    <tr>\n",
       "      <th>0</th>\n",
       "      <td>8445</td>\n",
       "      <td>249165.0</td>\n",
       "      <td>0.018023</td>\n",
       "      <td>0.691292</td>\n",
       "      <td>NaN</td>\n",
       "      <td>0.002070</td>\n",
       "      <td>7.0</td>\n",
       "      <td>0.253386</td>\n",
       "      <td>NaN</td>\n",
       "      <td>0</td>\n",
       "      <td>...</td>\n",
       "      <td>4</td>\n",
       "      <td>0.291141</td>\n",
       "      <td>0</td>\n",
       "      <td>2</td>\n",
       "      <td>0.289544</td>\n",
       "      <td>0.289544</td>\n",
       "      <td>0.289544</td>\n",
       "      <td>3356.0</td>\n",
       "      <td>3343.0</td>\n",
       "      <td>3349.5</td>\n",
       "    </tr>\n",
       "    <tr>\n",
       "      <th>1</th>\n",
       "      <td>29445</td>\n",
       "      <td>262839.0</td>\n",
       "      <td>0.029204</td>\n",
       "      <td>0.296050</td>\n",
       "      <td>0.747173</td>\n",
       "      <td>0.000863</td>\n",
       "      <td>0.0</td>\n",
       "      <td>0.146838</td>\n",
       "      <td>-10.175356</td>\n",
       "      <td>1</td>\n",
       "      <td>...</td>\n",
       "      <td>4</td>\n",
       "      <td>0.476756</td>\n",
       "      <td>1</td>\n",
       "      <td>0</td>\n",
       "      <td>0.384845</td>\n",
       "      <td>0.384845</td>\n",
       "      <td>0.384845</td>\n",
       "      <td>20833.5</td>\n",
       "      <td>20841.5</td>\n",
       "      <td>20837.5</td>\n",
       "    </tr>\n",
       "    <tr>\n",
       "      <th>2</th>\n",
       "      <td>27510</td>\n",
       "      <td>249180.0</td>\n",
       "      <td>NaN</td>\n",
       "      <td>0.240227</td>\n",
       "      <td>0.981282</td>\n",
       "      <td>0.003295</td>\n",
       "      <td>6.0</td>\n",
       "      <td>0.111339</td>\n",
       "      <td>NaN</td>\n",
       "      <td>0</td>\n",
       "      <td>...</td>\n",
       "      <td>3</td>\n",
       "      <td>0.226383</td>\n",
       "      <td>0</td>\n",
       "      <td>2</td>\n",
       "      <td>0.341728</td>\n",
       "      <td>0.341728</td>\n",
       "      <td>0.341728</td>\n",
       "      <td>11693.0</td>\n",
       "      <td>11693.0</td>\n",
       "      <td>11693.0</td>\n",
       "    </tr>\n",
       "    <tr>\n",
       "      <th>3</th>\n",
       "      <td>21464</td>\n",
       "      <td>150192.0</td>\n",
       "      <td>0.896027</td>\n",
       "      <td>0.290141</td>\n",
       "      <td>0.260367</td>\n",
       "      <td>0.004380</td>\n",
       "      <td>10.0</td>\n",
       "      <td>0.210436</td>\n",
       "      <td>-12.902434</td>\n",
       "      <td>0</td>\n",
       "      <td>...</td>\n",
       "      <td>3</td>\n",
       "      <td>0.436087</td>\n",
       "      <td>1</td>\n",
       "      <td>0</td>\n",
       "      <td>0.436695</td>\n",
       "      <td>0.436695</td>\n",
       "      <td>0.436695</td>\n",
       "      <td>28470.0</td>\n",
       "      <td>28484.0</td>\n",
       "      <td>28477.0</td>\n",
       "    </tr>\n",
       "    <tr>\n",
       "      <th>4</th>\n",
       "      <td>1915</td>\n",
       "      <td>169956.0</td>\n",
       "      <td>0.606447</td>\n",
       "      <td>0.784803</td>\n",
       "      <td>NaN</td>\n",
       "      <td>0.000923</td>\n",
       "      <td>4.0</td>\n",
       "      <td>0.353536</td>\n",
       "      <td>-7.492491</td>\n",
       "      <td>0</td>\n",
       "      <td>...</td>\n",
       "      <td>3</td>\n",
       "      <td>0.343077</td>\n",
       "      <td>0</td>\n",
       "      <td>1</td>\n",
       "      <td>0.378587</td>\n",
       "      <td>0.378587</td>\n",
       "      <td>0.378587</td>\n",
       "      <td>19505.0</td>\n",
       "      <td>19501.0</td>\n",
       "      <td>19503.0</td>\n",
       "    </tr>\n",
       "  </tbody>\n",
       "</table>\n",
       "<p>5 rows × 22 columns</p>\n",
       "</div>"
      ],
      "text/plain": [
       "      id  song_duration_ms  acousticness  danceability    energy  \\\n",
       "0   8445          249165.0      0.018023      0.691292       NaN   \n",
       "1  29445          262839.0      0.029204      0.296050  0.747173   \n",
       "2  27510          249180.0           NaN      0.240227  0.981282   \n",
       "3  21464          150192.0      0.896027      0.290141  0.260367   \n",
       "4   1915          169956.0      0.606447      0.784803       NaN   \n",
       "\n",
       "   instrumentalness   key  liveness   loudness  audio_mode  ...  \\\n",
       "0          0.002070   7.0  0.253386        NaN           0  ...   \n",
       "1          0.000863   0.0  0.146838 -10.175356           1  ...   \n",
       "2          0.003295   6.0  0.111339        NaN           0  ...   \n",
       "3          0.004380  10.0  0.210436 -12.902434           0  ...   \n",
       "4          0.000923   4.0  0.353536  -7.492491           0  ...   \n",
       "\n",
       "   time_signature  audio_valence  song_popularity  missed_cnt  oof_woe_1  \\\n",
       "0               4       0.291141                0           2   0.289544   \n",
       "1               4       0.476756                1           0   0.384845   \n",
       "2               3       0.226383                0           2   0.341728   \n",
       "3               3       0.436087                1           0   0.436695   \n",
       "4               3       0.343077                0           1   0.378587   \n",
       "\n",
       "   oof_woe_2  oof_woe_12  rank_oof_woe_1  rank_oof_woe_2  rank_oof_woe_12  \n",
       "0   0.289544    0.289544          3356.0          3343.0           3349.5  \n",
       "1   0.384845    0.384845         20833.5         20841.5          20837.5  \n",
       "2   0.341728    0.341728         11693.0         11693.0          11693.0  \n",
       "3   0.436695    0.436695         28470.0         28484.0          28477.0  \n",
       "4   0.378587    0.378587         19505.0         19501.0          19503.0  \n",
       "\n",
       "[5 rows x 22 columns]"
      ]
     },
     "execution_count": 58,
     "metadata": {},
     "output_type": "execute_result"
    }
   ],
   "source": [
    "train_data = pd.concat([tr_data, te_data]).reset_index(drop = True)\n",
    "print(train_data.shape)\n",
    "train_data.head()"
   ]
  },
  {
   "cell_type": "code",
   "execution_count": 59,
   "id": "127f6b47",
   "metadata": {
    "scrolled": true
   },
   "outputs": [
    {
     "name": "stdout",
     "output_type": "stream",
     "text": [
      "Wall time: 8min 2s\n"
     ]
    }
   ],
   "source": [
    "%%time \n",
    "\n",
    "automl = TabularAutoML(task = task, \n",
    "                       timeout = TIMEOUT,\n",
    "                       cpu_limit = N_THREADS,\n",
    "                       reader_params = {'n_jobs': N_THREADS, 'cv': N_FOLDS, 'random_state': RANDOM_STATE},\n",
    "                       tuning_params = {'max_tuning_time': 900}, # more time for params tuning\n",
    "                       general_params = {'use_algos': [['lgb', 'lgb_tuned', 'linear_l2', 'cb', 'cb_tuned'], ['lgb', 'linear_l2']]},\n",
    "                       selection_params = {'mode': 0} # no feature selection - everything is necessary :)\n",
    "                      )\n",
    "\n",
    "oof_pred = automl.fit_predict(train_data, roles = roles)"
   ]
  },
  {
   "cell_type": "markdown",
   "id": "dd495a12",
   "metadata": {},
   "source": [
    "# *Using Utilized Model*"
   ]
  },
  {
   "cell_type": "code",
   "execution_count": 68,
   "id": "37136d51",
   "metadata": {},
   "outputs": [],
   "source": [
    "TIMEOUT = 2700"
   ]
  },
  {
   "cell_type": "code",
   "execution_count": 69,
   "id": "53d22a1d",
   "metadata": {},
   "outputs": [
    {
     "name": "stdout",
     "output_type": "stream",
     "text": [
      "Wall time: 39min 50s\n"
     ]
    }
   ],
   "source": [
    "%%time \n",
    "automl = TabularUtilizedAutoML(task = task, \n",
    "                       timeout = TIMEOUT,\n",
    "                       cpu_limit = N_THREADS,\n",
    "                       reader_params = {'n_jobs': N_THREADS, 'cv': N_FOLDS, 'random_state': RANDOM_STATE},\n",
    "                       tuning_params = {'max_tuning_time': 2700}, # more time for params tuning\n",
    "                       general_params = {'use_algos': [['lgb', 'lgb_tuned', 'linear_l2', 'cb', 'cb_tuned'], ['lgb', 'linear_l2']]},\n",
    "                       selection_params = {'mode': 0} # no feature selection - everything is necessary :)\n",
    "                      )\n",
    "\n",
    "oof_pred = automl.fit_predict(train_data, roles = roles)"
   ]
  },
  {
   "cell_type": "code",
   "execution_count": 70,
   "id": "dc59b7f3",
   "metadata": {},
   "outputs": [
    {
     "name": "stdout",
     "output_type": "stream",
     "text": [
      "Check scores...\n",
      "OOF score: 0.5753449744258344\n"
     ]
    }
   ],
   "source": [
    "print('Check scores...')\n",
    "print('OOF score: {}'.format(roc_auc_score(train_data[TARGET_NAME].values, oof_pred.data[:, 0])))"
   ]
  },
  {
   "cell_type": "code",
   "execution_count": null,
   "id": "0617a331",
   "metadata": {},
   "outputs": [],
   "source": [
    "# 0.5711841736055511\n",
    "# 0.5714597819445433"
   ]
  },
  {
   "cell_type": "code",
   "execution_count": 71,
   "id": "51d5fd30",
   "metadata": {},
   "outputs": [
    {
     "name": "stdout",
     "output_type": "stream",
     "text": [
      "Prediction for test_data:\n",
      "array([[0.4076663 ],\n",
      "       [0.44756764],\n",
      "       [0.31369266],\n",
      "       ...,\n",
      "       [0.35283282],\n",
      "       [0.41616076],\n",
      "       [0.30357975]], dtype=float32)\n",
      "Shape = (10000, 1)\n"
     ]
    }
   ],
   "source": [
    "test_pred = automl.predict(test_data)\n",
    "print('Prediction for test_data:\\n{}\\nShape = {}'.format(test_pred, test_pred.shape))"
   ]
  },
  {
   "cell_type": "markdown",
   "id": "85eb0f81",
   "metadata": {},
   "source": [
    "# *Creating submission file*"
   ]
  },
  {
   "cell_type": "code",
   "execution_count": 72,
   "id": "c74f323a",
   "metadata": {},
   "outputs": [],
   "source": [
    "samp_sub[TARGET_NAME] = test_pred.data[:, 0]\n",
    "samp_sub.to_csv('D:\\\\COMPI-TOP\\\\Song-popularity\\\\LightAUTOML_2.csv', index = False)"
   ]
  },
  {
   "cell_type": "code",
   "execution_count": 73,
   "id": "a0cc3476",
   "metadata": {},
   "outputs": [
    {
     "data": {
      "text/html": [
       "<div>\n",
       "<style scoped>\n",
       "    .dataframe tbody tr th:only-of-type {\n",
       "        vertical-align: middle;\n",
       "    }\n",
       "\n",
       "    .dataframe tbody tr th {\n",
       "        vertical-align: top;\n",
       "    }\n",
       "\n",
       "    .dataframe thead th {\n",
       "        text-align: right;\n",
       "    }\n",
       "</style>\n",
       "<table border=\"1\" class=\"dataframe\">\n",
       "  <thead>\n",
       "    <tr style=\"text-align: right;\">\n",
       "      <th></th>\n",
       "      <th>id</th>\n",
       "      <th>song_popularity</th>\n",
       "    </tr>\n",
       "  </thead>\n",
       "  <tbody>\n",
       "    <tr>\n",
       "      <th>0</th>\n",
       "      <td>0</td>\n",
       "      <td>0.407666</td>\n",
       "    </tr>\n",
       "    <tr>\n",
       "      <th>1</th>\n",
       "      <td>1</td>\n",
       "      <td>0.447568</td>\n",
       "    </tr>\n",
       "    <tr>\n",
       "      <th>2</th>\n",
       "      <td>2</td>\n",
       "      <td>0.313693</td>\n",
       "    </tr>\n",
       "    <tr>\n",
       "      <th>3</th>\n",
       "      <td>3</td>\n",
       "      <td>0.328120</td>\n",
       "    </tr>\n",
       "    <tr>\n",
       "      <th>4</th>\n",
       "      <td>4</td>\n",
       "      <td>0.363966</td>\n",
       "    </tr>\n",
       "  </tbody>\n",
       "</table>\n",
       "</div>"
      ],
      "text/plain": [
       "   id  song_popularity\n",
       "0   0         0.407666\n",
       "1   1         0.447568\n",
       "2   2         0.313693\n",
       "3   3         0.328120\n",
       "4   4         0.363966"
      ]
     },
     "execution_count": 73,
     "metadata": {},
     "output_type": "execute_result"
    }
   ],
   "source": [
    "samp_sub.head()"
   ]
  },
  {
   "cell_type": "code",
   "execution_count": null,
   "id": "1db24e16",
   "metadata": {},
   "outputs": [],
   "source": []
  }
 ],
 "metadata": {
  "kernelspec": {
   "display_name": "Python 3",
   "language": "python",
   "name": "python3"
  },
  "language_info": {
   "codemirror_mode": {
    "name": "ipython",
    "version": 3
   },
   "file_extension": ".py",
   "mimetype": "text/x-python",
   "name": "python",
   "nbconvert_exporter": "python",
   "pygments_lexer": "ipython3",
   "version": "3.8.8"
  }
 },
 "nbformat": 4,
 "nbformat_minor": 5
}
