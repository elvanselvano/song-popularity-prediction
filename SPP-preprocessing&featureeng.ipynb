{
 "cells": [
  {
   "cell_type": "code",
   "execution_count": 1,
   "id": "490b92ee",
   "metadata": {},
   "outputs": [
    {
     "data": {
      "text/html": [
       "<style type='text/css'>\n",
       ".datatable table.frame { margin-bottom: 0; }\n",
       ".datatable table.frame thead { border-bottom: none; }\n",
       ".datatable table.frame tr.coltypes td {  color: #FFFFFF;  line-height: 6px;  padding: 0 0.5em;}\n",
       ".datatable .bool    { background: #DDDD99; }\n",
       ".datatable .object  { background: #565656; }\n",
       ".datatable .int     { background: #5D9E5D; }\n",
       ".datatable .float   { background: #4040CC; }\n",
       ".datatable .str     { background: #CC4040; }\n",
       ".datatable .time    { background: #40CC40; }\n",
       ".datatable .row_index {  background: var(--jp-border-color3);  border-right: 1px solid var(--jp-border-color0);  color: var(--jp-ui-font-color3);  font-size: 9px;}\n",
       ".datatable .frame tbody td { text-align: left; }\n",
       ".datatable .frame tr.coltypes .row_index {  background: var(--jp-border-color0);}\n",
       ".datatable th:nth-child(2) { padding-left: 12px; }\n",
       ".datatable .hellipsis {  color: var(--jp-cell-editor-border-color);}\n",
       ".datatable .vellipsis {  background: var(--jp-layout-color0);  color: var(--jp-cell-editor-border-color);}\n",
       ".datatable .na {  color: var(--jp-cell-editor-border-color);  font-size: 80%;}\n",
       ".datatable .sp {  opacity: 0.25;}\n",
       ".datatable .footer { font-size: 9px; }\n",
       ".datatable .frame_dimensions {  background: var(--jp-border-color3);  border-top: 1px solid var(--jp-border-color0);  color: var(--jp-ui-font-color3);  display: inline-block;  opacity: 0.6;  padding: 1px 10px 1px 5px;}\n",
       "</style>\n"
      ],
      "text/plain": [
       "<IPython.core.display.HTML object>"
      ]
     },
     "metadata": {},
     "output_type": "display_data"
    }
   ],
   "source": [
    "import pandas as pd\n",
    "from sklearn.preprocessing import LabelEncoder\n",
    "from sklearn.impute import SimpleImputer\n",
    "from sklearn.preprocessing import StandardScaler, RobustScaler\n",
    "from sklearn.pipeline import Pipeline\n",
    "import gc\n",
    "from sklearn import model_selection\n",
    "from sklearn.metrics import roc_auc_score\n",
    "from lightgbm import LGBMClassifier, LGBMRegressor\n",
    "import lightgbm as lgb\n",
    "import optuna\n",
    "import numpy as np"
   ]
  },
  {
   "cell_type": "code",
   "execution_count": 2,
   "id": "8a293256",
   "metadata": {},
   "outputs": [],
   "source": [
    "df_train = pd.read_csv(\"D:\\\\COMPI-TOP\\\\Song-popularity\\\\train.csv\")\n",
    "df_test = pd.read_csv(\"D:\\\\COMPI-TOP\\\\Song-popularity\\\\test.csv\")\n",
    "submission = pd.read_csv(\"D:\\\\COMPI-TOP\\\\Song-popularity\\\\sample_submission.csv\")"
   ]
  },
  {
   "cell_type": "code",
   "execution_count": 3,
   "id": "8d3636b0",
   "metadata": {},
   "outputs": [],
   "source": [
    "train = df_train.copy()\n",
    "test = df_test.copy()"
   ]
  },
  {
   "cell_type": "code",
   "execution_count": 4,
   "id": "139a840f",
   "metadata": {},
   "outputs": [
    {
     "name": "stdout",
     "output_type": "stream",
     "text": [
      "<class 'pandas.core.frame.DataFrame'>\n",
      "RangeIndex: 40000 entries, 0 to 39999\n",
      "Data columns (total 15 columns):\n",
      " #   Column            Non-Null Count  Dtype  \n",
      "---  ------            --------------  -----  \n",
      " 0   id                40000 non-null  int64  \n",
      " 1   song_duration_ms  35899 non-null  float64\n",
      " 2   acousticness      36008 non-null  float64\n",
      " 3   danceability      35974 non-null  float64\n",
      " 4   energy            36025 non-null  float64\n",
      " 5   instrumentalness  36015 non-null  float64\n",
      " 6   key               35935 non-null  float64\n",
      " 7   liveness          35914 non-null  float64\n",
      " 8   loudness          36043 non-null  float64\n",
      " 9   audio_mode        40000 non-null  int64  \n",
      " 10  speechiness       40000 non-null  float64\n",
      " 11  tempo             40000 non-null  float64\n",
      " 12  time_signature    40000 non-null  int64  \n",
      " 13  audio_valence     40000 non-null  float64\n",
      " 14  song_popularity   40000 non-null  int64  \n",
      "dtypes: float64(11), int64(4)\n",
      "memory usage: 4.6 MB\n"
     ]
    }
   ],
   "source": [
    "train.info()"
   ]
  },
  {
   "cell_type": "code",
   "execution_count": 5,
   "id": "f9ebc510",
   "metadata": {
    "scrolled": false
   },
   "outputs": [
    {
     "data": {
      "text/html": [
       "<div>\n",
       "<style scoped>\n",
       "    .dataframe tbody tr th:only-of-type {\n",
       "        vertical-align: middle;\n",
       "    }\n",
       "\n",
       "    .dataframe tbody tr th {\n",
       "        vertical-align: top;\n",
       "    }\n",
       "\n",
       "    .dataframe thead th {\n",
       "        text-align: right;\n",
       "    }\n",
       "</style>\n",
       "<table border=\"1\" class=\"dataframe\">\n",
       "  <thead>\n",
       "    <tr style=\"text-align: right;\">\n",
       "      <th></th>\n",
       "      <th>id</th>\n",
       "      <th>song_duration_ms</th>\n",
       "      <th>acousticness</th>\n",
       "      <th>danceability</th>\n",
       "      <th>energy</th>\n",
       "      <th>instrumentalness</th>\n",
       "      <th>key</th>\n",
       "      <th>liveness</th>\n",
       "      <th>loudness</th>\n",
       "      <th>audio_mode</th>\n",
       "      <th>speechiness</th>\n",
       "      <th>tempo</th>\n",
       "      <th>time_signature</th>\n",
       "      <th>audio_valence</th>\n",
       "      <th>song_popularity</th>\n",
       "    </tr>\n",
       "  </thead>\n",
       "  <tbody>\n",
       "    <tr>\n",
       "      <th>0</th>\n",
       "      <td>0</td>\n",
       "      <td>212990.0</td>\n",
       "      <td>0.642286</td>\n",
       "      <td>0.856520</td>\n",
       "      <td>0.707073</td>\n",
       "      <td>0.002001</td>\n",
       "      <td>10.0</td>\n",
       "      <td>NaN</td>\n",
       "      <td>-5.619088</td>\n",
       "      <td>0</td>\n",
       "      <td>0.082570</td>\n",
       "      <td>158.386236</td>\n",
       "      <td>4</td>\n",
       "      <td>0.734642</td>\n",
       "      <td>0</td>\n",
       "    </tr>\n",
       "    <tr>\n",
       "      <th>1</th>\n",
       "      <td>1</td>\n",
       "      <td>NaN</td>\n",
       "      <td>0.054866</td>\n",
       "      <td>0.733289</td>\n",
       "      <td>0.835545</td>\n",
       "      <td>0.000996</td>\n",
       "      <td>8.0</td>\n",
       "      <td>0.436428</td>\n",
       "      <td>-5.236965</td>\n",
       "      <td>1</td>\n",
       "      <td>0.127358</td>\n",
       "      <td>102.752988</td>\n",
       "      <td>3</td>\n",
       "      <td>0.711531</td>\n",
       "      <td>1</td>\n",
       "    </tr>\n",
       "    <tr>\n",
       "      <th>2</th>\n",
       "      <td>2</td>\n",
       "      <td>193213.0</td>\n",
       "      <td>NaN</td>\n",
       "      <td>0.188387</td>\n",
       "      <td>0.783524</td>\n",
       "      <td>-0.002694</td>\n",
       "      <td>5.0</td>\n",
       "      <td>0.170499</td>\n",
       "      <td>-4.951759</td>\n",
       "      <td>0</td>\n",
       "      <td>0.052282</td>\n",
       "      <td>178.685791</td>\n",
       "      <td>3</td>\n",
       "      <td>0.425536</td>\n",
       "      <td>0</td>\n",
       "    </tr>\n",
       "    <tr>\n",
       "      <th>3</th>\n",
       "      <td>3</td>\n",
       "      <td>249893.0</td>\n",
       "      <td>0.488660</td>\n",
       "      <td>0.585234</td>\n",
       "      <td>0.552685</td>\n",
       "      <td>0.000608</td>\n",
       "      <td>0.0</td>\n",
       "      <td>0.094805</td>\n",
       "      <td>-7.893694</td>\n",
       "      <td>0</td>\n",
       "      <td>0.035618</td>\n",
       "      <td>128.715630</td>\n",
       "      <td>3</td>\n",
       "      <td>0.453597</td>\n",
       "      <td>0</td>\n",
       "    </tr>\n",
       "    <tr>\n",
       "      <th>4</th>\n",
       "      <td>4</td>\n",
       "      <td>165969.0</td>\n",
       "      <td>0.493017</td>\n",
       "      <td>NaN</td>\n",
       "      <td>0.740982</td>\n",
       "      <td>0.002033</td>\n",
       "      <td>10.0</td>\n",
       "      <td>0.094891</td>\n",
       "      <td>-2.684095</td>\n",
       "      <td>0</td>\n",
       "      <td>0.050746</td>\n",
       "      <td>121.928157</td>\n",
       "      <td>4</td>\n",
       "      <td>0.741311</td>\n",
       "      <td>0</td>\n",
       "    </tr>\n",
       "  </tbody>\n",
       "</table>\n",
       "</div>"
      ],
      "text/plain": [
       "   id  song_duration_ms  acousticness  danceability    energy  \\\n",
       "0   0          212990.0      0.642286      0.856520  0.707073   \n",
       "1   1               NaN      0.054866      0.733289  0.835545   \n",
       "2   2          193213.0           NaN      0.188387  0.783524   \n",
       "3   3          249893.0      0.488660      0.585234  0.552685   \n",
       "4   4          165969.0      0.493017           NaN  0.740982   \n",
       "\n",
       "   instrumentalness   key  liveness  loudness  audio_mode  speechiness  \\\n",
       "0          0.002001  10.0       NaN -5.619088           0     0.082570   \n",
       "1          0.000996   8.0  0.436428 -5.236965           1     0.127358   \n",
       "2         -0.002694   5.0  0.170499 -4.951759           0     0.052282   \n",
       "3          0.000608   0.0  0.094805 -7.893694           0     0.035618   \n",
       "4          0.002033  10.0  0.094891 -2.684095           0     0.050746   \n",
       "\n",
       "        tempo  time_signature  audio_valence  song_popularity  \n",
       "0  158.386236               4       0.734642                0  \n",
       "1  102.752988               3       0.711531                1  \n",
       "2  178.685791               3       0.425536                0  \n",
       "3  128.715630               3       0.453597                0  \n",
       "4  121.928157               4       0.741311                0  "
      ]
     },
     "execution_count": 5,
     "metadata": {},
     "output_type": "execute_result"
    }
   ],
   "source": [
    "train.head()"
   ]
  },
  {
   "cell_type": "code",
   "execution_count": 11,
   "id": "5c2e05c6",
   "metadata": {},
   "outputs": [
    {
     "name": "stdout",
     "output_type": "stream",
     "text": [
      "[]\n"
     ]
    }
   ],
   "source": [
    "useful_features = [c for c in train.columns if c not in (\"id\", \"song_popularity\")]\n",
    "object_cols = [col for col in train[useful_features].columns if train[useful_features].dtypes[col]=='object']\n",
    "print(object_cols)"
   ]
  },
  {
   "cell_type": "code",
   "execution_count": 12,
   "id": "188b4cf0",
   "metadata": {},
   "outputs": [],
   "source": [
    "pipeline = Pipeline([\n",
    "    ('impute', SimpleImputer(strategy='median')),\n",
    "    ('scale', RobustScaler())\n",
    "])"
   ]
  },
  {
   "cell_type": "code",
   "execution_count": 13,
   "id": "49313b12",
   "metadata": {},
   "outputs": [],
   "source": [
    "train_ = pd.DataFrame(columns=train[useful_features].columns, data=pipeline.fit_transform(train[useful_features]))\n",
    "test_ = pd.DataFrame(columns=test[useful_features].columns, data=pipeline.fit_transform(test[useful_features]))"
   ]
  },
  {
   "cell_type": "code",
   "execution_count": 14,
   "id": "b2684370",
   "metadata": {},
   "outputs": [],
   "source": [
    "train_.insert(0, 'id', train.id)\n",
    "test_.insert(0, 'id', test.id)"
   ]
  },
  {
   "cell_type": "code",
   "execution_count": 15,
   "id": "b25d9f88",
   "metadata": {},
   "outputs": [
    {
     "data": {
      "text/plain": [
       "0"
      ]
     },
     "execution_count": 15,
     "metadata": {},
     "output_type": "execute_result"
    }
   ],
   "source": [
    "train = train_.copy()\n",
    "test = test_.copy()\n",
    "del train_\n",
    "gc.collect()\n",
    "del test_\n",
    "gc.collect()"
   ]
  },
  {
   "cell_type": "code",
   "execution_count": 16,
   "id": "da60b8d9",
   "metadata": {},
   "outputs": [],
   "source": [
    "cat_cols = ['key', 'time_signature', 'audio_mode']\n",
    "cat_indices = []\n",
    "for f in cat_cols:\n",
    "    if f in train.columns:\n",
    "        idx = list(train.columns).index(f)\n",
    "        cat_indices.append(idx)"
   ]
  },
  {
   "cell_type": "code",
   "execution_count": 17,
   "id": "9ef5924f",
   "metadata": {},
   "outputs": [
    {
     "data": {
      "text/html": [
       "<div>\n",
       "<style scoped>\n",
       "    .dataframe tbody tr th:only-of-type {\n",
       "        vertical-align: middle;\n",
       "    }\n",
       "\n",
       "    .dataframe tbody tr th {\n",
       "        vertical-align: top;\n",
       "    }\n",
       "\n",
       "    .dataframe thead th {\n",
       "        text-align: right;\n",
       "    }\n",
       "</style>\n",
       "<table border=\"1\" class=\"dataframe\">\n",
       "  <thead>\n",
       "    <tr style=\"text-align: right;\">\n",
       "      <th></th>\n",
       "      <th>id</th>\n",
       "      <th>song_duration_ms</th>\n",
       "      <th>acousticness</th>\n",
       "      <th>danceability</th>\n",
       "      <th>energy</th>\n",
       "      <th>instrumentalness</th>\n",
       "      <th>key</th>\n",
       "      <th>liveness</th>\n",
       "      <th>loudness</th>\n",
       "      <th>audio_mode</th>\n",
       "      <th>speechiness</th>\n",
       "      <th>tempo</th>\n",
       "      <th>time_signature</th>\n",
       "      <th>audio_valence</th>\n",
       "      <th>song_popularity</th>\n",
       "    </tr>\n",
       "  </thead>\n",
       "  <tbody>\n",
       "    <tr>\n",
       "      <th>0</th>\n",
       "      <td>0</td>\n",
       "      <td>0.625453</td>\n",
       "      <td>1.310314</td>\n",
       "      <td>0.952114</td>\n",
       "      <td>0.008803</td>\n",
       "      <td>0.013607</td>\n",
       "      <td>0.833333</td>\n",
       "      <td>0.000000</td>\n",
       "      <td>0.168801</td>\n",
       "      <td>0.0</td>\n",
       "      <td>0.332190</td>\n",
       "      <td>1.414573</td>\n",
       "      <td>1.0</td>\n",
       "      <td>0.376253</td>\n",
       "      <td>0</td>\n",
       "    </tr>\n",
       "    <tr>\n",
       "      <th>1</th>\n",
       "      <td>1</td>\n",
       "      <td>0.000000</td>\n",
       "      <td>-0.223716</td>\n",
       "      <td>0.479554</td>\n",
       "      <td>0.440540</td>\n",
       "      <td>-0.494693</td>\n",
       "      <td>0.500000</td>\n",
       "      <td>3.486191</td>\n",
       "      <td>0.257609</td>\n",
       "      <td>1.0</td>\n",
       "      <td>0.889668</td>\n",
       "      <td>-0.350325</td>\n",
       "      <td>0.0</td>\n",
       "      <td>0.312228</td>\n",
       "      <td>1</td>\n",
       "    </tr>\n",
       "    <tr>\n",
       "      <th>2</th>\n",
       "      <td>2</td>\n",
       "      <td>0.155662</td>\n",
       "      <td>0.000000</td>\n",
       "      <td>-1.610004</td>\n",
       "      <td>0.265720</td>\n",
       "      <td>-2.359470</td>\n",
       "      <td>0.000000</td>\n",
       "      <td>0.400888</td>\n",
       "      <td>0.323892</td>\n",
       "      <td>0.0</td>\n",
       "      <td>-0.044798</td>\n",
       "      <td>2.058552</td>\n",
       "      <td>0.0</td>\n",
       "      <td>-0.480076</td>\n",
       "      <td>0</td>\n",
       "    </tr>\n",
       "    <tr>\n",
       "      <th>3</th>\n",
       "      <td>3</td>\n",
       "      <td>1.502061</td>\n",
       "      <td>0.909126</td>\n",
       "      <td>-0.088200</td>\n",
       "      <td>-0.510026</td>\n",
       "      <td>-0.690593</td>\n",
       "      <td>-0.833333</td>\n",
       "      <td>-0.477306</td>\n",
       "      <td>-0.359828</td>\n",
       "      <td>0.0</td>\n",
       "      <td>-0.252212</td>\n",
       "      <td>0.473309</td>\n",
       "      <td>0.0</td>\n",
       "      <td>-0.402338</td>\n",
       "      <td>0</td>\n",
       "    </tr>\n",
       "    <tr>\n",
       "      <th>4</th>\n",
       "      <td>4</td>\n",
       "      <td>-0.491502</td>\n",
       "      <td>0.920504</td>\n",
       "      <td>0.000000</td>\n",
       "      <td>0.122755</td>\n",
       "      <td>0.029653</td>\n",
       "      <td>0.833333</td>\n",
       "      <td>-0.476309</td>\n",
       "      <td>0.850908</td>\n",
       "      <td>0.0</td>\n",
       "      <td>-0.063910</td>\n",
       "      <td>0.257984</td>\n",
       "      <td>1.0</td>\n",
       "      <td>0.394729</td>\n",
       "      <td>0</td>\n",
       "    </tr>\n",
       "  </tbody>\n",
       "</table>\n",
       "</div>"
      ],
      "text/plain": [
       "   id  song_duration_ms  acousticness  danceability    energy  \\\n",
       "0   0          0.625453      1.310314      0.952114  0.008803   \n",
       "1   1          0.000000     -0.223716      0.479554  0.440540   \n",
       "2   2          0.155662      0.000000     -1.610004  0.265720   \n",
       "3   3          1.502061      0.909126     -0.088200 -0.510026   \n",
       "4   4         -0.491502      0.920504      0.000000  0.122755   \n",
       "\n",
       "   instrumentalness       key  liveness  loudness  audio_mode  speechiness  \\\n",
       "0          0.013607  0.833333  0.000000  0.168801         0.0     0.332190   \n",
       "1         -0.494693  0.500000  3.486191  0.257609         1.0     0.889668   \n",
       "2         -2.359470  0.000000  0.400888  0.323892         0.0    -0.044798   \n",
       "3         -0.690593 -0.833333 -0.477306 -0.359828         0.0    -0.252212   \n",
       "4          0.029653  0.833333 -0.476309  0.850908         0.0    -0.063910   \n",
       "\n",
       "      tempo  time_signature  audio_valence  song_popularity  \n",
       "0  1.414573             1.0       0.376253                0  \n",
       "1 -0.350325             0.0       0.312228                1  \n",
       "2  2.058552             0.0      -0.480076                0  \n",
       "3  0.473309             0.0      -0.402338                0  \n",
       "4  0.257984             1.0       0.394729                0  "
      ]
     },
     "execution_count": 17,
     "metadata": {},
     "output_type": "execute_result"
    }
   ],
   "source": [
    "train['song_popularity'] = df_train['song_popularity']\n",
    "train.head()"
   ]
  },
  {
   "cell_type": "code",
   "execution_count": 18,
   "id": "10c92c0f",
   "metadata": {},
   "outputs": [],
   "source": [
    "target = ['song_popularity']\n",
    "not_features = ['id','kfold', 'song_popularity']\n",
    "cols = list(train.columns)\n",
    "features = [feat for feat in cols if feat not in not_features]"
   ]
  },
  {
   "cell_type": "code",
   "execution_count": 19,
   "id": "2f076b34",
   "metadata": {},
   "outputs": [],
   "source": [
    "train[\"kfold\"] = -1\n",
    "train_targets = train[target]"
   ]
  },
  {
   "cell_type": "code",
   "execution_count": 20,
   "id": "66bdbe60",
   "metadata": {},
   "outputs": [],
   "source": [
    "# initialize stratified k-fold\n",
    "kf = model_selection.StratifiedKFold(n_splits=10, shuffle=True, random_state=42)\n",
    "for fold, (train_indicies, valid_indicies) in enumerate(kf.split(X=train, y=train_targets)):\n",
    "    train.loc[valid_indicies, \"kfold\"] = fold"
   ]
  },
  {
   "cell_type": "markdown",
   "id": "725557f3",
   "metadata": {},
   "source": [
    "# *Optuna for Lightgbm*"
   ]
  },
  {
   "cell_type": "code",
   "execution_count": 100,
   "id": "fa039d92",
   "metadata": {},
   "outputs": [],
   "source": [
    "def run(trial):\n",
    "    fold = 0\n",
    "    xtrain =  train[train.kfold != fold].reset_index(drop=True)\n",
    "    xvalid = train[train.kfold == fold].reset_index(drop=True)\n",
    "\n",
    "    ytrain = xtrain.song_popularity\n",
    "    yvalid = xvalid.song_popularity\n",
    "    \n",
    "    xtrain = xtrain[features]\n",
    "    xvalid = xvalid[features]\n",
    "    \n",
    "    param = {\n",
    "        \"task\": \"train\",\n",
    "        \"objective\": \"regression\",\n",
    "        \"metric\": \"auc\",\n",
    "        \"verbosity\": -1,\n",
    "        \"boosting_type\": \"gbdt\",\n",
    "        \"device\": \"gpu\",\n",
    "        \"gpu_platform_id\": 0,\n",
    "        \"gpu_device_id\": 0,\n",
    "        \"learning_rate\" : trial.suggest_float(\"learning_rate\", 1e-2, 0.25, log=True),\n",
    "        \"lambda_l1\": trial.suggest_float(\"lambda_l1\", 1e-8, 10.0, log=True),\n",
    "        \"lambda_l2\": trial.suggest_float(\"lambda_l2\", 1e-8, 10.0, log=True),\n",
    "        \"num_leaves\": trial.suggest_int(\"num_leaves\", 2, 256),\n",
    "        \"feature_fraction\": trial.suggest_float(\"feature_fraction\", 0.4, 1.0),\n",
    "        \"bagging_fraction\": trial.suggest_float(\"bagging_fraction\", 0.4, 1.0),\n",
    "        \"bagging_freq\": trial.suggest_int(\"bagging_freq\", 1, 7),\n",
    "        \"min_child_samples\": trial.suggest_int(\"min_child_samples\", 5, 100),\n",
    "    }\n",
    "\n",
    "    model = LGBMRegressor(**param, random_state=42, nestimators=10000)\n",
    "    model.fit(xtrain, ytrain, eval_set = [(xvalid, yvalid)],verbose=False,\n",
    "            categorical_feature=cat_indices,\n",
    "            callbacks=[ \n",
    "                       lgb.early_stopping(stopping_rounds=2000)\n",
    "                      ])\n",
    "    preds_valid = model.predict(xvalid)\n",
    "    roc = roc_auc_score(yvalid, preds_valid)\n",
    "    return roc"
   ]
  },
  {
   "cell_type": "code",
   "execution_count": 101,
   "id": "1437000e",
   "metadata": {
    "scrolled": true
   },
   "outputs": [
    {
     "name": "stderr",
     "output_type": "stream",
     "text": [
      "\u001b[32m[I 2022-01-20 19:57:51,172]\u001b[0m A new study created in memory with name: no-name-ba650e84-48a9-4bf1-9395-b66d7b1c1f2c\u001b[0m\n",
      "C:\\Users\\Sarkhel\\anaconda3\\lib\\site-packages\\lightgbm\\basic.py:1702: UserWarning: Using categorical_feature in Dataset.\n",
      "  _log_warning('Using categorical_feature in Dataset.')\n",
      "C:\\Users\\Sarkhel\\anaconda3\\lib\\site-packages\\lightgbm\\basic.py:1705: UserWarning: categorical_feature in Dataset is overridden.\n",
      "New categorical_feature is [6, 9, 12]\n",
      "  _log_warning('categorical_feature in Dataset is overridden.\\n'\n"
     ]
    },
    {
     "name": "stdout",
     "output_type": "stream",
     "text": [
      "[LightGBM] [Warning] Unknown parameter: nestimators\n",
      "[LightGBM] [Warning] feature_fraction is set=0.677052383832905, colsample_bytree=1.0 will be ignored. Current value: feature_fraction=0.677052383832905\n",
      "[LightGBM] [Warning] bagging_fraction is set=0.6564400817026375, subsample=1.0 will be ignored. Current value: bagging_fraction=0.6564400817026375\n",
      "[LightGBM] [Warning] lambda_l1 is set=8.128139137200383e-05, reg_alpha=0.0 will be ignored. Current value: lambda_l1=8.128139137200383e-05\n",
      "[LightGBM] [Warning] lambda_l2 is set=3.6004590669690253e-08, reg_lambda=0.0 will be ignored. Current value: lambda_l2=3.6004590669690253e-08\n",
      "[LightGBM] [Warning] bagging_freq is set=5, subsample_freq=0 will be ignored. Current value: bagging_freq=5\n"
     ]
    },
    {
     "name": "stderr",
     "output_type": "stream",
     "text": [
      "C:\\Users\\Sarkhel\\anaconda3\\lib\\site-packages\\lightgbm\\basic.py:1433: UserWarning: Overriding the parameters from Reference Dataset.\n",
      "  _log_warning('Overriding the parameters from Reference Dataset.')\n",
      "C:\\Users\\Sarkhel\\anaconda3\\lib\\site-packages\\lightgbm\\basic.py:1245: UserWarning: categorical_column in param dict is overridden.\n",
      "  _log_warning('{} in param dict is overridden.'.format(cat_alias))\n"
     ]
    },
    {
     "name": "stdout",
     "output_type": "stream",
     "text": [
      "Training until validation scores don't improve for 2000 rounds\n"
     ]
    },
    {
     "name": "stderr",
     "output_type": "stream",
     "text": [
      "\u001b[32m[I 2022-01-20 19:58:00,093]\u001b[0m Trial 0 finished with value: 0.5700431642327128 and parameters: {'learning_rate': 0.05436138984881357, 'lambda_l1': 8.128139137200383e-05, 'lambda_l2': 3.6004590669690253e-08, 'num_leaves': 231, 'feature_fraction': 0.677052383832905, 'bagging_fraction': 0.6564400817026375, 'bagging_freq': 5, 'min_child_samples': 86}. Best is trial 0 with value: 0.5700431642327128.\u001b[0m\n"
     ]
    },
    {
     "name": "stdout",
     "output_type": "stream",
     "text": [
      "Did not meet early stopping. Best iteration is:\n",
      "[63]\tvalid_0's auc: 0.570043\n",
      "[LightGBM] [Warning] Unknown parameter: nestimators\n",
      "[LightGBM] [Warning] feature_fraction is set=0.5276699690909797, colsample_bytree=1.0 will be ignored. Current value: feature_fraction=0.5276699690909797\n",
      "[LightGBM] [Warning] bagging_fraction is set=0.4311473548400975, subsample=1.0 will be ignored. Current value: bagging_fraction=0.4311473548400975\n",
      "[LightGBM] [Warning] lambda_l1 is set=6.6749746067446845, reg_alpha=0.0 will be ignored. Current value: lambda_l1=6.6749746067446845\n",
      "[LightGBM] [Warning] lambda_l2 is set=0.06169977731942351, reg_lambda=0.0 will be ignored. Current value: lambda_l2=0.06169977731942351\n",
      "[LightGBM] [Warning] bagging_freq is set=1, subsample_freq=0 will be ignored. Current value: bagging_freq=1\n"
     ]
    },
    {
     "name": "stderr",
     "output_type": "stream",
     "text": [
      "C:\\Users\\Sarkhel\\anaconda3\\lib\\site-packages\\lightgbm\\basic.py:1702: UserWarning: Using categorical_feature in Dataset.\n",
      "  _log_warning('Using categorical_feature in Dataset.')\n",
      "C:\\Users\\Sarkhel\\anaconda3\\lib\\site-packages\\lightgbm\\basic.py:1705: UserWarning: categorical_feature in Dataset is overridden.\n",
      "New categorical_feature is [6, 9, 12]\n",
      "  _log_warning('categorical_feature in Dataset is overridden.\\n'\n",
      "C:\\Users\\Sarkhel\\anaconda3\\lib\\site-packages\\lightgbm\\basic.py:1433: UserWarning: Overriding the parameters from Reference Dataset.\n",
      "  _log_warning('Overriding the parameters from Reference Dataset.')\n",
      "C:\\Users\\Sarkhel\\anaconda3\\lib\\site-packages\\lightgbm\\basic.py:1245: UserWarning: categorical_column in param dict is overridden.\n",
      "  _log_warning('{} in param dict is overridden.'.format(cat_alias))\n"
     ]
    },
    {
     "name": "stdout",
     "output_type": "stream",
     "text": [
      "Training until validation scores don't improve for 2000 rounds\n"
     ]
    },
    {
     "name": "stderr",
     "output_type": "stream",
     "text": [
      "\u001b[32m[I 2022-01-20 19:58:02,720]\u001b[0m Trial 1 finished with value: 0.5816605045246468 and parameters: {'learning_rate': 0.021586087573248695, 'lambda_l1': 6.6749746067446845, 'lambda_l2': 0.06169977731942351, 'num_leaves': 242, 'feature_fraction': 0.5276699690909797, 'bagging_fraction': 0.4311473548400975, 'bagging_freq': 1, 'min_child_samples': 81}. Best is trial 1 with value: 0.5816605045246468.\u001b[0m\n"
     ]
    },
    {
     "name": "stdout",
     "output_type": "stream",
     "text": [
      "Did not meet early stopping. Best iteration is:\n",
      "[49]\tvalid_0's auc: 0.581661\n",
      "[LightGBM] [Warning] Unknown parameter: nestimators\n",
      "[LightGBM] [Warning] feature_fraction is set=0.9418272037456534, colsample_bytree=1.0 will be ignored. Current value: feature_fraction=0.9418272037456534\n",
      "[LightGBM] [Warning] bagging_fraction is set=0.5882157583085335, subsample=1.0 will be ignored. Current value: bagging_fraction=0.5882157583085335\n",
      "[LightGBM] [Warning] lambda_l1 is set=0.041531459888142094, reg_alpha=0.0 will be ignored. Current value: lambda_l1=0.041531459888142094\n",
      "[LightGBM] [Warning] lambda_l2 is set=0.010335612265489203, reg_lambda=0.0 will be ignored. Current value: lambda_l2=0.010335612265489203\n",
      "[LightGBM] [Warning] bagging_freq is set=7, subsample_freq=0 will be ignored. Current value: bagging_freq=7\n"
     ]
    },
    {
     "name": "stderr",
     "output_type": "stream",
     "text": [
      "C:\\Users\\Sarkhel\\anaconda3\\lib\\site-packages\\lightgbm\\basic.py:1702: UserWarning: Using categorical_feature in Dataset.\n",
      "  _log_warning('Using categorical_feature in Dataset.')\n",
      "C:\\Users\\Sarkhel\\anaconda3\\lib\\site-packages\\lightgbm\\basic.py:1705: UserWarning: categorical_feature in Dataset is overridden.\n",
      "New categorical_feature is [6, 9, 12]\n",
      "  _log_warning('categorical_feature in Dataset is overridden.\\n'\n",
      "C:\\Users\\Sarkhel\\anaconda3\\lib\\site-packages\\lightgbm\\basic.py:1433: UserWarning: Overriding the parameters from Reference Dataset.\n",
      "  _log_warning('Overriding the parameters from Reference Dataset.')\n",
      "C:\\Users\\Sarkhel\\anaconda3\\lib\\site-packages\\lightgbm\\basic.py:1245: UserWarning: categorical_column in param dict is overridden.\n",
      "  _log_warning('{} in param dict is overridden.'.format(cat_alias))\n"
     ]
    },
    {
     "name": "stdout",
     "output_type": "stream",
     "text": [
      "Training until validation scores don't improve for 2000 rounds\n"
     ]
    },
    {
     "name": "stderr",
     "output_type": "stream",
     "text": [
      "\u001b[32m[I 2022-01-20 19:58:05,991]\u001b[0m Trial 2 finished with value: 0.555549827793793 and parameters: {'learning_rate': 0.20184599552255725, 'lambda_l1': 0.041531459888142094, 'lambda_l2': 0.010335612265489203, 'num_leaves': 169, 'feature_fraction': 0.9418272037456534, 'bagging_fraction': 0.5882157583085335, 'bagging_freq': 7, 'min_child_samples': 93}. Best is trial 1 with value: 0.5816605045246468.\u001b[0m\n"
     ]
    },
    {
     "name": "stdout",
     "output_type": "stream",
     "text": [
      "Did not meet early stopping. Best iteration is:\n",
      "[23]\tvalid_0's auc: 0.55555\n",
      "[LightGBM] [Warning] Unknown parameter: nestimators\n",
      "[LightGBM] [Warning] feature_fraction is set=0.7397908972054072, colsample_bytree=1.0 will be ignored. Current value: feature_fraction=0.7397908972054072\n",
      "[LightGBM] [Warning] bagging_fraction is set=0.674503797795292, subsample=1.0 will be ignored. Current value: bagging_fraction=0.674503797795292\n",
      "[LightGBM] [Warning] lambda_l1 is set=0.0005061326097703252, reg_alpha=0.0 will be ignored. Current value: lambda_l1=0.0005061326097703252\n",
      "[LightGBM] [Warning] lambda_l2 is set=0.005203864285321398, reg_lambda=0.0 will be ignored. Current value: lambda_l2=0.005203864285321398\n",
      "[LightGBM] [Warning] bagging_freq is set=6, subsample_freq=0 will be ignored. Current value: bagging_freq=6\n"
     ]
    },
    {
     "name": "stderr",
     "output_type": "stream",
     "text": [
      "C:\\Users\\Sarkhel\\anaconda3\\lib\\site-packages\\lightgbm\\basic.py:1702: UserWarning: Using categorical_feature in Dataset.\n",
      "  _log_warning('Using categorical_feature in Dataset.')\n",
      "C:\\Users\\Sarkhel\\anaconda3\\lib\\site-packages\\lightgbm\\basic.py:1705: UserWarning: categorical_feature in Dataset is overridden.\n",
      "New categorical_feature is [6, 9, 12]\n",
      "  _log_warning('categorical_feature in Dataset is overridden.\\n'\n",
      "C:\\Users\\Sarkhel\\anaconda3\\lib\\site-packages\\lightgbm\\basic.py:1433: UserWarning: Overriding the parameters from Reference Dataset.\n",
      "  _log_warning('Overriding the parameters from Reference Dataset.')\n",
      "C:\\Users\\Sarkhel\\anaconda3\\lib\\site-packages\\lightgbm\\basic.py:1245: UserWarning: categorical_column in param dict is overridden.\n",
      "  _log_warning('{} in param dict is overridden.'.format(cat_alias))\n"
     ]
    },
    {
     "name": "stdout",
     "output_type": "stream",
     "text": [
      "Training until validation scores don't improve for 2000 rounds\n"
     ]
    },
    {
     "name": "stderr",
     "output_type": "stream",
     "text": [
      "\u001b[32m[I 2022-01-20 19:58:10,254]\u001b[0m Trial 3 finished with value: 0.567983868943533 and parameters: {'learning_rate': 0.0263968839984339, 'lambda_l1': 0.0005061326097703252, 'lambda_l2': 0.005203864285321398, 'num_leaves': 239, 'feature_fraction': 0.7397908972054072, 'bagging_fraction': 0.674503797795292, 'bagging_freq': 6, 'min_child_samples': 44}. Best is trial 1 with value: 0.5816605045246468.\u001b[0m\n"
     ]
    },
    {
     "name": "stdout",
     "output_type": "stream",
     "text": [
      "Did not meet early stopping. Best iteration is:\n",
      "[63]\tvalid_0's auc: 0.567984\n",
      "[LightGBM] [Warning] Unknown parameter: nestimators\n",
      "[LightGBM] [Warning] feature_fraction is set=0.41071418167559043, colsample_bytree=1.0 will be ignored. Current value: feature_fraction=0.41071418167559043\n",
      "[LightGBM] [Warning] bagging_fraction is set=0.5166028984471003, subsample=1.0 will be ignored. Current value: bagging_fraction=0.5166028984471003\n",
      "[LightGBM] [Warning] lambda_l1 is set=0.0001459427422938792, reg_alpha=0.0 will be ignored. Current value: lambda_l1=0.0001459427422938792\n",
      "[LightGBM] [Warning] lambda_l2 is set=0.00021022122914150502, reg_lambda=0.0 will be ignored. Current value: lambda_l2=0.00021022122914150502\n",
      "[LightGBM] [Warning] bagging_freq is set=6, subsample_freq=0 will be ignored. Current value: bagging_freq=6\n"
     ]
    },
    {
     "name": "stderr",
     "output_type": "stream",
     "text": [
      "C:\\Users\\Sarkhel\\anaconda3\\lib\\site-packages\\lightgbm\\basic.py:1702: UserWarning: Using categorical_feature in Dataset.\n",
      "  _log_warning('Using categorical_feature in Dataset.')\n",
      "C:\\Users\\Sarkhel\\anaconda3\\lib\\site-packages\\lightgbm\\basic.py:1705: UserWarning: categorical_feature in Dataset is overridden.\n",
      "New categorical_feature is [6, 9, 12]\n",
      "  _log_warning('categorical_feature in Dataset is overridden.\\n'\n",
      "C:\\Users\\Sarkhel\\anaconda3\\lib\\site-packages\\lightgbm\\basic.py:1433: UserWarning: Overriding the parameters from Reference Dataset.\n",
      "  _log_warning('Overriding the parameters from Reference Dataset.')\n",
      "C:\\Users\\Sarkhel\\anaconda3\\lib\\site-packages\\lightgbm\\basic.py:1245: UserWarning: categorical_column in param dict is overridden.\n",
      "  _log_warning('{} in param dict is overridden.'.format(cat_alias))\n"
     ]
    },
    {
     "name": "stdout",
     "output_type": "stream",
     "text": [
      "Training until validation scores don't improve for 2000 rounds\n"
     ]
    },
    {
     "name": "stderr",
     "output_type": "stream",
     "text": [
      "\u001b[32m[I 2022-01-20 19:58:11,530]\u001b[0m Trial 4 finished with value: 0.5795067461488074 and parameters: {'learning_rate': 0.027191830242659688, 'lambda_l1': 0.0001459427422938792, 'lambda_l2': 0.00021022122914150502, 'num_leaves': 47, 'feature_fraction': 0.41071418167559043, 'bagging_fraction': 0.5166028984471003, 'bagging_freq': 6, 'min_child_samples': 100}. Best is trial 1 with value: 0.5816605045246468.\u001b[0m\n"
     ]
    },
    {
     "name": "stdout",
     "output_type": "stream",
     "text": [
      "Did not meet early stopping. Best iteration is:\n",
      "[72]\tvalid_0's auc: 0.579507\n",
      "[LightGBM] [Warning] Unknown parameter: nestimators\n",
      "[LightGBM] [Warning] feature_fraction is set=0.6865886068368885, colsample_bytree=1.0 will be ignored. Current value: feature_fraction=0.6865886068368885\n",
      "[LightGBM] [Warning] bagging_fraction is set=0.7268833704184479, subsample=1.0 will be ignored. Current value: bagging_fraction=0.7268833704184479\n",
      "[LightGBM] [Warning] lambda_l1 is set=0.00016282279860621758, reg_alpha=0.0 will be ignored. Current value: lambda_l1=0.00016282279860621758\n",
      "[LightGBM] [Warning] lambda_l2 is set=3.3423198906257213e-07, reg_lambda=0.0 will be ignored. Current value: lambda_l2=3.3423198906257213e-07\n",
      "[LightGBM] [Warning] bagging_freq is set=7, subsample_freq=0 will be ignored. Current value: bagging_freq=7\n"
     ]
    },
    {
     "name": "stderr",
     "output_type": "stream",
     "text": [
      "C:\\Users\\Sarkhel\\anaconda3\\lib\\site-packages\\lightgbm\\basic.py:1702: UserWarning: Using categorical_feature in Dataset.\n",
      "  _log_warning('Using categorical_feature in Dataset.')\n",
      "C:\\Users\\Sarkhel\\anaconda3\\lib\\site-packages\\lightgbm\\basic.py:1705: UserWarning: categorical_feature in Dataset is overridden.\n",
      "New categorical_feature is [6, 9, 12]\n",
      "  _log_warning('categorical_feature in Dataset is overridden.\\n'\n",
      "C:\\Users\\Sarkhel\\anaconda3\\lib\\site-packages\\lightgbm\\basic.py:1433: UserWarning: Overriding the parameters from Reference Dataset.\n",
      "  _log_warning('Overriding the parameters from Reference Dataset.')\n",
      "C:\\Users\\Sarkhel\\anaconda3\\lib\\site-packages\\lightgbm\\basic.py:1245: UserWarning: categorical_column in param dict is overridden.\n",
      "  _log_warning('{} in param dict is overridden.'.format(cat_alias))\n"
     ]
    },
    {
     "name": "stdout",
     "output_type": "stream",
     "text": [
      "Training until validation scores don't improve for 2000 rounds\n"
     ]
    },
    {
     "name": "stderr",
     "output_type": "stream",
     "text": [
      "\u001b[32m[I 2022-01-20 19:58:12,917]\u001b[0m Trial 5 finished with value: 0.5755584590209684 and parameters: {'learning_rate': 0.0231167472872229, 'lambda_l1': 0.00016282279860621758, 'lambda_l2': 3.3423198906257213e-07, 'num_leaves': 48, 'feature_fraction': 0.6865886068368885, 'bagging_fraction': 0.7268833704184479, 'bagging_freq': 7, 'min_child_samples': 41}. Best is trial 1 with value: 0.5816605045246468.\u001b[0m\n"
     ]
    },
    {
     "name": "stdout",
     "output_type": "stream",
     "text": [
      "Did not meet early stopping. Best iteration is:\n",
      "[82]\tvalid_0's auc: 0.575558\n",
      "[LightGBM] [Warning] Unknown parameter: nestimators\n",
      "[LightGBM] [Warning] feature_fraction is set=0.4056509440542615, colsample_bytree=1.0 will be ignored. Current value: feature_fraction=0.4056509440542615\n",
      "[LightGBM] [Warning] bagging_fraction is set=0.9397111615724654, subsample=1.0 will be ignored. Current value: bagging_fraction=0.9397111615724654\n",
      "[LightGBM] [Warning] lambda_l1 is set=0.6148483306096549, reg_alpha=0.0 will be ignored. Current value: lambda_l1=0.6148483306096549\n",
      "[LightGBM] [Warning] lambda_l2 is set=0.03715805307148969, reg_lambda=0.0 will be ignored. Current value: lambda_l2=0.03715805307148969\n",
      "[LightGBM] [Warning] bagging_freq is set=6, subsample_freq=0 will be ignored. Current value: bagging_freq=6\n"
     ]
    },
    {
     "name": "stderr",
     "output_type": "stream",
     "text": [
      "C:\\Users\\Sarkhel\\anaconda3\\lib\\site-packages\\lightgbm\\basic.py:1702: UserWarning: Using categorical_feature in Dataset.\n",
      "  _log_warning('Using categorical_feature in Dataset.')\n",
      "C:\\Users\\Sarkhel\\anaconda3\\lib\\site-packages\\lightgbm\\basic.py:1705: UserWarning: categorical_feature in Dataset is overridden.\n",
      "New categorical_feature is [6, 9, 12]\n",
      "  _log_warning('categorical_feature in Dataset is overridden.\\n'\n",
      "C:\\Users\\Sarkhel\\anaconda3\\lib\\site-packages\\lightgbm\\basic.py:1433: UserWarning: Overriding the parameters from Reference Dataset.\n",
      "  _log_warning('Overriding the parameters from Reference Dataset.')\n",
      "C:\\Users\\Sarkhel\\anaconda3\\lib\\site-packages\\lightgbm\\basic.py:1245: UserWarning: categorical_column in param dict is overridden.\n",
      "  _log_warning('{} in param dict is overridden.'.format(cat_alias))\n"
     ]
    },
    {
     "name": "stdout",
     "output_type": "stream",
     "text": [
      "Training until validation scores don't improve for 2000 rounds\n"
     ]
    },
    {
     "name": "stderr",
     "output_type": "stream",
     "text": [
      "\u001b[32m[I 2022-01-20 19:58:14,662]\u001b[0m Trial 6 finished with value: 0.576436156043303 and parameters: {'learning_rate': 0.03914413977425855, 'lambda_l1': 0.6148483306096549, 'lambda_l2': 0.03715805307148969, 'num_leaves': 72, 'feature_fraction': 0.4056509440542615, 'bagging_fraction': 0.9397111615724654, 'bagging_freq': 6, 'min_child_samples': 55}. Best is trial 1 with value: 0.5816605045246468.\u001b[0m\n"
     ]
    },
    {
     "name": "stdout",
     "output_type": "stream",
     "text": [
      "Did not meet early stopping. Best iteration is:\n",
      "[51]\tvalid_0's auc: 0.576436\n",
      "[LightGBM] [Warning] Unknown parameter: nestimators\n",
      "[LightGBM] [Warning] feature_fraction is set=0.6635617585760789, colsample_bytree=1.0 will be ignored. Current value: feature_fraction=0.6635617585760789\n",
      "[LightGBM] [Warning] bagging_fraction is set=0.6305660694273141, subsample=1.0 will be ignored. Current value: bagging_fraction=0.6305660694273141\n",
      "[LightGBM] [Warning] lambda_l1 is set=0.002728911048507824, reg_alpha=0.0 will be ignored. Current value: lambda_l1=0.002728911048507824\n",
      "[LightGBM] [Warning] lambda_l2 is set=0.014472004309145203, reg_lambda=0.0 will be ignored. Current value: lambda_l2=0.014472004309145203\n",
      "[LightGBM] [Warning] bagging_freq is set=2, subsample_freq=0 will be ignored. Current value: bagging_freq=2\n"
     ]
    },
    {
     "name": "stderr",
     "output_type": "stream",
     "text": [
      "C:\\Users\\Sarkhel\\anaconda3\\lib\\site-packages\\lightgbm\\basic.py:1702: UserWarning: Using categorical_feature in Dataset.\n",
      "  _log_warning('Using categorical_feature in Dataset.')\n",
      "C:\\Users\\Sarkhel\\anaconda3\\lib\\site-packages\\lightgbm\\basic.py:1705: UserWarning: categorical_feature in Dataset is overridden.\n",
      "New categorical_feature is [6, 9, 12]\n",
      "  _log_warning('categorical_feature in Dataset is overridden.\\n'\n",
      "C:\\Users\\Sarkhel\\anaconda3\\lib\\site-packages\\lightgbm\\basic.py:1433: UserWarning: Overriding the parameters from Reference Dataset.\n",
      "  _log_warning('Overriding the parameters from Reference Dataset.')\n",
      "C:\\Users\\Sarkhel\\anaconda3\\lib\\site-packages\\lightgbm\\basic.py:1245: UserWarning: categorical_column in param dict is overridden.\n",
      "  _log_warning('{} in param dict is overridden.'.format(cat_alias))\n"
     ]
    },
    {
     "name": "stdout",
     "output_type": "stream",
     "text": [
      "Training until validation scores don't improve for 2000 rounds\n"
     ]
    },
    {
     "name": "stderr",
     "output_type": "stream",
     "text": [
      "\u001b[32m[I 2022-01-20 19:58:17,560]\u001b[0m Trial 7 finished with value: 0.5782735980260993 and parameters: {'learning_rate': 0.017975169114764617, 'lambda_l1': 0.002728911048507824, 'lambda_l2': 0.014472004309145203, 'num_leaves': 139, 'feature_fraction': 0.6635617585760789, 'bagging_fraction': 0.6305660694273141, 'bagging_freq': 2, 'min_child_samples': 96}. Best is trial 1 with value: 0.5816605045246468.\u001b[0m\n"
     ]
    },
    {
     "name": "stdout",
     "output_type": "stream",
     "text": [
      "Did not meet early stopping. Best iteration is:\n",
      "[20]\tvalid_0's auc: 0.578274\n",
      "[LightGBM] [Warning] Unknown parameter: nestimators\n",
      "[LightGBM] [Warning] feature_fraction is set=0.9938142527288922, colsample_bytree=1.0 will be ignored. Current value: feature_fraction=0.9938142527288922\n",
      "[LightGBM] [Warning] bagging_fraction is set=0.70505697985174, subsample=1.0 will be ignored. Current value: bagging_fraction=0.70505697985174\n",
      "[LightGBM] [Warning] lambda_l1 is set=3.4754416773766376e-07, reg_alpha=0.0 will be ignored. Current value: lambda_l1=3.4754416773766376e-07\n",
      "[LightGBM] [Warning] lambda_l2 is set=5.5321295743321543e-05, reg_lambda=0.0 will be ignored. Current value: lambda_l2=5.5321295743321543e-05\n",
      "[LightGBM] [Warning] bagging_freq is set=4, subsample_freq=0 will be ignored. Current value: bagging_freq=4\n"
     ]
    },
    {
     "name": "stderr",
     "output_type": "stream",
     "text": [
      "C:\\Users\\Sarkhel\\anaconda3\\lib\\site-packages\\lightgbm\\basic.py:1702: UserWarning: Using categorical_feature in Dataset.\n",
      "  _log_warning('Using categorical_feature in Dataset.')\n",
      "C:\\Users\\Sarkhel\\anaconda3\\lib\\site-packages\\lightgbm\\basic.py:1705: UserWarning: categorical_feature in Dataset is overridden.\n",
      "New categorical_feature is [6, 9, 12]\n",
      "  _log_warning('categorical_feature in Dataset is overridden.\\n'\n",
      "C:\\Users\\Sarkhel\\anaconda3\\lib\\site-packages\\lightgbm\\basic.py:1433: UserWarning: Overriding the parameters from Reference Dataset.\n",
      "  _log_warning('Overriding the parameters from Reference Dataset.')\n",
      "C:\\Users\\Sarkhel\\anaconda3\\lib\\site-packages\\lightgbm\\basic.py:1245: UserWarning: categorical_column in param dict is overridden.\n",
      "  _log_warning('{} in param dict is overridden.'.format(cat_alias))\n"
     ]
    },
    {
     "name": "stdout",
     "output_type": "stream",
     "text": [
      "Training until validation scores don't improve for 2000 rounds\n"
     ]
    },
    {
     "name": "stderr",
     "output_type": "stream",
     "text": [
      "\u001b[32m[I 2022-01-20 19:58:19,290]\u001b[0m Trial 8 finished with value: 0.5650196172841538 and parameters: {'learning_rate': 0.22607812377690947, 'lambda_l1': 3.4754416773766376e-07, 'lambda_l2': 5.5321295743321543e-05, 'num_leaves': 76, 'feature_fraction': 0.9938142527288922, 'bagging_fraction': 0.70505697985174, 'bagging_freq': 4, 'min_child_samples': 73}. Best is trial 1 with value: 0.5816605045246468.\u001b[0m\n"
     ]
    },
    {
     "name": "stdout",
     "output_type": "stream",
     "text": [
      "Did not meet early stopping. Best iteration is:\n",
      "[16]\tvalid_0's auc: 0.56502\n",
      "[LightGBM] [Warning] Unknown parameter: nestimators\n",
      "[LightGBM] [Warning] feature_fraction is set=0.5236986072760723, colsample_bytree=1.0 will be ignored. Current value: feature_fraction=0.5236986072760723\n",
      "[LightGBM] [Warning] bagging_fraction is set=0.7415375560261976, subsample=1.0 will be ignored. Current value: bagging_fraction=0.7415375560261976\n",
      "[LightGBM] [Warning] lambda_l1 is set=5.788678996393462, reg_alpha=0.0 will be ignored. Current value: lambda_l1=5.788678996393462\n",
      "[LightGBM] [Warning] lambda_l2 is set=0.0012656710359512456, reg_lambda=0.0 will be ignored. Current value: lambda_l2=0.0012656710359512456\n",
      "[LightGBM] [Warning] bagging_freq is set=7, subsample_freq=0 will be ignored. Current value: bagging_freq=7\n"
     ]
    },
    {
     "name": "stderr",
     "output_type": "stream",
     "text": [
      "C:\\Users\\Sarkhel\\anaconda3\\lib\\site-packages\\lightgbm\\basic.py:1702: UserWarning: Using categorical_feature in Dataset.\n",
      "  _log_warning('Using categorical_feature in Dataset.')\n",
      "C:\\Users\\Sarkhel\\anaconda3\\lib\\site-packages\\lightgbm\\basic.py:1705: UserWarning: categorical_feature in Dataset is overridden.\n",
      "New categorical_feature is [6, 9, 12]\n",
      "  _log_warning('categorical_feature in Dataset is overridden.\\n'\n",
      "C:\\Users\\Sarkhel\\anaconda3\\lib\\site-packages\\lightgbm\\basic.py:1433: UserWarning: Overriding the parameters from Reference Dataset.\n",
      "  _log_warning('Overriding the parameters from Reference Dataset.')\n",
      "C:\\Users\\Sarkhel\\anaconda3\\lib\\site-packages\\lightgbm\\basic.py:1245: UserWarning: categorical_column in param dict is overridden.\n",
      "  _log_warning('{} in param dict is overridden.'.format(cat_alias))\n"
     ]
    },
    {
     "name": "stdout",
     "output_type": "stream",
     "text": [
      "Training until validation scores don't improve for 2000 rounds\n"
     ]
    },
    {
     "name": "stderr",
     "output_type": "stream",
     "text": [
      "\u001b[32m[I 2022-01-20 19:58:22,152]\u001b[0m Trial 9 finished with value: 0.5801167077940953 and parameters: {'learning_rate': 0.05795012066835137, 'lambda_l1': 5.788678996393462, 'lambda_l2': 0.0012656710359512456, 'num_leaves': 183, 'feature_fraction': 0.5236986072760723, 'bagging_fraction': 0.7415375560261976, 'bagging_freq': 7, 'min_child_samples': 90}. Best is trial 1 with value: 0.5816605045246468.\u001b[0m\n"
     ]
    },
    {
     "name": "stdout",
     "output_type": "stream",
     "text": [
      "Did not meet early stopping. Best iteration is:\n",
      "[46]\tvalid_0's auc: 0.580117\n",
      "[LightGBM] [Warning] Unknown parameter: nestimators\n",
      "[LightGBM] [Warning] feature_fraction is set=0.5435238260719646, colsample_bytree=1.0 will be ignored. Current value: feature_fraction=0.5435238260719646\n",
      "[LightGBM] [Warning] bagging_fraction is set=0.40525804809988447, subsample=1.0 will be ignored. Current value: bagging_fraction=0.40525804809988447\n",
      "[LightGBM] [Warning] lambda_l1 is set=4.230661865574195e-08, reg_alpha=0.0 will be ignored. Current value: lambda_l1=4.230661865574195e-08\n",
      "[LightGBM] [Warning] lambda_l2 is set=9.414243605336706, reg_lambda=0.0 will be ignored. Current value: lambda_l2=9.414243605336706\n",
      "[LightGBM] [Warning] bagging_freq is set=1, subsample_freq=0 will be ignored. Current value: bagging_freq=1\n"
     ]
    },
    {
     "name": "stderr",
     "output_type": "stream",
     "text": [
      "C:\\Users\\Sarkhel\\anaconda3\\lib\\site-packages\\lightgbm\\basic.py:1702: UserWarning: Using categorical_feature in Dataset.\n",
      "  _log_warning('Using categorical_feature in Dataset.')\n",
      "C:\\Users\\Sarkhel\\anaconda3\\lib\\site-packages\\lightgbm\\basic.py:1705: UserWarning: categorical_feature in Dataset is overridden.\n",
      "New categorical_feature is [6, 9, 12]\n",
      "  _log_warning('categorical_feature in Dataset is overridden.\\n'\n",
      "C:\\Users\\Sarkhel\\anaconda3\\lib\\site-packages\\lightgbm\\basic.py:1433: UserWarning: Overriding the parameters from Reference Dataset.\n",
      "  _log_warning('Overriding the parameters from Reference Dataset.')\n",
      "C:\\Users\\Sarkhel\\anaconda3\\lib\\site-packages\\lightgbm\\basic.py:1245: UserWarning: categorical_column in param dict is overridden.\n",
      "  _log_warning('{} in param dict is overridden.'.format(cat_alias))\n"
     ]
    },
    {
     "name": "stdout",
     "output_type": "stream",
     "text": [
      "Training until validation scores don't improve for 2000 rounds\n"
     ]
    },
    {
     "name": "stderr",
     "output_type": "stream",
     "text": [
      "\u001b[32m[I 2022-01-20 19:58:26,698]\u001b[0m Trial 10 finished with value: 0.576144130158258 and parameters: {'learning_rate': 0.011081704168865843, 'lambda_l1': 4.230661865574195e-08, 'lambda_l2': 9.414243605336706, 'num_leaves': 205, 'feature_fraction': 0.5435238260719646, 'bagging_fraction': 0.40525804809988447, 'bagging_freq': 1, 'min_child_samples': 20}. Best is trial 1 with value: 0.5816605045246468.\u001b[0m\n"
     ]
    },
    {
     "name": "stdout",
     "output_type": "stream",
     "text": [
      "Did not meet early stopping. Best iteration is:\n",
      "[65]\tvalid_0's auc: 0.576144\n",
      "[LightGBM] [Warning] Unknown parameter: nestimators\n",
      "[LightGBM] [Warning] feature_fraction is set=0.5303694628008835, colsample_bytree=1.0 will be ignored. Current value: feature_fraction=0.5303694628008835\n",
      "[LightGBM] [Warning] bagging_fraction is set=0.8316989056775255, subsample=1.0 will be ignored. Current value: bagging_fraction=0.8316989056775255\n",
      "[LightGBM] [Warning] lambda_l1 is set=7.742213164171642, reg_alpha=0.0 will be ignored. Current value: lambda_l1=7.742213164171642\n",
      "[LightGBM] [Warning] lambda_l2 is set=1.8257571638608916, reg_lambda=0.0 will be ignored. Current value: lambda_l2=1.8257571638608916\n",
      "[LightGBM] [Warning] bagging_freq is set=3, subsample_freq=0 will be ignored. Current value: bagging_freq=3\n"
     ]
    },
    {
     "name": "stderr",
     "output_type": "stream",
     "text": [
      "C:\\Users\\Sarkhel\\anaconda3\\lib\\site-packages\\lightgbm\\basic.py:1702: UserWarning: Using categorical_feature in Dataset.\n",
      "  _log_warning('Using categorical_feature in Dataset.')\n",
      "C:\\Users\\Sarkhel\\anaconda3\\lib\\site-packages\\lightgbm\\basic.py:1705: UserWarning: categorical_feature in Dataset is overridden.\n",
      "New categorical_feature is [6, 9, 12]\n",
      "  _log_warning('categorical_feature in Dataset is overridden.\\n'\n",
      "C:\\Users\\Sarkhel\\anaconda3\\lib\\site-packages\\lightgbm\\basic.py:1433: UserWarning: Overriding the parameters from Reference Dataset.\n",
      "  _log_warning('Overriding the parameters from Reference Dataset.')\n",
      "C:\\Users\\Sarkhel\\anaconda3\\lib\\site-packages\\lightgbm\\basic.py:1245: UserWarning: categorical_column in param dict is overridden.\n",
      "  _log_warning('{} in param dict is overridden.'.format(cat_alias))\n"
     ]
    },
    {
     "name": "stdout",
     "output_type": "stream",
     "text": [
      "Training until validation scores don't improve for 2000 rounds\n"
     ]
    },
    {
     "name": "stderr",
     "output_type": "stream",
     "text": [
      "\u001b[32m[I 2022-01-20 19:58:30,066]\u001b[0m Trial 11 finished with value: 0.5738689192424277 and parameters: {'learning_rate': 0.07209173939721208, 'lambda_l1': 7.742213164171642, 'lambda_l2': 1.8257571638608916, 'num_leaves': 187, 'feature_fraction': 0.5303694628008835, 'bagging_fraction': 0.8316989056775255, 'bagging_freq': 3, 'min_child_samples': 70}. Best is trial 1 with value: 0.5816605045246468.\u001b[0m\n"
     ]
    },
    {
     "name": "stdout",
     "output_type": "stream",
     "text": [
      "Did not meet early stopping. Best iteration is:\n",
      "[25]\tvalid_0's auc: 0.573869\n",
      "[LightGBM] [Warning] Unknown parameter: nestimators\n",
      "[LightGBM] [Warning] feature_fraction is set=0.5528869193739715, colsample_bytree=1.0 will be ignored. Current value: feature_fraction=0.5528869193739715\n",
      "[LightGBM] [Warning] bagging_fraction is set=0.802371554991145, subsample=1.0 will be ignored. Current value: bagging_fraction=0.802371554991145\n",
      "[LightGBM] [Warning] lambda_l1 is set=9.907198270313865, reg_alpha=0.0 will be ignored. Current value: lambda_l1=9.907198270313865\n",
      "[LightGBM] [Warning] lambda_l2 is set=6.843067337749655e-06, reg_lambda=0.0 will be ignored. Current value: lambda_l2=6.843067337749655e-06\n",
      "[LightGBM] [Warning] bagging_freq is set=1, subsample_freq=0 will be ignored. Current value: bagging_freq=1\n"
     ]
    },
    {
     "name": "stderr",
     "output_type": "stream",
     "text": [
      "C:\\Users\\Sarkhel\\anaconda3\\lib\\site-packages\\lightgbm\\basic.py:1702: UserWarning: Using categorical_feature in Dataset.\n",
      "  _log_warning('Using categorical_feature in Dataset.')\n",
      "C:\\Users\\Sarkhel\\anaconda3\\lib\\site-packages\\lightgbm\\basic.py:1705: UserWarning: categorical_feature in Dataset is overridden.\n",
      "New categorical_feature is [6, 9, 12]\n",
      "  _log_warning('categorical_feature in Dataset is overridden.\\n'\n",
      "C:\\Users\\Sarkhel\\anaconda3\\lib\\site-packages\\lightgbm\\basic.py:1433: UserWarning: Overriding the parameters from Reference Dataset.\n",
      "  _log_warning('Overriding the parameters from Reference Dataset.')\n",
      "C:\\Users\\Sarkhel\\anaconda3\\lib\\site-packages\\lightgbm\\basic.py:1245: UserWarning: categorical_column in param dict is overridden.\n",
      "  _log_warning('{} in param dict is overridden.'.format(cat_alias))\n"
     ]
    },
    {
     "name": "stdout",
     "output_type": "stream",
     "text": [
      "Training until validation scores don't improve for 2000 rounds\n"
     ]
    },
    {
     "name": "stderr",
     "output_type": "stream",
     "text": [
      "\u001b[32m[I 2022-01-20 19:58:32,665]\u001b[0m Trial 12 finished with value: 0.5779019532537271 and parameters: {'learning_rate': 0.10801205174252708, 'lambda_l1': 9.907198270313865, 'lambda_l2': 6.843067337749655e-06, 'num_leaves': 254, 'feature_fraction': 0.5528869193739715, 'bagging_fraction': 0.802371554991145, 'bagging_freq': 1, 'min_child_samples': 74}. Best is trial 1 with value: 0.5816605045246468.\u001b[0m\n"
     ]
    },
    {
     "name": "stdout",
     "output_type": "stream",
     "text": [
      "Did not meet early stopping. Best iteration is:\n",
      "[38]\tvalid_0's auc: 0.577902\n",
      "[LightGBM] [Warning] Unknown parameter: nestimators\n",
      "[LightGBM] [Warning] feature_fraction is set=0.48967716377012904, colsample_bytree=1.0 will be ignored. Current value: feature_fraction=0.48967716377012904\n",
      "[LightGBM] [Warning] bagging_fraction is set=0.41105243448164513, subsample=1.0 will be ignored. Current value: bagging_fraction=0.41105243448164513\n",
      "[LightGBM] [Warning] lambda_l1 is set=0.10473030041815654, reg_alpha=0.0 will be ignored. Current value: lambda_l1=0.10473030041815654\n",
      "[LightGBM] [Warning] lambda_l2 is set=0.17088470538143566, reg_lambda=0.0 will be ignored. Current value: lambda_l2=0.17088470538143566\n",
      "[LightGBM] [Warning] bagging_freq is set=3, subsample_freq=0 will be ignored. Current value: bagging_freq=3\n"
     ]
    },
    {
     "name": "stderr",
     "output_type": "stream",
     "text": [
      "C:\\Users\\Sarkhel\\anaconda3\\lib\\site-packages\\lightgbm\\basic.py:1702: UserWarning: Using categorical_feature in Dataset.\n",
      "  _log_warning('Using categorical_feature in Dataset.')\n",
      "C:\\Users\\Sarkhel\\anaconda3\\lib\\site-packages\\lightgbm\\basic.py:1705: UserWarning: categorical_feature in Dataset is overridden.\n",
      "New categorical_feature is [6, 9, 12]\n",
      "  _log_warning('categorical_feature in Dataset is overridden.\\n'\n",
      "C:\\Users\\Sarkhel\\anaconda3\\lib\\site-packages\\lightgbm\\basic.py:1433: UserWarning: Overriding the parameters from Reference Dataset.\n",
      "  _log_warning('Overriding the parameters from Reference Dataset.')\n",
      "C:\\Users\\Sarkhel\\anaconda3\\lib\\site-packages\\lightgbm\\basic.py:1245: UserWarning: categorical_column in param dict is overridden.\n",
      "  _log_warning('{} in param dict is overridden.'.format(cat_alias))\n"
     ]
    },
    {
     "name": "stdout",
     "output_type": "stream",
     "text": [
      "Training until validation scores don't improve for 2000 rounds\n"
     ]
    },
    {
     "name": "stderr",
     "output_type": "stream",
     "text": [
      "\u001b[32m[I 2022-01-20 19:58:35,344]\u001b[0m Trial 13 finished with value: 0.566655178156032 and parameters: {'learning_rate': 0.09652520042323938, 'lambda_l1': 0.10473030041815654, 'lambda_l2': 0.17088470538143566, 'num_leaves': 135, 'feature_fraction': 0.48967716377012904, 'bagging_fraction': 0.41105243448164513, 'bagging_freq': 3, 'min_child_samples': 80}. Best is trial 1 with value: 0.5816605045246468.\u001b[0m\n"
     ]
    },
    {
     "name": "stdout",
     "output_type": "stream",
     "text": [
      "Did not meet early stopping. Best iteration is:\n",
      "[63]\tvalid_0's auc: 0.566655\n",
      "[LightGBM] [Warning] Unknown parameter: nestimators\n",
      "[LightGBM] [Warning] feature_fraction is set=0.7993176264055568, colsample_bytree=1.0 will be ignored. Current value: feature_fraction=0.7993176264055568\n",
      "[LightGBM] [Warning] bagging_fraction is set=0.5197016553480006, subsample=1.0 will be ignored. Current value: bagging_fraction=0.5197016553480006\n",
      "[LightGBM] [Warning] lambda_l1 is set=0.49245894146252595, reg_alpha=0.0 will be ignored. Current value: lambda_l1=0.49245894146252595\n",
      "[LightGBM] [Warning] lambda_l2 is set=0.0011103919008742997, reg_lambda=0.0 will be ignored. Current value: lambda_l2=0.0011103919008742997\n",
      "[LightGBM] [Warning] bagging_freq is set=4, subsample_freq=0 will be ignored. Current value: bagging_freq=4\n"
     ]
    },
    {
     "name": "stderr",
     "output_type": "stream",
     "text": [
      "C:\\Users\\Sarkhel\\anaconda3\\lib\\site-packages\\lightgbm\\basic.py:1702: UserWarning: Using categorical_feature in Dataset.\n",
      "  _log_warning('Using categorical_feature in Dataset.')\n",
      "C:\\Users\\Sarkhel\\anaconda3\\lib\\site-packages\\lightgbm\\basic.py:1705: UserWarning: categorical_feature in Dataset is overridden.\n",
      "New categorical_feature is [6, 9, 12]\n",
      "  _log_warning('categorical_feature in Dataset is overridden.\\n'\n",
      "C:\\Users\\Sarkhel\\anaconda3\\lib\\site-packages\\lightgbm\\basic.py:1433: UserWarning: Overriding the parameters from Reference Dataset.\n",
      "  _log_warning('Overriding the parameters from Reference Dataset.')\n",
      "C:\\Users\\Sarkhel\\anaconda3\\lib\\site-packages\\lightgbm\\basic.py:1245: UserWarning: categorical_column in param dict is overridden.\n",
      "  _log_warning('{} in param dict is overridden.'.format(cat_alias))\n"
     ]
    },
    {
     "name": "stdout",
     "output_type": "stream",
     "text": [
      "Training until validation scores don't improve for 2000 rounds\n"
     ]
    },
    {
     "name": "stderr",
     "output_type": "stream",
     "text": [
      "\u001b[32m[I 2022-01-20 19:58:39,198]\u001b[0m Trial 14 finished with value: 0.5751053060995355 and parameters: {'learning_rate': 0.012981319544190564, 'lambda_l1': 0.49245894146252595, 'lambda_l2': 0.0011103919008742997, 'num_leaves': 206, 'feature_fraction': 0.7993176264055568, 'bagging_fraction': 0.5197016553480006, 'bagging_freq': 4, 'min_child_samples': 58}. Best is trial 1 with value: 0.5816605045246468.\u001b[0m\n"
     ]
    },
    {
     "name": "stdout",
     "output_type": "stream",
     "text": [
      "Did not meet early stopping. Best iteration is:\n",
      "[15]\tvalid_0's auc: 0.575105\n",
      "[LightGBM] [Warning] Unknown parameter: nestimators\n",
      "[LightGBM] [Warning] feature_fraction is set=0.5949465338489339, colsample_bytree=1.0 will be ignored. Current value: feature_fraction=0.5949465338489339\n",
      "[LightGBM] [Warning] bagging_fraction is set=0.9918309330040875, subsample=1.0 will be ignored. Current value: bagging_fraction=0.9918309330040875\n",
      "[LightGBM] [Warning] lambda_l1 is set=0.009984784664121574, reg_alpha=0.0 will be ignored. Current value: lambda_l1=0.009984784664121574\n",
      "[LightGBM] [Warning] lambda_l2 is set=0.23524945967766084, reg_lambda=0.0 will be ignored. Current value: lambda_l2=0.23524945967766084\n",
      "[LightGBM] [Warning] bagging_freq is set=2, subsample_freq=0 will be ignored. Current value: bagging_freq=2\n"
     ]
    },
    {
     "name": "stderr",
     "output_type": "stream",
     "text": [
      "C:\\Users\\Sarkhel\\anaconda3\\lib\\site-packages\\lightgbm\\basic.py:1702: UserWarning: Using categorical_feature in Dataset.\n",
      "  _log_warning('Using categorical_feature in Dataset.')\n",
      "C:\\Users\\Sarkhel\\anaconda3\\lib\\site-packages\\lightgbm\\basic.py:1705: UserWarning: categorical_feature in Dataset is overridden.\n",
      "New categorical_feature is [6, 9, 12]\n",
      "  _log_warning('categorical_feature in Dataset is overridden.\\n'\n",
      "C:\\Users\\Sarkhel\\anaconda3\\lib\\site-packages\\lightgbm\\basic.py:1433: UserWarning: Overriding the parameters from Reference Dataset.\n",
      "  _log_warning('Overriding the parameters from Reference Dataset.')\n",
      "C:\\Users\\Sarkhel\\anaconda3\\lib\\site-packages\\lightgbm\\basic.py:1245: UserWarning: categorical_column in param dict is overridden.\n",
      "  _log_warning('{} in param dict is overridden.'.format(cat_alias))\n"
     ]
    },
    {
     "name": "stdout",
     "output_type": "stream",
     "text": [
      "Training until validation scores don't improve for 2000 rounds\n"
     ]
    },
    {
     "name": "stderr",
     "output_type": "stream",
     "text": [
      "\u001b[32m[I 2022-01-20 19:58:39,941]\u001b[0m Trial 15 finished with value: 0.5700694789497108 and parameters: {'learning_rate': 0.03943357639183931, 'lambda_l1': 0.009984784664121574, 'lambda_l2': 0.23524945967766084, 'num_leaves': 5, 'feature_fraction': 0.5949465338489339, 'bagging_fraction': 0.9918309330040875, 'bagging_freq': 2, 'min_child_samples': 24}. Best is trial 1 with value: 0.5816605045246468.\u001b[0m\n"
     ]
    },
    {
     "name": "stdout",
     "output_type": "stream",
     "text": [
      "Did not meet early stopping. Best iteration is:\n",
      "[100]\tvalid_0's auc: 0.570069\n",
      "[LightGBM] [Warning] Unknown parameter: nestimators\n",
      "[LightGBM] [Warning] feature_fraction is set=0.4748454809573314, colsample_bytree=1.0 will be ignored. Current value: feature_fraction=0.4748454809573314\n",
      "[LightGBM] [Warning] bagging_fraction is set=0.7764854276889778, subsample=1.0 will be ignored. Current value: bagging_fraction=0.7764854276889778\n",
      "[LightGBM] [Warning] lambda_l1 is set=5.470273573842017e-06, reg_alpha=0.0 will be ignored. Current value: lambda_l1=5.470273573842017e-06\n",
      "[LightGBM] [Warning] lambda_l2 is set=2.265650772888657e-05, reg_lambda=0.0 will be ignored. Current value: lambda_l2=2.265650772888657e-05\n",
      "[LightGBM] [Warning] bagging_freq is set=5, subsample_freq=0 will be ignored. Current value: bagging_freq=5\n"
     ]
    },
    {
     "name": "stderr",
     "output_type": "stream",
     "text": [
      "C:\\Users\\Sarkhel\\anaconda3\\lib\\site-packages\\lightgbm\\basic.py:1702: UserWarning: Using categorical_feature in Dataset.\n",
      "  _log_warning('Using categorical_feature in Dataset.')\n",
      "C:\\Users\\Sarkhel\\anaconda3\\lib\\site-packages\\lightgbm\\basic.py:1705: UserWarning: categorical_feature in Dataset is overridden.\n",
      "New categorical_feature is [6, 9, 12]\n",
      "  _log_warning('categorical_feature in Dataset is overridden.\\n'\n",
      "C:\\Users\\Sarkhel\\anaconda3\\lib\\site-packages\\lightgbm\\basic.py:1433: UserWarning: Overriding the parameters from Reference Dataset.\n",
      "  _log_warning('Overriding the parameters from Reference Dataset.')\n",
      "C:\\Users\\Sarkhel\\anaconda3\\lib\\site-packages\\lightgbm\\basic.py:1245: UserWarning: categorical_column in param dict is overridden.\n",
      "  _log_warning('{} in param dict is overridden.'.format(cat_alias))\n"
     ]
    },
    {
     "name": "stdout",
     "output_type": "stream",
     "text": [
      "Training until validation scores don't improve for 2000 rounds\n"
     ]
    },
    {
     "name": "stderr",
     "output_type": "stream",
     "text": [
      "\u001b[32m[I 2022-01-20 19:58:43,099]\u001b[0m Trial 16 finished with value: 0.5722511714097482 and parameters: {'learning_rate': 0.1324207011725827, 'lambda_l1': 5.470273573842017e-06, 'lambda_l2': 2.265650772888657e-05, 'num_leaves': 169, 'feature_fraction': 0.4748454809573314, 'bagging_fraction': 0.7764854276889778, 'bagging_freq': 5, 'min_child_samples': 64}. Best is trial 1 with value: 0.5816605045246468.\u001b[0m\n"
     ]
    },
    {
     "name": "stdout",
     "output_type": "stream",
     "text": [
      "Did not meet early stopping. Best iteration is:\n",
      "[21]\tvalid_0's auc: 0.572251\n",
      "[LightGBM] [Warning] Unknown parameter: nestimators\n",
      "[LightGBM] [Warning] feature_fraction is set=0.6132438189379247, colsample_bytree=1.0 will be ignored. Current value: feature_fraction=0.6132438189379247\n",
      "[LightGBM] [Warning] bagging_fraction is set=0.8852451733764998, subsample=1.0 will be ignored. Current value: bagging_fraction=0.8852451733764998\n",
      "[LightGBM] [Warning] lambda_l1 is set=1.0312455801089817, reg_alpha=0.0 will be ignored. Current value: lambda_l1=1.0312455801089817\n",
      "[LightGBM] [Warning] lambda_l2 is set=0.0008714455881200876, reg_lambda=0.0 will be ignored. Current value: lambda_l2=0.0008714455881200876\n",
      "[LightGBM] [Warning] bagging_freq is set=3, subsample_freq=0 will be ignored. Current value: bagging_freq=3\n"
     ]
    },
    {
     "name": "stderr",
     "output_type": "stream",
     "text": [
      "C:\\Users\\Sarkhel\\anaconda3\\lib\\site-packages\\lightgbm\\basic.py:1702: UserWarning: Using categorical_feature in Dataset.\n",
      "  _log_warning('Using categorical_feature in Dataset.')\n",
      "C:\\Users\\Sarkhel\\anaconda3\\lib\\site-packages\\lightgbm\\basic.py:1705: UserWarning: categorical_feature in Dataset is overridden.\n",
      "New categorical_feature is [6, 9, 12]\n",
      "  _log_warning('categorical_feature in Dataset is overridden.\\n'\n",
      "C:\\Users\\Sarkhel\\anaconda3\\lib\\site-packages\\lightgbm\\basic.py:1433: UserWarning: Overriding the parameters from Reference Dataset.\n",
      "  _log_warning('Overriding the parameters from Reference Dataset.')\n",
      "C:\\Users\\Sarkhel\\anaconda3\\lib\\site-packages\\lightgbm\\basic.py:1245: UserWarning: categorical_column in param dict is overridden.\n",
      "  _log_warning('{} in param dict is overridden.'.format(cat_alias))\n"
     ]
    },
    {
     "name": "stdout",
     "output_type": "stream",
     "text": [
      "Training until validation scores don't improve for 2000 rounds\n"
     ]
    },
    {
     "name": "stderr",
     "output_type": "stream",
     "text": [
      "\u001b[32m[I 2022-01-20 19:58:46,972]\u001b[0m Trial 17 finished with value: 0.5668446441184178 and parameters: {'learning_rate': 0.05429680010347966, 'lambda_l1': 1.0312455801089817, 'lambda_l2': 0.0008714455881200876, 'num_leaves': 216, 'feature_fraction': 0.6132438189379247, 'bagging_fraction': 0.8852451733764998, 'bagging_freq': 3, 'min_child_samples': 89}. Best is trial 1 with value: 0.5816605045246468.\u001b[0m\n"
     ]
    },
    {
     "name": "stdout",
     "output_type": "stream",
     "text": [
      "Did not meet early stopping. Best iteration is:\n",
      "[36]\tvalid_0's auc: 0.566845\n",
      "[LightGBM] [Warning] Unknown parameter: nestimators\n",
      "[LightGBM] [Warning] feature_fraction is set=0.8174602264830282, colsample_bytree=1.0 will be ignored. Current value: feature_fraction=0.8174602264830282\n",
      "[LightGBM] [Warning] bagging_fraction is set=0.5187824584249172, subsample=1.0 will be ignored. Current value: bagging_fraction=0.5187824584249172\n",
      "[LightGBM] [Warning] lambda_l1 is set=0.054475578124245895, reg_alpha=0.0 will be ignored. Current value: lambda_l1=0.054475578124245895\n",
      "[LightGBM] [Warning] lambda_l2 is set=0.4523711145050982, reg_lambda=0.0 will be ignored. Current value: lambda_l2=0.4523711145050982\n",
      "[LightGBM] [Warning] bagging_freq is set=2, subsample_freq=0 will be ignored. Current value: bagging_freq=2\n"
     ]
    },
    {
     "name": "stderr",
     "output_type": "stream",
     "text": [
      "C:\\Users\\Sarkhel\\anaconda3\\lib\\site-packages\\lightgbm\\basic.py:1702: UserWarning: Using categorical_feature in Dataset.\n",
      "  _log_warning('Using categorical_feature in Dataset.')\n",
      "C:\\Users\\Sarkhel\\anaconda3\\lib\\site-packages\\lightgbm\\basic.py:1705: UserWarning: categorical_feature in Dataset is overridden.\n",
      "New categorical_feature is [6, 9, 12]\n",
      "  _log_warning('categorical_feature in Dataset is overridden.\\n'\n",
      "C:\\Users\\Sarkhel\\anaconda3\\lib\\site-packages\\lightgbm\\basic.py:1433: UserWarning: Overriding the parameters from Reference Dataset.\n",
      "  _log_warning('Overriding the parameters from Reference Dataset.')\n",
      "C:\\Users\\Sarkhel\\anaconda3\\lib\\site-packages\\lightgbm\\basic.py:1245: UserWarning: categorical_column in param dict is overridden.\n",
      "  _log_warning('{} in param dict is overridden.'.format(cat_alias))\n"
     ]
    },
    {
     "name": "stdout",
     "output_type": "stream",
     "text": [
      "Training until validation scores don't improve for 2000 rounds\n"
     ]
    },
    {
     "name": "stderr",
     "output_type": "stream",
     "text": [
      "\u001b[32m[I 2022-01-20 19:58:50,113]\u001b[0m Trial 18 finished with value: 0.5769133295782007 and parameters: {'learning_rate': 0.01561431953383667, 'lambda_l1': 0.054475578124245895, 'lambda_l2': 0.4523711145050982, 'num_leaves': 164, 'feature_fraction': 0.8174602264830282, 'bagging_fraction': 0.5187824584249172, 'bagging_freq': 2, 'min_child_samples': 82}. Best is trial 1 with value: 0.5816605045246468.\u001b[0m\n"
     ]
    },
    {
     "name": "stdout",
     "output_type": "stream",
     "text": [
      "Did not meet early stopping. Best iteration is:\n",
      "[58]\tvalid_0's auc: 0.576913\n",
      "[LightGBM] [Warning] Unknown parameter: nestimators\n",
      "[LightGBM] [Warning] feature_fraction is set=0.46663087288219635, colsample_bytree=1.0 will be ignored. Current value: feature_fraction=0.46663087288219635\n",
      "[LightGBM] [Warning] bagging_fraction is set=0.5624074125974575, subsample=1.0 will be ignored. Current value: bagging_fraction=0.5624074125974575\n",
      "[LightGBM] [Warning] lambda_l1 is set=1.3193668100121878, reg_alpha=0.0 will be ignored. Current value: lambda_l1=1.3193668100121878\n",
      "[LightGBM] [Warning] lambda_l2 is set=4.954265735650645e-07, reg_lambda=0.0 will be ignored. Current value: lambda_l2=4.954265735650645e-07\n",
      "[LightGBM] [Warning] bagging_freq is set=5, subsample_freq=0 will be ignored. Current value: bagging_freq=5\n"
     ]
    },
    {
     "name": "stderr",
     "output_type": "stream",
     "text": [
      "C:\\Users\\Sarkhel\\anaconda3\\lib\\site-packages\\lightgbm\\basic.py:1702: UserWarning: Using categorical_feature in Dataset.\n",
      "  _log_warning('Using categorical_feature in Dataset.')\n",
      "C:\\Users\\Sarkhel\\anaconda3\\lib\\site-packages\\lightgbm\\basic.py:1705: UserWarning: categorical_feature in Dataset is overridden.\n",
      "New categorical_feature is [6, 9, 12]\n",
      "  _log_warning('categorical_feature in Dataset is overridden.\\n'\n",
      "C:\\Users\\Sarkhel\\anaconda3\\lib\\site-packages\\lightgbm\\basic.py:1433: UserWarning: Overriding the parameters from Reference Dataset.\n",
      "  _log_warning('Overriding the parameters from Reference Dataset.')\n",
      "C:\\Users\\Sarkhel\\anaconda3\\lib\\site-packages\\lightgbm\\basic.py:1245: UserWarning: categorical_column in param dict is overridden.\n",
      "  _log_warning('{} in param dict is overridden.'.format(cat_alias))\n"
     ]
    },
    {
     "name": "stdout",
     "output_type": "stream",
     "text": [
      "Training until validation scores don't improve for 2000 rounds\n"
     ]
    },
    {
     "name": "stderr",
     "output_type": "stream",
     "text": [
      "\u001b[32m[I 2022-01-20 19:58:52,572]\u001b[0m Trial 19 finished with value: 0.5747514743663619 and parameters: {'learning_rate': 0.03960658276727244, 'lambda_l1': 1.3193668100121878, 'lambda_l2': 4.954265735650645e-07, 'num_leaves': 106, 'feature_fraction': 0.46663087288219635, 'bagging_fraction': 0.5624074125974575, 'bagging_freq': 5, 'min_child_samples': 7}. Best is trial 1 with value: 0.5816605045246468.\u001b[0m\n"
     ]
    },
    {
     "name": "stdout",
     "output_type": "stream",
     "text": [
      "Did not meet early stopping. Best iteration is:\n",
      "[100]\tvalid_0's auc: 0.574751\n",
      "[LightGBM] [Warning] Unknown parameter: nestimators\n",
      "[LightGBM] [Warning] feature_fraction is set=0.6217621392866595, colsample_bytree=1.0 will be ignored. Current value: feature_fraction=0.6217621392866595\n",
      "[LightGBM] [Warning] bagging_fraction is set=0.4549143037174476, subsample=1.0 will be ignored. Current value: bagging_fraction=0.4549143037174476\n",
      "[LightGBM] [Warning] lambda_l1 is set=0.0039032622713074984, reg_alpha=0.0 will be ignored. Current value: lambda_l1=0.0039032622713074984\n",
      "[LightGBM] [Warning] lambda_l2 is set=0.0010369368984929203, reg_lambda=0.0 will be ignored. Current value: lambda_l2=0.0010369368984929203\n",
      "[LightGBM] [Warning] bagging_freq is set=4, subsample_freq=0 will be ignored. Current value: bagging_freq=4\n"
     ]
    },
    {
     "name": "stderr",
     "output_type": "stream",
     "text": [
      "C:\\Users\\Sarkhel\\anaconda3\\lib\\site-packages\\lightgbm\\basic.py:1702: UserWarning: Using categorical_feature in Dataset.\n",
      "  _log_warning('Using categorical_feature in Dataset.')\n",
      "C:\\Users\\Sarkhel\\anaconda3\\lib\\site-packages\\lightgbm\\basic.py:1705: UserWarning: categorical_feature in Dataset is overridden.\n",
      "New categorical_feature is [6, 9, 12]\n",
      "  _log_warning('categorical_feature in Dataset is overridden.\\n'\n",
      "C:\\Users\\Sarkhel\\anaconda3\\lib\\site-packages\\lightgbm\\basic.py:1433: UserWarning: Overriding the parameters from Reference Dataset.\n",
      "  _log_warning('Overriding the parameters from Reference Dataset.')\n",
      "C:\\Users\\Sarkhel\\anaconda3\\lib\\site-packages\\lightgbm\\basic.py:1245: UserWarning: categorical_column in param dict is overridden.\n",
      "  _log_warning('{} in param dict is overridden.'.format(cat_alias))\n"
     ]
    },
    {
     "name": "stdout",
     "output_type": "stream",
     "text": [
      "Training until validation scores don't improve for 2000 rounds\n"
     ]
    },
    {
     "name": "stderr",
     "output_type": "stream",
     "text": [
      "\u001b[32m[I 2022-01-20 19:58:57,024]\u001b[0m Trial 20 finished with value: 0.5666079466127022 and parameters: {'learning_rate': 0.07123058445102023, 'lambda_l1': 0.0039032622713074984, 'lambda_l2': 0.0010369368984929203, 'num_leaves': 253, 'feature_fraction': 0.6217621392866595, 'bagging_fraction': 0.4549143037174476, 'bagging_freq': 4, 'min_child_samples': 45}. Best is trial 1 with value: 0.5816605045246468.\u001b[0m\n"
     ]
    },
    {
     "name": "stdout",
     "output_type": "stream",
     "text": [
      "Did not meet early stopping. Best iteration is:\n",
      "[44]\tvalid_0's auc: 0.566608\n",
      "[LightGBM] [Warning] Unknown parameter: nestimators\n",
      "[LightGBM] [Warning] feature_fraction is set=0.4031518769222017, colsample_bytree=1.0 will be ignored. Current value: feature_fraction=0.4031518769222017\n",
      "[LightGBM] [Warning] bagging_fraction is set=0.4934817720530531, subsample=1.0 will be ignored. Current value: bagging_fraction=0.4934817720530531\n",
      "[LightGBM] [Warning] lambda_l1 is set=1.2199122771082257e-05, reg_alpha=0.0 will be ignored. Current value: lambda_l1=1.2199122771082257e-05\n",
      "[LightGBM] [Warning] lambda_l2 is set=0.00014135409126123758, reg_lambda=0.0 will be ignored. Current value: lambda_l2=0.00014135409126123758\n",
      "[LightGBM] [Warning] bagging_freq is set=6, subsample_freq=0 will be ignored. Current value: bagging_freq=6\n"
     ]
    },
    {
     "name": "stderr",
     "output_type": "stream",
     "text": [
      "C:\\Users\\Sarkhel\\anaconda3\\lib\\site-packages\\lightgbm\\basic.py:1702: UserWarning: Using categorical_feature in Dataset.\n",
      "  _log_warning('Using categorical_feature in Dataset.')\n",
      "C:\\Users\\Sarkhel\\anaconda3\\lib\\site-packages\\lightgbm\\basic.py:1705: UserWarning: categorical_feature in Dataset is overridden.\n",
      "New categorical_feature is [6, 9, 12]\n",
      "  _log_warning('categorical_feature in Dataset is overridden.\\n'\n",
      "C:\\Users\\Sarkhel\\anaconda3\\lib\\site-packages\\lightgbm\\basic.py:1433: UserWarning: Overriding the parameters from Reference Dataset.\n",
      "  _log_warning('Overriding the parameters from Reference Dataset.')\n",
      "C:\\Users\\Sarkhel\\anaconda3\\lib\\site-packages\\lightgbm\\basic.py:1245: UserWarning: categorical_column in param dict is overridden.\n",
      "  _log_warning('{} in param dict is overridden.'.format(cat_alias))\n"
     ]
    },
    {
     "name": "stdout",
     "output_type": "stream",
     "text": [
      "Training until validation scores don't improve for 2000 rounds\n"
     ]
    },
    {
     "name": "stderr",
     "output_type": "stream",
     "text": [
      "\u001b[32m[I 2022-01-20 19:58:59,128]\u001b[0m Trial 21 finished with value: 0.5723952950905374 and parameters: {'learning_rate': 0.026072605907397992, 'lambda_l1': 1.2199122771082257e-05, 'lambda_l2': 0.00014135409126123758, 'num_leaves': 102, 'feature_fraction': 0.4031518769222017, 'bagging_fraction': 0.4934817720530531, 'bagging_freq': 6, 'min_child_samples': 98}. Best is trial 1 with value: 0.5816605045246468.\u001b[0m\n"
     ]
    },
    {
     "name": "stdout",
     "output_type": "stream",
     "text": [
      "Did not meet early stopping. Best iteration is:\n",
      "[67]\tvalid_0's auc: 0.572395\n",
      "[LightGBM] [Warning] Unknown parameter: nestimators\n",
      "[LightGBM] [Warning] feature_fraction is set=0.45822208373127565, colsample_bytree=1.0 will be ignored. Current value: feature_fraction=0.45822208373127565\n",
      "[LightGBM] [Warning] bagging_fraction is set=0.583750494709256, subsample=1.0 will be ignored. Current value: bagging_fraction=0.583750494709256\n",
      "[LightGBM] [Warning] lambda_l1 is set=1.0630085576000025e-05, reg_alpha=0.0 will be ignored. Current value: lambda_l1=1.0630085576000025e-05\n",
      "[LightGBM] [Warning] lambda_l2 is set=9.180918410731102e-06, reg_lambda=0.0 will be ignored. Current value: lambda_l2=9.180918410731102e-06\n",
      "[LightGBM] [Warning] bagging_freq is set=7, subsample_freq=0 will be ignored. Current value: bagging_freq=7\n"
     ]
    },
    {
     "name": "stderr",
     "output_type": "stream",
     "text": [
      "C:\\Users\\Sarkhel\\anaconda3\\lib\\site-packages\\lightgbm\\basic.py:1702: UserWarning: Using categorical_feature in Dataset.\n",
      "  _log_warning('Using categorical_feature in Dataset.')\n",
      "C:\\Users\\Sarkhel\\anaconda3\\lib\\site-packages\\lightgbm\\basic.py:1705: UserWarning: categorical_feature in Dataset is overridden.\n",
      "New categorical_feature is [6, 9, 12]\n",
      "  _log_warning('categorical_feature in Dataset is overridden.\\n'\n",
      "C:\\Users\\Sarkhel\\anaconda3\\lib\\site-packages\\lightgbm\\basic.py:1433: UserWarning: Overriding the parameters from Reference Dataset.\n",
      "  _log_warning('Overriding the parameters from Reference Dataset.')\n",
      "C:\\Users\\Sarkhel\\anaconda3\\lib\\site-packages\\lightgbm\\basic.py:1245: UserWarning: categorical_column in param dict is overridden.\n",
      "  _log_warning('{} in param dict is overridden.'.format(cat_alias))\n"
     ]
    },
    {
     "name": "stdout",
     "output_type": "stream",
     "text": [
      "Training until validation scores don't improve for 2000 rounds\n"
     ]
    },
    {
     "name": "stderr",
     "output_type": "stream",
     "text": [
      "\u001b[32m[I 2022-01-20 19:58:59,983]\u001b[0m Trial 22 finished with value: 0.5779821119301211 and parameters: {'learning_rate': 0.020831219751650663, 'lambda_l1': 1.0630085576000025e-05, 'lambda_l2': 9.180918410731102e-06, 'num_leaves': 19, 'feature_fraction': 0.45822208373127565, 'bagging_fraction': 0.583750494709256, 'bagging_freq': 7, 'min_child_samples': 99}. Best is trial 1 with value: 0.5816605045246468.\u001b[0m\n"
     ]
    },
    {
     "name": "stdout",
     "output_type": "stream",
     "text": [
      "Did not meet early stopping. Best iteration is:\n",
      "[99]\tvalid_0's auc: 0.577982\n",
      "[LightGBM] [Warning] Unknown parameter: nestimators\n",
      "[LightGBM] [Warning] feature_fraction is set=0.4290704997927285, colsample_bytree=1.0 will be ignored. Current value: feature_fraction=0.4290704997927285\n",
      "[LightGBM] [Warning] bagging_fraction is set=0.7556176225815563, subsample=1.0 will be ignored. Current value: bagging_fraction=0.7556176225815563\n",
      "[LightGBM] [Warning] lambda_l1 is set=0.000567231026768361, reg_alpha=0.0 will be ignored. Current value: lambda_l1=0.000567231026768361\n",
      "[LightGBM] [Warning] lambda_l2 is set=0.0001880494230338038, reg_lambda=0.0 will be ignored. Current value: lambda_l2=0.0001880494230338038\n",
      "[LightGBM] [Warning] bagging_freq is set=6, subsample_freq=0 will be ignored. Current value: bagging_freq=6\n"
     ]
    },
    {
     "name": "stderr",
     "output_type": "stream",
     "text": [
      "C:\\Users\\Sarkhel\\anaconda3\\lib\\site-packages\\lightgbm\\basic.py:1702: UserWarning: Using categorical_feature in Dataset.\n",
      "  _log_warning('Using categorical_feature in Dataset.')\n",
      "C:\\Users\\Sarkhel\\anaconda3\\lib\\site-packages\\lightgbm\\basic.py:1705: UserWarning: categorical_feature in Dataset is overridden.\n",
      "New categorical_feature is [6, 9, 12]\n",
      "  _log_warning('categorical_feature in Dataset is overridden.\\n'\n",
      "C:\\Users\\Sarkhel\\anaconda3\\lib\\site-packages\\lightgbm\\basic.py:1433: UserWarning: Overriding the parameters from Reference Dataset.\n",
      "  _log_warning('Overriding the parameters from Reference Dataset.')\n",
      "C:\\Users\\Sarkhel\\anaconda3\\lib\\site-packages\\lightgbm\\basic.py:1245: UserWarning: categorical_column in param dict is overridden.\n",
      "  _log_warning('{} in param dict is overridden.'.format(cat_alias))\n"
     ]
    },
    {
     "name": "stdout",
     "output_type": "stream",
     "text": [
      "Training until validation scores don't improve for 2000 rounds\n"
     ]
    },
    {
     "name": "stderr",
     "output_type": "stream",
     "text": [
      "\u001b[32m[I 2022-01-20 19:59:01,237]\u001b[0m Trial 23 finished with value: 0.5801733856460911 and parameters: {'learning_rate': 0.030143935841426026, 'lambda_l1': 0.000567231026768361, 'lambda_l2': 0.0001880494230338038, 'num_leaves': 40, 'feature_fraction': 0.4290704997927285, 'bagging_fraction': 0.7556176225815563, 'bagging_freq': 6, 'min_child_samples': 86}. Best is trial 1 with value: 0.5816605045246468.\u001b[0m\n"
     ]
    },
    {
     "name": "stdout",
     "output_type": "stream",
     "text": [
      "Did not meet early stopping. Best iteration is:\n",
      "[61]\tvalid_0's auc: 0.580173\n",
      "[LightGBM] [Warning] Unknown parameter: nestimators\n",
      "[LightGBM] [Warning] feature_fraction is set=0.5129675241268251, colsample_bytree=1.0 will be ignored. Current value: feature_fraction=0.5129675241268251\n",
      "[LightGBM] [Warning] bagging_fraction is set=0.7464188223025904, subsample=1.0 will be ignored. Current value: bagging_fraction=0.7464188223025904\n",
      "[LightGBM] [Warning] lambda_l1 is set=1.1801585862623785e-08, reg_alpha=0.0 will be ignored. Current value: lambda_l1=1.1801585862623785e-08\n",
      "[LightGBM] [Warning] lambda_l2 is set=0.05165927522877607, reg_lambda=0.0 will be ignored. Current value: lambda_l2=0.05165927522877607\n",
      "[LightGBM] [Warning] bagging_freq is set=7, subsample_freq=0 will be ignored. Current value: bagging_freq=7\n"
     ]
    },
    {
     "name": "stderr",
     "output_type": "stream",
     "text": [
      "C:\\Users\\Sarkhel\\anaconda3\\lib\\site-packages\\lightgbm\\basic.py:1702: UserWarning: Using categorical_feature in Dataset.\n",
      "  _log_warning('Using categorical_feature in Dataset.')\n",
      "C:\\Users\\Sarkhel\\anaconda3\\lib\\site-packages\\lightgbm\\basic.py:1705: UserWarning: categorical_feature in Dataset is overridden.\n",
      "New categorical_feature is [6, 9, 12]\n",
      "  _log_warning('categorical_feature in Dataset is overridden.\\n'\n",
      "C:\\Users\\Sarkhel\\anaconda3\\lib\\site-packages\\lightgbm\\basic.py:1433: UserWarning: Overriding the parameters from Reference Dataset.\n",
      "  _log_warning('Overriding the parameters from Reference Dataset.')\n",
      "C:\\Users\\Sarkhel\\anaconda3\\lib\\site-packages\\lightgbm\\basic.py:1245: UserWarning: categorical_column in param dict is overridden.\n",
      "  _log_warning('{} in param dict is overridden.'.format(cat_alias))\n"
     ]
    },
    {
     "name": "stdout",
     "output_type": "stream",
     "text": [
      "Training until validation scores don't improve for 2000 rounds\n"
     ]
    },
    {
     "name": "stderr",
     "output_type": "stream",
     "text": [
      "\u001b[32m[I 2022-01-20 19:59:04,936]\u001b[0m Trial 24 finished with value: 0.5752132639128608 and parameters: {'learning_rate': 0.03569523118960023, 'lambda_l1': 1.1801585862623785e-08, 'lambda_l2': 0.05165927522877607, 'num_leaves': 189, 'feature_fraction': 0.5129675241268251, 'bagging_fraction': 0.7464188223025904, 'bagging_freq': 7, 'min_child_samples': 79}. Best is trial 1 with value: 0.5816605045246468.\u001b[0m\n"
     ]
    },
    {
     "name": "stdout",
     "output_type": "stream",
     "text": [
      "Did not meet early stopping. Best iteration is:\n",
      "[50]\tvalid_0's auc: 0.575213\n",
      "[LightGBM] [Warning] Unknown parameter: nestimators\n",
      "[LightGBM] [Warning] feature_fraction is set=0.573060686814664, colsample_bytree=1.0 will be ignored. Current value: feature_fraction=0.573060686814664\n",
      "[LightGBM] [Warning] bagging_fraction is set=0.8549825518961609, subsample=1.0 will be ignored. Current value: bagging_fraction=0.8549825518961609\n",
      "[LightGBM] [Warning] lambda_l1 is set=3.269347716797471, reg_alpha=0.0 will be ignored. Current value: lambda_l1=3.269347716797471\n",
      "[LightGBM] [Warning] lambda_l2 is set=0.0024937125321878918, reg_lambda=0.0 will be ignored. Current value: lambda_l2=0.0024937125321878918\n",
      "[LightGBM] [Warning] bagging_freq is set=6, subsample_freq=0 will be ignored. Current value: bagging_freq=6\n"
     ]
    },
    {
     "name": "stderr",
     "output_type": "stream",
     "text": [
      "C:\\Users\\Sarkhel\\anaconda3\\lib\\site-packages\\lightgbm\\basic.py:1702: UserWarning: Using categorical_feature in Dataset.\n",
      "  _log_warning('Using categorical_feature in Dataset.')\n",
      "C:\\Users\\Sarkhel\\anaconda3\\lib\\site-packages\\lightgbm\\basic.py:1705: UserWarning: categorical_feature in Dataset is overridden.\n",
      "New categorical_feature is [6, 9, 12]\n",
      "  _log_warning('categorical_feature in Dataset is overridden.\\n'\n",
      "C:\\Users\\Sarkhel\\anaconda3\\lib\\site-packages\\lightgbm\\basic.py:1433: UserWarning: Overriding the parameters from Reference Dataset.\n",
      "  _log_warning('Overriding the parameters from Reference Dataset.')\n",
      "C:\\Users\\Sarkhel\\anaconda3\\lib\\site-packages\\lightgbm\\basic.py:1245: UserWarning: categorical_column in param dict is overridden.\n",
      "  _log_warning('{} in param dict is overridden.'.format(cat_alias))\n"
     ]
    },
    {
     "name": "stdout",
     "output_type": "stream",
     "text": [
      "Training until validation scores don't improve for 2000 rounds\n"
     ]
    },
    {
     "name": "stderr",
     "output_type": "stream",
     "text": [
      "\u001b[32m[I 2022-01-20 19:59:07,338]\u001b[0m Trial 25 finished with value: 0.5739620328564208 and parameters: {'learning_rate': 0.032627844075155815, 'lambda_l1': 3.269347716797471, 'lambda_l2': 0.0024937125321878918, 'num_leaves': 110, 'feature_fraction': 0.573060686814664, 'bagging_fraction': 0.8549825518961609, 'bagging_freq': 6, 'min_child_samples': 64}. Best is trial 1 with value: 0.5816605045246468.\u001b[0m\n"
     ]
    },
    {
     "name": "stdout",
     "output_type": "stream",
     "text": [
      "Did not meet early stopping. Best iteration is:\n",
      "[27]\tvalid_0's auc: 0.573962\n",
      "[LightGBM] [Warning] Unknown parameter: nestimators\n",
      "[LightGBM] [Warning] feature_fraction is set=0.43004072913297897, colsample_bytree=1.0 will be ignored. Current value: feature_fraction=0.43004072913297897\n",
      "[LightGBM] [Warning] bagging_fraction is set=0.7747144278941605, subsample=1.0 will be ignored. Current value: bagging_fraction=0.7747144278941605\n",
      "[LightGBM] [Warning] lambda_l1 is set=0.17079959196863004, reg_alpha=0.0 will be ignored. Current value: lambda_l1=0.17079959196863004\n",
      "[LightGBM] [Warning] lambda_l2 is set=1.690615781054184e-06, reg_lambda=0.0 will be ignored. Current value: lambda_l2=1.690615781054184e-06\n",
      "[LightGBM] [Warning] bagging_freq is set=5, subsample_freq=0 will be ignored. Current value: bagging_freq=5\n"
     ]
    },
    {
     "name": "stderr",
     "output_type": "stream",
     "text": [
      "C:\\Users\\Sarkhel\\anaconda3\\lib\\site-packages\\lightgbm\\basic.py:1702: UserWarning: Using categorical_feature in Dataset.\n",
      "  _log_warning('Using categorical_feature in Dataset.')\n",
      "C:\\Users\\Sarkhel\\anaconda3\\lib\\site-packages\\lightgbm\\basic.py:1705: UserWarning: categorical_feature in Dataset is overridden.\n",
      "New categorical_feature is [6, 9, 12]\n",
      "  _log_warning('categorical_feature in Dataset is overridden.\\n'\n",
      "C:\\Users\\Sarkhel\\anaconda3\\lib\\site-packages\\lightgbm\\basic.py:1433: UserWarning: Overriding the parameters from Reference Dataset.\n",
      "  _log_warning('Overriding the parameters from Reference Dataset.')\n",
      "C:\\Users\\Sarkhel\\anaconda3\\lib\\site-packages\\lightgbm\\basic.py:1245: UserWarning: categorical_column in param dict is overridden.\n",
      "  _log_warning('{} in param dict is overridden.'.format(cat_alias))\n"
     ]
    },
    {
     "name": "stdout",
     "output_type": "stream",
     "text": [
      "Training until validation scores don't improve for 2000 rounds\n"
     ]
    },
    {
     "name": "stderr",
     "output_type": "stream",
     "text": [
      "\u001b[32m[I 2022-01-20 19:59:10,189]\u001b[0m Trial 26 finished with value: 0.5687263488046777 and parameters: {'learning_rate': 0.07051479052630498, 'lambda_l1': 0.17079959196863004, 'lambda_l2': 1.690615781054184e-06, 'num_leaves': 157, 'feature_fraction': 0.43004072913297897, 'bagging_fraction': 0.7747144278941605, 'bagging_freq': 5, 'min_child_samples': 88}. Best is trial 1 with value: 0.5816605045246468.\u001b[0m\n"
     ]
    },
    {
     "name": "stdout",
     "output_type": "stream",
     "text": [
      "Did not meet early stopping. Best iteration is:\n",
      "[39]\tvalid_0's auc: 0.568726\n",
      "[LightGBM] [Warning] Unknown parameter: nestimators\n",
      "[LightGBM] [Warning] feature_fraction is set=0.5052445306972978, colsample_bytree=1.0 will be ignored. Current value: feature_fraction=0.5052445306972978\n",
      "[LightGBM] [Warning] bagging_fraction is set=0.8939836971818652, subsample=1.0 will be ignored. Current value: bagging_fraction=0.8939836971818652\n",
      "[LightGBM] [Warning] lambda_l1 is set=4.4124190646682726e-07, reg_alpha=0.0 will be ignored. Current value: lambda_l1=4.4124190646682726e-07\n",
      "[LightGBM] [Warning] lambda_l2 is set=0.00010754079101440166, reg_lambda=0.0 will be ignored. Current value: lambda_l2=0.00010754079101440166\n",
      "[LightGBM] [Warning] bagging_freq is set=7, subsample_freq=0 will be ignored. Current value: bagging_freq=7\n"
     ]
    },
    {
     "name": "stderr",
     "output_type": "stream",
     "text": [
      "C:\\Users\\Sarkhel\\anaconda3\\lib\\site-packages\\lightgbm\\basic.py:1702: UserWarning: Using categorical_feature in Dataset.\n",
      "  _log_warning('Using categorical_feature in Dataset.')\n",
      "C:\\Users\\Sarkhel\\anaconda3\\lib\\site-packages\\lightgbm\\basic.py:1705: UserWarning: categorical_feature in Dataset is overridden.\n",
      "New categorical_feature is [6, 9, 12]\n",
      "  _log_warning('categorical_feature in Dataset is overridden.\\n'\n",
      "C:\\Users\\Sarkhel\\anaconda3\\lib\\site-packages\\lightgbm\\basic.py:1433: UserWarning: Overriding the parameters from Reference Dataset.\n",
      "  _log_warning('Overriding the parameters from Reference Dataset.')\n",
      "C:\\Users\\Sarkhel\\anaconda3\\lib\\site-packages\\lightgbm\\basic.py:1245: UserWarning: categorical_column in param dict is overridden.\n",
      "  _log_warning('{} in param dict is overridden.'.format(cat_alias))\n"
     ]
    },
    {
     "name": "stdout",
     "output_type": "stream",
     "text": [
      "Training until validation scores don't improve for 2000 rounds\n"
     ]
    },
    {
     "name": "stderr",
     "output_type": "stream",
     "text": [
      "\u001b[32m[I 2022-01-20 19:59:14,459]\u001b[0m Trial 27 finished with value: 0.5731037682404847 and parameters: {'learning_rate': 0.04776925965907966, 'lambda_l1': 4.4124190646682726e-07, 'lambda_l2': 0.00010754079101440166, 'num_leaves': 225, 'feature_fraction': 0.5052445306972978, 'bagging_fraction': 0.8939836971818652, 'bagging_freq': 7, 'min_child_samples': 66}. Best is trial 1 with value: 0.5816605045246468.\u001b[0m\n"
     ]
    },
    {
     "name": "stdout",
     "output_type": "stream",
     "text": [
      "Did not meet early stopping. Best iteration is:\n",
      "[23]\tvalid_0's auc: 0.573104\n",
      "[LightGBM] [Warning] Unknown parameter: nestimators\n",
      "[LightGBM] [Warning] feature_fraction is set=0.6379824091003152, colsample_bytree=1.0 will be ignored. Current value: feature_fraction=0.6379824091003152\n",
      "[LightGBM] [Warning] bagging_fraction is set=0.7026916207866353, subsample=1.0 will be ignored. Current value: bagging_fraction=0.7026916207866353\n",
      "[LightGBM] [Warning] lambda_l1 is set=0.020084517205473225, reg_alpha=0.0 will be ignored. Current value: lambda_l1=0.020084517205473225\n",
      "[LightGBM] [Warning] lambda_l2 is set=0.00042623136790596026, reg_lambda=0.0 will be ignored. Current value: lambda_l2=0.00042623136790596026\n",
      "[LightGBM] [Warning] bagging_freq is set=1, subsample_freq=0 will be ignored. Current value: bagging_freq=1\n"
     ]
    },
    {
     "name": "stderr",
     "output_type": "stream",
     "text": [
      "C:\\Users\\Sarkhel\\anaconda3\\lib\\site-packages\\lightgbm\\basic.py:1702: UserWarning: Using categorical_feature in Dataset.\n",
      "  _log_warning('Using categorical_feature in Dataset.')\n",
      "C:\\Users\\Sarkhel\\anaconda3\\lib\\site-packages\\lightgbm\\basic.py:1705: UserWarning: categorical_feature in Dataset is overridden.\n",
      "New categorical_feature is [6, 9, 12]\n",
      "  _log_warning('categorical_feature in Dataset is overridden.\\n'\n",
      "C:\\Users\\Sarkhel\\anaconda3\\lib\\site-packages\\lightgbm\\basic.py:1433: UserWarning: Overriding the parameters from Reference Dataset.\n",
      "  _log_warning('Overriding the parameters from Reference Dataset.')\n",
      "C:\\Users\\Sarkhel\\anaconda3\\lib\\site-packages\\lightgbm\\basic.py:1245: UserWarning: categorical_column in param dict is overridden.\n",
      "  _log_warning('{} in param dict is overridden.'.format(cat_alias))\n"
     ]
    },
    {
     "name": "stdout",
     "output_type": "stream",
     "text": [
      "Training until validation scores don't improve for 2000 rounds\n"
     ]
    },
    {
     "name": "stderr",
     "output_type": "stream",
     "text": [
      "\u001b[32m[I 2022-01-20 19:59:17,348]\u001b[0m Trial 28 finished with value: 0.5779567418439896 and parameters: {'learning_rate': 0.015569642176021723, 'lambda_l1': 0.020084517205473225, 'lambda_l2': 0.00042623136790596026, 'num_leaves': 148, 'feature_fraction': 0.6379824091003152, 'bagging_fraction': 0.7026916207866353, 'bagging_freq': 1, 'min_child_samples': 80}. Best is trial 1 with value: 0.5816605045246468.\u001b[0m\n"
     ]
    },
    {
     "name": "stdout",
     "output_type": "stream",
     "text": [
      "Did not meet early stopping. Best iteration is:\n",
      "[64]\tvalid_0's auc: 0.577957\n",
      "[LightGBM] [Warning] Unknown parameter: nestimators\n",
      "[LightGBM] [Warning] feature_fraction is set=0.7550331473942969, colsample_bytree=1.0 will be ignored. Current value: feature_fraction=0.7550331473942969\n",
      "[LightGBM] [Warning] bagging_fraction is set=0.6429262292403467, subsample=1.0 will be ignored. Current value: bagging_fraction=0.6429262292403467\n",
      "[LightGBM] [Warning] lambda_l1 is set=0.0007367857752040253, reg_alpha=0.0 will be ignored. Current value: lambda_l1=0.0007367857752040253\n",
      "[LightGBM] [Warning] lambda_l2 is set=0.028478298664394157, reg_lambda=0.0 will be ignored. Current value: lambda_l2=0.028478298664394157\n",
      "[LightGBM] [Warning] bagging_freq is set=6, subsample_freq=0 will be ignored. Current value: bagging_freq=6\n"
     ]
    },
    {
     "name": "stderr",
     "output_type": "stream",
     "text": [
      "C:\\Users\\Sarkhel\\anaconda3\\lib\\site-packages\\lightgbm\\basic.py:1702: UserWarning: Using categorical_feature in Dataset.\n",
      "  _log_warning('Using categorical_feature in Dataset.')\n",
      "C:\\Users\\Sarkhel\\anaconda3\\lib\\site-packages\\lightgbm\\basic.py:1705: UserWarning: categorical_feature in Dataset is overridden.\n",
      "New categorical_feature is [6, 9, 12]\n",
      "  _log_warning('categorical_feature in Dataset is overridden.\\n'\n",
      "C:\\Users\\Sarkhel\\anaconda3\\lib\\site-packages\\lightgbm\\basic.py:1433: UserWarning: Overriding the parameters from Reference Dataset.\n",
      "  _log_warning('Overriding the parameters from Reference Dataset.')\n",
      "C:\\Users\\Sarkhel\\anaconda3\\lib\\site-packages\\lightgbm\\basic.py:1245: UserWarning: categorical_column in param dict is overridden.\n",
      "  _log_warning('{} in param dict is overridden.'.format(cat_alias))\n"
     ]
    },
    {
     "name": "stdout",
     "output_type": "stream",
     "text": [
      "Training until validation scores don't improve for 2000 rounds\n"
     ]
    },
    {
     "name": "stderr",
     "output_type": "stream",
     "text": [
      "\u001b[32m[I 2022-01-20 19:59:20,661]\u001b[0m Trial 29 finished with value: 0.5675037265687687 and parameters: {'learning_rate': 0.0507642604936279, 'lambda_l1': 0.0007367857752040253, 'lambda_l2': 0.028478298664394157, 'num_leaves': 186, 'feature_fraction': 0.7550331473942969, 'bagging_fraction': 0.6429262292403467, 'bagging_freq': 6, 'min_child_samples': 88}. Best is trial 1 with value: 0.5816605045246468.\u001b[0m\n"
     ]
    },
    {
     "name": "stdout",
     "output_type": "stream",
     "text": [
      "Did not meet early stopping. Best iteration is:\n",
      "[38]\tvalid_0's auc: 0.567504\n",
      "[LightGBM] [Warning] Unknown parameter: nestimators\n",
      "[LightGBM] [Warning] feature_fraction is set=0.4439425987165909, colsample_bytree=1.0 will be ignored. Current value: feature_fraction=0.4439425987165909\n",
      "[LightGBM] [Warning] bagging_fraction is set=0.6609641034805357, subsample=1.0 will be ignored. Current value: bagging_fraction=0.6609641034805357\n",
      "[LightGBM] [Warning] lambda_l1 is set=0.20149472319283543, reg_alpha=0.0 will be ignored. Current value: lambda_l1=0.20149472319283543\n",
      "[LightGBM] [Warning] lambda_l2 is set=5.219975670967361e-08, reg_lambda=0.0 will be ignored. Current value: lambda_l2=5.219975670967361e-08\n",
      "[LightGBM] [Warning] bagging_freq is set=4, subsample_freq=0 will be ignored. Current value: bagging_freq=4\n"
     ]
    },
    {
     "name": "stderr",
     "output_type": "stream",
     "text": [
      "C:\\Users\\Sarkhel\\anaconda3\\lib\\site-packages\\lightgbm\\basic.py:1702: UserWarning: Using categorical_feature in Dataset.\n",
      "  _log_warning('Using categorical_feature in Dataset.')\n",
      "C:\\Users\\Sarkhel\\anaconda3\\lib\\site-packages\\lightgbm\\basic.py:1705: UserWarning: categorical_feature in Dataset is overridden.\n",
      "New categorical_feature is [6, 9, 12]\n",
      "  _log_warning('categorical_feature in Dataset is overridden.\\n'\n",
      "C:\\Users\\Sarkhel\\anaconda3\\lib\\site-packages\\lightgbm\\basic.py:1433: UserWarning: Overriding the parameters from Reference Dataset.\n",
      "  _log_warning('Overriding the parameters from Reference Dataset.')\n",
      "C:\\Users\\Sarkhel\\anaconda3\\lib\\site-packages\\lightgbm\\basic.py:1245: UserWarning: categorical_column in param dict is overridden.\n",
      "  _log_warning('{} in param dict is overridden.'.format(cat_alias))\n"
     ]
    },
    {
     "name": "stdout",
     "output_type": "stream",
     "text": [
      "Training until validation scores don't improve for 2000 rounds\n"
     ]
    },
    {
     "name": "stderr",
     "output_type": "stream",
     "text": [
      "\u001b[32m[I 2022-01-20 19:59:22,524]\u001b[0m Trial 30 finished with value: 0.5785513195008787 and parameters: {'learning_rate': 0.019000765541549485, 'lambda_l1': 0.20149472319283543, 'lambda_l2': 5.219975670967361e-08, 'num_leaves': 85, 'feature_fraction': 0.4439425987165909, 'bagging_fraction': 0.6609641034805357, 'bagging_freq': 4, 'min_child_samples': 91}. Best is trial 1 with value: 0.5816605045246468.\u001b[0m\n"
     ]
    },
    {
     "name": "stdout",
     "output_type": "stream",
     "text": [
      "Did not meet early stopping. Best iteration is:\n",
      "[50]\tvalid_0's auc: 0.578551\n",
      "[LightGBM] [Warning] Unknown parameter: nestimators\n",
      "[LightGBM] [Warning] feature_fraction is set=0.43639479748040105, colsample_bytree=1.0 will be ignored. Current value: feature_fraction=0.43639479748040105\n",
      "[LightGBM] [Warning] bagging_fraction is set=0.44632921247197627, subsample=1.0 will be ignored. Current value: bagging_fraction=0.44632921247197627\n",
      "[LightGBM] [Warning] lambda_l1 is set=5.846799157189512e-05, reg_alpha=0.0 will be ignored. Current value: lambda_l1=5.846799157189512e-05\n",
      "[LightGBM] [Warning] lambda_l2 is set=0.0003179016706014383, reg_lambda=0.0 will be ignored. Current value: lambda_l2=0.0003179016706014383\n",
      "[LightGBM] [Warning] bagging_freq is set=5, subsample_freq=0 will be ignored. Current value: bagging_freq=5\n"
     ]
    },
    {
     "name": "stderr",
     "output_type": "stream",
     "text": [
      "C:\\Users\\Sarkhel\\anaconda3\\lib\\site-packages\\lightgbm\\basic.py:1702: UserWarning: Using categorical_feature in Dataset.\n",
      "  _log_warning('Using categorical_feature in Dataset.')\n",
      "C:\\Users\\Sarkhel\\anaconda3\\lib\\site-packages\\lightgbm\\basic.py:1705: UserWarning: categorical_feature in Dataset is overridden.\n",
      "New categorical_feature is [6, 9, 12]\n",
      "  _log_warning('categorical_feature in Dataset is overridden.\\n'\n",
      "C:\\Users\\Sarkhel\\anaconda3\\lib\\site-packages\\lightgbm\\basic.py:1433: UserWarning: Overriding the parameters from Reference Dataset.\n",
      "  _log_warning('Overriding the parameters from Reference Dataset.')\n",
      "C:\\Users\\Sarkhel\\anaconda3\\lib\\site-packages\\lightgbm\\basic.py:1245: UserWarning: categorical_column in param dict is overridden.\n",
      "  _log_warning('{} in param dict is overridden.'.format(cat_alias))\n"
     ]
    },
    {
     "name": "stdout",
     "output_type": "stream",
     "text": [
      "Training until validation scores don't improve for 2000 rounds\n"
     ]
    },
    {
     "name": "stderr",
     "output_type": "stream",
     "text": [
      "\u001b[32m[I 2022-01-20 19:59:23,693]\u001b[0m Trial 31 finished with value: 0.5799296708825092 and parameters: {'learning_rate': 0.02974079643941834, 'lambda_l1': 5.846799157189512e-05, 'lambda_l2': 0.0003179016706014383, 'num_leaves': 42, 'feature_fraction': 0.43639479748040105, 'bagging_fraction': 0.44632921247197627, 'bagging_freq': 5, 'min_child_samples': 84}. Best is trial 1 with value: 0.5816605045246468.\u001b[0m\n"
     ]
    },
    {
     "name": "stdout",
     "output_type": "stream",
     "text": [
      "Did not meet early stopping. Best iteration is:\n",
      "[46]\tvalid_0's auc: 0.57993\n",
      "[LightGBM] [Warning] Unknown parameter: nestimators\n",
      "[LightGBM] [Warning] feature_fraction is set=0.4934653326277389, colsample_bytree=1.0 will be ignored. Current value: feature_fraction=0.4934653326277389\n",
      "[LightGBM] [Warning] bagging_fraction is set=0.4285644767663592, subsample=1.0 will be ignored. Current value: bagging_fraction=0.4285644767663592\n",
      "[LightGBM] [Warning] lambda_l1 is set=5.71760412616106e-05, reg_alpha=0.0 will be ignored. Current value: lambda_l1=5.71760412616106e-05\n",
      "[LightGBM] [Warning] lambda_l2 is set=0.0042051459501152725, reg_lambda=0.0 will be ignored. Current value: lambda_l2=0.0042051459501152725\n",
      "[LightGBM] [Warning] bagging_freq is set=5, subsample_freq=0 will be ignored. Current value: bagging_freq=5\n"
     ]
    },
    {
     "name": "stderr",
     "output_type": "stream",
     "text": [
      "C:\\Users\\Sarkhel\\anaconda3\\lib\\site-packages\\lightgbm\\basic.py:1702: UserWarning: Using categorical_feature in Dataset.\n",
      "  _log_warning('Using categorical_feature in Dataset.')\n",
      "C:\\Users\\Sarkhel\\anaconda3\\lib\\site-packages\\lightgbm\\basic.py:1705: UserWarning: categorical_feature in Dataset is overridden.\n",
      "New categorical_feature is [6, 9, 12]\n",
      "  _log_warning('categorical_feature in Dataset is overridden.\\n'\n",
      "C:\\Users\\Sarkhel\\anaconda3\\lib\\site-packages\\lightgbm\\basic.py:1433: UserWarning: Overriding the parameters from Reference Dataset.\n",
      "  _log_warning('Overriding the parameters from Reference Dataset.')\n",
      "C:\\Users\\Sarkhel\\anaconda3\\lib\\site-packages\\lightgbm\\basic.py:1245: UserWarning: categorical_column in param dict is overridden.\n",
      "  _log_warning('{} in param dict is overridden.'.format(cat_alias))\n"
     ]
    },
    {
     "name": "stdout",
     "output_type": "stream",
     "text": [
      "Training until validation scores don't improve for 2000 rounds\n"
     ]
    },
    {
     "name": "stderr",
     "output_type": "stream",
     "text": [
      "\u001b[32m[I 2022-01-20 19:59:24,807]\u001b[0m Trial 32 finished with value: 0.5826496679892398 and parameters: {'learning_rate': 0.03156881768332468, 'lambda_l1': 5.71760412616106e-05, 'lambda_l2': 0.0042051459501152725, 'num_leaves': 36, 'feature_fraction': 0.4934653326277389, 'bagging_fraction': 0.4285644767663592, 'bagging_freq': 5, 'min_child_samples': 84}. Best is trial 32 with value: 0.5826496679892398.\u001b[0m\n"
     ]
    },
    {
     "name": "stdout",
     "output_type": "stream",
     "text": [
      "Did not meet early stopping. Best iteration is:\n",
      "[99]\tvalid_0's auc: 0.58265\n",
      "[LightGBM] [Warning] Unknown parameter: nestimators\n",
      "[LightGBM] [Warning] feature_fraction is set=0.5731342945216487, colsample_bytree=1.0 will be ignored. Current value: feature_fraction=0.5731342945216487\n",
      "[LightGBM] [Warning] bagging_fraction is set=0.44121069125530965, subsample=1.0 will be ignored. Current value: bagging_fraction=0.44121069125530965\n",
      "[LightGBM] [Warning] lambda_l1 is set=3.0720817206212386e-05, reg_alpha=0.0 will be ignored. Current value: lambda_l1=3.0720817206212386e-05\n",
      "[LightGBM] [Warning] lambda_l2 is set=0.0046440829581702635, reg_lambda=0.0 will be ignored. Current value: lambda_l2=0.0046440829581702635\n",
      "[LightGBM] [Warning] bagging_freq is set=5, subsample_freq=0 will be ignored. Current value: bagging_freq=5\n"
     ]
    },
    {
     "name": "stderr",
     "output_type": "stream",
     "text": [
      "C:\\Users\\Sarkhel\\anaconda3\\lib\\site-packages\\lightgbm\\basic.py:1702: UserWarning: Using categorical_feature in Dataset.\n",
      "  _log_warning('Using categorical_feature in Dataset.')\n",
      "C:\\Users\\Sarkhel\\anaconda3\\lib\\site-packages\\lightgbm\\basic.py:1705: UserWarning: categorical_feature in Dataset is overridden.\n",
      "New categorical_feature is [6, 9, 12]\n",
      "  _log_warning('categorical_feature in Dataset is overridden.\\n'\n",
      "C:\\Users\\Sarkhel\\anaconda3\\lib\\site-packages\\lightgbm\\basic.py:1433: UserWarning: Overriding the parameters from Reference Dataset.\n",
      "  _log_warning('Overriding the parameters from Reference Dataset.')\n",
      "C:\\Users\\Sarkhel\\anaconda3\\lib\\site-packages\\lightgbm\\basic.py:1245: UserWarning: categorical_column in param dict is overridden.\n",
      "  _log_warning('{} in param dict is overridden.'.format(cat_alias))\n"
     ]
    },
    {
     "name": "stdout",
     "output_type": "stream",
     "text": [
      "Training until validation scores don't improve for 2000 rounds\n"
     ]
    },
    {
     "name": "stderr",
     "output_type": "stream",
     "text": [
      "\u001b[32m[I 2022-01-20 19:59:25,405]\u001b[0m Trial 33 finished with value: 0.5757284925769557 and parameters: {'learning_rate': 0.023043023478091253, 'lambda_l1': 3.0720817206212386e-05, 'lambda_l2': 0.0046440829581702635, 'num_leaves': 7, 'feature_fraction': 0.5731342945216487, 'bagging_fraction': 0.44121069125530965, 'bagging_freq': 5, 'min_child_samples': 75}. Best is trial 32 with value: 0.5826496679892398.\u001b[0m\n"
     ]
    },
    {
     "name": "stdout",
     "output_type": "stream",
     "text": [
      "Did not meet early stopping. Best iteration is:\n",
      "[100]\tvalid_0's auc: 0.575728\n",
      "[LightGBM] [Warning] Unknown parameter: nestimators\n",
      "[LightGBM] [Warning] feature_fraction is set=0.506341847197974, colsample_bytree=1.0 will be ignored. Current value: feature_fraction=0.506341847197974\n",
      "[LightGBM] [Warning] bagging_fraction is set=0.6183653869508233, subsample=1.0 will be ignored. Current value: bagging_fraction=0.6183653869508233\n",
      "[LightGBM] [Warning] lambda_l1 is set=2.849697871620485e-06, reg_alpha=0.0 will be ignored. Current value: lambda_l1=2.849697871620485e-06\n",
      "[LightGBM] [Warning] lambda_l2 is set=0.00804592160449659, reg_lambda=0.0 will be ignored. Current value: lambda_l2=0.00804592160449659\n",
      "[LightGBM] [Warning] bagging_freq is set=6, subsample_freq=0 will be ignored. Current value: bagging_freq=6\n"
     ]
    },
    {
     "name": "stderr",
     "output_type": "stream",
     "text": [
      "C:\\Users\\Sarkhel\\anaconda3\\lib\\site-packages\\lightgbm\\basic.py:1702: UserWarning: Using categorical_feature in Dataset.\n",
      "  _log_warning('Using categorical_feature in Dataset.')\n",
      "C:\\Users\\Sarkhel\\anaconda3\\lib\\site-packages\\lightgbm\\basic.py:1705: UserWarning: categorical_feature in Dataset is overridden.\n",
      "New categorical_feature is [6, 9, 12]\n",
      "  _log_warning('categorical_feature in Dataset is overridden.\\n'\n",
      "C:\\Users\\Sarkhel\\anaconda3\\lib\\site-packages\\lightgbm\\basic.py:1433: UserWarning: Overriding the parameters from Reference Dataset.\n",
      "  _log_warning('Overriding the parameters from Reference Dataset.')\n",
      "C:\\Users\\Sarkhel\\anaconda3\\lib\\site-packages\\lightgbm\\basic.py:1245: UserWarning: categorical_column in param dict is overridden.\n",
      "  _log_warning('{} in param dict is overridden.'.format(cat_alias))\n"
     ]
    },
    {
     "name": "stdout",
     "output_type": "stream",
     "text": [
      "Training until validation scores don't improve for 2000 rounds\n"
     ]
    },
    {
     "name": "stderr",
     "output_type": "stream",
     "text": [
      "\u001b[32m[I 2022-01-20 19:59:26,893]\u001b[0m Trial 34 finished with value: 0.5776914355177427 and parameters: {'learning_rate': 0.03162074537016885, 'lambda_l1': 2.849697871620485e-06, 'lambda_l2': 0.00804592160449659, 'num_leaves': 59, 'feature_fraction': 0.506341847197974, 'bagging_fraction': 0.6183653869508233, 'bagging_freq': 6, 'min_child_samples': 92}. Best is trial 32 with value: 0.5826496679892398.\u001b[0m\n"
     ]
    },
    {
     "name": "stdout",
     "output_type": "stream",
     "text": [
      "Did not meet early stopping. Best iteration is:\n",
      "[21]\tvalid_0's auc: 0.577691\n",
      "[LightGBM] [Warning] Unknown parameter: nestimators\n",
      "[LightGBM] [Warning] feature_fraction is set=0.8721856786429864, colsample_bytree=1.0 will be ignored. Current value: feature_fraction=0.8721856786429864\n",
      "[LightGBM] [Warning] bagging_fraction is set=0.745796440145996, subsample=1.0 will be ignored. Current value: bagging_fraction=0.745796440145996\n",
      "[LightGBM] [Warning] lambda_l1 is set=0.0007808176198079766, reg_alpha=0.0 will be ignored. Current value: lambda_l1=0.0007808176198079766\n",
      "[LightGBM] [Warning] lambda_l2 is set=0.09035974658172233, reg_lambda=0.0 will be ignored. Current value: lambda_l2=0.09035974658172233\n",
      "[LightGBM] [Warning] bagging_freq is set=7, subsample_freq=0 will be ignored. Current value: bagging_freq=7\n"
     ]
    },
    {
     "name": "stderr",
     "output_type": "stream",
     "text": [
      "C:\\Users\\Sarkhel\\anaconda3\\lib\\site-packages\\lightgbm\\basic.py:1702: UserWarning: Using categorical_feature in Dataset.\n",
      "  _log_warning('Using categorical_feature in Dataset.')\n",
      "C:\\Users\\Sarkhel\\anaconda3\\lib\\site-packages\\lightgbm\\basic.py:1705: UserWarning: categorical_feature in Dataset is overridden.\n",
      "New categorical_feature is [6, 9, 12]\n",
      "  _log_warning('categorical_feature in Dataset is overridden.\\n'\n",
      "C:\\Users\\Sarkhel\\anaconda3\\lib\\site-packages\\lightgbm\\basic.py:1433: UserWarning: Overriding the parameters from Reference Dataset.\n",
      "  _log_warning('Overriding the parameters from Reference Dataset.')\n",
      "C:\\Users\\Sarkhel\\anaconda3\\lib\\site-packages\\lightgbm\\basic.py:1245: UserWarning: categorical_column in param dict is overridden.\n",
      "  _log_warning('{} in param dict is overridden.'.format(cat_alias))\n"
     ]
    },
    {
     "name": "stdout",
     "output_type": "stream",
     "text": [
      "Training until validation scores don't improve for 2000 rounds\n"
     ]
    },
    {
     "name": "stderr",
     "output_type": "stream",
     "text": [
      "\u001b[32m[I 2022-01-20 19:59:27,823]\u001b[0m Trial 35 finished with value: 0.5730758341562867 and parameters: {'learning_rate': 0.04793117831087653, 'lambda_l1': 0.0007808176198079766, 'lambda_l2': 0.09035974658172233, 'num_leaves': 27, 'feature_fraction': 0.8721856786429864, 'bagging_fraction': 0.745796440145996, 'bagging_freq': 7, 'min_child_samples': 85}. Best is trial 32 with value: 0.5826496679892398.\u001b[0m\n"
     ]
    },
    {
     "name": "stdout",
     "output_type": "stream",
     "text": [
      "Did not meet early stopping. Best iteration is:\n",
      "[34]\tvalid_0's auc: 0.573076\n",
      "[LightGBM] [Warning] Unknown parameter: nestimators\n",
      "[LightGBM] [Warning] feature_fraction is set=0.47758462178742894, colsample_bytree=1.0 will be ignored. Current value: feature_fraction=0.47758462178742894\n",
      "[LightGBM] [Warning] bagging_fraction is set=0.5632505999576727, subsample=1.0 will be ignored. Current value: bagging_fraction=0.5632505999576727\n",
      "[LightGBM] [Warning] lambda_l1 is set=2.5064883433900538, reg_alpha=0.0 will be ignored. Current value: lambda_l1=2.5064883433900538\n",
      "[LightGBM] [Warning] lambda_l2 is set=0.7123860086834287, reg_lambda=0.0 will be ignored. Current value: lambda_l2=0.7123860086834287\n",
      "[LightGBM] [Warning] bagging_freq is set=6, subsample_freq=0 will be ignored. Current value: bagging_freq=6\n"
     ]
    },
    {
     "name": "stderr",
     "output_type": "stream",
     "text": [
      "C:\\Users\\Sarkhel\\anaconda3\\lib\\site-packages\\lightgbm\\basic.py:1702: UserWarning: Using categorical_feature in Dataset.\n",
      "  _log_warning('Using categorical_feature in Dataset.')\n",
      "C:\\Users\\Sarkhel\\anaconda3\\lib\\site-packages\\lightgbm\\basic.py:1705: UserWarning: categorical_feature in Dataset is overridden.\n",
      "New categorical_feature is [6, 9, 12]\n",
      "  _log_warning('categorical_feature in Dataset is overridden.\\n'\n",
      "C:\\Users\\Sarkhel\\anaconda3\\lib\\site-packages\\lightgbm\\basic.py:1433: UserWarning: Overriding the parameters from Reference Dataset.\n",
      "  _log_warning('Overriding the parameters from Reference Dataset.')\n",
      "C:\\Users\\Sarkhel\\anaconda3\\lib\\site-packages\\lightgbm\\basic.py:1245: UserWarning: categorical_column in param dict is overridden.\n",
      "  _log_warning('{} in param dict is overridden.'.format(cat_alias))\n"
     ]
    },
    {
     "name": "stdout",
     "output_type": "stream",
     "text": [
      "Training until validation scores don't improve for 2000 rounds\n"
     ]
    },
    {
     "name": "stderr",
     "output_type": "stream",
     "text": [
      "\u001b[32m[I 2022-01-20 19:59:30,142]\u001b[0m Trial 36 finished with value: 0.5652862730830674 and parameters: {'learning_rate': 0.06041085074790041, 'lambda_l1': 2.5064883433900538, 'lambda_l2': 0.7123860086834287, 'num_leaves': 121, 'feature_fraction': 0.47758462178742894, 'bagging_fraction': 0.5632505999576727, 'bagging_freq': 6, 'min_child_samples': 94}. Best is trial 32 with value: 0.5826496679892398.\u001b[0m\n"
     ]
    },
    {
     "name": "stdout",
     "output_type": "stream",
     "text": [
      "Did not meet early stopping. Best iteration is:\n",
      "[40]\tvalid_0's auc: 0.565286\n",
      "[LightGBM] [Warning] Unknown parameter: nestimators\n",
      "[LightGBM] [Warning] feature_fraction is set=0.5387159369623544, colsample_bytree=1.0 will be ignored. Current value: feature_fraction=0.5387159369623544\n",
      "[LightGBM] [Warning] bagging_fraction is set=0.48275306655532063, subsample=1.0 will be ignored. Current value: bagging_fraction=0.48275306655532063\n",
      "[LightGBM] [Warning] lambda_l1 is set=1.4148877097287793e-06, reg_alpha=0.0 will be ignored. Current value: lambda_l1=1.4148877097287793e-06\n",
      "[LightGBM] [Warning] lambda_l2 is set=0.0017226847564482362, reg_lambda=0.0 will be ignored. Current value: lambda_l2=0.0017226847564482362\n",
      "[LightGBM] [Warning] bagging_freq is set=7, subsample_freq=0 will be ignored. Current value: bagging_freq=7\n"
     ]
    },
    {
     "name": "stderr",
     "output_type": "stream",
     "text": [
      "C:\\Users\\Sarkhel\\anaconda3\\lib\\site-packages\\lightgbm\\basic.py:1702: UserWarning: Using categorical_feature in Dataset.\n",
      "  _log_warning('Using categorical_feature in Dataset.')\n",
      "C:\\Users\\Sarkhel\\anaconda3\\lib\\site-packages\\lightgbm\\basic.py:1705: UserWarning: categorical_feature in Dataset is overridden.\n",
      "New categorical_feature is [6, 9, 12]\n",
      "  _log_warning('categorical_feature in Dataset is overridden.\\n'\n",
      "C:\\Users\\Sarkhel\\anaconda3\\lib\\site-packages\\lightgbm\\basic.py:1433: UserWarning: Overriding the parameters from Reference Dataset.\n",
      "  _log_warning('Overriding the parameters from Reference Dataset.')\n",
      "C:\\Users\\Sarkhel\\anaconda3\\lib\\site-packages\\lightgbm\\basic.py:1245: UserWarning: categorical_column in param dict is overridden.\n",
      "  _log_warning('{} in param dict is overridden.'.format(cat_alias))\n"
     ]
    },
    {
     "name": "stdout",
     "output_type": "stream",
     "text": [
      "Training until validation scores don't improve for 2000 rounds\n"
     ]
    },
    {
     "name": "stderr",
     "output_type": "stream",
     "text": [
      "\u001b[32m[I 2022-01-20 19:59:31,141]\u001b[0m Trial 37 finished with value: 0.5809417753824337 and parameters: {'learning_rate': 0.02402061420481255, 'lambda_l1': 1.4148877097287793e-06, 'lambda_l2': 0.0017226847564482362, 'num_leaves': 30, 'feature_fraction': 0.5387159369623544, 'bagging_fraction': 0.48275306655532063, 'bagging_freq': 7, 'min_child_samples': 49}. Best is trial 32 with value: 0.5826496679892398.\u001b[0m\n"
     ]
    },
    {
     "name": "stdout",
     "output_type": "stream",
     "text": [
      "Did not meet early stopping. Best iteration is:\n",
      "[84]\tvalid_0's auc: 0.580942\n",
      "[LightGBM] [Warning] Unknown parameter: nestimators\n",
      "[LightGBM] [Warning] feature_fraction is set=0.711303174016629, colsample_bytree=1.0 will be ignored. Current value: feature_fraction=0.711303174016629\n",
      "[LightGBM] [Warning] bagging_fraction is set=0.48471597253503385, subsample=1.0 will be ignored. Current value: bagging_fraction=0.48471597253503385\n",
      "[LightGBM] [Warning] lambda_l1 is set=1.1249806838633474e-06, reg_alpha=0.0 will be ignored. Current value: lambda_l1=1.1249806838633474e-06\n",
      "[LightGBM] [Warning] lambda_l2 is set=0.01547563408919193, reg_lambda=0.0 will be ignored. Current value: lambda_l2=0.01547563408919193\n",
      "[LightGBM] [Warning] bagging_freq is set=5, subsample_freq=0 will be ignored. Current value: bagging_freq=5\n"
     ]
    },
    {
     "name": "stderr",
     "output_type": "stream",
     "text": [
      "C:\\Users\\Sarkhel\\anaconda3\\lib\\site-packages\\lightgbm\\basic.py:1702: UserWarning: Using categorical_feature in Dataset.\n",
      "  _log_warning('Using categorical_feature in Dataset.')\n",
      "C:\\Users\\Sarkhel\\anaconda3\\lib\\site-packages\\lightgbm\\basic.py:1705: UserWarning: categorical_feature in Dataset is overridden.\n",
      "New categorical_feature is [6, 9, 12]\n",
      "  _log_warning('categorical_feature in Dataset is overridden.\\n'\n",
      "C:\\Users\\Sarkhel\\anaconda3\\lib\\site-packages\\lightgbm\\basic.py:1433: UserWarning: Overriding the parameters from Reference Dataset.\n",
      "  _log_warning('Overriding the parameters from Reference Dataset.')\n",
      "C:\\Users\\Sarkhel\\anaconda3\\lib\\site-packages\\lightgbm\\basic.py:1245: UserWarning: categorical_column in param dict is overridden.\n",
      "  _log_warning('{} in param dict is overridden.'.format(cat_alias))\n"
     ]
    },
    {
     "name": "stdout",
     "output_type": "stream",
     "text": [
      "Training until validation scores don't improve for 2000 rounds\n"
     ]
    },
    {
     "name": "stderr",
     "output_type": "stream",
     "text": [
      "\u001b[32m[I 2022-01-20 19:59:32,174]\u001b[0m Trial 38 finished with value: 0.5815779167974531 and parameters: {'learning_rate': 0.025213648909858822, 'lambda_l1': 1.1249806838633474e-06, 'lambda_l2': 0.01547563408919193, 'num_leaves': 30, 'feature_fraction': 0.711303174016629, 'bagging_fraction': 0.48471597253503385, 'bagging_freq': 5, 'min_child_samples': 49}. Best is trial 32 with value: 0.5826496679892398.\u001b[0m\n"
     ]
    },
    {
     "name": "stdout",
     "output_type": "stream",
     "text": [
      "Did not meet early stopping. Best iteration is:\n",
      "[99]\tvalid_0's auc: 0.581578\n",
      "[LightGBM] [Warning] Unknown parameter: nestimators\n",
      "[LightGBM] [Warning] feature_fraction is set=0.7126518690150326, colsample_bytree=1.0 will be ignored. Current value: feature_fraction=0.7126518690150326\n",
      "[LightGBM] [Warning] bagging_fraction is set=0.4869031825341953, subsample=1.0 will be ignored. Current value: bagging_fraction=0.4869031825341953\n",
      "[LightGBM] [Warning] lambda_l1 is set=6.458529538187768e-07, reg_alpha=0.0 will be ignored. Current value: lambda_l1=6.458529538187768e-07\n",
      "[LightGBM] [Warning] lambda_l2 is set=0.016986776310721513, reg_lambda=0.0 will be ignored. Current value: lambda_l2=0.016986776310721513\n",
      "[LightGBM] [Warning] bagging_freq is set=4, subsample_freq=0 will be ignored. Current value: bagging_freq=4\n"
     ]
    },
    {
     "name": "stderr",
     "output_type": "stream",
     "text": [
      "C:\\Users\\Sarkhel\\anaconda3\\lib\\site-packages\\lightgbm\\basic.py:1702: UserWarning: Using categorical_feature in Dataset.\n",
      "  _log_warning('Using categorical_feature in Dataset.')\n",
      "C:\\Users\\Sarkhel\\anaconda3\\lib\\site-packages\\lightgbm\\basic.py:1705: UserWarning: categorical_feature in Dataset is overridden.\n",
      "New categorical_feature is [6, 9, 12]\n",
      "  _log_warning('categorical_feature in Dataset is overridden.\\n'\n",
      "C:\\Users\\Sarkhel\\anaconda3\\lib\\site-packages\\lightgbm\\basic.py:1433: UserWarning: Overriding the parameters from Reference Dataset.\n",
      "  _log_warning('Overriding the parameters from Reference Dataset.')\n",
      "C:\\Users\\Sarkhel\\anaconda3\\lib\\site-packages\\lightgbm\\basic.py:1245: UserWarning: categorical_column in param dict is overridden.\n",
      "  _log_warning('{} in param dict is overridden.'.format(cat_alias))\n"
     ]
    },
    {
     "name": "stdout",
     "output_type": "stream",
     "text": [
      "Training until validation scores don't improve for 2000 rounds\n"
     ]
    },
    {
     "name": "stderr",
     "output_type": "stream",
     "text": [
      "\u001b[32m[I 2022-01-20 19:59:33,827]\u001b[0m Trial 39 finished with value: 0.5772067049359122 and parameters: {'learning_rate': 0.01515738706842059, 'lambda_l1': 6.458529538187768e-07, 'lambda_l2': 0.016986776310721513, 'num_leaves': 62, 'feature_fraction': 0.7126518690150326, 'bagging_fraction': 0.4869031825341953, 'bagging_freq': 4, 'min_child_samples': 38}. Best is trial 32 with value: 0.5826496679892398.\u001b[0m\n"
     ]
    },
    {
     "name": "stdout",
     "output_type": "stream",
     "text": [
      "Did not meet early stopping. Best iteration is:\n",
      "[53]\tvalid_0's auc: 0.577207\n",
      "[LightGBM] [Warning] Unknown parameter: nestimators\n",
      "[LightGBM] [Warning] feature_fraction is set=0.6751365666746323, colsample_bytree=1.0 will be ignored. Current value: feature_fraction=0.6751365666746323\n",
      "[LightGBM] [Warning] bagging_fraction is set=0.48785450091197846, subsample=1.0 will be ignored. Current value: bagging_fraction=0.48785450091197846\n",
      "[LightGBM] [Warning] lambda_l1 is set=1.2435239931849065e-07, reg_alpha=0.0 will be ignored. Current value: lambda_l1=1.2435239931849065e-07\n",
      "[LightGBM] [Warning] lambda_l2 is set=0.003664026995535961, reg_lambda=0.0 will be ignored. Current value: lambda_l2=0.003664026995535961\n",
      "[LightGBM] [Warning] bagging_freq is set=5, subsample_freq=0 will be ignored. Current value: bagging_freq=5\n"
     ]
    },
    {
     "name": "stderr",
     "output_type": "stream",
     "text": [
      "C:\\Users\\Sarkhel\\anaconda3\\lib\\site-packages\\lightgbm\\basic.py:1702: UserWarning: Using categorical_feature in Dataset.\n",
      "  _log_warning('Using categorical_feature in Dataset.')\n",
      "C:\\Users\\Sarkhel\\anaconda3\\lib\\site-packages\\lightgbm\\basic.py:1705: UserWarning: categorical_feature in Dataset is overridden.\n",
      "New categorical_feature is [6, 9, 12]\n",
      "  _log_warning('categorical_feature in Dataset is overridden.\\n'\n",
      "C:\\Users\\Sarkhel\\anaconda3\\lib\\site-packages\\lightgbm\\basic.py:1433: UserWarning: Overriding the parameters from Reference Dataset.\n",
      "  _log_warning('Overriding the parameters from Reference Dataset.')\n",
      "C:\\Users\\Sarkhel\\anaconda3\\lib\\site-packages\\lightgbm\\basic.py:1245: UserWarning: categorical_column in param dict is overridden.\n",
      "  _log_warning('{} in param dict is overridden.'.format(cat_alias))\n"
     ]
    },
    {
     "name": "stdout",
     "output_type": "stream",
     "text": [
      "Training until validation scores don't improve for 2000 rounds\n"
     ]
    },
    {
     "name": "stderr",
     "output_type": "stream",
     "text": [
      "\u001b[32m[I 2022-01-20 19:59:34,802]\u001b[0m Trial 40 finished with value: 0.579060880379774 and parameters: {'learning_rate': 0.025131792031603515, 'lambda_l1': 1.2435239931849065e-07, 'lambda_l2': 0.003664026995535961, 'num_leaves': 26, 'feature_fraction': 0.6751365666746323, 'bagging_fraction': 0.48785450091197846, 'bagging_freq': 5, 'min_child_samples': 48}. Best is trial 32 with value: 0.5826496679892398.\u001b[0m\n"
     ]
    },
    {
     "name": "stdout",
     "output_type": "stream",
     "text": [
      "Did not meet early stopping. Best iteration is:\n",
      "[62]\tvalid_0's auc: 0.579061\n",
      "[LightGBM] [Warning] Unknown parameter: nestimators\n",
      "[LightGBM] [Warning] feature_fraction is set=0.720646985692015, colsample_bytree=1.0 will be ignored. Current value: feature_fraction=0.720646985692015\n",
      "[LightGBM] [Warning] bagging_fraction is set=0.4311541814197007, subsample=1.0 will be ignored. Current value: bagging_fraction=0.4311541814197007\n",
      "[LightGBM] [Warning] lambda_l1 is set=1.3072129346710772e-06, reg_alpha=0.0 will be ignored. Current value: lambda_l1=1.3072129346710772e-06\n",
      "[LightGBM] [Warning] lambda_l2 is set=0.010749782374893033, reg_lambda=0.0 will be ignored. Current value: lambda_l2=0.010749782374893033\n",
      "[LightGBM] [Warning] bagging_freq is set=6, subsample_freq=0 will be ignored. Current value: bagging_freq=6\n"
     ]
    },
    {
     "name": "stderr",
     "output_type": "stream",
     "text": [
      "C:\\Users\\Sarkhel\\anaconda3\\lib\\site-packages\\lightgbm\\basic.py:1702: UserWarning: Using categorical_feature in Dataset.\n",
      "  _log_warning('Using categorical_feature in Dataset.')\n",
      "C:\\Users\\Sarkhel\\anaconda3\\lib\\site-packages\\lightgbm\\basic.py:1705: UserWarning: categorical_feature in Dataset is overridden.\n",
      "New categorical_feature is [6, 9, 12]\n",
      "  _log_warning('categorical_feature in Dataset is overridden.\\n'\n",
      "C:\\Users\\Sarkhel\\anaconda3\\lib\\site-packages\\lightgbm\\basic.py:1433: UserWarning: Overriding the parameters from Reference Dataset.\n",
      "  _log_warning('Overriding the parameters from Reference Dataset.')\n",
      "C:\\Users\\Sarkhel\\anaconda3\\lib\\site-packages\\lightgbm\\basic.py:1245: UserWarning: categorical_column in param dict is overridden.\n",
      "  _log_warning('{} in param dict is overridden.'.format(cat_alias))\n"
     ]
    },
    {
     "name": "stdout",
     "output_type": "stream",
     "text": [
      "Training until validation scores don't improve for 2000 rounds\n"
     ]
    },
    {
     "name": "stderr",
     "output_type": "stream",
     "text": [
      "\u001b[32m[I 2022-01-20 19:59:36,035]\u001b[0m Trial 41 finished with value: 0.5812284033768125 and parameters: {'learning_rate': 0.02113657930863095, 'lambda_l1': 1.3072129346710772e-06, 'lambda_l2': 0.010749782374893033, 'num_leaves': 40, 'feature_fraction': 0.720646985692015, 'bagging_fraction': 0.4311541814197007, 'bagging_freq': 6, 'min_child_samples': 36}. Best is trial 32 with value: 0.5826496679892398.\u001b[0m\n"
     ]
    },
    {
     "name": "stdout",
     "output_type": "stream",
     "text": [
      "Did not meet early stopping. Best iteration is:\n",
      "[81]\tvalid_0's auc: 0.581228\n",
      "[LightGBM] [Warning] Unknown parameter: nestimators\n",
      "[LightGBM] [Warning] feature_fraction is set=0.7486039180636312, colsample_bytree=1.0 will be ignored. Current value: feature_fraction=0.7486039180636312\n",
      "[LightGBM] [Warning] bagging_fraction is set=0.4204675095216922, subsample=1.0 will be ignored. Current value: bagging_fraction=0.4204675095216922\n",
      "[LightGBM] [Warning] lambda_l1 is set=2.4160899101718406e-06, reg_alpha=0.0 will be ignored. Current value: lambda_l1=2.4160899101718406e-06\n",
      "[LightGBM] [Warning] lambda_l2 is set=0.016107735493803448, reg_lambda=0.0 will be ignored. Current value: lambda_l2=0.016107735493803448\n",
      "[LightGBM] [Warning] bagging_freq is set=5, subsample_freq=0 will be ignored. Current value: bagging_freq=5\n"
     ]
    },
    {
     "name": "stderr",
     "output_type": "stream",
     "text": [
      "C:\\Users\\Sarkhel\\anaconda3\\lib\\site-packages\\lightgbm\\basic.py:1702: UserWarning: Using categorical_feature in Dataset.\n",
      "  _log_warning('Using categorical_feature in Dataset.')\n",
      "C:\\Users\\Sarkhel\\anaconda3\\lib\\site-packages\\lightgbm\\basic.py:1705: UserWarning: categorical_feature in Dataset is overridden.\n",
      "New categorical_feature is [6, 9, 12]\n",
      "  _log_warning('categorical_feature in Dataset is overridden.\\n'\n",
      "C:\\Users\\Sarkhel\\anaconda3\\lib\\site-packages\\lightgbm\\basic.py:1433: UserWarning: Overriding the parameters from Reference Dataset.\n",
      "  _log_warning('Overriding the parameters from Reference Dataset.')\n",
      "C:\\Users\\Sarkhel\\anaconda3\\lib\\site-packages\\lightgbm\\basic.py:1245: UserWarning: categorical_column in param dict is overridden.\n",
      "  _log_warning('{} in param dict is overridden.'.format(cat_alias))\n"
     ]
    },
    {
     "name": "stdout",
     "output_type": "stream",
     "text": [
      "Training until validation scores don't improve for 2000 rounds\n"
     ]
    },
    {
     "name": "stderr",
     "output_type": "stream",
     "text": [
      "\u001b[32m[I 2022-01-20 19:59:38,033]\u001b[0m Trial 42 finished with value: 0.5785100256372817 and parameters: {'learning_rate': 0.021072945501420633, 'lambda_l1': 2.4160899101718406e-06, 'lambda_l2': 0.016107735493803448, 'num_leaves': 87, 'feature_fraction': 0.7486039180636312, 'bagging_fraction': 0.4204675095216922, 'bagging_freq': 5, 'min_child_samples': 35}. Best is trial 32 with value: 0.5826496679892398.\u001b[0m\n"
     ]
    },
    {
     "name": "stdout",
     "output_type": "stream",
     "text": [
      "Did not meet early stopping. Best iteration is:\n",
      "[63]\tvalid_0's auc: 0.57851\n",
      "[LightGBM] [Warning] Unknown parameter: nestimators\n",
      "[LightGBM] [Warning] feature_fraction is set=0.6519758365256296, colsample_bytree=1.0 will be ignored. Current value: feature_fraction=0.6519758365256296\n",
      "[LightGBM] [Warning] bagging_fraction is set=0.46640570955680516, subsample=1.0 will be ignored. Current value: bagging_fraction=0.46640570955680516\n",
      "[LightGBM] [Warning] lambda_l1 is set=1.0202191264320615e-06, reg_alpha=0.0 will be ignored. Current value: lambda_l1=1.0202191264320615e-06\n",
      "[LightGBM] [Warning] lambda_l2 is set=0.04551295796200622, reg_lambda=0.0 will be ignored. Current value: lambda_l2=0.04551295796200622\n",
      "[LightGBM] [Warning] bagging_freq is set=6, subsample_freq=0 will be ignored. Current value: bagging_freq=6\n"
     ]
    },
    {
     "name": "stderr",
     "output_type": "stream",
     "text": [
      "C:\\Users\\Sarkhel\\anaconda3\\lib\\site-packages\\lightgbm\\basic.py:1702: UserWarning: Using categorical_feature in Dataset.\n",
      "  _log_warning('Using categorical_feature in Dataset.')\n",
      "C:\\Users\\Sarkhel\\anaconda3\\lib\\site-packages\\lightgbm\\basic.py:1705: UserWarning: categorical_feature in Dataset is overridden.\n",
      "New categorical_feature is [6, 9, 12]\n",
      "  _log_warning('categorical_feature in Dataset is overridden.\\n'\n",
      "C:\\Users\\Sarkhel\\anaconda3\\lib\\site-packages\\lightgbm\\basic.py:1433: UserWarning: Overriding the parameters from Reference Dataset.\n",
      "  _log_warning('Overriding the parameters from Reference Dataset.')\n",
      "C:\\Users\\Sarkhel\\anaconda3\\lib\\site-packages\\lightgbm\\basic.py:1245: UserWarning: categorical_column in param dict is overridden.\n",
      "  _log_warning('{} in param dict is overridden.'.format(cat_alias))\n"
     ]
    },
    {
     "name": "stdout",
     "output_type": "stream",
     "text": [
      "Training until validation scores don't improve for 2000 rounds\n"
     ]
    },
    {
     "name": "stderr",
     "output_type": "stream",
     "text": [
      "\u001b[32m[I 2022-01-20 19:59:39,477]\u001b[0m Trial 43 finished with value: 0.5785359355124798 and parameters: {'learning_rate': 0.017519199350611643, 'lambda_l1': 1.0202191264320615e-06, 'lambda_l2': 0.04551295796200622, 'num_leaves': 52, 'feature_fraction': 0.6519758365256296, 'bagging_fraction': 0.46640570955680516, 'bagging_freq': 6, 'min_child_samples': 33}. Best is trial 32 with value: 0.5826496679892398.\u001b[0m\n"
     ]
    },
    {
     "name": "stdout",
     "output_type": "stream",
     "text": [
      "Did not meet early stopping. Best iteration is:\n",
      "[81]\tvalid_0's auc: 0.578536\n",
      "[LightGBM] [Warning] Unknown parameter: nestimators\n",
      "[LightGBM] [Warning] feature_fraction is set=0.7143477931790275, colsample_bytree=1.0 will be ignored. Current value: feature_fraction=0.7143477931790275\n",
      "[LightGBM] [Warning] bagging_fraction is set=0.5398578260012186, subsample=1.0 will be ignored. Current value: bagging_fraction=0.5398578260012186\n",
      "[LightGBM] [Warning] lambda_l1 is set=8.337524193836008e-08, reg_alpha=0.0 will be ignored. Current value: lambda_l1=8.337524193836008e-08\n",
      "[LightGBM] [Warning] lambda_l2 is set=1.9280345446628486, reg_lambda=0.0 will be ignored. Current value: lambda_l2=1.9280345446628486\n",
      "[LightGBM] [Warning] bagging_freq is set=5, subsample_freq=0 will be ignored. Current value: bagging_freq=5\n"
     ]
    },
    {
     "name": "stderr",
     "output_type": "stream",
     "text": [
      "C:\\Users\\Sarkhel\\anaconda3\\lib\\site-packages\\lightgbm\\basic.py:1702: UserWarning: Using categorical_feature in Dataset.\n",
      "  _log_warning('Using categorical_feature in Dataset.')\n",
      "C:\\Users\\Sarkhel\\anaconda3\\lib\\site-packages\\lightgbm\\basic.py:1705: UserWarning: categorical_feature in Dataset is overridden.\n",
      "New categorical_feature is [6, 9, 12]\n",
      "  _log_warning('categorical_feature in Dataset is overridden.\\n'\n",
      "C:\\Users\\Sarkhel\\anaconda3\\lib\\site-packages\\lightgbm\\basic.py:1433: UserWarning: Overriding the parameters from Reference Dataset.\n",
      "  _log_warning('Overriding the parameters from Reference Dataset.')\n",
      "C:\\Users\\Sarkhel\\anaconda3\\lib\\site-packages\\lightgbm\\basic.py:1245: UserWarning: categorical_column in param dict is overridden.\n",
      "  _log_warning('{} in param dict is overridden.'.format(cat_alias))\n"
     ]
    },
    {
     "name": "stdout",
     "output_type": "stream",
     "text": [
      "Training until validation scores don't improve for 2000 rounds\n"
     ]
    },
    {
     "name": "stderr",
     "output_type": "stream",
     "text": [
      "\u001b[32m[I 2022-01-20 19:59:40,620]\u001b[0m Trial 44 finished with value: 0.5772343691255768 and parameters: {'learning_rate': 0.010840581571183025, 'lambda_l1': 8.337524193836008e-08, 'lambda_l2': 1.9280345446628486, 'num_leaves': 33, 'feature_fraction': 0.7143477931790275, 'bagging_fraction': 0.5398578260012186, 'bagging_freq': 5, 'min_child_samples': 51}. Best is trial 32 with value: 0.5826496679892398.\u001b[0m\n"
     ]
    },
    {
     "name": "stdout",
     "output_type": "stream",
     "text": [
      "Did not meet early stopping. Best iteration is:\n",
      "[35]\tvalid_0's auc: 0.577234\n",
      "[LightGBM] [Warning] Unknown parameter: nestimators\n",
      "[LightGBM] [Warning] feature_fraction is set=0.8091088538909164, colsample_bytree=1.0 will be ignored. Current value: feature_fraction=0.8091088538909164\n",
      "[LightGBM] [Warning] bagging_fraction is set=0.4034526104004936, subsample=1.0 will be ignored. Current value: bagging_fraction=0.4034526104004936\n",
      "[LightGBM] [Warning] lambda_l1 is set=0.00014077103005098707, reg_alpha=0.0 will be ignored. Current value: lambda_l1=0.00014077103005098707\n",
      "[LightGBM] [Warning] lambda_l2 is set=0.008769127171936114, reg_lambda=0.0 will be ignored. Current value: lambda_l2=0.008769127171936114\n",
      "[LightGBM] [Warning] bagging_freq is set=7, subsample_freq=0 will be ignored. Current value: bagging_freq=7\n"
     ]
    },
    {
     "name": "stderr",
     "output_type": "stream",
     "text": [
      "C:\\Users\\Sarkhel\\anaconda3\\lib\\site-packages\\lightgbm\\basic.py:1702: UserWarning: Using categorical_feature in Dataset.\n",
      "  _log_warning('Using categorical_feature in Dataset.')\n",
      "C:\\Users\\Sarkhel\\anaconda3\\lib\\site-packages\\lightgbm\\basic.py:1705: UserWarning: categorical_feature in Dataset is overridden.\n",
      "New categorical_feature is [6, 9, 12]\n",
      "  _log_warning('categorical_feature in Dataset is overridden.\\n'\n",
      "C:\\Users\\Sarkhel\\anaconda3\\lib\\site-packages\\lightgbm\\basic.py:1433: UserWarning: Overriding the parameters from Reference Dataset.\n",
      "  _log_warning('Overriding the parameters from Reference Dataset.')\n",
      "C:\\Users\\Sarkhel\\anaconda3\\lib\\site-packages\\lightgbm\\basic.py:1245: UserWarning: categorical_column in param dict is overridden.\n",
      "  _log_warning('{} in param dict is overridden.'.format(cat_alias))\n"
     ]
    },
    {
     "name": "stdout",
     "output_type": "stream",
     "text": [
      "Training until validation scores don't improve for 2000 rounds\n"
     ]
    },
    {
     "name": "stderr",
     "output_type": "stream",
     "text": [
      "\u001b[32m[I 2022-01-20 19:59:42,466]\u001b[0m Trial 45 finished with value: 0.5750529465600727 and parameters: {'learning_rate': 0.012785238624954297, 'lambda_l1': 0.00014077103005098707, 'lambda_l2': 0.008769127171936114, 'num_leaves': 72, 'feature_fraction': 0.8091088538909164, 'bagging_fraction': 0.4034526104004936, 'bagging_freq': 7, 'min_child_samples': 58}. Best is trial 32 with value: 0.5826496679892398.\u001b[0m\n"
     ]
    },
    {
     "name": "stdout",
     "output_type": "stream",
     "text": [
      "Did not meet early stopping. Best iteration is:\n",
      "[74]\tvalid_0's auc: 0.575053\n",
      "[LightGBM] [Warning] Unknown parameter: nestimators\n",
      "[LightGBM] [Warning] feature_fraction is set=0.7770255611019753, colsample_bytree=1.0 will be ignored. Current value: feature_fraction=0.7770255611019753\n",
      "[LightGBM] [Warning] bagging_fraction is set=0.4328423414457299, subsample=1.0 will be ignored. Current value: bagging_fraction=0.4328423414457299\n",
      "[LightGBM] [Warning] lambda_l1 is set=2.7327968418265922e-05, reg_alpha=0.0 will be ignored. Current value: lambda_l1=2.7327968418265922e-05\n",
      "[LightGBM] [Warning] lambda_l2 is set=0.1133808934728562, reg_lambda=0.0 will be ignored. Current value: lambda_l2=0.1133808934728562\n",
      "[LightGBM] [Warning] bagging_freq is set=4, subsample_freq=0 will be ignored. Current value: bagging_freq=4\n"
     ]
    },
    {
     "name": "stderr",
     "output_type": "stream",
     "text": [
      "C:\\Users\\Sarkhel\\anaconda3\\lib\\site-packages\\lightgbm\\basic.py:1702: UserWarning: Using categorical_feature in Dataset.\n",
      "  _log_warning('Using categorical_feature in Dataset.')\n",
      "C:\\Users\\Sarkhel\\anaconda3\\lib\\site-packages\\lightgbm\\basic.py:1705: UserWarning: categorical_feature in Dataset is overridden.\n",
      "New categorical_feature is [6, 9, 12]\n",
      "  _log_warning('categorical_feature in Dataset is overridden.\\n'\n",
      "C:\\Users\\Sarkhel\\anaconda3\\lib\\site-packages\\lightgbm\\basic.py:1433: UserWarning: Overriding the parameters from Reference Dataset.\n",
      "  _log_warning('Overriding the parameters from Reference Dataset.')\n",
      "C:\\Users\\Sarkhel\\anaconda3\\lib\\site-packages\\lightgbm\\basic.py:1245: UserWarning: categorical_column in param dict is overridden.\n",
      "  _log_warning('{} in param dict is overridden.'.format(cat_alias))\n"
     ]
    },
    {
     "name": "stdout",
     "output_type": "stream",
     "text": [
      "Training until validation scores don't improve for 2000 rounds\n"
     ]
    },
    {
     "name": "stderr",
     "output_type": "stream",
     "text": [
      "\u001b[32m[I 2022-01-20 19:59:43,283]\u001b[0m Trial 46 finished with value: 0.5759994666884023 and parameters: {'learning_rate': 0.023730694445540407, 'lambda_l1': 2.7327968418265922e-05, 'lambda_l2': 0.1133808934728562, 'num_leaves': 17, 'feature_fraction': 0.7770255611019753, 'bagging_fraction': 0.4328423414457299, 'bagging_freq': 4, 'min_child_samples': 29}. Best is trial 32 with value: 0.5826496679892398.\u001b[0m\n"
     ]
    },
    {
     "name": "stdout",
     "output_type": "stream",
     "text": [
      "Did not meet early stopping. Best iteration is:\n",
      "[79]\tvalid_0's auc: 0.575999\n",
      "[LightGBM] [Warning] Unknown parameter: nestimators\n",
      "[LightGBM] [Warning] feature_fraction is set=0.8742452092014625, colsample_bytree=1.0 will be ignored. Current value: feature_fraction=0.8742452092014625\n",
      "[LightGBM] [Warning] bagging_fraction is set=0.46880393802206427, subsample=1.0 will be ignored. Current value: bagging_fraction=0.46880393802206427\n",
      "[LightGBM] [Warning] lambda_l1 is set=1.3501835223597776e-06, reg_alpha=0.0 will be ignored. Current value: lambda_l1=1.3501835223597776e-06\n",
      "[LightGBM] [Warning] lambda_l2 is set=0.002012830801533414, reg_lambda=0.0 will be ignored. Current value: lambda_l2=0.002012830801533414\n",
      "[LightGBM] [Warning] bagging_freq is set=2, subsample_freq=0 will be ignored. Current value: bagging_freq=2\n"
     ]
    },
    {
     "name": "stderr",
     "output_type": "stream",
     "text": [
      "C:\\Users\\Sarkhel\\anaconda3\\lib\\site-packages\\lightgbm\\basic.py:1702: UserWarning: Using categorical_feature in Dataset.\n",
      "  _log_warning('Using categorical_feature in Dataset.')\n",
      "C:\\Users\\Sarkhel\\anaconda3\\lib\\site-packages\\lightgbm\\basic.py:1705: UserWarning: categorical_feature in Dataset is overridden.\n",
      "New categorical_feature is [6, 9, 12]\n",
      "  _log_warning('categorical_feature in Dataset is overridden.\\n'\n",
      "C:\\Users\\Sarkhel\\anaconda3\\lib\\site-packages\\lightgbm\\basic.py:1433: UserWarning: Overriding the parameters from Reference Dataset.\n",
      "  _log_warning('Overriding the parameters from Reference Dataset.')\n",
      "C:\\Users\\Sarkhel\\anaconda3\\lib\\site-packages\\lightgbm\\basic.py:1245: UserWarning: categorical_column in param dict is overridden.\n",
      "  _log_warning('{} in param dict is overridden.'.format(cat_alias))\n"
     ]
    },
    {
     "name": "stdout",
     "output_type": "stream",
     "text": [
      "Training until validation scores don't improve for 2000 rounds\n"
     ]
    },
    {
     "name": "stderr",
     "output_type": "stream",
     "text": [
      "\u001b[32m[I 2022-01-20 19:59:43,867]\u001b[0m Trial 47 finished with value: 0.5555981389152561 and parameters: {'learning_rate': 0.019609539227135948, 'lambda_l1': 1.3501835223597776e-06, 'lambda_l2': 0.002012830801533414, 'num_leaves': 2, 'feature_fraction': 0.8742452092014625, 'bagging_fraction': 0.46880393802206427, 'bagging_freq': 2, 'min_child_samples': 54}. Best is trial 32 with value: 0.5826496679892398.\u001b[0m\n"
     ]
    },
    {
     "name": "stdout",
     "output_type": "stream",
     "text": [
      "Did not meet early stopping. Best iteration is:\n",
      "[93]\tvalid_0's auc: 0.555598\n",
      "[LightGBM] [Warning] Unknown parameter: nestimators\n",
      "[LightGBM] [Warning] feature_fraction is set=0.5576429958031486, colsample_bytree=1.0 will be ignored. Current value: feature_fraction=0.5576429958031486\n",
      "[LightGBM] [Warning] bagging_fraction is set=0.49977916993912613, subsample=1.0 will be ignored. Current value: bagging_fraction=0.49977916993912613\n",
      "[LightGBM] [Warning] lambda_l1 is set=2.109396566340336e-07, reg_alpha=0.0 will be ignored. Current value: lambda_l1=2.109396566340336e-07\n",
      "[LightGBM] [Warning] lambda_l2 is set=0.0005720471360423423, reg_lambda=0.0 will be ignored. Current value: lambda_l2=0.0005720471360423423\n",
      "[LightGBM] [Warning] bagging_freq is set=6, subsample_freq=0 will be ignored. Current value: bagging_freq=6\n"
     ]
    },
    {
     "name": "stderr",
     "output_type": "stream",
     "text": [
      "C:\\Users\\Sarkhel\\anaconda3\\lib\\site-packages\\lightgbm\\basic.py:1702: UserWarning: Using categorical_feature in Dataset.\n",
      "  _log_warning('Using categorical_feature in Dataset.')\n",
      "C:\\Users\\Sarkhel\\anaconda3\\lib\\site-packages\\lightgbm\\basic.py:1705: UserWarning: categorical_feature in Dataset is overridden.\n",
      "New categorical_feature is [6, 9, 12]\n",
      "  _log_warning('categorical_feature in Dataset is overridden.\\n'\n",
      "C:\\Users\\Sarkhel\\anaconda3\\lib\\site-packages\\lightgbm\\basic.py:1433: UserWarning: Overriding the parameters from Reference Dataset.\n",
      "  _log_warning('Overriding the parameters from Reference Dataset.')\n",
      "C:\\Users\\Sarkhel\\anaconda3\\lib\\site-packages\\lightgbm\\basic.py:1245: UserWarning: categorical_column in param dict is overridden.\n",
      "  _log_warning('{} in param dict is overridden.'.format(cat_alias))\n"
     ]
    },
    {
     "name": "stdout",
     "output_type": "stream",
     "text": [
      "Training until validation scores don't improve for 2000 rounds\n"
     ]
    },
    {
     "name": "stderr",
     "output_type": "stream",
     "text": [
      "\u001b[32m[I 2022-01-20 19:59:45,259]\u001b[0m Trial 48 finished with value: 0.5792692389594918 and parameters: {'learning_rate': 0.02748369906365349, 'lambda_l1': 2.109396566340336e-07, 'lambda_l2': 0.0005720471360423423, 'num_leaves': 56, 'feature_fraction': 0.5576429958031486, 'bagging_fraction': 0.49977916993912613, 'bagging_freq': 6, 'min_child_samples': 42}. Best is trial 32 with value: 0.5826496679892398.\u001b[0m\n"
     ]
    },
    {
     "name": "stdout",
     "output_type": "stream",
     "text": [
      "Did not meet early stopping. Best iteration is:\n",
      "[74]\tvalid_0's auc: 0.579269\n",
      "[LightGBM] [Warning] Unknown parameter: nestimators\n",
      "[LightGBM] [Warning] feature_fraction is set=0.6930922415253599, colsample_bytree=1.0 will be ignored. Current value: feature_fraction=0.6930922415253599\n",
      "[LightGBM] [Warning] bagging_fraction is set=0.5322647412335176, subsample=1.0 will be ignored. Current value: bagging_fraction=0.5322647412335176\n",
      "[LightGBM] [Warning] lambda_l1 is set=8.25411526390328e-06, reg_alpha=0.0 will be ignored. Current value: lambda_l1=8.25411526390328e-06\n",
      "[LightGBM] [Warning] lambda_l2 is set=0.5065611844094149, reg_lambda=0.0 will be ignored. Current value: lambda_l2=0.5065611844094149\n",
      "[LightGBM] [Warning] bagging_freq is set=7, subsample_freq=0 will be ignored. Current value: bagging_freq=7\n"
     ]
    },
    {
     "name": "stderr",
     "output_type": "stream",
     "text": [
      "C:\\Users\\Sarkhel\\anaconda3\\lib\\site-packages\\lightgbm\\basic.py:1702: UserWarning: Using categorical_feature in Dataset.\n",
      "  _log_warning('Using categorical_feature in Dataset.')\n",
      "C:\\Users\\Sarkhel\\anaconda3\\lib\\site-packages\\lightgbm\\basic.py:1705: UserWarning: categorical_feature in Dataset is overridden.\n",
      "New categorical_feature is [6, 9, 12]\n",
      "  _log_warning('categorical_feature in Dataset is overridden.\\n'\n",
      "C:\\Users\\Sarkhel\\anaconda3\\lib\\site-packages\\lightgbm\\basic.py:1433: UserWarning: Overriding the parameters from Reference Dataset.\n",
      "  _log_warning('Overriding the parameters from Reference Dataset.')\n",
      "C:\\Users\\Sarkhel\\anaconda3\\lib\\site-packages\\lightgbm\\basic.py:1245: UserWarning: categorical_column in param dict is overridden.\n",
      "  _log_warning('{} in param dict is overridden.'.format(cat_alias))\n"
     ]
    },
    {
     "name": "stdout",
     "output_type": "stream",
     "text": [
      "Training until validation scores don't improve for 2000 rounds\n"
     ]
    },
    {
     "name": "stderr",
     "output_type": "stream",
     "text": [
      "\u001b[32m[I 2022-01-20 19:59:45,974]\u001b[0m Trial 49 finished with value: 0.5747933080190254 and parameters: {'learning_rate': 0.03480385626215991, 'lambda_l1': 8.25411526390328e-06, 'lambda_l2': 0.5065611844094149, 'num_leaves': 16, 'feature_fraction': 0.6930922415253599, 'bagging_fraction': 0.5322647412335176, 'bagging_freq': 7, 'min_child_samples': 49}. Best is trial 32 with value: 0.5826496679892398.\u001b[0m\n"
     ]
    },
    {
     "name": "stdout",
     "output_type": "stream",
     "text": [
      "Did not meet early stopping. Best iteration is:\n",
      "[93]\tvalid_0's auc: 0.574793\n",
      "[LightGBM] [Warning] Unknown parameter: nestimators\n",
      "[LightGBM] [Warning] feature_fraction is set=0.7312154420570006, colsample_bytree=1.0 will be ignored. Current value: feature_fraction=0.7312154420570006\n",
      "[LightGBM] [Warning] bagging_fraction is set=0.40057805839375554, subsample=1.0 will be ignored. Current value: bagging_fraction=0.40057805839375554\n",
      "[LightGBM] [Warning] lambda_l1 is set=5.251028480506445e-08, reg_alpha=0.0 will be ignored. Current value: lambda_l1=5.251028480506445e-08\n",
      "[LightGBM] [Warning] lambda_l2 is set=4.575876193418496e-05, reg_lambda=0.0 will be ignored. Current value: lambda_l2=4.575876193418496e-05\n",
      "[LightGBM] [Warning] bagging_freq is set=3, subsample_freq=0 will be ignored. Current value: bagging_freq=3\n"
     ]
    },
    {
     "name": "stderr",
     "output_type": "stream",
     "text": [
      "C:\\Users\\Sarkhel\\anaconda3\\lib\\site-packages\\lightgbm\\basic.py:1702: UserWarning: Using categorical_feature in Dataset.\n",
      "  _log_warning('Using categorical_feature in Dataset.')\n",
      "C:\\Users\\Sarkhel\\anaconda3\\lib\\site-packages\\lightgbm\\basic.py:1705: UserWarning: categorical_feature in Dataset is overridden.\n",
      "New categorical_feature is [6, 9, 12]\n",
      "  _log_warning('categorical_feature in Dataset is overridden.\\n'\n",
      "C:\\Users\\Sarkhel\\anaconda3\\lib\\site-packages\\lightgbm\\basic.py:1433: UserWarning: Overriding the parameters from Reference Dataset.\n",
      "  _log_warning('Overriding the parameters from Reference Dataset.')\n",
      "C:\\Users\\Sarkhel\\anaconda3\\lib\\site-packages\\lightgbm\\basic.py:1245: UserWarning: categorical_column in param dict is overridden.\n",
      "  _log_warning('{} in param dict is overridden.'.format(cat_alias))\n"
     ]
    },
    {
     "name": "stdout",
     "output_type": "stream",
     "text": [
      "Training until validation scores don't improve for 2000 rounds\n"
     ]
    },
    {
     "name": "stderr",
     "output_type": "stream",
     "text": [
      "\u001b[32m[I 2022-01-20 19:59:47,137]\u001b[0m Trial 50 finished with value: 0.5747806229759597 and parameters: {'learning_rate': 0.042513786968075354, 'lambda_l1': 5.251028480506445e-08, 'lambda_l2': 4.575876193418496e-05, 'num_leaves': 36, 'feature_fraction': 0.7312154420570006, 'bagging_fraction': 0.40057805839375554, 'bagging_freq': 3, 'min_child_samples': 59}. Best is trial 32 with value: 0.5826496679892398.\u001b[0m\n"
     ]
    },
    {
     "name": "stdout",
     "output_type": "stream",
     "text": [
      "Did not meet early stopping. Best iteration is:\n",
      "[64]\tvalid_0's auc: 0.574781\n",
      "[LightGBM] [Warning] Unknown parameter: nestimators\n",
      "[LightGBM] [Warning] feature_fraction is set=0.5976624954787824, colsample_bytree=1.0 will be ignored. Current value: feature_fraction=0.5976624954787824\n",
      "[LightGBM] [Warning] bagging_fraction is set=0.43310832985966935, subsample=1.0 will be ignored. Current value: bagging_fraction=0.43310832985966935\n",
      "[LightGBM] [Warning] lambda_l1 is set=0.0019152863838913011, reg_alpha=0.0 will be ignored. Current value: lambda_l1=0.0019152863838913011\n",
      "[LightGBM] [Warning] lambda_l2 is set=0.004105476559585676, reg_lambda=0.0 will be ignored. Current value: lambda_l2=0.004105476559585676\n",
      "[LightGBM] [Warning] bagging_freq is set=6, subsample_freq=0 will be ignored. Current value: bagging_freq=6\n"
     ]
    },
    {
     "name": "stderr",
     "output_type": "stream",
     "text": [
      "C:\\Users\\Sarkhel\\anaconda3\\lib\\site-packages\\lightgbm\\basic.py:1702: UserWarning: Using categorical_feature in Dataset.\n",
      "  _log_warning('Using categorical_feature in Dataset.')\n",
      "C:\\Users\\Sarkhel\\anaconda3\\lib\\site-packages\\lightgbm\\basic.py:1705: UserWarning: categorical_feature in Dataset is overridden.\n",
      "New categorical_feature is [6, 9, 12]\n",
      "  _log_warning('categorical_feature in Dataset is overridden.\\n'\n",
      "C:\\Users\\Sarkhel\\anaconda3\\lib\\site-packages\\lightgbm\\basic.py:1433: UserWarning: Overriding the parameters from Reference Dataset.\n",
      "  _log_warning('Overriding the parameters from Reference Dataset.')\n",
      "C:\\Users\\Sarkhel\\anaconda3\\lib\\site-packages\\lightgbm\\basic.py:1245: UserWarning: categorical_column in param dict is overridden.\n",
      "  _log_warning('{} in param dict is overridden.'.format(cat_alias))\n"
     ]
    },
    {
     "name": "stdout",
     "output_type": "stream",
     "text": [
      "Training until validation scores don't improve for 2000 rounds\n"
     ]
    },
    {
     "name": "stderr",
     "output_type": "stream",
     "text": [
      "\u001b[32m[I 2022-01-20 19:59:48,314]\u001b[0m Trial 51 finished with value: 0.5751571258499316 and parameters: {'learning_rate': 0.028407408116753886, 'lambda_l1': 0.0019152863838913011, 'lambda_l2': 0.004105476559585676, 'num_leaves': 43, 'feature_fraction': 0.5976624954787824, 'bagging_fraction': 0.43310832985966935, 'bagging_freq': 6, 'min_child_samples': 70}. Best is trial 32 with value: 0.5826496679892398.\u001b[0m\n"
     ]
    },
    {
     "name": "stdout",
     "output_type": "stream",
     "text": [
      "Did not meet early stopping. Best iteration is:\n",
      "[72]\tvalid_0's auc: 0.575157\n",
      "[LightGBM] [Warning] Unknown parameter: nestimators\n",
      "[LightGBM] [Warning] feature_fraction is set=0.5358639031242237, colsample_bytree=1.0 will be ignored. Current value: feature_fraction=0.5358639031242237\n",
      "[LightGBM] [Warning] bagging_fraction is set=0.6810404778008123, subsample=1.0 will be ignored. Current value: bagging_fraction=0.6810404778008123\n",
      "[LightGBM] [Warning] lambda_l1 is set=0.00028491695866483433, reg_alpha=0.0 will be ignored. Current value: lambda_l1=0.00028491695866483433\n",
      "[LightGBM] [Warning] lambda_l2 is set=0.01770803280486106, reg_lambda=0.0 will be ignored. Current value: lambda_l2=0.01770803280486106\n",
      "[LightGBM] [Warning] bagging_freq is set=6, subsample_freq=0 will be ignored. Current value: bagging_freq=6\n"
     ]
    },
    {
     "name": "stderr",
     "output_type": "stream",
     "text": [
      "C:\\Users\\Sarkhel\\anaconda3\\lib\\site-packages\\lightgbm\\basic.py:1702: UserWarning: Using categorical_feature in Dataset.\n",
      "  _log_warning('Using categorical_feature in Dataset.')\n",
      "C:\\Users\\Sarkhel\\anaconda3\\lib\\site-packages\\lightgbm\\basic.py:1705: UserWarning: categorical_feature in Dataset is overridden.\n",
      "New categorical_feature is [6, 9, 12]\n",
      "  _log_warning('categorical_feature in Dataset is overridden.\\n'\n",
      "C:\\Users\\Sarkhel\\anaconda3\\lib\\site-packages\\lightgbm\\basic.py:1433: UserWarning: Overriding the parameters from Reference Dataset.\n",
      "  _log_warning('Overriding the parameters from Reference Dataset.')\n",
      "C:\\Users\\Sarkhel\\anaconda3\\lib\\site-packages\\lightgbm\\basic.py:1245: UserWarning: categorical_column in param dict is overridden.\n",
      "  _log_warning('{} in param dict is overridden.'.format(cat_alias))\n"
     ]
    },
    {
     "name": "stdout",
     "output_type": "stream",
     "text": [
      "Training until validation scores don't improve for 2000 rounds\n"
     ]
    },
    {
     "name": "stderr",
     "output_type": "stream",
     "text": [
      "\u001b[32m[I 2022-01-20 19:59:49,967]\u001b[0m Trial 52 finished with value: 0.574539607157711 and parameters: {'learning_rate': 0.023004710813554166, 'lambda_l1': 0.00028491695866483433, 'lambda_l2': 0.01770803280486106, 'num_leaves': 69, 'feature_fraction': 0.5358639031242237, 'bagging_fraction': 0.6810404778008123, 'bagging_freq': 6, 'min_child_samples': 40}. Best is trial 32 with value: 0.5826496679892398.\u001b[0m\n"
     ]
    },
    {
     "name": "stdout",
     "output_type": "stream",
     "text": [
      "Did not meet early stopping. Best iteration is:\n",
      "[58]\tvalid_0's auc: 0.57454\n",
      "[LightGBM] [Warning] Unknown parameter: nestimators\n",
      "[LightGBM] [Warning] feature_fraction is set=0.42329492417515724, colsample_bytree=1.0 will be ignored. Current value: feature_fraction=0.42329492417515724\n",
      "[LightGBM] [Warning] bagging_fraction is set=0.4725945325475263, subsample=1.0 will be ignored. Current value: bagging_fraction=0.4725945325475263\n",
      "[LightGBM] [Warning] lambda_l1 is set=1.931624156388311e-08, reg_alpha=0.0 will be ignored. Current value: lambda_l1=1.931624156388311e-08\n",
      "[LightGBM] [Warning] lambda_l2 is set=0.0015775885585020855, reg_lambda=0.0 will be ignored. Current value: lambda_l2=0.0015775885585020855\n",
      "[LightGBM] [Warning] bagging_freq is set=5, subsample_freq=0 will be ignored. Current value: bagging_freq=5\n"
     ]
    },
    {
     "name": "stderr",
     "output_type": "stream",
     "text": [
      "C:\\Users\\Sarkhel\\anaconda3\\lib\\site-packages\\lightgbm\\basic.py:1702: UserWarning: Using categorical_feature in Dataset.\n",
      "  _log_warning('Using categorical_feature in Dataset.')\n",
      "C:\\Users\\Sarkhel\\anaconda3\\lib\\site-packages\\lightgbm\\basic.py:1705: UserWarning: categorical_feature in Dataset is overridden.\n",
      "New categorical_feature is [6, 9, 12]\n",
      "  _log_warning('categorical_feature in Dataset is overridden.\\n'\n",
      "C:\\Users\\Sarkhel\\anaconda3\\lib\\site-packages\\lightgbm\\basic.py:1433: UserWarning: Overriding the parameters from Reference Dataset.\n",
      "  _log_warning('Overriding the parameters from Reference Dataset.')\n",
      "C:\\Users\\Sarkhel\\anaconda3\\lib\\site-packages\\lightgbm\\basic.py:1245: UserWarning: categorical_column in param dict is overridden.\n",
      "  _log_warning('{} in param dict is overridden.'.format(cat_alias))\n"
     ]
    },
    {
     "name": "stdout",
     "output_type": "stream",
     "text": [
      "Training until validation scores don't improve for 2000 rounds\n"
     ]
    },
    {
     "name": "stderr",
     "output_type": "stream",
     "text": [
      "\u001b[32m[I 2022-01-20 19:59:51,253]\u001b[0m Trial 53 finished with value: 0.5842066895519238 and parameters: {'learning_rate': 0.016868885577927005, 'lambda_l1': 1.931624156388311e-08, 'lambda_l2': 0.0015775885585020855, 'num_leaves': 46, 'feature_fraction': 0.42329492417515724, 'bagging_fraction': 0.4725945325475263, 'bagging_freq': 5, 'min_child_samples': 14}. Best is trial 53 with value: 0.5842066895519238.\u001b[0m\n"
     ]
    },
    {
     "name": "stdout",
     "output_type": "stream",
     "text": [
      "Did not meet early stopping. Best iteration is:\n",
      "[34]\tvalid_0's auc: 0.584207\n",
      "[LightGBM] [Warning] Unknown parameter: nestimators\n",
      "[LightGBM] [Warning] feature_fraction is set=0.843054387047802, colsample_bytree=1.0 will be ignored. Current value: feature_fraction=0.843054387047802\n",
      "[LightGBM] [Warning] bagging_fraction is set=0.4636359335389435, subsample=1.0 will be ignored. Current value: bagging_fraction=0.4636359335389435\n",
      "[LightGBM] [Warning] lambda_l1 is set=1.2074243545953874e-08, reg_alpha=0.0 will be ignored. Current value: lambda_l1=1.2074243545953874e-08\n",
      "[LightGBM] [Warning] lambda_l2 is set=0.0017844231393649677, reg_lambda=0.0 will be ignored. Current value: lambda_l2=0.0017844231393649677\n",
      "[LightGBM] [Warning] bagging_freq is set=5, subsample_freq=0 will be ignored. Current value: bagging_freq=5\n"
     ]
    },
    {
     "name": "stderr",
     "output_type": "stream",
     "text": [
      "C:\\Users\\Sarkhel\\anaconda3\\lib\\site-packages\\lightgbm\\basic.py:1702: UserWarning: Using categorical_feature in Dataset.\n",
      "  _log_warning('Using categorical_feature in Dataset.')\n",
      "C:\\Users\\Sarkhel\\anaconda3\\lib\\site-packages\\lightgbm\\basic.py:1705: UserWarning: categorical_feature in Dataset is overridden.\n",
      "New categorical_feature is [6, 9, 12]\n",
      "  _log_warning('categorical_feature in Dataset is overridden.\\n'\n",
      "C:\\Users\\Sarkhel\\anaconda3\\lib\\site-packages\\lightgbm\\basic.py:1433: UserWarning: Overriding the parameters from Reference Dataset.\n",
      "  _log_warning('Overriding the parameters from Reference Dataset.')\n",
      "C:\\Users\\Sarkhel\\anaconda3\\lib\\site-packages\\lightgbm\\basic.py:1245: UserWarning: categorical_column in param dict is overridden.\n",
      "  _log_warning('{} in param dict is overridden.'.format(cat_alias))\n"
     ]
    },
    {
     "name": "stdout",
     "output_type": "stream",
     "text": [
      "Training until validation scores don't improve for 2000 rounds\n"
     ]
    },
    {
     "name": "stderr",
     "output_type": "stream",
     "text": [
      "\u001b[32m[I 2022-01-20 19:59:53,254]\u001b[0m Trial 54 finished with value: 0.5754073180823129 and parameters: {'learning_rate': 0.013228522048623763, 'lambda_l1': 1.2074243545953874e-08, 'lambda_l2': 0.0017844231393649677, 'num_leaves': 86, 'feature_fraction': 0.843054387047802, 'bagging_fraction': 0.4636359335389435, 'bagging_freq': 5, 'min_child_samples': 21}. Best is trial 53 with value: 0.5842066895519238.\u001b[0m\n"
     ]
    },
    {
     "name": "stdout",
     "output_type": "stream",
     "text": [
      "Did not meet early stopping. Best iteration is:\n",
      "[63]\tvalid_0's auc: 0.575407\n",
      "[LightGBM] [Warning] Unknown parameter: nestimators\n",
      "[LightGBM] [Warning] feature_fraction is set=0.49392078605810913, colsample_bytree=1.0 will be ignored. Current value: feature_fraction=0.49392078605810913\n",
      "[LightGBM] [Warning] bagging_fraction is set=0.5491552442570184, subsample=1.0 will be ignored. Current value: bagging_fraction=0.5491552442570184\n",
      "[LightGBM] [Warning] lambda_l1 is set=4.225661495416972e-06, reg_alpha=0.0 will be ignored. Current value: lambda_l1=4.225661495416972e-06\n",
      "[LightGBM] [Warning] lambda_l2 is set=0.007738342064055241, reg_lambda=0.0 will be ignored. Current value: lambda_l2=0.007738342064055241\n",
      "[LightGBM] [Warning] bagging_freq is set=4, subsample_freq=0 will be ignored. Current value: bagging_freq=4\n"
     ]
    },
    {
     "name": "stderr",
     "output_type": "stream",
     "text": [
      "C:\\Users\\Sarkhel\\anaconda3\\lib\\site-packages\\lightgbm\\basic.py:1702: UserWarning: Using categorical_feature in Dataset.\n",
      "  _log_warning('Using categorical_feature in Dataset.')\n",
      "C:\\Users\\Sarkhel\\anaconda3\\lib\\site-packages\\lightgbm\\basic.py:1705: UserWarning: categorical_feature in Dataset is overridden.\n",
      "New categorical_feature is [6, 9, 12]\n",
      "  _log_warning('categorical_feature in Dataset is overridden.\\n'\n",
      "C:\\Users\\Sarkhel\\anaconda3\\lib\\site-packages\\lightgbm\\basic.py:1433: UserWarning: Overriding the parameters from Reference Dataset.\n",
      "  _log_warning('Overriding the parameters from Reference Dataset.')\n",
      "C:\\Users\\Sarkhel\\anaconda3\\lib\\site-packages\\lightgbm\\basic.py:1245: UserWarning: categorical_column in param dict is overridden.\n",
      "  _log_warning('{} in param dict is overridden.'.format(cat_alias))\n"
     ]
    },
    {
     "name": "stdout",
     "output_type": "stream",
     "text": [
      "Training until validation scores don't improve for 2000 rounds\n"
     ]
    },
    {
     "name": "stderr",
     "output_type": "stream",
     "text": [
      "\u001b[32m[I 2022-01-20 19:59:54,228]\u001b[0m Trial 55 finished with value: 0.579817394756651 and parameters: {'learning_rate': 0.0176733907953115, 'lambda_l1': 4.225661495416972e-06, 'lambda_l2': 0.007738342064055241, 'num_leaves': 27, 'feature_fraction': 0.49392078605810913, 'bagging_fraction': 0.5491552442570184, 'bagging_freq': 4, 'min_child_samples': 10}. Best is trial 53 with value: 0.5842066895519238.\u001b[0m\n"
     ]
    },
    {
     "name": "stdout",
     "output_type": "stream",
     "text": [
      "Did not meet early stopping. Best iteration is:\n",
      "[94]\tvalid_0's auc: 0.579817\n",
      "[LightGBM] [Warning] Unknown parameter: nestimators\n",
      "[LightGBM] [Warning] feature_fraction is set=0.6440917571893415, colsample_bytree=1.0 will be ignored. Current value: feature_fraction=0.6440917571893415\n",
      "[LightGBM] [Warning] bagging_fraction is set=0.5084466755286319, subsample=1.0 will be ignored. Current value: bagging_fraction=0.5084466755286319\n",
      "[LightGBM] [Warning] lambda_l1 is set=2.30540539298553e-08, reg_alpha=0.0 will be ignored. Current value: lambda_l1=2.30540539298553e-08\n",
      "[LightGBM] [Warning] lambda_l2 is set=0.06482755035190041, reg_lambda=0.0 will be ignored. Current value: lambda_l2=0.06482755035190041\n",
      "[LightGBM] [Warning] bagging_freq is set=5, subsample_freq=0 will be ignored. Current value: bagging_freq=5\n"
     ]
    },
    {
     "name": "stderr",
     "output_type": "stream",
     "text": [
      "C:\\Users\\Sarkhel\\anaconda3\\lib\\site-packages\\lightgbm\\basic.py:1702: UserWarning: Using categorical_feature in Dataset.\n",
      "  _log_warning('Using categorical_feature in Dataset.')\n",
      "C:\\Users\\Sarkhel\\anaconda3\\lib\\site-packages\\lightgbm\\basic.py:1705: UserWarning: categorical_feature in Dataset is overridden.\n",
      "New categorical_feature is [6, 9, 12]\n",
      "  _log_warning('categorical_feature in Dataset is overridden.\\n'\n",
      "C:\\Users\\Sarkhel\\anaconda3\\lib\\site-packages\\lightgbm\\basic.py:1433: UserWarning: Overriding the parameters from Reference Dataset.\n",
      "  _log_warning('Overriding the parameters from Reference Dataset.')\n",
      "C:\\Users\\Sarkhel\\anaconda3\\lib\\site-packages\\lightgbm\\basic.py:1245: UserWarning: categorical_column in param dict is overridden.\n",
      "  _log_warning('{} in param dict is overridden.'.format(cat_alias))\n"
     ]
    },
    {
     "name": "stdout",
     "output_type": "stream",
     "text": [
      "Training until validation scores don't improve for 2000 rounds\n"
     ]
    },
    {
     "name": "stderr",
     "output_type": "stream",
     "text": [
      "\u001b[32m[I 2022-01-20 19:59:55,644]\u001b[0m Trial 56 finished with value: 0.5811441962824188 and parameters: {'learning_rate': 0.01686773193239872, 'lambda_l1': 2.30540539298553e-08, 'lambda_l2': 0.06482755035190041, 'num_leaves': 51, 'feature_fraction': 0.6440917571893415, 'bagging_fraction': 0.5084466755286319, 'bagging_freq': 5, 'min_child_samples': 16}. Best is trial 53 with value: 0.5842066895519238.\u001b[0m\n"
     ]
    },
    {
     "name": "stdout",
     "output_type": "stream",
     "text": [
      "Did not meet early stopping. Best iteration is:\n",
      "[61]\tvalid_0's auc: 0.581144\n",
      "[LightGBM] [Warning] Unknown parameter: nestimators\n",
      "[LightGBM] [Warning] feature_fraction is set=0.6589980179143393, colsample_bytree=1.0 will be ignored. Current value: feature_fraction=0.6589980179143393\n",
      "[LightGBM] [Warning] bagging_fraction is set=0.5128326594772091, subsample=1.0 will be ignored. Current value: bagging_fraction=0.5128326594772091\n",
      "[LightGBM] [Warning] lambda_l1 is set=2.1712602622208965e-08, reg_alpha=0.0 will be ignored. Current value: lambda_l1=2.1712602622208965e-08\n",
      "[LightGBM] [Warning] lambda_l2 is set=0.2538973707877816, reg_lambda=0.0 will be ignored. Current value: lambda_l2=0.2538973707877816\n",
      "[LightGBM] [Warning] bagging_freq is set=5, subsample_freq=0 will be ignored. Current value: bagging_freq=5\n"
     ]
    },
    {
     "name": "stderr",
     "output_type": "stream",
     "text": [
      "C:\\Users\\Sarkhel\\anaconda3\\lib\\site-packages\\lightgbm\\basic.py:1702: UserWarning: Using categorical_feature in Dataset.\n",
      "  _log_warning('Using categorical_feature in Dataset.')\n",
      "C:\\Users\\Sarkhel\\anaconda3\\lib\\site-packages\\lightgbm\\basic.py:1705: UserWarning: categorical_feature in Dataset is overridden.\n",
      "New categorical_feature is [6, 9, 12]\n",
      "  _log_warning('categorical_feature in Dataset is overridden.\\n'\n",
      "C:\\Users\\Sarkhel\\anaconda3\\lib\\site-packages\\lightgbm\\basic.py:1433: UserWarning: Overriding the parameters from Reference Dataset.\n",
      "  _log_warning('Overriding the parameters from Reference Dataset.')\n",
      "C:\\Users\\Sarkhel\\anaconda3\\lib\\site-packages\\lightgbm\\basic.py:1245: UserWarning: categorical_column in param dict is overridden.\n",
      "  _log_warning('{} in param dict is overridden.'.format(cat_alias))\n"
     ]
    },
    {
     "name": "stdout",
     "output_type": "stream",
     "text": [
      "Training until validation scores don't improve for 2000 rounds\n"
     ]
    },
    {
     "name": "stderr",
     "output_type": "stream",
     "text": [
      "\u001b[32m[I 2022-01-20 19:59:56,942]\u001b[0m Trial 57 finished with value: 0.5814926301249261 and parameters: {'learning_rate': 0.016795382996072226, 'lambda_l1': 2.1712602622208965e-08, 'lambda_l2': 0.2538973707877816, 'num_leaves': 47, 'feature_fraction': 0.6589980179143393, 'bagging_fraction': 0.5128326594772091, 'bagging_freq': 5, 'min_child_samples': 12}. Best is trial 53 with value: 0.5842066895519238.\u001b[0m\n"
     ]
    },
    {
     "name": "stdout",
     "output_type": "stream",
     "text": [
      "Did not meet early stopping. Best iteration is:\n",
      "[68]\tvalid_0's auc: 0.581493\n",
      "[LightGBM] [Warning] Unknown parameter: nestimators\n",
      "[LightGBM] [Warning] feature_fraction is set=0.7692874415752633, colsample_bytree=1.0 will be ignored. Current value: feature_fraction=0.7692874415752633\n",
      "[LightGBM] [Warning] bagging_fraction is set=0.4295896084919491, subsample=1.0 will be ignored. Current value: bagging_fraction=0.4295896084919491\n",
      "[LightGBM] [Warning] lambda_l1 is set=2.5265250895483104e-07, reg_alpha=0.0 will be ignored. Current value: lambda_l1=2.5265250895483104e-07\n",
      "[LightGBM] [Warning] lambda_l2 is set=2.174021287656719, reg_lambda=0.0 will be ignored. Current value: lambda_l2=2.174021287656719\n",
      "[LightGBM] [Warning] bagging_freq is set=4, subsample_freq=0 will be ignored. Current value: bagging_freq=4\n"
     ]
    },
    {
     "name": "stderr",
     "output_type": "stream",
     "text": [
      "C:\\Users\\Sarkhel\\anaconda3\\lib\\site-packages\\lightgbm\\basic.py:1702: UserWarning: Using categorical_feature in Dataset.\n",
      "  _log_warning('Using categorical_feature in Dataset.')\n",
      "C:\\Users\\Sarkhel\\anaconda3\\lib\\site-packages\\lightgbm\\basic.py:1705: UserWarning: categorical_feature in Dataset is overridden.\n",
      "New categorical_feature is [6, 9, 12]\n",
      "  _log_warning('categorical_feature in Dataset is overridden.\\n'\n",
      "C:\\Users\\Sarkhel\\anaconda3\\lib\\site-packages\\lightgbm\\basic.py:1433: UserWarning: Overriding the parameters from Reference Dataset.\n",
      "  _log_warning('Overriding the parameters from Reference Dataset.')\n",
      "C:\\Users\\Sarkhel\\anaconda3\\lib\\site-packages\\lightgbm\\basic.py:1245: UserWarning: categorical_column in param dict is overridden.\n",
      "  _log_warning('{} in param dict is overridden.'.format(cat_alias))\n"
     ]
    },
    {
     "name": "stdout",
     "output_type": "stream",
     "text": [
      "Training until validation scores don't improve for 2000 rounds\n"
     ]
    },
    {
     "name": "stderr",
     "output_type": "stream",
     "text": [
      "\u001b[32m[I 2022-01-20 19:59:58,587]\u001b[0m Trial 58 finished with value: 0.5782889820144981 and parameters: {'learning_rate': 0.013300644508279558, 'lambda_l1': 2.5265250895483104e-07, 'lambda_l2': 2.174021287656719, 'num_leaves': 65, 'feature_fraction': 0.7692874415752633, 'bagging_fraction': 0.4295896084919491, 'bagging_freq': 4, 'min_child_samples': 13}. Best is trial 53 with value: 0.5842066895519238.\u001b[0m\n"
     ]
    },
    {
     "name": "stdout",
     "output_type": "stream",
     "text": [
      "Did not meet early stopping. Best iteration is:\n",
      "[92]\tvalid_0's auc: 0.578289\n",
      "[LightGBM] [Warning] Unknown parameter: nestimators\n",
      "[LightGBM] [Warning] feature_fraction is set=0.4185220084957247, colsample_bytree=1.0 will be ignored. Current value: feature_fraction=0.4185220084957247\n",
      "[LightGBM] [Warning] bagging_fraction is set=0.6055477806775326, subsample=1.0 will be ignored. Current value: bagging_fraction=0.6055477806775326\n",
      "[LightGBM] [Warning] lambda_l1 is set=3.7646505151646066e-08, reg_alpha=0.0 will be ignored. Current value: lambda_l1=3.7646505151646066e-08\n",
      "[LightGBM] [Warning] lambda_l2 is set=0.28979919644253277, reg_lambda=0.0 will be ignored. Current value: lambda_l2=0.28979919644253277\n",
      "[LightGBM] [Warning] bagging_freq is set=5, subsample_freq=0 will be ignored. Current value: bagging_freq=5\n"
     ]
    },
    {
     "name": "stderr",
     "output_type": "stream",
     "text": [
      "C:\\Users\\Sarkhel\\anaconda3\\lib\\site-packages\\lightgbm\\basic.py:1702: UserWarning: Using categorical_feature in Dataset.\n",
      "  _log_warning('Using categorical_feature in Dataset.')\n",
      "C:\\Users\\Sarkhel\\anaconda3\\lib\\site-packages\\lightgbm\\basic.py:1705: UserWarning: categorical_feature in Dataset is overridden.\n",
      "New categorical_feature is [6, 9, 12]\n",
      "  _log_warning('categorical_feature in Dataset is overridden.\\n'\n",
      "C:\\Users\\Sarkhel\\anaconda3\\lib\\site-packages\\lightgbm\\basic.py:1433: UserWarning: Overriding the parameters from Reference Dataset.\n",
      "  _log_warning('Overriding the parameters from Reference Dataset.')\n",
      "C:\\Users\\Sarkhel\\anaconda3\\lib\\site-packages\\lightgbm\\basic.py:1245: UserWarning: categorical_column in param dict is overridden.\n",
      "  _log_warning('{} in param dict is overridden.'.format(cat_alias))\n"
     ]
    },
    {
     "name": "stdout",
     "output_type": "stream",
     "text": [
      "Training until validation scores don't improve for 2000 rounds\n"
     ]
    },
    {
     "name": "stderr",
     "output_type": "stream",
     "text": [
      "\u001b[32m[I 2022-01-20 20:00:00,300]\u001b[0m Trial 59 finished with value: 0.5516328484318183 and parameters: {'learning_rate': 0.1653827858790177, 'lambda_l1': 3.7646505151646066e-08, 'lambda_l2': 0.28979919644253277, 'num_leaves': 78, 'feature_fraction': 0.4185220084957247, 'bagging_fraction': 0.6055477806775326, 'bagging_freq': 5, 'min_child_samples': 26}. Best is trial 53 with value: 0.5842066895519238.\u001b[0m\n"
     ]
    },
    {
     "name": "stdout",
     "output_type": "stream",
     "text": [
      "Did not meet early stopping. Best iteration is:\n",
      "[35]\tvalid_0's auc: 0.551633\n",
      "[LightGBM] [Warning] Unknown parameter: nestimators\n",
      "[LightGBM] [Warning] feature_fraction is set=0.6808961696157245, colsample_bytree=1.0 will be ignored. Current value: feature_fraction=0.6808961696157245\n",
      "[LightGBM] [Warning] bagging_fraction is set=0.5191192505722464, subsample=1.0 will be ignored. Current value: bagging_fraction=0.5191192505722464\n",
      "[LightGBM] [Warning] lambda_l1 is set=2.22374124277966e-08, reg_alpha=0.0 will be ignored. Current value: lambda_l1=2.22374124277966e-08\n",
      "[LightGBM] [Warning] lambda_l2 is set=1.0016515788264886, reg_lambda=0.0 will be ignored. Current value: lambda_l2=1.0016515788264886\n",
      "[LightGBM] [Warning] bagging_freq is set=5, subsample_freq=0 will be ignored. Current value: bagging_freq=5\n"
     ]
    },
    {
     "name": "stderr",
     "output_type": "stream",
     "text": [
      "C:\\Users\\Sarkhel\\anaconda3\\lib\\site-packages\\lightgbm\\basic.py:1702: UserWarning: Using categorical_feature in Dataset.\n",
      "  _log_warning('Using categorical_feature in Dataset.')\n",
      "C:\\Users\\Sarkhel\\anaconda3\\lib\\site-packages\\lightgbm\\basic.py:1705: UserWarning: categorical_feature in Dataset is overridden.\n",
      "New categorical_feature is [6, 9, 12]\n",
      "  _log_warning('categorical_feature in Dataset is overridden.\\n'\n",
      "C:\\Users\\Sarkhel\\anaconda3\\lib\\site-packages\\lightgbm\\basic.py:1433: UserWarning: Overriding the parameters from Reference Dataset.\n",
      "  _log_warning('Overriding the parameters from Reference Dataset.')\n",
      "C:\\Users\\Sarkhel\\anaconda3\\lib\\site-packages\\lightgbm\\basic.py:1245: UserWarning: categorical_column in param dict is overridden.\n",
      "  _log_warning('{} in param dict is overridden.'.format(cat_alias))\n"
     ]
    },
    {
     "name": "stdout",
     "output_type": "stream",
     "text": [
      "Training until validation scores don't improve for 2000 rounds\n"
     ]
    },
    {
     "name": "stderr",
     "output_type": "stream",
     "text": [
      "\u001b[32m[I 2022-01-20 20:00:02,530]\u001b[0m Trial 60 finished with value: 0.5799186052066434 and parameters: {'learning_rate': 0.020493503348866658, 'lambda_l1': 2.22374124277966e-08, 'lambda_l2': 1.0016515788264886, 'num_leaves': 98, 'feature_fraction': 0.6808961696157245, 'bagging_fraction': 0.5191192505722464, 'bagging_freq': 5, 'min_child_samples': 6}. Best is trial 53 with value: 0.5842066895519238.\u001b[0m\n"
     ]
    },
    {
     "name": "stdout",
     "output_type": "stream",
     "text": [
      "Did not meet early stopping. Best iteration is:\n",
      "[100]\tvalid_0's auc: 0.579919\n",
      "[LightGBM] [Warning] Unknown parameter: nestimators\n",
      "[LightGBM] [Warning] feature_fraction is set=0.6484305038031363, colsample_bytree=1.0 will be ignored. Current value: feature_fraction=0.6484305038031363\n",
      "[LightGBM] [Warning] bagging_fraction is set=0.5052479927681439, subsample=1.0 will be ignored. Current value: bagging_fraction=0.5052479927681439\n",
      "[LightGBM] [Warning] lambda_l1 is set=2.7095023455187234e-08, reg_alpha=0.0 will be ignored. Current value: lambda_l1=2.7095023455187234e-08\n",
      "[LightGBM] [Warning] lambda_l2 is set=0.09640746337715325, reg_lambda=0.0 will be ignored. Current value: lambda_l2=0.09640746337715325\n",
      "[LightGBM] [Warning] bagging_freq is set=5, subsample_freq=0 will be ignored. Current value: bagging_freq=5\n"
     ]
    },
    {
     "name": "stderr",
     "output_type": "stream",
     "text": [
      "C:\\Users\\Sarkhel\\anaconda3\\lib\\site-packages\\lightgbm\\basic.py:1702: UserWarning: Using categorical_feature in Dataset.\n",
      "  _log_warning('Using categorical_feature in Dataset.')\n",
      "C:\\Users\\Sarkhel\\anaconda3\\lib\\site-packages\\lightgbm\\basic.py:1705: UserWarning: categorical_feature in Dataset is overridden.\n",
      "New categorical_feature is [6, 9, 12]\n",
      "  _log_warning('categorical_feature in Dataset is overridden.\\n'\n",
      "C:\\Users\\Sarkhel\\anaconda3\\lib\\site-packages\\lightgbm\\basic.py:1433: UserWarning: Overriding the parameters from Reference Dataset.\n",
      "  _log_warning('Overriding the parameters from Reference Dataset.')\n",
      "C:\\Users\\Sarkhel\\anaconda3\\lib\\site-packages\\lightgbm\\basic.py:1245: UserWarning: categorical_column in param dict is overridden.\n",
      "  _log_warning('{} in param dict is overridden.'.format(cat_alias))\n"
     ]
    },
    {
     "name": "stdout",
     "output_type": "stream",
     "text": [
      "Training until validation scores don't improve for 2000 rounds\n"
     ]
    },
    {
     "name": "stderr",
     "output_type": "stream",
     "text": [
      "\u001b[32m[I 2022-01-20 20:00:03,850]\u001b[0m Trial 61 finished with value: 0.5843319206153812 and parameters: {'learning_rate': 0.016812472995315745, 'lambda_l1': 2.7095023455187234e-08, 'lambda_l2': 0.09640746337715325, 'num_leaves': 49, 'feature_fraction': 0.6484305038031363, 'bagging_fraction': 0.5052479927681439, 'bagging_freq': 5, 'min_child_samples': 17}. Best is trial 61 with value: 0.5843319206153812.\u001b[0m\n"
     ]
    },
    {
     "name": "stdout",
     "output_type": "stream",
     "text": [
      "Did not meet early stopping. Best iteration is:\n",
      "[69]\tvalid_0's auc: 0.584332\n",
      "[LightGBM] [Warning] Unknown parameter: nestimators\n",
      "[LightGBM] [Warning] feature_fraction is set=0.6144117281348485, colsample_bytree=1.0 will be ignored. Current value: feature_fraction=0.6144117281348485\n",
      "[LightGBM] [Warning] bagging_fraction is set=0.4524084739080101, subsample=1.0 will be ignored. Current value: bagging_fraction=0.4524084739080101\n",
      "[LightGBM] [Warning] lambda_l1 is set=1.267241928365414e-07, reg_alpha=0.0 will be ignored. Current value: lambda_l1=1.267241928365414e-07\n",
      "[LightGBM] [Warning] lambda_l2 is set=7.834771812657542, reg_lambda=0.0 will be ignored. Current value: lambda_l2=7.834771812657542\n",
      "[LightGBM] [Warning] bagging_freq is set=5, subsample_freq=0 will be ignored. Current value: bagging_freq=5\n"
     ]
    },
    {
     "name": "stderr",
     "output_type": "stream",
     "text": [
      "C:\\Users\\Sarkhel\\anaconda3\\lib\\site-packages\\lightgbm\\basic.py:1702: UserWarning: Using categorical_feature in Dataset.\n",
      "  _log_warning('Using categorical_feature in Dataset.')\n",
      "C:\\Users\\Sarkhel\\anaconda3\\lib\\site-packages\\lightgbm\\basic.py:1705: UserWarning: categorical_feature in Dataset is overridden.\n",
      "New categorical_feature is [6, 9, 12]\n",
      "  _log_warning('categorical_feature in Dataset is overridden.\\n'\n",
      "C:\\Users\\Sarkhel\\anaconda3\\lib\\site-packages\\lightgbm\\basic.py:1433: UserWarning: Overriding the parameters from Reference Dataset.\n",
      "  _log_warning('Overriding the parameters from Reference Dataset.')\n",
      "C:\\Users\\Sarkhel\\anaconda3\\lib\\site-packages\\lightgbm\\basic.py:1245: UserWarning: categorical_column in param dict is overridden.\n",
      "  _log_warning('{} in param dict is overridden.'.format(cat_alias))\n"
     ]
    },
    {
     "name": "stdout",
     "output_type": "stream",
     "text": [
      "Training until validation scores don't improve for 2000 rounds\n"
     ]
    },
    {
     "name": "stderr",
     "output_type": "stream",
     "text": [
      "\u001b[32m[I 2022-01-20 20:00:08,364]\u001b[0m Trial 62 finished with value: 0.5752648137687236 and parameters: {'learning_rate': 0.010035089066630556, 'lambda_l1': 1.267241928365414e-07, 'lambda_l2': 7.834771812657542, 'num_leaves': 242, 'feature_fraction': 0.6144117281348485, 'bagging_fraction': 0.4524084739080101, 'bagging_freq': 5, 'min_child_samples': 16}. Best is trial 61 with value: 0.5843319206153812.\u001b[0m\n"
     ]
    },
    {
     "name": "stdout",
     "output_type": "stream",
     "text": [
      "Did not meet early stopping. Best iteration is:\n",
      "[52]\tvalid_0's auc: 0.575265\n",
      "[LightGBM] [Warning] Unknown parameter: nestimators\n",
      "[LightGBM] [Warning] feature_fraction is set=0.7110631177920617, colsample_bytree=1.0 will be ignored. Current value: feature_fraction=0.7110631177920617\n",
      "[LightGBM] [Warning] bagging_fraction is set=0.4713663517513679, subsample=1.0 will be ignored. Current value: bagging_fraction=0.4713663517513679\n",
      "[LightGBM] [Warning] lambda_l1 is set=3.3894607342075934e-08, reg_alpha=0.0 will be ignored. Current value: lambda_l1=3.3894607342075934e-08\n",
      "[LightGBM] [Warning] lambda_l2 is set=0.16761646290538176, reg_lambda=0.0 will be ignored. Current value: lambda_l2=0.16761646290538176\n",
      "[LightGBM] [Warning] bagging_freq is set=4, subsample_freq=0 will be ignored. Current value: bagging_freq=4\n"
     ]
    },
    {
     "name": "stderr",
     "output_type": "stream",
     "text": [
      "C:\\Users\\Sarkhel\\anaconda3\\lib\\site-packages\\lightgbm\\basic.py:1702: UserWarning: Using categorical_feature in Dataset.\n",
      "  _log_warning('Using categorical_feature in Dataset.')\n",
      "C:\\Users\\Sarkhel\\anaconda3\\lib\\site-packages\\lightgbm\\basic.py:1705: UserWarning: categorical_feature in Dataset is overridden.\n",
      "New categorical_feature is [6, 9, 12]\n",
      "  _log_warning('categorical_feature in Dataset is overridden.\\n'\n",
      "C:\\Users\\Sarkhel\\anaconda3\\lib\\site-packages\\lightgbm\\basic.py:1433: UserWarning: Overriding the parameters from Reference Dataset.\n",
      "  _log_warning('Overriding the parameters from Reference Dataset.')\n",
      "C:\\Users\\Sarkhel\\anaconda3\\lib\\site-packages\\lightgbm\\basic.py:1245: UserWarning: categorical_column in param dict is overridden.\n",
      "  _log_warning('{} in param dict is overridden.'.format(cat_alias))\n"
     ]
    },
    {
     "name": "stdout",
     "output_type": "stream",
     "text": [
      "Training until validation scores don't improve for 2000 rounds\n"
     ]
    },
    {
     "name": "stderr",
     "output_type": "stream",
     "text": [
      "\u001b[32m[I 2022-01-20 20:00:09,712]\u001b[0m Trial 63 finished with value: 0.5772482686940424 and parameters: {'learning_rate': 0.014580362998205273, 'lambda_l1': 3.3894607342075934e-08, 'lambda_l2': 0.16761646290538176, 'num_leaves': 49, 'feature_fraction': 0.7110631177920617, 'bagging_fraction': 0.4713663517513679, 'bagging_freq': 4, 'min_child_samples': 20}. Best is trial 61 with value: 0.5843319206153812.\u001b[0m\n"
     ]
    },
    {
     "name": "stdout",
     "output_type": "stream",
     "text": [
      "Did not meet early stopping. Best iteration is:\n",
      "[58]\tvalid_0's auc: 0.577248\n",
      "[LightGBM] [Warning] Unknown parameter: nestimators\n",
      "[LightGBM] [Warning] feature_fraction is set=0.4554378007706257, colsample_bytree=1.0 will be ignored. Current value: feature_fraction=0.4554378007706257\n",
      "[LightGBM] [Warning] bagging_fraction is set=0.5646764856117067, subsample=1.0 will be ignored. Current value: bagging_fraction=0.5646764856117067\n",
      "[LightGBM] [Warning] lambda_l1 is set=6.935648870641783e-08, reg_alpha=0.0 will be ignored. Current value: lambda_l1=6.935648870641783e-08\n",
      "[LightGBM] [Warning] lambda_l2 is set=0.03215307960133343, reg_lambda=0.0 will be ignored. Current value: lambda_l2=0.03215307960133343\n",
      "[LightGBM] [Warning] bagging_freq is set=3, subsample_freq=0 will be ignored. Current value: bagging_freq=3\n"
     ]
    },
    {
     "name": "stderr",
     "output_type": "stream",
     "text": [
      "C:\\Users\\Sarkhel\\anaconda3\\lib\\site-packages\\lightgbm\\basic.py:1702: UserWarning: Using categorical_feature in Dataset.\n",
      "  _log_warning('Using categorical_feature in Dataset.')\n",
      "C:\\Users\\Sarkhel\\anaconda3\\lib\\site-packages\\lightgbm\\basic.py:1705: UserWarning: categorical_feature in Dataset is overridden.\n",
      "New categorical_feature is [6, 9, 12]\n",
      "  _log_warning('categorical_feature in Dataset is overridden.\\n'\n",
      "C:\\Users\\Sarkhel\\anaconda3\\lib\\site-packages\\lightgbm\\basic.py:1433: UserWarning: Overriding the parameters from Reference Dataset.\n",
      "  _log_warning('Overriding the parameters from Reference Dataset.')\n",
      "C:\\Users\\Sarkhel\\anaconda3\\lib\\site-packages\\lightgbm\\basic.py:1245: UserWarning: categorical_column in param dict is overridden.\n",
      "  _log_warning('{} in param dict is overridden.'.format(cat_alias))\n"
     ]
    },
    {
     "name": "stdout",
     "output_type": "stream",
     "text": [
      "Training until validation scores don't improve for 2000 rounds\n"
     ]
    },
    {
     "name": "stderr",
     "output_type": "stream",
     "text": [
      "\u001b[32m[I 2022-01-20 20:00:10,556]\u001b[0m Trial 64 finished with value: 0.5771532658183162 and parameters: {'learning_rate': 0.016612270122928888, 'lambda_l1': 6.935648870641783e-08, 'lambda_l2': 0.03215307960133343, 'num_leaves': 18, 'feature_fraction': 0.4554378007706257, 'bagging_fraction': 0.5646764856117067, 'bagging_freq': 3, 'min_child_samples': 11}. Best is trial 61 with value: 0.5843319206153812.\u001b[0m\n"
     ]
    },
    {
     "name": "stdout",
     "output_type": "stream",
     "text": [
      "Did not meet early stopping. Best iteration is:\n",
      "[100]\tvalid_0's auc: 0.577153\n",
      "[LightGBM] [Warning] Unknown parameter: nestimators\n",
      "[LightGBM] [Warning] feature_fraction is set=0.6575354557515466, colsample_bytree=1.0 will be ignored. Current value: feature_fraction=0.6575354557515466\n",
      "[LightGBM] [Warning] bagging_fraction is set=0.42201791542762523, subsample=1.0 will be ignored. Current value: bagging_fraction=0.42201791542762523\n",
      "[LightGBM] [Warning] lambda_l1 is set=1.2800462940967315e-08, reg_alpha=0.0 will be ignored. Current value: lambda_l1=1.2800462940967315e-08\n",
      "[LightGBM] [Warning] lambda_l2 is set=0.1281692505671636, reg_lambda=0.0 will be ignored. Current value: lambda_l2=0.1281692505671636\n",
      "[LightGBM] [Warning] bagging_freq is set=5, subsample_freq=0 will be ignored. Current value: bagging_freq=5\n"
     ]
    },
    {
     "name": "stderr",
     "output_type": "stream",
     "text": [
      "C:\\Users\\Sarkhel\\anaconda3\\lib\\site-packages\\lightgbm\\basic.py:1702: UserWarning: Using categorical_feature in Dataset.\n",
      "  _log_warning('Using categorical_feature in Dataset.')\n",
      "C:\\Users\\Sarkhel\\anaconda3\\lib\\site-packages\\lightgbm\\basic.py:1705: UserWarning: categorical_feature in Dataset is overridden.\n",
      "New categorical_feature is [6, 9, 12]\n",
      "  _log_warning('categorical_feature in Dataset is overridden.\\n'\n",
      "C:\\Users\\Sarkhel\\anaconda3\\lib\\site-packages\\lightgbm\\basic.py:1433: UserWarning: Overriding the parameters from Reference Dataset.\n",
      "  _log_warning('Overriding the parameters from Reference Dataset.')\n",
      "C:\\Users\\Sarkhel\\anaconda3\\lib\\site-packages\\lightgbm\\basic.py:1245: UserWarning: categorical_column in param dict is overridden.\n",
      "  _log_warning('{} in param dict is overridden.'.format(cat_alias))\n"
     ]
    },
    {
     "name": "stdout",
     "output_type": "stream",
     "text": [
      "Training until validation scores don't improve for 2000 rounds\n"
     ]
    },
    {
     "name": "stderr",
     "output_type": "stream",
     "text": [
      "\u001b[32m[I 2022-01-20 20:00:11,749]\u001b[0m Trial 65 finished with value: 0.5839875351908735 and parameters: {'learning_rate': 0.014332757327916976, 'lambda_l1': 1.2800462940967315e-08, 'lambda_l2': 0.1281692505671636, 'num_leaves': 41, 'feature_fraction': 0.6575354557515466, 'bagging_fraction': 0.42201791542762523, 'bagging_freq': 5, 'min_child_samples': 29}. Best is trial 61 with value: 0.5843319206153812.\u001b[0m\n"
     ]
    },
    {
     "name": "stdout",
     "output_type": "stream",
     "text": [
      "Did not meet early stopping. Best iteration is:\n",
      "[100]\tvalid_0's auc: 0.583988\n",
      "[LightGBM] [Warning] Unknown parameter: nestimators\n",
      "[LightGBM] [Warning] feature_fraction is set=0.587438855952851, colsample_bytree=1.0 will be ignored. Current value: feature_fraction=0.587438855952851\n",
      "[LightGBM] [Warning] bagging_fraction is set=0.5101268545848129, subsample=1.0 will be ignored. Current value: bagging_fraction=0.5101268545848129\n",
      "[LightGBM] [Warning] lambda_l1 is set=1.1990624920285892e-08, reg_alpha=0.0 will be ignored. Current value: lambda_l1=1.1990624920285892e-08\n",
      "[LightGBM] [Warning] lambda_l2 is set=0.13123204518203968, reg_lambda=0.0 will be ignored. Current value: lambda_l2=0.13123204518203968\n",
      "[LightGBM] [Warning] bagging_freq is set=5, subsample_freq=0 will be ignored. Current value: bagging_freq=5\n"
     ]
    },
    {
     "name": "stderr",
     "output_type": "stream",
     "text": [
      "C:\\Users\\Sarkhel\\anaconda3\\lib\\site-packages\\lightgbm\\basic.py:1702: UserWarning: Using categorical_feature in Dataset.\n",
      "  _log_warning('Using categorical_feature in Dataset.')\n",
      "C:\\Users\\Sarkhel\\anaconda3\\lib\\site-packages\\lightgbm\\basic.py:1705: UserWarning: categorical_feature in Dataset is overridden.\n",
      "New categorical_feature is [6, 9, 12]\n",
      "  _log_warning('categorical_feature in Dataset is overridden.\\n'\n",
      "C:\\Users\\Sarkhel\\anaconda3\\lib\\site-packages\\lightgbm\\basic.py:1433: UserWarning: Overriding the parameters from Reference Dataset.\n",
      "  _log_warning('Overriding the parameters from Reference Dataset.')\n",
      "C:\\Users\\Sarkhel\\anaconda3\\lib\\site-packages\\lightgbm\\basic.py:1245: UserWarning: categorical_column in param dict is overridden.\n",
      "  _log_warning('{} in param dict is overridden.'.format(cat_alias))\n"
     ]
    },
    {
     "name": "stdout",
     "output_type": "stream",
     "text": [
      "Training until validation scores don't improve for 2000 rounds\n"
     ]
    },
    {
     "name": "stderr",
     "output_type": "stream",
     "text": [
      "\u001b[32m[I 2022-01-20 20:00:12,406]\u001b[0m Trial 66 finished with value: 0.5742413736983999 and parameters: {'learning_rate': 0.011608691058297763, 'lambda_l1': 1.1990624920285892e-08, 'lambda_l2': 0.13123204518203968, 'num_leaves': 11, 'feature_fraction': 0.587438855952851, 'bagging_fraction': 0.5101268545848129, 'bagging_freq': 5, 'min_child_samples': 24}. Best is trial 61 with value: 0.5843319206153812.\u001b[0m\n"
     ]
    },
    {
     "name": "stdout",
     "output_type": "stream",
     "text": [
      "Did not meet early stopping. Best iteration is:\n",
      "[100]\tvalid_0's auc: 0.574241\n",
      "[LightGBM] [Warning] Unknown parameter: nestimators\n",
      "[LightGBM] [Warning] feature_fraction is set=0.6597312863400303, colsample_bytree=1.0 will be ignored. Current value: feature_fraction=0.6597312863400303\n",
      "[LightGBM] [Warning] bagging_fraction is set=0.41592886512424143, subsample=1.0 will be ignored. Current value: bagging_fraction=0.41592886512424143\n",
      "[LightGBM] [Warning] lambda_l1 is set=1.7520029210919902e-07, reg_alpha=0.0 will be ignored. Current value: lambda_l1=1.7520029210919902e-07\n",
      "[LightGBM] [Warning] lambda_l2 is set=0.26356543173023605, reg_lambda=0.0 will be ignored. Current value: lambda_l2=0.26356543173023605\n",
      "[LightGBM] [Warning] bagging_freq is set=5, subsample_freq=0 will be ignored. Current value: bagging_freq=5\n"
     ]
    },
    {
     "name": "stderr",
     "output_type": "stream",
     "text": [
      "C:\\Users\\Sarkhel\\anaconda3\\lib\\site-packages\\lightgbm\\basic.py:1702: UserWarning: Using categorical_feature in Dataset.\n",
      "  _log_warning('Using categorical_feature in Dataset.')\n",
      "C:\\Users\\Sarkhel\\anaconda3\\lib\\site-packages\\lightgbm\\basic.py:1705: UserWarning: categorical_feature in Dataset is overridden.\n",
      "New categorical_feature is [6, 9, 12]\n",
      "  _log_warning('categorical_feature in Dataset is overridden.\\n'\n",
      "C:\\Users\\Sarkhel\\anaconda3\\lib\\site-packages\\lightgbm\\basic.py:1433: UserWarning: Overriding the parameters from Reference Dataset.\n",
      "  _log_warning('Overriding the parameters from Reference Dataset.')\n",
      "C:\\Users\\Sarkhel\\anaconda3\\lib\\site-packages\\lightgbm\\basic.py:1245: UserWarning: categorical_column in param dict is overridden.\n",
      "  _log_warning('{} in param dict is overridden.'.format(cat_alias))\n"
     ]
    },
    {
     "name": "stdout",
     "output_type": "stream",
     "text": [
      "Training until validation scores don't improve for 2000 rounds\n"
     ]
    },
    {
     "name": "stderr",
     "output_type": "stream",
     "text": [
      "\u001b[32m[I 2022-01-20 20:00:16,258]\u001b[0m Trial 67 finished with value: 0.5743506809843917 and parameters: {'learning_rate': 0.014356567019430376, 'lambda_l1': 1.7520029210919902e-07, 'lambda_l2': 0.26356543173023605, 'num_leaves': 202, 'feature_fraction': 0.6597312863400303, 'bagging_fraction': 0.41592886512424143, 'bagging_freq': 5, 'min_child_samples': 17}. Best is trial 61 with value: 0.5843319206153812.\u001b[0m\n"
     ]
    },
    {
     "name": "stdout",
     "output_type": "stream",
     "text": [
      "Did not meet early stopping. Best iteration is:\n",
      "[31]\tvalid_0's auc: 0.574351\n",
      "[LightGBM] [Warning] Unknown parameter: nestimators\n",
      "[LightGBM] [Warning] feature_fraction is set=0.6289787330828935, colsample_bytree=1.0 will be ignored. Current value: feature_fraction=0.6289787330828935\n",
      "[LightGBM] [Warning] bagging_fraction is set=0.44599859809271125, subsample=1.0 will be ignored. Current value: bagging_fraction=0.44599859809271125\n",
      "[LightGBM] [Warning] lambda_l1 is set=4.4189651673239214e-07, reg_alpha=0.0 will be ignored. Current value: lambda_l1=4.4189651673239214e-07\n",
      "[LightGBM] [Warning] lambda_l2 is set=0.06488882904271592, reg_lambda=0.0 will be ignored. Current value: lambda_l2=0.06488882904271592\n",
      "[LightGBM] [Warning] bagging_freq is set=5, subsample_freq=0 will be ignored. Current value: bagging_freq=5\n"
     ]
    },
    {
     "name": "stderr",
     "output_type": "stream",
     "text": [
      "C:\\Users\\Sarkhel\\anaconda3\\lib\\site-packages\\lightgbm\\basic.py:1702: UserWarning: Using categorical_feature in Dataset.\n",
      "  _log_warning('Using categorical_feature in Dataset.')\n",
      "C:\\Users\\Sarkhel\\anaconda3\\lib\\site-packages\\lightgbm\\basic.py:1705: UserWarning: categorical_feature in Dataset is overridden.\n",
      "New categorical_feature is [6, 9, 12]\n",
      "  _log_warning('categorical_feature in Dataset is overridden.\\n'\n",
      "C:\\Users\\Sarkhel\\anaconda3\\lib\\site-packages\\lightgbm\\basic.py:1433: UserWarning: Overriding the parameters from Reference Dataset.\n",
      "  _log_warning('Overriding the parameters from Reference Dataset.')\n",
      "C:\\Users\\Sarkhel\\anaconda3\\lib\\site-packages\\lightgbm\\basic.py:1245: UserWarning: categorical_column in param dict is overridden.\n",
      "  _log_warning('{} in param dict is overridden.'.format(cat_alias))\n"
     ]
    },
    {
     "name": "stdout",
     "output_type": "stream",
     "text": [
      "Training until validation scores don't improve for 2000 rounds\n"
     ]
    },
    {
     "name": "stderr",
     "output_type": "stream",
     "text": [
      "\u001b[32m[I 2022-01-20 20:00:17,545]\u001b[0m Trial 68 finished with value: 0.5814791353982605 and parameters: {'learning_rate': 0.011829662028600096, 'lambda_l1': 4.4189651673239214e-07, 'lambda_l2': 0.06488882904271592, 'num_leaves': 47, 'feature_fraction': 0.6289787330828935, 'bagging_fraction': 0.44599859809271125, 'bagging_freq': 5, 'min_child_samples': 8}. Best is trial 61 with value: 0.5843319206153812.\u001b[0m\n"
     ]
    },
    {
     "name": "stdout",
     "output_type": "stream",
     "text": [
      "Did not meet early stopping. Best iteration is:\n",
      "[28]\tvalid_0's auc: 0.581479\n",
      "[LightGBM] [Warning] Unknown parameter: nestimators\n",
      "[LightGBM] [Warning] feature_fraction is set=0.6671996141300898, colsample_bytree=1.0 will be ignored. Current value: feature_fraction=0.6671996141300898\n",
      "[LightGBM] [Warning] bagging_fraction is set=0.47416021492878563, subsample=1.0 will be ignored. Current value: bagging_fraction=0.47416021492878563\n",
      "[LightGBM] [Warning] lambda_l1 is set=2.4533482757427916e-08, reg_alpha=0.0 will be ignored. Current value: lambda_l1=2.4533482757427916e-08\n",
      "[LightGBM] [Warning] lambda_l2 is set=0.946753906661856, reg_lambda=0.0 will be ignored. Current value: lambda_l2=0.946753906661856\n",
      "[LightGBM] [Warning] bagging_freq is set=4, subsample_freq=0 will be ignored. Current value: bagging_freq=4\n"
     ]
    },
    {
     "name": "stderr",
     "output_type": "stream",
     "text": [
      "C:\\Users\\Sarkhel\\anaconda3\\lib\\site-packages\\lightgbm\\basic.py:1702: UserWarning: Using categorical_feature in Dataset.\n",
      "  _log_warning('Using categorical_feature in Dataset.')\n",
      "C:\\Users\\Sarkhel\\anaconda3\\lib\\site-packages\\lightgbm\\basic.py:1705: UserWarning: categorical_feature in Dataset is overridden.\n",
      "New categorical_feature is [6, 9, 12]\n",
      "  _log_warning('categorical_feature in Dataset is overridden.\\n'\n",
      "C:\\Users\\Sarkhel\\anaconda3\\lib\\site-packages\\lightgbm\\basic.py:1433: UserWarning: Overriding the parameters from Reference Dataset.\n",
      "  _log_warning('Overriding the parameters from Reference Dataset.')\n",
      "C:\\Users\\Sarkhel\\anaconda3\\lib\\site-packages\\lightgbm\\basic.py:1245: UserWarning: categorical_column in param dict is overridden.\n",
      "  _log_warning('{} in param dict is overridden.'.format(cat_alias))\n"
     ]
    },
    {
     "name": "stdout",
     "output_type": "stream",
     "text": [
      "Training until validation scores don't improve for 2000 rounds\n"
     ]
    },
    {
     "name": "stderr",
     "output_type": "stream",
     "text": [
      "\u001b[32m[I 2022-01-20 20:00:19,087]\u001b[0m Trial 69 finished with value: 0.5797736718422543 and parameters: {'learning_rate': 0.019018936412012674, 'lambda_l1': 2.4533482757427916e-08, 'lambda_l2': 0.946753906661856, 'num_leaves': 58, 'feature_fraction': 0.6671996141300898, 'bagging_fraction': 0.47416021492878563, 'bagging_freq': 4, 'min_child_samples': 13}. Best is trial 61 with value: 0.5843319206153812.\u001b[0m\n"
     ]
    },
    {
     "name": "stdout",
     "output_type": "stream",
     "text": [
      "Did not meet early stopping. Best iteration is:\n",
      "[91]\tvalid_0's auc: 0.579774\n",
      "[LightGBM] [Warning] Unknown parameter: nestimators\n",
      "[LightGBM] [Warning] feature_fraction is set=0.6917190844238044, colsample_bytree=1.0 will be ignored. Current value: feature_fraction=0.6917190844238044\n",
      "[LightGBM] [Warning] bagging_fraction is set=0.4926663291981742, subsample=1.0 will be ignored. Current value: bagging_fraction=0.4926663291981742\n",
      "[LightGBM] [Warning] lambda_l1 is set=9.094241805554645e-08, reg_alpha=0.0 will be ignored. Current value: lambda_l1=9.094241805554645e-08\n",
      "[LightGBM] [Warning] lambda_l2 is set=4.530581828941349, reg_lambda=0.0 will be ignored. Current value: lambda_l2=4.530581828941349\n",
      "[LightGBM] [Warning] bagging_freq is set=4, subsample_freq=0 will be ignored. Current value: bagging_freq=4\n"
     ]
    },
    {
     "name": "stderr",
     "output_type": "stream",
     "text": [
      "C:\\Users\\Sarkhel\\anaconda3\\lib\\site-packages\\lightgbm\\basic.py:1702: UserWarning: Using categorical_feature in Dataset.\n",
      "  _log_warning('Using categorical_feature in Dataset.')\n",
      "C:\\Users\\Sarkhel\\anaconda3\\lib\\site-packages\\lightgbm\\basic.py:1705: UserWarning: categorical_feature in Dataset is overridden.\n",
      "New categorical_feature is [6, 9, 12]\n",
      "  _log_warning('categorical_feature in Dataset is overridden.\\n'\n",
      "C:\\Users\\Sarkhel\\anaconda3\\lib\\site-packages\\lightgbm\\basic.py:1433: UserWarning: Overriding the parameters from Reference Dataset.\n",
      "  _log_warning('Overriding the parameters from Reference Dataset.')\n",
      "C:\\Users\\Sarkhel\\anaconda3\\lib\\site-packages\\lightgbm\\basic.py:1245: UserWarning: categorical_column in param dict is overridden.\n",
      "  _log_warning('{} in param dict is overridden.'.format(cat_alias))\n"
     ]
    },
    {
     "name": "stdout",
     "output_type": "stream",
     "text": [
      "Training until validation scores don't improve for 2000 rounds\n"
     ]
    },
    {
     "name": "stderr",
     "output_type": "stream",
     "text": [
      "\u001b[32m[I 2022-01-20 20:00:20,030]\u001b[0m Trial 70 finished with value: 0.5787569791352634 and parameters: {'learning_rate': 0.015809521537321118, 'lambda_l1': 9.094241805554645e-08, 'lambda_l2': 4.530581828941349, 'num_leaves': 25, 'feature_fraction': 0.6917190844238044, 'bagging_fraction': 0.4926663291981742, 'bagging_freq': 4, 'min_child_samples': 30}. Best is trial 61 with value: 0.5843319206153812.\u001b[0m\n"
     ]
    },
    {
     "name": "stdout",
     "output_type": "stream",
     "text": [
      "Did not meet early stopping. Best iteration is:\n",
      "[100]\tvalid_0's auc: 0.578757\n",
      "[LightGBM] [Warning] Unknown parameter: nestimators\n",
      "[LightGBM] [Warning] feature_fraction is set=0.6204585298857492, colsample_bytree=1.0 will be ignored. Current value: feature_fraction=0.6204585298857492\n",
      "[LightGBM] [Warning] bagging_fraction is set=0.45924093694850526, subsample=1.0 will be ignored. Current value: bagging_fraction=0.45924093694850526\n",
      "[LightGBM] [Warning] lambda_l1 is set=3.5613732075820723e-07, reg_alpha=0.0 will be ignored. Current value: lambda_l1=3.5613732075820723e-07\n",
      "[LightGBM] [Warning] lambda_l2 is set=0.06773880640525448, reg_lambda=0.0 will be ignored. Current value: lambda_l2=0.06773880640525448\n",
      "[LightGBM] [Warning] bagging_freq is set=5, subsample_freq=0 will be ignored. Current value: bagging_freq=5\n"
     ]
    },
    {
     "name": "stderr",
     "output_type": "stream",
     "text": [
      "C:\\Users\\Sarkhel\\anaconda3\\lib\\site-packages\\lightgbm\\basic.py:1702: UserWarning: Using categorical_feature in Dataset.\n",
      "  _log_warning('Using categorical_feature in Dataset.')\n",
      "C:\\Users\\Sarkhel\\anaconda3\\lib\\site-packages\\lightgbm\\basic.py:1705: UserWarning: categorical_feature in Dataset is overridden.\n",
      "New categorical_feature is [6, 9, 12]\n",
      "  _log_warning('categorical_feature in Dataset is overridden.\\n'\n",
      "C:\\Users\\Sarkhel\\anaconda3\\lib\\site-packages\\lightgbm\\basic.py:1433: UserWarning: Overriding the parameters from Reference Dataset.\n",
      "  _log_warning('Overriding the parameters from Reference Dataset.')\n",
      "C:\\Users\\Sarkhel\\anaconda3\\lib\\site-packages\\lightgbm\\basic.py:1245: UserWarning: categorical_column in param dict is overridden.\n",
      "  _log_warning('{} in param dict is overridden.'.format(cat_alias))\n"
     ]
    },
    {
     "name": "stdout",
     "output_type": "stream",
     "text": [
      "Training until validation scores don't improve for 2000 rounds\n"
     ]
    },
    {
     "name": "stderr",
     "output_type": "stream",
     "text": [
      "\u001b[32m[I 2022-01-20 20:00:21,305]\u001b[0m Trial 71 finished with value: 0.5829219915733529 and parameters: {'learning_rate': 0.012749274781653738, 'lambda_l1': 3.5613732075820723e-07, 'lambda_l2': 0.06773880640525448, 'num_leaves': 46, 'feature_fraction': 0.6204585298857492, 'bagging_fraction': 0.45924093694850526, 'bagging_freq': 5, 'min_child_samples': 5}. Best is trial 61 with value: 0.5843319206153812.\u001b[0m\n"
     ]
    },
    {
     "name": "stdout",
     "output_type": "stream",
     "text": [
      "Did not meet early stopping. Best iteration is:\n",
      "[47]\tvalid_0's auc: 0.582922\n",
      "[LightGBM] [Warning] Unknown parameter: nestimators\n",
      "[LightGBM] [Warning] feature_fraction is set=0.6041937797305073, colsample_bytree=1.0 will be ignored. Current value: feature_fraction=0.6041937797305073\n",
      "[LightGBM] [Warning] bagging_fraction is set=0.4514210214388003, subsample=1.0 will be ignored. Current value: bagging_fraction=0.4514210214388003\n",
      "[LightGBM] [Warning] lambda_l1 is set=1.0841149654722607e-08, reg_alpha=0.0 will be ignored. Current value: lambda_l1=1.0841149654722607e-08\n",
      "[LightGBM] [Warning] lambda_l2 is set=0.034569590353522854, reg_lambda=0.0 will be ignored. Current value: lambda_l2=0.034569590353522854\n",
      "[LightGBM] [Warning] bagging_freq is set=5, subsample_freq=0 will be ignored. Current value: bagging_freq=5\n"
     ]
    },
    {
     "name": "stderr",
     "output_type": "stream",
     "text": [
      "C:\\Users\\Sarkhel\\anaconda3\\lib\\site-packages\\lightgbm\\basic.py:1702: UserWarning: Using categorical_feature in Dataset.\n",
      "  _log_warning('Using categorical_feature in Dataset.')\n",
      "C:\\Users\\Sarkhel\\anaconda3\\lib\\site-packages\\lightgbm\\basic.py:1705: UserWarning: categorical_feature in Dataset is overridden.\n",
      "New categorical_feature is [6, 9, 12]\n",
      "  _log_warning('categorical_feature in Dataset is overridden.\\n'\n",
      "C:\\Users\\Sarkhel\\anaconda3\\lib\\site-packages\\lightgbm\\basic.py:1433: UserWarning: Overriding the parameters from Reference Dataset.\n",
      "  _log_warning('Overriding the parameters from Reference Dataset.')\n",
      "C:\\Users\\Sarkhel\\anaconda3\\lib\\site-packages\\lightgbm\\basic.py:1245: UserWarning: categorical_column in param dict is overridden.\n",
      "  _log_warning('{} in param dict is overridden.'.format(cat_alias))\n"
     ]
    },
    {
     "name": "stdout",
     "output_type": "stream",
     "text": [
      "Training until validation scores don't improve for 2000 rounds\n"
     ]
    },
    {
     "name": "stderr",
     "output_type": "stream",
     "text": [
      "\u001b[32m[I 2022-01-20 20:00:22,429]\u001b[0m Trial 72 finished with value: 0.5771378818299173 and parameters: {'learning_rate': 0.014361026045522533, 'lambda_l1': 1.0841149654722607e-08, 'lambda_l2': 0.034569590353522854, 'num_leaves': 37, 'feature_fraction': 0.6041937797305073, 'bagging_fraction': 0.4514210214388003, 'bagging_freq': 5, 'min_child_samples': 8}. Best is trial 61 with value: 0.5843319206153812.\u001b[0m\n"
     ]
    },
    {
     "name": "stdout",
     "output_type": "stream",
     "text": [
      "Did not meet early stopping. Best iteration is:\n",
      "[100]\tvalid_0's auc: 0.577138\n",
      "[LightGBM] [Warning] Unknown parameter: nestimators\n",
      "[LightGBM] [Warning] feature_fraction is set=0.5745960798262617, colsample_bytree=1.0 will be ignored. Current value: feature_fraction=0.5745960798262617\n",
      "[LightGBM] [Warning] bagging_fraction is set=0.5288996205050897, subsample=1.0 will be ignored. Current value: bagging_fraction=0.5288996205050897\n",
      "[LightGBM] [Warning] lambda_l1 is set=5.842694522644729e-08, reg_alpha=0.0 will be ignored. Current value: lambda_l1=5.842694522644729e-08\n",
      "[LightGBM] [Warning] lambda_l2 is set=0.02217395184292706, reg_lambda=0.0 will be ignored. Current value: lambda_l2=0.02217395184292706\n",
      "[LightGBM] [Warning] bagging_freq is set=5, subsample_freq=0 will be ignored. Current value: bagging_freq=5\n"
     ]
    },
    {
     "name": "stderr",
     "output_type": "stream",
     "text": [
      "C:\\Users\\Sarkhel\\anaconda3\\lib\\site-packages\\lightgbm\\basic.py:1702: UserWarning: Using categorical_feature in Dataset.\n",
      "  _log_warning('Using categorical_feature in Dataset.')\n",
      "C:\\Users\\Sarkhel\\anaconda3\\lib\\site-packages\\lightgbm\\basic.py:1705: UserWarning: categorical_feature in Dataset is overridden.\n",
      "New categorical_feature is [6, 9, 12]\n",
      "  _log_warning('categorical_feature in Dataset is overridden.\\n'\n",
      "C:\\Users\\Sarkhel\\anaconda3\\lib\\site-packages\\lightgbm\\basic.py:1433: UserWarning: Overriding the parameters from Reference Dataset.\n",
      "  _log_warning('Overriding the parameters from Reference Dataset.')\n",
      "C:\\Users\\Sarkhel\\anaconda3\\lib\\site-packages\\lightgbm\\basic.py:1245: UserWarning: categorical_column in param dict is overridden.\n",
      "  _log_warning('{} in param dict is overridden.'.format(cat_alias))\n"
     ]
    },
    {
     "name": "stdout",
     "output_type": "stream",
     "text": [
      "Training until validation scores don't improve for 2000 rounds\n"
     ]
    },
    {
     "name": "stderr",
     "output_type": "stream",
     "text": [
      "\u001b[32m[I 2022-01-20 20:00:24,143]\u001b[0m Trial 73 finished with value: 0.5889527849202367 and parameters: {'learning_rate': 0.018508133231121448, 'lambda_l1': 5.842694522644729e-08, 'lambda_l2': 0.02217395184292706, 'num_leaves': 76, 'feature_fraction': 0.5745960798262617, 'bagging_fraction': 0.5288996205050897, 'bagging_freq': 5, 'min_child_samples': 77}. Best is trial 73 with value: 0.5889527849202367.\u001b[0m\n"
     ]
    },
    {
     "name": "stdout",
     "output_type": "stream",
     "text": [
      "Did not meet early stopping. Best iteration is:\n",
      "[61]\tvalid_0's auc: 0.588953\n",
      "[LightGBM] [Warning] Unknown parameter: nestimators\n",
      "[LightGBM] [Warning] feature_fraction is set=0.5760464846910862, colsample_bytree=1.0 will be ignored. Current value: feature_fraction=0.5760464846910862\n",
      "[LightGBM] [Warning] bagging_fraction is set=0.5888053823516979, subsample=1.0 will be ignored. Current value: bagging_fraction=0.5888053823516979\n",
      "[LightGBM] [Warning] lambda_l1 is set=4.957453349646843e-08, reg_alpha=0.0 will be ignored. Current value: lambda_l1=4.957453349646843e-08\n",
      "[LightGBM] [Warning] lambda_l2 is set=0.025954466551597777, reg_lambda=0.0 will be ignored. Current value: lambda_l2=0.025954466551597777\n",
      "[LightGBM] [Warning] bagging_freq is set=1, subsample_freq=0 will be ignored. Current value: bagging_freq=1\n"
     ]
    },
    {
     "name": "stderr",
     "output_type": "stream",
     "text": [
      "C:\\Users\\Sarkhel\\anaconda3\\lib\\site-packages\\lightgbm\\basic.py:1702: UserWarning: Using categorical_feature in Dataset.\n",
      "  _log_warning('Using categorical_feature in Dataset.')\n",
      "C:\\Users\\Sarkhel\\anaconda3\\lib\\site-packages\\lightgbm\\basic.py:1705: UserWarning: categorical_feature in Dataset is overridden.\n",
      "New categorical_feature is [6, 9, 12]\n",
      "  _log_warning('categorical_feature in Dataset is overridden.\\n'\n",
      "C:\\Users\\Sarkhel\\anaconda3\\lib\\site-packages\\lightgbm\\basic.py:1433: UserWarning: Overriding the parameters from Reference Dataset.\n",
      "  _log_warning('Overriding the parameters from Reference Dataset.')\n",
      "C:\\Users\\Sarkhel\\anaconda3\\lib\\site-packages\\lightgbm\\basic.py:1245: UserWarning: categorical_column in param dict is overridden.\n",
      "  _log_warning('{} in param dict is overridden.'.format(cat_alias))\n"
     ]
    },
    {
     "name": "stdout",
     "output_type": "stream",
     "text": [
      "Training until validation scores don't improve for 2000 rounds\n"
     ]
    },
    {
     "name": "stderr",
     "output_type": "stream",
     "text": [
      "\u001b[32m[I 2022-01-20 20:00:25,790]\u001b[0m Trial 74 finished with value: 0.5815436401917223 and parameters: {'learning_rate': 0.021976295548163625, 'lambda_l1': 4.957453349646843e-08, 'lambda_l2': 0.025954466551597777, 'num_leaves': 77, 'feature_fraction': 0.5760464846910862, 'bagging_fraction': 0.5888053823516979, 'bagging_freq': 1, 'min_child_samples': 77}. Best is trial 73 with value: 0.5889527849202367.\u001b[0m\n"
     ]
    },
    {
     "name": "stdout",
     "output_type": "stream",
     "text": [
      "Did not meet early stopping. Best iteration is:\n",
      "[40]\tvalid_0's auc: 0.581544\n",
      "[LightGBM] [Warning] Unknown parameter: nestimators\n",
      "[LightGBM] [Warning] feature_fraction is set=0.5569063958943969, colsample_bytree=1.0 will be ignored. Current value: feature_fraction=0.5569063958943969\n",
      "[LightGBM] [Warning] bagging_fraction is set=0.4170030850271915, subsample=1.0 will be ignored. Current value: bagging_fraction=0.4170030850271915\n",
      "[LightGBM] [Warning] lambda_l1 is set=5.883178659718988e-07, reg_alpha=0.0 will be ignored. Current value: lambda_l1=5.883178659718988e-07\n",
      "[LightGBM] [Warning] lambda_l2 is set=0.005697371066417112, reg_lambda=0.0 will be ignored. Current value: lambda_l2=0.005697371066417112\n",
      "[LightGBM] [Warning] bagging_freq is set=5, subsample_freq=0 will be ignored. Current value: bagging_freq=5\n"
     ]
    },
    {
     "name": "stderr",
     "output_type": "stream",
     "text": [
      "C:\\Users\\Sarkhel\\anaconda3\\lib\\site-packages\\lightgbm\\basic.py:1702: UserWarning: Using categorical_feature in Dataset.\n",
      "  _log_warning('Using categorical_feature in Dataset.')\n",
      "C:\\Users\\Sarkhel\\anaconda3\\lib\\site-packages\\lightgbm\\basic.py:1705: UserWarning: categorical_feature in Dataset is overridden.\n",
      "New categorical_feature is [6, 9, 12]\n",
      "  _log_warning('categorical_feature in Dataset is overridden.\\n'\n",
      "C:\\Users\\Sarkhel\\anaconda3\\lib\\site-packages\\lightgbm\\basic.py:1433: UserWarning: Overriding the parameters from Reference Dataset.\n",
      "  _log_warning('Overriding the parameters from Reference Dataset.')\n",
      "C:\\Users\\Sarkhel\\anaconda3\\lib\\site-packages\\lightgbm\\basic.py:1245: UserWarning: categorical_column in param dict is overridden.\n",
      "  _log_warning('{} in param dict is overridden.'.format(cat_alias))\n"
     ]
    },
    {
     "name": "stdout",
     "output_type": "stream",
     "text": [
      "Training until validation scores don't improve for 2000 rounds\n"
     ]
    },
    {
     "name": "stderr",
     "output_type": "stream",
     "text": [
      "\u001b[32m[I 2022-01-20 20:00:27,932]\u001b[0m Trial 75 finished with value: 0.5793704494094842 and parameters: {'learning_rate': 0.025606395510618787, 'lambda_l1': 5.883178659718988e-07, 'lambda_l2': 0.005697371066417112, 'num_leaves': 96, 'feature_fraction': 0.5569063958943969, 'bagging_fraction': 0.4170030850271915, 'bagging_freq': 5, 'min_child_samples': 5}. Best is trial 73 with value: 0.5889527849202367.\u001b[0m\n"
     ]
    },
    {
     "name": "stdout",
     "output_type": "stream",
     "text": [
      "Did not meet early stopping. Best iteration is:\n",
      "[89]\tvalid_0's auc: 0.57937\n",
      "[LightGBM] [Warning] Unknown parameter: nestimators\n",
      "[LightGBM] [Warning] feature_fraction is set=0.5194653311406524, colsample_bytree=1.0 will be ignored. Current value: feature_fraction=0.5194653311406524\n",
      "[LightGBM] [Warning] bagging_fraction is set=0.5362275770568499, subsample=1.0 will be ignored. Current value: bagging_fraction=0.5362275770568499\n",
      "[LightGBM] [Warning] lambda_l1 is set=0.009927983663926174, reg_alpha=0.0 will be ignored. Current value: lambda_l1=0.009927983663926174\n",
      "[LightGBM] [Warning] lambda_l2 is set=0.0007569775201706173, reg_lambda=0.0 will be ignored. Current value: lambda_l2=0.0007569775201706173\n",
      "[LightGBM] [Warning] bagging_freq is set=5, subsample_freq=0 will be ignored. Current value: bagging_freq=5\n"
     ]
    },
    {
     "name": "stderr",
     "output_type": "stream",
     "text": [
      "C:\\Users\\Sarkhel\\anaconda3\\lib\\site-packages\\lightgbm\\basic.py:1702: UserWarning: Using categorical_feature in Dataset.\n",
      "  _log_warning('Using categorical_feature in Dataset.')\n",
      "C:\\Users\\Sarkhel\\anaconda3\\lib\\site-packages\\lightgbm\\basic.py:1705: UserWarning: categorical_feature in Dataset is overridden.\n",
      "New categorical_feature is [6, 9, 12]\n",
      "  _log_warning('categorical_feature in Dataset is overridden.\\n'\n",
      "C:\\Users\\Sarkhel\\anaconda3\\lib\\site-packages\\lightgbm\\basic.py:1433: UserWarning: Overriding the parameters from Reference Dataset.\n",
      "  _log_warning('Overriding the parameters from Reference Dataset.')\n",
      "C:\\Users\\Sarkhel\\anaconda3\\lib\\site-packages\\lightgbm\\basic.py:1245: UserWarning: categorical_column in param dict is overridden.\n",
      "  _log_warning('{} in param dict is overridden.'.format(cat_alias))\n"
     ]
    },
    {
     "name": "stdout",
     "output_type": "stream",
     "text": [
      "Training until validation scores don't improve for 2000 rounds\n"
     ]
    },
    {
     "name": "stderr",
     "output_type": "stream",
     "text": [
      "\u001b[32m[I 2022-01-20 20:00:28,964]\u001b[0m Trial 76 finished with value: 0.5809347581245676 and parameters: {'learning_rate': 0.018323277185805217, 'lambda_l1': 0.009927983663926174, 'lambda_l2': 0.0007569775201706173, 'num_leaves': 33, 'feature_fraction': 0.5194653311406524, 'bagging_fraction': 0.5362275770568499, 'bagging_freq': 5, 'min_child_samples': 70}. Best is trial 73 with value: 0.5889527849202367.\u001b[0m\n"
     ]
    },
    {
     "name": "stdout",
     "output_type": "stream",
     "text": [
      "Did not meet early stopping. Best iteration is:\n",
      "[51]\tvalid_0's auc: 0.580935\n",
      "[LightGBM] [Warning] Unknown parameter: nestimators\n",
      "[LightGBM] [Warning] feature_fraction is set=0.9979740853958174, colsample_bytree=1.0 will be ignored. Current value: feature_fraction=0.9979740853958174\n",
      "[LightGBM] [Warning] bagging_fraction is set=0.45517696669849783, subsample=1.0 will be ignored. Current value: bagging_fraction=0.45517696669849783\n",
      "[LightGBM] [Warning] lambda_l1 is set=1.7038711265760802e-07, reg_alpha=0.0 will be ignored. Current value: lambda_l1=1.7038711265760802e-07\n",
      "[LightGBM] [Warning] lambda_l2 is set=0.07087169982137324, reg_lambda=0.0 will be ignored. Current value: lambda_l2=0.07087169982137324\n",
      "[LightGBM] [Warning] bagging_freq is set=5, subsample_freq=0 will be ignored. Current value: bagging_freq=5\n"
     ]
    },
    {
     "name": "stderr",
     "output_type": "stream",
     "text": [
      "C:\\Users\\Sarkhel\\anaconda3\\lib\\site-packages\\lightgbm\\basic.py:1702: UserWarning: Using categorical_feature in Dataset.\n",
      "  _log_warning('Using categorical_feature in Dataset.')\n",
      "C:\\Users\\Sarkhel\\anaconda3\\lib\\site-packages\\lightgbm\\basic.py:1705: UserWarning: categorical_feature in Dataset is overridden.\n",
      "New categorical_feature is [6, 9, 12]\n",
      "  _log_warning('categorical_feature in Dataset is overridden.\\n'\n",
      "C:\\Users\\Sarkhel\\anaconda3\\lib\\site-packages\\lightgbm\\basic.py:1433: UserWarning: Overriding the parameters from Reference Dataset.\n",
      "  _log_warning('Overriding the parameters from Reference Dataset.')\n",
      "C:\\Users\\Sarkhel\\anaconda3\\lib\\site-packages\\lightgbm\\basic.py:1245: UserWarning: categorical_column in param dict is overridden.\n",
      "  _log_warning('{} in param dict is overridden.'.format(cat_alias))\n"
     ]
    },
    {
     "name": "stdout",
     "output_type": "stream",
     "text": [
      "Training until validation scores don't improve for 2000 rounds\n"
     ]
    },
    {
     "name": "stderr",
     "output_type": "stream",
     "text": [
      "\u001b[32m[I 2022-01-20 20:00:31,435]\u001b[0m Trial 77 finished with value: 0.5731623353542137 and parameters: {'learning_rate': 0.012587264453271694, 'lambda_l1': 1.7038711265760802e-07, 'lambda_l2': 0.07087169982137324, 'num_leaves': 124, 'feature_fraction': 0.9979740853958174, 'bagging_fraction': 0.45517696669849783, 'bagging_freq': 5, 'min_child_samples': 81}. Best is trial 73 with value: 0.5889527849202367.\u001b[0m\n"
     ]
    },
    {
     "name": "stdout",
     "output_type": "stream",
     "text": [
      "Did not meet early stopping. Best iteration is:\n",
      "[59]\tvalid_0's auc: 0.573162\n",
      "[LightGBM] [Warning] Unknown parameter: nestimators\n",
      "[LightGBM] [Warning] feature_fraction is set=0.6257960150306819, colsample_bytree=1.0 will be ignored. Current value: feature_fraction=0.6257960150306819\n",
      "[LightGBM] [Warning] bagging_fraction is set=0.48719426109909636, subsample=1.0 will be ignored. Current value: bagging_fraction=0.48719426109909636\n",
      "[LightGBM] [Warning] lambda_l1 is set=1.8274607900275922e-05, reg_alpha=0.0 will be ignored. Current value: lambda_l1=1.8274607900275922e-05\n",
      "[LightGBM] [Warning] lambda_l2 is set=0.020048612910640744, reg_lambda=0.0 will be ignored. Current value: lambda_l2=0.020048612910640744\n",
      "[LightGBM] [Warning] bagging_freq is set=4, subsample_freq=0 will be ignored. Current value: bagging_freq=4\n"
     ]
    },
    {
     "name": "stderr",
     "output_type": "stream",
     "text": [
      "C:\\Users\\Sarkhel\\anaconda3\\lib\\site-packages\\lightgbm\\basic.py:1702: UserWarning: Using categorical_feature in Dataset.\n",
      "  _log_warning('Using categorical_feature in Dataset.')\n",
      "C:\\Users\\Sarkhel\\anaconda3\\lib\\site-packages\\lightgbm\\basic.py:1705: UserWarning: categorical_feature in Dataset is overridden.\n",
      "New categorical_feature is [6, 9, 12]\n",
      "  _log_warning('categorical_feature in Dataset is overridden.\\n'\n",
      "C:\\Users\\Sarkhel\\anaconda3\\lib\\site-packages\\lightgbm\\basic.py:1433: UserWarning: Overriding the parameters from Reference Dataset.\n",
      "  _log_warning('Overriding the parameters from Reference Dataset.')\n",
      "C:\\Users\\Sarkhel\\anaconda3\\lib\\site-packages\\lightgbm\\basic.py:1245: UserWarning: categorical_column in param dict is overridden.\n",
      "  _log_warning('{} in param dict is overridden.'.format(cat_alias))\n"
     ]
    },
    {
     "name": "stdout",
     "output_type": "stream",
     "text": [
      "Training until validation scores don't improve for 2000 rounds\n"
     ]
    },
    {
     "name": "stderr",
     "output_type": "stream",
     "text": [
      "\u001b[32m[I 2022-01-20 20:00:33,019]\u001b[0m Trial 78 finished with value: 0.5782324391097691 and parameters: {'learning_rate': 0.010562376395185398, 'lambda_l1': 1.8274607900275922e-05, 'lambda_l2': 0.020048612910640744, 'num_leaves': 65, 'feature_fraction': 0.6257960150306819, 'bagging_fraction': 0.48719426109909636, 'bagging_freq': 4, 'min_child_samples': 83}. Best is trial 73 with value: 0.5889527849202367.\u001b[0m\n"
     ]
    },
    {
     "name": "stdout",
     "output_type": "stream",
     "text": [
      "Did not meet early stopping. Best iteration is:\n",
      "[22]\tvalid_0's auc: 0.578232\n",
      "[LightGBM] [Warning] Unknown parameter: nestimators\n",
      "[LightGBM] [Warning] feature_fraction is set=0.5818152423734714, colsample_bytree=1.0 will be ignored. Current value: feature_fraction=0.5818152423734714\n",
      "[LightGBM] [Warning] bagging_fraction is set=0.42009997437926516, subsample=1.0 will be ignored. Current value: bagging_fraction=0.42009997437926516\n",
      "[LightGBM] [Warning] lambda_l1 is set=2.8563350795385647e-07, reg_alpha=0.0 will be ignored. Current value: lambda_l1=2.8563350795385647e-07\n",
      "[LightGBM] [Warning] lambda_l2 is set=0.4156758027817724, reg_lambda=0.0 will be ignored. Current value: lambda_l2=0.4156758027817724\n",
      "[LightGBM] [Warning] bagging_freq is set=2, subsample_freq=0 will be ignored. Current value: bagging_freq=2\n"
     ]
    },
    {
     "name": "stderr",
     "output_type": "stream",
     "text": [
      "C:\\Users\\Sarkhel\\anaconda3\\lib\\site-packages\\lightgbm\\basic.py:1702: UserWarning: Using categorical_feature in Dataset.\n",
      "  _log_warning('Using categorical_feature in Dataset.')\n",
      "C:\\Users\\Sarkhel\\anaconda3\\lib\\site-packages\\lightgbm\\basic.py:1705: UserWarning: categorical_feature in Dataset is overridden.\n",
      "New categorical_feature is [6, 9, 12]\n",
      "  _log_warning('categorical_feature in Dataset is overridden.\\n'\n",
      "C:\\Users\\Sarkhel\\anaconda3\\lib\\site-packages\\lightgbm\\basic.py:1433: UserWarning: Overriding the parameters from Reference Dataset.\n",
      "  _log_warning('Overriding the parameters from Reference Dataset.')\n",
      "C:\\Users\\Sarkhel\\anaconda3\\lib\\site-packages\\lightgbm\\basic.py:1245: UserWarning: categorical_column in param dict is overridden.\n",
      "  _log_warning('{} in param dict is overridden.'.format(cat_alias))\n"
     ]
    },
    {
     "name": "stdout",
     "output_type": "stream",
     "text": [
      "Training until validation scores don't improve for 2000 rounds\n"
     ]
    },
    {
     "name": "stderr",
     "output_type": "stream",
     "text": [
      "\u001b[32m[I 2022-01-20 20:00:36,549]\u001b[0m Trial 79 finished with value: 0.5783294661944951 and parameters: {'learning_rate': 0.013865439808372803, 'lambda_l1': 2.8563350795385647e-07, 'lambda_l2': 0.4156758027817724, 'num_leaves': 175, 'feature_fraction': 0.5818152423734714, 'bagging_fraction': 0.42009997437926516, 'bagging_freq': 2, 'min_child_samples': 23}. Best is trial 73 with value: 0.5889527849202367.\u001b[0m\n"
     ]
    },
    {
     "name": "stdout",
     "output_type": "stream",
     "text": [
      "Did not meet early stopping. Best iteration is:\n",
      "[62]\tvalid_0's auc: 0.578329\n",
      "[LightGBM] [Warning] Unknown parameter: nestimators\n",
      "[LightGBM] [Warning] feature_fraction is set=0.48034148315954106, colsample_bytree=1.0 will be ignored. Current value: feature_fraction=0.48034148315954106\n",
      "[LightGBM] [Warning] bagging_fraction is set=0.4775467353174786, subsample=1.0 will be ignored. Current value: bagging_fraction=0.4775467353174786\n",
      "[LightGBM] [Warning] lambda_l1 is set=1.1066593149178216e-07, reg_alpha=0.0 will be ignored. Current value: lambda_l1=1.1066593149178216e-07\n",
      "[LightGBM] [Warning] lambda_l2 is set=0.0031344141699724427, reg_lambda=0.0 will be ignored. Current value: lambda_l2=0.0031344141699724427\n",
      "[LightGBM] [Warning] bagging_freq is set=5, subsample_freq=0 will be ignored. Current value: bagging_freq=5\n"
     ]
    },
    {
     "name": "stderr",
     "output_type": "stream",
     "text": [
      "C:\\Users\\Sarkhel\\anaconda3\\lib\\site-packages\\lightgbm\\basic.py:1702: UserWarning: Using categorical_feature in Dataset.\n",
      "  _log_warning('Using categorical_feature in Dataset.')\n",
      "C:\\Users\\Sarkhel\\anaconda3\\lib\\site-packages\\lightgbm\\basic.py:1705: UserWarning: categorical_feature in Dataset is overridden.\n",
      "New categorical_feature is [6, 9, 12]\n",
      "  _log_warning('categorical_feature in Dataset is overridden.\\n'\n",
      "C:\\Users\\Sarkhel\\anaconda3\\lib\\site-packages\\lightgbm\\basic.py:1433: UserWarning: Overriding the parameters from Reference Dataset.\n",
      "  _log_warning('Overriding the parameters from Reference Dataset.')\n",
      "C:\\Users\\Sarkhel\\anaconda3\\lib\\site-packages\\lightgbm\\basic.py:1245: UserWarning: categorical_column in param dict is overridden.\n",
      "  _log_warning('{} in param dict is overridden.'.format(cat_alias))\n"
     ]
    },
    {
     "name": "stdout",
     "output_type": "stream",
     "text": [
      "Training until validation scores don't improve for 2000 rounds\n"
     ]
    },
    {
     "name": "stderr",
     "output_type": "stream",
     "text": [
      "\u001b[32m[I 2022-01-20 20:00:37,404]\u001b[0m Trial 80 finished with value: 0.58309526386374 and parameters: {'learning_rate': 0.015763354223349357, 'lambda_l1': 1.1066593149178216e-07, 'lambda_l2': 0.0031344141699724427, 'num_leaves': 22, 'feature_fraction': 0.48034148315954106, 'bagging_fraction': 0.4775467353174786, 'bagging_freq': 5, 'min_child_samples': 77}. Best is trial 73 with value: 0.5889527849202367.\u001b[0m\n"
     ]
    },
    {
     "name": "stdout",
     "output_type": "stream",
     "text": [
      "Did not meet early stopping. Best iteration is:\n",
      "[51]\tvalid_0's auc: 0.583095\n",
      "[LightGBM] [Warning] Unknown parameter: nestimators\n",
      "[LightGBM] [Warning] feature_fraction is set=0.4828349247314415, colsample_bytree=1.0 will be ignored. Current value: feature_fraction=0.4828349247314415\n",
      "[LightGBM] [Warning] bagging_fraction is set=0.47674337785421955, subsample=1.0 will be ignored. Current value: bagging_fraction=0.47674337785421955\n",
      "[LightGBM] [Warning] lambda_l1 is set=7.170629706357009e-08, reg_alpha=0.0 will be ignored. Current value: lambda_l1=7.170629706357009e-08\n",
      "[LightGBM] [Warning] lambda_l2 is set=0.010276172016638338, reg_lambda=0.0 will be ignored. Current value: lambda_l2=0.010276172016638338\n",
      "[LightGBM] [Warning] bagging_freq is set=5, subsample_freq=0 will be ignored. Current value: bagging_freq=5\n"
     ]
    },
    {
     "name": "stderr",
     "output_type": "stream",
     "text": [
      "C:\\Users\\Sarkhel\\anaconda3\\lib\\site-packages\\lightgbm\\basic.py:1702: UserWarning: Using categorical_feature in Dataset.\n",
      "  _log_warning('Using categorical_feature in Dataset.')\n",
      "C:\\Users\\Sarkhel\\anaconda3\\lib\\site-packages\\lightgbm\\basic.py:1705: UserWarning: categorical_feature in Dataset is overridden.\n",
      "New categorical_feature is [6, 9, 12]\n",
      "  _log_warning('categorical_feature in Dataset is overridden.\\n'\n",
      "C:\\Users\\Sarkhel\\anaconda3\\lib\\site-packages\\lightgbm\\basic.py:1433: UserWarning: Overriding the parameters from Reference Dataset.\n",
      "  _log_warning('Overriding the parameters from Reference Dataset.')\n",
      "C:\\Users\\Sarkhel\\anaconda3\\lib\\site-packages\\lightgbm\\basic.py:1245: UserWarning: categorical_column in param dict is overridden.\n",
      "  _log_warning('{} in param dict is overridden.'.format(cat_alias))\n"
     ]
    },
    {
     "name": "stdout",
     "output_type": "stream",
     "text": [
      "Training until validation scores don't improve for 2000 rounds\n"
     ]
    },
    {
     "name": "stderr",
     "output_type": "stream",
     "text": [
      "\u001b[32m[I 2022-01-20 20:00:38,030]\u001b[0m Trial 81 finished with value: 0.5801817523766237 and parameters: {'learning_rate': 0.01865502129162319, 'lambda_l1': 7.170629706357009e-08, 'lambda_l2': 0.010276172016638338, 'num_leaves': 10, 'feature_fraction': 0.4828349247314415, 'bagging_fraction': 0.47674337785421955, 'bagging_freq': 5, 'min_child_samples': 74}. Best is trial 73 with value: 0.5889527849202367.\u001b[0m\n"
     ]
    },
    {
     "name": "stdout",
     "output_type": "stream",
     "text": [
      "Did not meet early stopping. Best iteration is:\n",
      "[58]\tvalid_0's auc: 0.580182\n",
      "[LightGBM] [Warning] Unknown parameter: nestimators\n",
      "[LightGBM] [Warning] feature_fraction is set=0.46021196117696567, colsample_bytree=1.0 will be ignored. Current value: feature_fraction=0.46021196117696567\n",
      "[LightGBM] [Warning] bagging_fraction is set=0.5002713863477348, subsample=1.0 will be ignored. Current value: bagging_fraction=0.5002713863477348\n",
      "[LightGBM] [Warning] lambda_l1 is set=1.1005981298858989e-07, reg_alpha=0.0 will be ignored. Current value: lambda_l1=1.1005981298858989e-07\n",
      "[LightGBM] [Warning] lambda_l2 is set=0.0027772197137944, reg_lambda=0.0 will be ignored. Current value: lambda_l2=0.0027772197137944\n",
      "[LightGBM] [Warning] bagging_freq is set=5, subsample_freq=0 will be ignored. Current value: bagging_freq=5\n"
     ]
    },
    {
     "name": "stderr",
     "output_type": "stream",
     "text": [
      "C:\\Users\\Sarkhel\\anaconda3\\lib\\site-packages\\lightgbm\\basic.py:1702: UserWarning: Using categorical_feature in Dataset.\n",
      "  _log_warning('Using categorical_feature in Dataset.')\n",
      "C:\\Users\\Sarkhel\\anaconda3\\lib\\site-packages\\lightgbm\\basic.py:1705: UserWarning: categorical_feature in Dataset is overridden.\n",
      "New categorical_feature is [6, 9, 12]\n",
      "  _log_warning('categorical_feature in Dataset is overridden.\\n'\n",
      "C:\\Users\\Sarkhel\\anaconda3\\lib\\site-packages\\lightgbm\\basic.py:1433: UserWarning: Overriding the parameters from Reference Dataset.\n",
      "  _log_warning('Overriding the parameters from Reference Dataset.')\n",
      "C:\\Users\\Sarkhel\\anaconda3\\lib\\site-packages\\lightgbm\\basic.py:1245: UserWarning: categorical_column in param dict is overridden.\n",
      "  _log_warning('{} in param dict is overridden.'.format(cat_alias))\n"
     ]
    },
    {
     "name": "stdout",
     "output_type": "stream",
     "text": [
      "Training until validation scores don't improve for 2000 rounds\n"
     ]
    },
    {
     "name": "stderr",
     "output_type": "stream",
     "text": [
      "\u001b[32m[I 2022-01-20 20:00:39,416]\u001b[0m Trial 82 finished with value: 0.5803528655107444 and parameters: {'learning_rate': 0.01191332346815783, 'lambda_l1': 1.1005981298858989e-07, 'lambda_l2': 0.0027772197137944, 'num_leaves': 55, 'feature_fraction': 0.46021196117696567, 'bagging_fraction': 0.5002713863477348, 'bagging_freq': 5, 'min_child_samples': 66}. Best is trial 73 with value: 0.5889527849202367.\u001b[0m\n"
     ]
    },
    {
     "name": "stdout",
     "output_type": "stream",
     "text": [
      "Did not meet early stopping. Best iteration is:\n",
      "[45]\tvalid_0's auc: 0.580353\n",
      "[LightGBM] [Warning] Unknown parameter: nestimators\n",
      "[LightGBM] [Warning] feature_fraction is set=0.49802455723644395, colsample_bytree=1.0 will be ignored. Current value: feature_fraction=0.49802455723644395\n",
      "[LightGBM] [Warning] bagging_fraction is set=0.43752002330290174, subsample=1.0 will be ignored. Current value: bagging_fraction=0.43752002330290174\n",
      "[LightGBM] [Warning] lambda_l1 is set=7.445959826978149e-07, reg_alpha=0.0 will be ignored. Current value: lambda_l1=7.445959826978149e-07\n",
      "[LightGBM] [Warning] lambda_l2 is set=0.09648156910074353, reg_lambda=0.0 will be ignored. Current value: lambda_l2=0.09648156910074353\n",
      "[LightGBM] [Warning] bagging_freq is set=5, subsample_freq=0 will be ignored. Current value: bagging_freq=5\n"
     ]
    },
    {
     "name": "stderr",
     "output_type": "stream",
     "text": [
      "C:\\Users\\Sarkhel\\anaconda3\\lib\\site-packages\\lightgbm\\basic.py:1702: UserWarning: Using categorical_feature in Dataset.\n",
      "  _log_warning('Using categorical_feature in Dataset.')\n",
      "C:\\Users\\Sarkhel\\anaconda3\\lib\\site-packages\\lightgbm\\basic.py:1705: UserWarning: categorical_feature in Dataset is overridden.\n",
      "New categorical_feature is [6, 9, 12]\n",
      "  _log_warning('categorical_feature in Dataset is overridden.\\n'\n",
      "C:\\Users\\Sarkhel\\anaconda3\\lib\\site-packages\\lightgbm\\basic.py:1433: UserWarning: Overriding the parameters from Reference Dataset.\n",
      "  _log_warning('Overriding the parameters from Reference Dataset.')\n",
      "C:\\Users\\Sarkhel\\anaconda3\\lib\\site-packages\\lightgbm\\basic.py:1245: UserWarning: categorical_column in param dict is overridden.\n",
      "  _log_warning('{} in param dict is overridden.'.format(cat_alias))\n"
     ]
    },
    {
     "name": "stdout",
     "output_type": "stream",
     "text": [
      "Training until validation scores don't improve for 2000 rounds\n"
     ]
    },
    {
     "name": "stderr",
     "output_type": "stream",
     "text": [
      "\u001b[32m[I 2022-01-20 20:00:40,252]\u001b[0m Trial 83 finished with value: 0.5789826109651132 and parameters: {'learning_rate': 0.015585272622393257, 'lambda_l1': 7.445959826978149e-07, 'lambda_l2': 0.09648156910074353, 'num_leaves': 22, 'feature_fraction': 0.49802455723644395, 'bagging_fraction': 0.43752002330290174, 'bagging_freq': 5, 'min_child_samples': 77}. Best is trial 73 with value: 0.5889527849202367.\u001b[0m\n"
     ]
    },
    {
     "name": "stdout",
     "output_type": "stream",
     "text": [
      "Did not meet early stopping. Best iteration is:\n",
      "[100]\tvalid_0's auc: 0.578983\n",
      "[LightGBM] [Warning] Unknown parameter: nestimators\n",
      "[LightGBM] [Warning] feature_fraction is set=0.5231472642364837, colsample_bytree=1.0 will be ignored. Current value: feature_fraction=0.5231472642364837\n",
      "[LightGBM] [Warning] bagging_fraction is set=0.5274390174611536, subsample=1.0 will be ignored. Current value: bagging_fraction=0.5274390174611536\n",
      "[LightGBM] [Warning] lambda_l1 is set=1.7254544231847524e-08, reg_alpha=0.0 will be ignored. Current value: lambda_l1=1.7254544231847524e-08\n",
      "[LightGBM] [Warning] lambda_l2 is set=0.0011782543939783583, reg_lambda=0.0 will be ignored. Current value: lambda_l2=0.0011782543939783583\n",
      "[LightGBM] [Warning] bagging_freq is set=6, subsample_freq=0 will be ignored. Current value: bagging_freq=6\n"
     ]
    },
    {
     "name": "stderr",
     "output_type": "stream",
     "text": [
      "C:\\Users\\Sarkhel\\anaconda3\\lib\\site-packages\\lightgbm\\basic.py:1702: UserWarning: Using categorical_feature in Dataset.\n",
      "  _log_warning('Using categorical_feature in Dataset.')\n",
      "C:\\Users\\Sarkhel\\anaconda3\\lib\\site-packages\\lightgbm\\basic.py:1705: UserWarning: categorical_feature in Dataset is overridden.\n",
      "New categorical_feature is [6, 9, 12]\n",
      "  _log_warning('categorical_feature in Dataset is overridden.\\n'\n",
      "C:\\Users\\Sarkhel\\anaconda3\\lib\\site-packages\\lightgbm\\basic.py:1433: UserWarning: Overriding the parameters from Reference Dataset.\n",
      "  _log_warning('Overriding the parameters from Reference Dataset.')\n",
      "C:\\Users\\Sarkhel\\anaconda3\\lib\\site-packages\\lightgbm\\basic.py:1245: UserWarning: categorical_column in param dict is overridden.\n",
      "  _log_warning('{} in param dict is overridden.'.format(cat_alias))\n"
     ]
    },
    {
     "name": "stdout",
     "output_type": "stream",
     "text": [
      "Training until validation scores don't improve for 2000 rounds\n"
     ]
    },
    {
     "name": "stderr",
     "output_type": "stream",
     "text": [
      "\u001b[32m[I 2022-01-20 20:00:41,405]\u001b[0m Trial 84 finished with value: 0.5833424872562549 and parameters: {'learning_rate': 0.019354800268577332, 'lambda_l1': 1.7254544231847524e-08, 'lambda_l2': 0.0011782543939783583, 'num_leaves': 42, 'feature_fraction': 0.5231472642364837, 'bagging_fraction': 0.5274390174611536, 'bagging_freq': 6, 'min_child_samples': 95}. Best is trial 73 with value: 0.5889527849202367.\u001b[0m\n"
     ]
    },
    {
     "name": "stdout",
     "output_type": "stream",
     "text": [
      "Did not meet early stopping. Best iteration is:\n",
      "[83]\tvalid_0's auc: 0.583342\n",
      "[LightGBM] [Warning] Unknown parameter: nestimators\n",
      "[LightGBM] [Warning] feature_fraction is set=0.5235475723361787, colsample_bytree=1.0 will be ignored. Current value: feature_fraction=0.5235475723361787\n",
      "[LightGBM] [Warning] bagging_fraction is set=0.5291703966096609, subsample=1.0 will be ignored. Current value: bagging_fraction=0.5291703966096609\n",
      "[LightGBM] [Warning] lambda_l1 is set=1.6844539022512688e-08, reg_alpha=0.0 will be ignored. Current value: lambda_l1=1.6844539022512688e-08\n",
      "[LightGBM] [Warning] lambda_l2 is set=0.00023279402052714428, reg_lambda=0.0 will be ignored. Current value: lambda_l2=0.00023279402052714428\n",
      "[LightGBM] [Warning] bagging_freq is set=6, subsample_freq=0 will be ignored. Current value: bagging_freq=6\n"
     ]
    },
    {
     "name": "stderr",
     "output_type": "stream",
     "text": [
      "C:\\Users\\Sarkhel\\anaconda3\\lib\\site-packages\\lightgbm\\basic.py:1702: UserWarning: Using categorical_feature in Dataset.\n",
      "  _log_warning('Using categorical_feature in Dataset.')\n",
      "C:\\Users\\Sarkhel\\anaconda3\\lib\\site-packages\\lightgbm\\basic.py:1705: UserWarning: categorical_feature in Dataset is overridden.\n",
      "New categorical_feature is [6, 9, 12]\n",
      "  _log_warning('categorical_feature in Dataset is overridden.\\n'\n",
      "C:\\Users\\Sarkhel\\anaconda3\\lib\\site-packages\\lightgbm\\basic.py:1433: UserWarning: Overriding the parameters from Reference Dataset.\n",
      "  _log_warning('Overriding the parameters from Reference Dataset.')\n",
      "C:\\Users\\Sarkhel\\anaconda3\\lib\\site-packages\\lightgbm\\basic.py:1245: UserWarning: categorical_column in param dict is overridden.\n",
      "  _log_warning('{} in param dict is overridden.'.format(cat_alias))\n"
     ]
    },
    {
     "name": "stdout",
     "output_type": "stream",
     "text": [
      "Training until validation scores don't improve for 2000 rounds\n"
     ]
    },
    {
     "name": "stderr",
     "output_type": "stream",
     "text": [
      "\u001b[32m[I 2022-01-20 20:00:42,587]\u001b[0m Trial 85 finished with value: 0.5810775323326904 and parameters: {'learning_rate': 0.019662658565498897, 'lambda_l1': 1.6844539022512688e-08, 'lambda_l2': 0.00023279402052714428, 'num_leaves': 43, 'feature_fraction': 0.5235475723361787, 'bagging_fraction': 0.5291703966096609, 'bagging_freq': 6, 'min_child_samples': 95}. Best is trial 73 with value: 0.5889527849202367.\u001b[0m\n"
     ]
    },
    {
     "name": "stdout",
     "output_type": "stream",
     "text": [
      "Did not meet early stopping. Best iteration is:\n",
      "[61]\tvalid_0's auc: 0.581078\n",
      "[LightGBM] [Warning] Unknown parameter: nestimators\n",
      "[LightGBM] [Warning] feature_fraction is set=0.5554777405344469, colsample_bytree=1.0 will be ignored. Current value: feature_fraction=0.5554777405344469\n",
      "[LightGBM] [Warning] bagging_fraction is set=0.550319067075266, subsample=1.0 will be ignored. Current value: bagging_fraction=0.550319067075266\n",
      "[LightGBM] [Warning] lambda_l1 is set=3.8959049063217765e-08, reg_alpha=0.0 will be ignored. Current value: lambda_l1=3.8959049063217765e-08\n",
      "[LightGBM] [Warning] lambda_l2 is set=0.0015322596444173019, reg_lambda=0.0 will be ignored. Current value: lambda_l2=0.0015322596444173019\n",
      "[LightGBM] [Warning] bagging_freq is set=6, subsample_freq=0 will be ignored. Current value: bagging_freq=6\n"
     ]
    },
    {
     "name": "stderr",
     "output_type": "stream",
     "text": [
      "C:\\Users\\Sarkhel\\anaconda3\\lib\\site-packages\\lightgbm\\basic.py:1702: UserWarning: Using categorical_feature in Dataset.\n",
      "  _log_warning('Using categorical_feature in Dataset.')\n",
      "C:\\Users\\Sarkhel\\anaconda3\\lib\\site-packages\\lightgbm\\basic.py:1705: UserWarning: categorical_feature in Dataset is overridden.\n",
      "New categorical_feature is [6, 9, 12]\n",
      "  _log_warning('categorical_feature in Dataset is overridden.\\n'\n",
      "C:\\Users\\Sarkhel\\anaconda3\\lib\\site-packages\\lightgbm\\basic.py:1433: UserWarning: Overriding the parameters from Reference Dataset.\n",
      "  _log_warning('Overriding the parameters from Reference Dataset.')\n",
      "C:\\Users\\Sarkhel\\anaconda3\\lib\\site-packages\\lightgbm\\basic.py:1245: UserWarning: categorical_column in param dict is overridden.\n",
      "  _log_warning('{} in param dict is overridden.'.format(cat_alias))\n"
     ]
    },
    {
     "name": "stdout",
     "output_type": "stream",
     "text": [
      "Training until validation scores don't improve for 2000 rounds\n"
     ]
    },
    {
     "name": "stderr",
     "output_type": "stream",
     "text": [
      "\u001b[32m[I 2022-01-20 20:00:45,175]\u001b[0m Trial 86 finished with value: 0.5781351421305096 and parameters: {'learning_rate': 0.015430501140997928, 'lambda_l1': 3.8959049063217765e-08, 'lambda_l2': 0.0015322596444173019, 'num_leaves': 138, 'feature_fraction': 0.5554777405344469, 'bagging_fraction': 0.550319067075266, 'bagging_freq': 6, 'min_child_samples': 87}. Best is trial 73 with value: 0.5889527849202367.\u001b[0m\n"
     ]
    },
    {
     "name": "stdout",
     "output_type": "stream",
     "text": [
      "Did not meet early stopping. Best iteration is:\n",
      "[70]\tvalid_0's auc: 0.578135\n",
      "[LightGBM] [Warning] Unknown parameter: nestimators\n",
      "[LightGBM] [Warning] feature_fraction is set=0.4694117173611614, colsample_bytree=1.0 will be ignored. Current value: feature_fraction=0.4694117173611614\n",
      "[LightGBM] [Warning] bagging_fraction is set=0.4047738618300101, subsample=1.0 will be ignored. Current value: bagging_fraction=0.4047738618300101\n",
      "[LightGBM] [Warning] lambda_l1 is set=3.203399117396503e-08, reg_alpha=0.0 will be ignored. Current value: lambda_l1=3.203399117396503e-08\n",
      "[LightGBM] [Warning] lambda_l2 is set=0.0009525686989962707, reg_lambda=0.0 will be ignored. Current value: lambda_l2=0.0009525686989962707\n",
      "[LightGBM] [Warning] bagging_freq is set=6, subsample_freq=0 will be ignored. Current value: bagging_freq=6\n"
     ]
    },
    {
     "name": "stderr",
     "output_type": "stream",
     "text": [
      "C:\\Users\\Sarkhel\\anaconda3\\lib\\site-packages\\lightgbm\\basic.py:1702: UserWarning: Using categorical_feature in Dataset.\n",
      "  _log_warning('Using categorical_feature in Dataset.')\n",
      "C:\\Users\\Sarkhel\\anaconda3\\lib\\site-packages\\lightgbm\\basic.py:1705: UserWarning: categorical_feature in Dataset is overridden.\n",
      "New categorical_feature is [6, 9, 12]\n",
      "  _log_warning('categorical_feature in Dataset is overridden.\\n'\n",
      "C:\\Users\\Sarkhel\\anaconda3\\lib\\site-packages\\lightgbm\\basic.py:1433: UserWarning: Overriding the parameters from Reference Dataset.\n",
      "  _log_warning('Overriding the parameters from Reference Dataset.')\n",
      "C:\\Users\\Sarkhel\\anaconda3\\lib\\site-packages\\lightgbm\\basic.py:1245: UserWarning: categorical_column in param dict is overridden.\n",
      "  _log_warning('{} in param dict is overridden.'.format(cat_alias))\n"
     ]
    },
    {
     "name": "stdout",
     "output_type": "stream",
     "text": [
      "Training until validation scores don't improve for 2000 rounds\n"
     ]
    },
    {
     "name": "stderr",
     "output_type": "stream",
     "text": [
      "\u001b[32m[I 2022-01-20 20:00:46,255]\u001b[0m Trial 87 finished with value: 0.5853888276078356 and parameters: {'learning_rate': 0.01648425799881995, 'lambda_l1': 3.203399117396503e-08, 'lambda_l2': 0.0009525686989962707, 'num_leaves': 38, 'feature_fraction': 0.4694117173611614, 'bagging_fraction': 0.4047738618300101, 'bagging_freq': 6, 'min_child_samples': 97}. Best is trial 73 with value: 0.5889527849202367.\u001b[0m\n"
     ]
    },
    {
     "name": "stdout",
     "output_type": "stream",
     "text": [
      "Did not meet early stopping. Best iteration is:\n",
      "[38]\tvalid_0's auc: 0.585389\n",
      "[LightGBM] [Warning] Unknown parameter: nestimators\n",
      "[LightGBM] [Warning] feature_fraction is set=0.44522005844821483, colsample_bytree=1.0 will be ignored. Current value: feature_fraction=0.44522005844821483\n",
      "[LightGBM] [Warning] bagging_fraction is set=0.4584623424498485, subsample=1.0 will be ignored. Current value: bagging_fraction=0.4584623424498485\n",
      "[LightGBM] [Warning] lambda_l1 is set=3.017241827734538e-08, reg_alpha=0.0 will be ignored. Current value: lambda_l1=3.017241827734538e-08\n",
      "[LightGBM] [Warning] lambda_l2 is set=8.41262255384061e-05, reg_lambda=0.0 will be ignored. Current value: lambda_l2=8.41262255384061e-05\n",
      "[LightGBM] [Warning] bagging_freq is set=6, subsample_freq=0 will be ignored. Current value: bagging_freq=6\n"
     ]
    },
    {
     "name": "stderr",
     "output_type": "stream",
     "text": [
      "C:\\Users\\Sarkhel\\anaconda3\\lib\\site-packages\\lightgbm\\basic.py:1702: UserWarning: Using categorical_feature in Dataset.\n",
      "  _log_warning('Using categorical_feature in Dataset.')\n",
      "C:\\Users\\Sarkhel\\anaconda3\\lib\\site-packages\\lightgbm\\basic.py:1705: UserWarning: categorical_feature in Dataset is overridden.\n",
      "New categorical_feature is [6, 9, 12]\n",
      "  _log_warning('categorical_feature in Dataset is overridden.\\n'\n",
      "C:\\Users\\Sarkhel\\anaconda3\\lib\\site-packages\\lightgbm\\basic.py:1433: UserWarning: Overriding the parameters from Reference Dataset.\n",
      "  _log_warning('Overriding the parameters from Reference Dataset.')\n",
      "C:\\Users\\Sarkhel\\anaconda3\\lib\\site-packages\\lightgbm\\basic.py:1245: UserWarning: categorical_column in param dict is overridden.\n",
      "  _log_warning('{} in param dict is overridden.'.format(cat_alias))\n"
     ]
    },
    {
     "name": "stdout",
     "output_type": "stream",
     "text": [
      "Training until validation scores don't improve for 2000 rounds\n"
     ]
    },
    {
     "name": "stderr",
     "output_type": "stream",
     "text": [
      "\u001b[32m[I 2022-01-20 20:00:47,348]\u001b[0m Trial 88 finished with value: 0.5761093137634605 and parameters: {'learning_rate': 0.012145902790207249, 'lambda_l1': 3.017241827734538e-08, 'lambda_l2': 8.41262255384061e-05, 'num_leaves': 37, 'feature_fraction': 0.44522005844821483, 'bagging_fraction': 0.4584623424498485, 'bagging_freq': 6, 'min_child_samples': 19}. Best is trial 73 with value: 0.5889527849202367.\u001b[0m\n"
     ]
    },
    {
     "name": "stdout",
     "output_type": "stream",
     "text": [
      "Did not meet early stopping. Best iteration is:\n",
      "[69]\tvalid_0's auc: 0.576109\n",
      "[LightGBM] [Warning] Unknown parameter: nestimators\n",
      "[LightGBM] [Warning] feature_fraction is set=0.46444853430514715, colsample_bytree=1.0 will be ignored. Current value: feature_fraction=0.46444853430514715\n",
      "[LightGBM] [Warning] bagging_fraction is set=0.42442215877568057, subsample=1.0 will be ignored. Current value: bagging_fraction=0.42442215877568057\n",
      "[LightGBM] [Warning] lambda_l1 is set=1.6635554077507245e-08, reg_alpha=0.0 will be ignored. Current value: lambda_l1=1.6635554077507245e-08\n",
      "[LightGBM] [Warning] lambda_l2 is set=0.0009812121558378636, reg_lambda=0.0 will be ignored. Current value: lambda_l2=0.0009812121558378636\n",
      "[LightGBM] [Warning] bagging_freq is set=6, subsample_freq=0 will be ignored. Current value: bagging_freq=6\n"
     ]
    },
    {
     "name": "stderr",
     "output_type": "stream",
     "text": [
      "C:\\Users\\Sarkhel\\anaconda3\\lib\\site-packages\\lightgbm\\basic.py:1702: UserWarning: Using categorical_feature in Dataset.\n",
      "  _log_warning('Using categorical_feature in Dataset.')\n",
      "C:\\Users\\Sarkhel\\anaconda3\\lib\\site-packages\\lightgbm\\basic.py:1705: UserWarning: categorical_feature in Dataset is overridden.\n",
      "New categorical_feature is [6, 9, 12]\n",
      "  _log_warning('categorical_feature in Dataset is overridden.\\n'\n",
      "C:\\Users\\Sarkhel\\anaconda3\\lib\\site-packages\\lightgbm\\basic.py:1433: UserWarning: Overriding the parameters from Reference Dataset.\n",
      "  _log_warning('Overriding the parameters from Reference Dataset.')\n",
      "C:\\Users\\Sarkhel\\anaconda3\\lib\\site-packages\\lightgbm\\basic.py:1245: UserWarning: categorical_column in param dict is overridden.\n",
      "  _log_warning('{} in param dict is overridden.'.format(cat_alias))\n"
     ]
    },
    {
     "name": "stdout",
     "output_type": "stream",
     "text": [
      "Training until validation scores don't improve for 2000 rounds\n"
     ]
    },
    {
     "name": "stderr",
     "output_type": "stream",
     "text": [
      "\u001b[32m[I 2022-01-20 20:00:48,002]\u001b[0m Trial 89 finished with value: 0.5785750702198101 and parameters: {'learning_rate': 0.014112787987604939, 'lambda_l1': 1.6635554077507245e-08, 'lambda_l2': 0.0009812121558378636, 'num_leaves': 12, 'feature_fraction': 0.46444853430514715, 'bagging_fraction': 0.42442215877568057, 'bagging_freq': 6, 'min_child_samples': 97}. Best is trial 73 with value: 0.5889527849202367.\u001b[0m\n"
     ]
    },
    {
     "name": "stdout",
     "output_type": "stream",
     "text": [
      "Did not meet early stopping. Best iteration is:\n",
      "[91]\tvalid_0's auc: 0.578575\n",
      "[LightGBM] [Warning] Unknown parameter: nestimators\n",
      "[LightGBM] [Warning] feature_fraction is set=0.42567789769180897, colsample_bytree=1.0 will be ignored. Current value: feature_fraction=0.42567789769180897\n",
      "[LightGBM] [Warning] bagging_fraction is set=0.4060624349506676, subsample=1.0 will be ignored. Current value: bagging_fraction=0.4060624349506676\n",
      "[LightGBM] [Warning] lambda_l1 is set=5.2778999080523e-08, reg_alpha=0.0 will be ignored. Current value: lambda_l1=5.2778999080523e-08\n",
      "[LightGBM] [Warning] lambda_l2 is set=0.00033376958494219406, reg_lambda=0.0 will be ignored. Current value: lambda_l2=0.00033376958494219406\n",
      "[LightGBM] [Warning] bagging_freq is set=6, subsample_freq=0 will be ignored. Current value: bagging_freq=6\n"
     ]
    },
    {
     "name": "stderr",
     "output_type": "stream",
     "text": [
      "C:\\Users\\Sarkhel\\anaconda3\\lib\\site-packages\\lightgbm\\basic.py:1702: UserWarning: Using categorical_feature in Dataset.\n",
      "  _log_warning('Using categorical_feature in Dataset.')\n",
      "C:\\Users\\Sarkhel\\anaconda3\\lib\\site-packages\\lightgbm\\basic.py:1705: UserWarning: categorical_feature in Dataset is overridden.\n",
      "New categorical_feature is [6, 9, 12]\n",
      "  _log_warning('categorical_feature in Dataset is overridden.\\n'\n",
      "C:\\Users\\Sarkhel\\anaconda3\\lib\\site-packages\\lightgbm\\basic.py:1433: UserWarning: Overriding the parameters from Reference Dataset.\n",
      "  _log_warning('Overriding the parameters from Reference Dataset.')\n",
      "C:\\Users\\Sarkhel\\anaconda3\\lib\\site-packages\\lightgbm\\basic.py:1245: UserWarning: categorical_column in param dict is overridden.\n",
      "  _log_warning('{} in param dict is overridden.'.format(cat_alias))\n"
     ]
    },
    {
     "name": "stdout",
     "output_type": "stream",
     "text": [
      "Training until validation scores don't improve for 2000 rounds\n"
     ]
    },
    {
     "name": "stderr",
     "output_type": "stream",
     "text": [
      "\u001b[32m[I 2022-01-20 20:00:49,449]\u001b[0m Trial 90 finished with value: 0.5783246080928955 and parameters: {'learning_rate': 0.017684389354564355, 'lambda_l1': 5.2778999080523e-08, 'lambda_l2': 0.00033376958494219406, 'num_leaves': 62, 'feature_fraction': 0.42567789769180897, 'bagging_fraction': 0.4060624349506676, 'bagging_freq': 6, 'min_child_samples': 99}. Best is trial 73 with value: 0.5889527849202367.\u001b[0m\n"
     ]
    },
    {
     "name": "stdout",
     "output_type": "stream",
     "text": [
      "Did not meet early stopping. Best iteration is:\n",
      "[37]\tvalid_0's auc: 0.578325\n",
      "[LightGBM] [Warning] Unknown parameter: nestimators\n",
      "[LightGBM] [Warning] feature_fraction is set=0.47862781983191555, colsample_bytree=1.0 will be ignored. Current value: feature_fraction=0.47862781983191555\n",
      "[LightGBM] [Warning] bagging_fraction is set=0.44152531355524177, subsample=1.0 will be ignored. Current value: bagging_fraction=0.44152531355524177\n",
      "[LightGBM] [Warning] lambda_l1 is set=1.2416801270433934e-07, reg_alpha=0.0 will be ignored. Current value: lambda_l1=1.2416801270433934e-07\n",
      "[LightGBM] [Warning] lambda_l2 is set=0.0004977324540642884, reg_lambda=0.0 will be ignored. Current value: lambda_l2=0.0004977324540642884\n",
      "[LightGBM] [Warning] bagging_freq is set=6, subsample_freq=0 will be ignored. Current value: bagging_freq=6\n"
     ]
    },
    {
     "name": "stderr",
     "output_type": "stream",
     "text": [
      "C:\\Users\\Sarkhel\\anaconda3\\lib\\site-packages\\lightgbm\\basic.py:1702: UserWarning: Using categorical_feature in Dataset.\n",
      "  _log_warning('Using categorical_feature in Dataset.')\n",
      "C:\\Users\\Sarkhel\\anaconda3\\lib\\site-packages\\lightgbm\\basic.py:1705: UserWarning: categorical_feature in Dataset is overridden.\n",
      "New categorical_feature is [6, 9, 12]\n",
      "  _log_warning('categorical_feature in Dataset is overridden.\\n'\n",
      "C:\\Users\\Sarkhel\\anaconda3\\lib\\site-packages\\lightgbm\\basic.py:1433: UserWarning: Overriding the parameters from Reference Dataset.\n",
      "  _log_warning('Overriding the parameters from Reference Dataset.')\n",
      "C:\\Users\\Sarkhel\\anaconda3\\lib\\site-packages\\lightgbm\\basic.py:1245: UserWarning: categorical_column in param dict is overridden.\n",
      "  _log_warning('{} in param dict is overridden.'.format(cat_alias))\n"
     ]
    },
    {
     "name": "stdout",
     "output_type": "stream",
     "text": [
      "Training until validation scores don't improve for 2000 rounds\n"
     ]
    },
    {
     "name": "stderr",
     "output_type": "stream",
     "text": [
      "\u001b[32m[I 2022-01-20 20:00:50,647]\u001b[0m Trial 91 finished with value: 0.5793089134558889 and parameters: {'learning_rate': 0.022047895564720543, 'lambda_l1': 1.2416801270433934e-07, 'lambda_l2': 0.0004977324540642884, 'num_leaves': 42, 'feature_fraction': 0.47862781983191555, 'bagging_fraction': 0.44152531355524177, 'bagging_freq': 6, 'min_child_samples': 90}. Best is trial 73 with value: 0.5889527849202367.\u001b[0m\n"
     ]
    },
    {
     "name": "stdout",
     "output_type": "stream",
     "text": [
      "Did not meet early stopping. Best iteration is:\n",
      "[66]\tvalid_0's auc: 0.579309\n",
      "[LightGBM] [Warning] Unknown parameter: nestimators\n",
      "[LightGBM] [Warning] feature_fraction is set=0.41080077176161506, colsample_bytree=1.0 will be ignored. Current value: feature_fraction=0.41080077176161506\n",
      "[LightGBM] [Warning] bagging_fraction is set=0.9549760246539527, subsample=1.0 will be ignored. Current value: bagging_fraction=0.9549760246539527\n",
      "[LightGBM] [Warning] lambda_l1 is set=5.778609046888397e-08, reg_alpha=0.0 will be ignored. Current value: lambda_l1=5.778609046888397e-08\n",
      "[LightGBM] [Warning] lambda_l2 is set=0.006203938725239321, reg_lambda=0.0 will be ignored. Current value: lambda_l2=0.006203938725239321\n",
      "[LightGBM] [Warning] bagging_freq is set=4, subsample_freq=0 will be ignored. Current value: bagging_freq=4\n"
     ]
    },
    {
     "name": "stderr",
     "output_type": "stream",
     "text": [
      "C:\\Users\\Sarkhel\\anaconda3\\lib\\site-packages\\lightgbm\\basic.py:1702: UserWarning: Using categorical_feature in Dataset.\n",
      "  _log_warning('Using categorical_feature in Dataset.')\n",
      "C:\\Users\\Sarkhel\\anaconda3\\lib\\site-packages\\lightgbm\\basic.py:1705: UserWarning: categorical_feature in Dataset is overridden.\n",
      "New categorical_feature is [6, 9, 12]\n",
      "  _log_warning('categorical_feature in Dataset is overridden.\\n'\n",
      "C:\\Users\\Sarkhel\\anaconda3\\lib\\site-packages\\lightgbm\\basic.py:1433: UserWarning: Overriding the parameters from Reference Dataset.\n",
      "  _log_warning('Overriding the parameters from Reference Dataset.')\n",
      "C:\\Users\\Sarkhel\\anaconda3\\lib\\site-packages\\lightgbm\\basic.py:1245: UserWarning: categorical_column in param dict is overridden.\n",
      "  _log_warning('{} in param dict is overridden.'.format(cat_alias))\n"
     ]
    },
    {
     "name": "stdout",
     "output_type": "stream",
     "text": [
      "Training until validation scores don't improve for 2000 rounds\n"
     ]
    },
    {
     "name": "stderr",
     "output_type": "stream",
     "text": [
      "\u001b[32m[I 2022-01-20 20:00:51,669]\u001b[0m Trial 92 finished with value: 0.5769405889260654 and parameters: {'learning_rate': 0.016228575145593338, 'lambda_l1': 5.778609046888397e-08, 'lambda_l2': 0.006203938725239321, 'num_leaves': 30, 'feature_fraction': 0.41080077176161506, 'bagging_fraction': 0.9549760246539527, 'bagging_freq': 4, 'min_child_samples': 85}. Best is trial 73 with value: 0.5889527849202367.\u001b[0m\n"
     ]
    },
    {
     "name": "stdout",
     "output_type": "stream",
     "text": [
      "Did not meet early stopping. Best iteration is:\n",
      "[91]\tvalid_0's auc: 0.576941\n",
      "[LightGBM] [Warning] Unknown parameter: nestimators\n",
      "[LightGBM] [Warning] feature_fraction is set=0.5076220892030376, colsample_bytree=1.0 will be ignored. Current value: feature_fraction=0.5076220892030376\n",
      "[LightGBM] [Warning] bagging_fraction is set=0.4001205621292269, subsample=1.0 will be ignored. Current value: bagging_fraction=0.4001205621292269\n",
      "[LightGBM] [Warning] lambda_l1 is set=1.0812689680998471e-08, reg_alpha=0.0 will be ignored. Current value: lambda_l1=1.0812689680998471e-08\n",
      "[LightGBM] [Warning] lambda_l2 is set=0.003325404671611395, reg_lambda=0.0 will be ignored. Current value: lambda_l2=0.003325404671611395\n",
      "[LightGBM] [Warning] bagging_freq is set=5, subsample_freq=0 will be ignored. Current value: bagging_freq=5\n"
     ]
    },
    {
     "name": "stderr",
     "output_type": "stream",
     "text": [
      "C:\\Users\\Sarkhel\\anaconda3\\lib\\site-packages\\lightgbm\\basic.py:1702: UserWarning: Using categorical_feature in Dataset.\n",
      "  _log_warning('Using categorical_feature in Dataset.')\n",
      "C:\\Users\\Sarkhel\\anaconda3\\lib\\site-packages\\lightgbm\\basic.py:1705: UserWarning: categorical_feature in Dataset is overridden.\n",
      "New categorical_feature is [6, 9, 12]\n",
      "  _log_warning('categorical_feature in Dataset is overridden.\\n'\n",
      "C:\\Users\\Sarkhel\\anaconda3\\lib\\site-packages\\lightgbm\\basic.py:1433: UserWarning: Overriding the parameters from Reference Dataset.\n",
      "  _log_warning('Overriding the parameters from Reference Dataset.')\n",
      "C:\\Users\\Sarkhel\\anaconda3\\lib\\site-packages\\lightgbm\\basic.py:1245: UserWarning: categorical_column in param dict is overridden.\n",
      "  _log_warning('{} in param dict is overridden.'.format(cat_alias))\n"
     ]
    },
    {
     "name": "stdout",
     "output_type": "stream",
     "text": [
      "Training until validation scores don't improve for 2000 rounds\n"
     ]
    },
    {
     "name": "stderr",
     "output_type": "stream",
     "text": [
      "\u001b[32m[I 2022-01-20 20:00:53,820]\u001b[0m Trial 93 finished with value: 0.5827244287749677 and parameters: {'learning_rate': 0.020253930280541656, 'lambda_l1': 1.0812689680998471e-08, 'lambda_l2': 0.003325404671611395, 'num_leaves': 114, 'feature_fraction': 0.5076220892030376, 'bagging_fraction': 0.4001205621292269, 'bagging_freq': 5, 'min_child_samples': 93}. Best is trial 73 with value: 0.5889527849202367.\u001b[0m\n"
     ]
    },
    {
     "name": "stdout",
     "output_type": "stream",
     "text": [
      "Did not meet early stopping. Best iteration is:\n",
      "[27]\tvalid_0's auc: 0.582724\n",
      "[LightGBM] [Warning] Unknown parameter: nestimators\n",
      "[LightGBM] [Warning] feature_fraction is set=0.5083646063369353, colsample_bytree=1.0 will be ignored. Current value: feature_fraction=0.5083646063369353\n",
      "[LightGBM] [Warning] bagging_fraction is set=0.40393274552646746, subsample=1.0 will be ignored. Current value: bagging_fraction=0.40393274552646746\n",
      "[LightGBM] [Warning] lambda_l1 is set=1.641927615071241e-08, reg_alpha=0.0 will be ignored. Current value: lambda_l1=1.641927615071241e-08\n",
      "[LightGBM] [Warning] lambda_l2 is set=0.003210415194462949, reg_lambda=0.0 will be ignored. Current value: lambda_l2=0.003210415194462949\n",
      "[LightGBM] [Warning] bagging_freq is set=5, subsample_freq=0 will be ignored. Current value: bagging_freq=5\n"
     ]
    },
    {
     "name": "stderr",
     "output_type": "stream",
     "text": [
      "C:\\Users\\Sarkhel\\anaconda3\\lib\\site-packages\\lightgbm\\basic.py:1702: UserWarning: Using categorical_feature in Dataset.\n",
      "  _log_warning('Using categorical_feature in Dataset.')\n",
      "C:\\Users\\Sarkhel\\anaconda3\\lib\\site-packages\\lightgbm\\basic.py:1705: UserWarning: categorical_feature in Dataset is overridden.\n",
      "New categorical_feature is [6, 9, 12]\n",
      "  _log_warning('categorical_feature in Dataset is overridden.\\n'\n",
      "C:\\Users\\Sarkhel\\anaconda3\\lib\\site-packages\\lightgbm\\basic.py:1433: UserWarning: Overriding the parameters from Reference Dataset.\n",
      "  _log_warning('Overriding the parameters from Reference Dataset.')\n",
      "C:\\Users\\Sarkhel\\anaconda3\\lib\\site-packages\\lightgbm\\basic.py:1245: UserWarning: categorical_column in param dict is overridden.\n",
      "  _log_warning('{} in param dict is overridden.'.format(cat_alias))\n"
     ]
    },
    {
     "name": "stdout",
     "output_type": "stream",
     "text": [
      "Training until validation scores don't improve for 2000 rounds\n"
     ]
    },
    {
     "name": "stderr",
     "output_type": "stream",
     "text": [
      "\u001b[32m[I 2022-01-20 20:00:55,180]\u001b[0m Trial 94 finished with value: 0.5587159605640903 and parameters: {'learning_rate': 0.24914109024349068, 'lambda_l1': 1.641927615071241e-08, 'lambda_l2': 0.003210415194462949, 'num_leaves': 54, 'feature_fraction': 0.5083646063369353, 'bagging_fraction': 0.40393274552646746, 'bagging_freq': 5, 'min_child_samples': 94}. Best is trial 73 with value: 0.5889527849202367.\u001b[0m\n"
     ]
    },
    {
     "name": "stdout",
     "output_type": "stream",
     "text": [
      "Did not meet early stopping. Best iteration is:\n",
      "[16]\tvalid_0's auc: 0.558716\n",
      "[LightGBM] [Warning] Unknown parameter: nestimators\n",
      "[LightGBM] [Warning] feature_fraction is set=0.49095021831279667, colsample_bytree=1.0 will be ignored. Current value: feature_fraction=0.49095021831279667\n",
      "[LightGBM] [Warning] bagging_fraction is set=0.4633797096295757, subsample=1.0 will be ignored. Current value: bagging_fraction=0.4633797096295757\n",
      "[LightGBM] [Warning] lambda_l1 is set=1.0743627775371171e-08, reg_alpha=0.0 will be ignored. Current value: lambda_l1=1.0743627775371171e-08\n",
      "[LightGBM] [Warning] lambda_l2 is set=0.002555056593376949, reg_lambda=0.0 will be ignored. Current value: lambda_l2=0.002555056593376949\n",
      "[LightGBM] [Warning] bagging_freq is set=5, subsample_freq=0 will be ignored. Current value: bagging_freq=5\n"
     ]
    },
    {
     "name": "stderr",
     "output_type": "stream",
     "text": [
      "C:\\Users\\Sarkhel\\anaconda3\\lib\\site-packages\\lightgbm\\basic.py:1702: UserWarning: Using categorical_feature in Dataset.\n",
      "  _log_warning('Using categorical_feature in Dataset.')\n",
      "C:\\Users\\Sarkhel\\anaconda3\\lib\\site-packages\\lightgbm\\basic.py:1705: UserWarning: categorical_feature in Dataset is overridden.\n",
      "New categorical_feature is [6, 9, 12]\n",
      "  _log_warning('categorical_feature in Dataset is overridden.\\n'\n",
      "C:\\Users\\Sarkhel\\anaconda3\\lib\\site-packages\\lightgbm\\basic.py:1433: UserWarning: Overriding the parameters from Reference Dataset.\n",
      "  _log_warning('Overriding the parameters from Reference Dataset.')\n",
      "C:\\Users\\Sarkhel\\anaconda3\\lib\\site-packages\\lightgbm\\basic.py:1245: UserWarning: categorical_column in param dict is overridden.\n",
      "  _log_warning('{} in param dict is overridden.'.format(cat_alias))\n"
     ]
    },
    {
     "name": "stdout",
     "output_type": "stream",
     "text": [
      "Training until validation scores don't improve for 2000 rounds\n"
     ]
    },
    {
     "name": "stderr",
     "output_type": "stream",
     "text": [
      "\u001b[32m[I 2022-01-20 20:00:55,994]\u001b[0m Trial 95 finished with value: 0.5818407940729001 and parameters: {'learning_rate': 0.01347100589594216, 'lambda_l1': 1.0743627775371171e-08, 'lambda_l2': 0.002555056593376949, 'num_leaves': 21, 'feature_fraction': 0.49095021831279667, 'bagging_fraction': 0.4633797096295757, 'bagging_freq': 5, 'min_child_samples': 92}. Best is trial 73 with value: 0.5889527849202367.\u001b[0m\n"
     ]
    },
    {
     "name": "stdout",
     "output_type": "stream",
     "text": [
      "Did not meet early stopping. Best iteration is:\n",
      "[51]\tvalid_0's auc: 0.581841\n",
      "[LightGBM] [Warning] Unknown parameter: nestimators\n",
      "[LightGBM] [Warning] feature_fraction is set=0.5429590526893215, colsample_bytree=1.0 will be ignored. Current value: feature_fraction=0.5429590526893215\n",
      "[LightGBM] [Warning] bagging_fraction is set=0.725330884693771, subsample=1.0 will be ignored. Current value: bagging_fraction=0.725330884693771\n",
      "[LightGBM] [Warning] lambda_l1 is set=3.1307009450450305e-08, reg_alpha=0.0 will be ignored. Current value: lambda_l1=3.1307009450450305e-08\n",
      "[LightGBM] [Warning] lambda_l2 is set=0.0014413132162170216, reg_lambda=0.0 will be ignored. Current value: lambda_l2=0.0014413132162170216\n",
      "[LightGBM] [Warning] bagging_freq is set=5, subsample_freq=0 will be ignored. Current value: bagging_freq=5\n"
     ]
    },
    {
     "name": "stderr",
     "output_type": "stream",
     "text": [
      "C:\\Users\\Sarkhel\\anaconda3\\lib\\site-packages\\lightgbm\\basic.py:1702: UserWarning: Using categorical_feature in Dataset.\n",
      "  _log_warning('Using categorical_feature in Dataset.')\n",
      "C:\\Users\\Sarkhel\\anaconda3\\lib\\site-packages\\lightgbm\\basic.py:1705: UserWarning: categorical_feature in Dataset is overridden.\n",
      "New categorical_feature is [6, 9, 12]\n",
      "  _log_warning('categorical_feature in Dataset is overridden.\\n'\n",
      "C:\\Users\\Sarkhel\\anaconda3\\lib\\site-packages\\lightgbm\\basic.py:1433: UserWarning: Overriding the parameters from Reference Dataset.\n",
      "  _log_warning('Overriding the parameters from Reference Dataset.')\n",
      "C:\\Users\\Sarkhel\\anaconda3\\lib\\site-packages\\lightgbm\\basic.py:1245: UserWarning: categorical_column in param dict is overridden.\n",
      "  _log_warning('{} in param dict is overridden.'.format(cat_alias))\n"
     ]
    },
    {
     "name": "stdout",
     "output_type": "stream",
     "text": [
      "Training until validation scores don't improve for 2000 rounds\n"
     ]
    },
    {
     "name": "stderr",
     "output_type": "stream",
     "text": [
      "\u001b[32m[I 2022-01-20 20:00:57,596]\u001b[0m Trial 96 finished with value: 0.579732917767724 and parameters: {'learning_rate': 0.017399350314595097, 'lambda_l1': 3.1307009450450305e-08, 'lambda_l2': 0.0014413132162170216, 'num_leaves': 67, 'feature_fraction': 0.5429590526893215, 'bagging_fraction': 0.725330884693771, 'bagging_freq': 5, 'min_child_samples': 97}. Best is trial 73 with value: 0.5889527849202367.\u001b[0m\n"
     ]
    },
    {
     "name": "stdout",
     "output_type": "stream",
     "text": [
      "Did not meet early stopping. Best iteration is:\n",
      "[35]\tvalid_0's auc: 0.579733\n",
      "[LightGBM] [Warning] Unknown parameter: nestimators\n",
      "[LightGBM] [Warning] feature_fraction is set=0.4477213658488835, colsample_bytree=1.0 will be ignored. Current value: feature_fraction=0.4477213658488835\n",
      "[LightGBM] [Warning] bagging_fraction is set=0.499398492238921, subsample=1.0 will be ignored. Current value: bagging_fraction=0.499398492238921\n",
      "[LightGBM] [Warning] lambda_l1 is set=3.7872112478752877e-07, reg_alpha=0.0 will be ignored. Current value: lambda_l1=3.7872112478752877e-07\n",
      "[LightGBM] [Warning] lambda_l2 is set=0.0005925606358799129, reg_lambda=0.0 will be ignored. Current value: lambda_l2=0.0005925606358799129\n",
      "[LightGBM] [Warning] bagging_freq is set=5, subsample_freq=0 will be ignored. Current value: bagging_freq=5\n"
     ]
    },
    {
     "name": "stderr",
     "output_type": "stream",
     "text": [
      "C:\\Users\\Sarkhel\\anaconda3\\lib\\site-packages\\lightgbm\\basic.py:1702: UserWarning: Using categorical_feature in Dataset.\n",
      "  _log_warning('Using categorical_feature in Dataset.')\n",
      "C:\\Users\\Sarkhel\\anaconda3\\lib\\site-packages\\lightgbm\\basic.py:1705: UserWarning: categorical_feature in Dataset is overridden.\n",
      "New categorical_feature is [6, 9, 12]\n",
      "  _log_warning('categorical_feature in Dataset is overridden.\\n'\n",
      "C:\\Users\\Sarkhel\\anaconda3\\lib\\site-packages\\lightgbm\\basic.py:1433: UserWarning: Overriding the parameters from Reference Dataset.\n",
      "  _log_warning('Overriding the parameters from Reference Dataset.')\n",
      "C:\\Users\\Sarkhel\\anaconda3\\lib\\site-packages\\lightgbm\\basic.py:1245: UserWarning: categorical_column in param dict is overridden.\n",
      "  _log_warning('{} in param dict is overridden.'.format(cat_alias))\n"
     ]
    },
    {
     "name": "stdout",
     "output_type": "stream",
     "text": [
      "Training until validation scores don't improve for 2000 rounds\n"
     ]
    },
    {
     "name": "stderr",
     "output_type": "stream",
     "text": [
      "\u001b[32m[I 2022-01-20 20:00:59,387]\u001b[0m Trial 97 finished with value: 0.5838223597364858 and parameters: {'learning_rate': 0.014935097739913495, 'lambda_l1': 3.7872112478752877e-07, 'lambda_l2': 0.0005925606358799129, 'num_leaves': 81, 'feature_fraction': 0.4477213658488835, 'bagging_fraction': 0.499398492238921, 'bagging_freq': 5, 'min_child_samples': 100}. Best is trial 73 with value: 0.5889527849202367.\u001b[0m\n"
     ]
    },
    {
     "name": "stdout",
     "output_type": "stream",
     "text": [
      "Did not meet early stopping. Best iteration is:\n",
      "[51]\tvalid_0's auc: 0.583822\n",
      "[LightGBM] [Warning] Unknown parameter: nestimators\n",
      "[LightGBM] [Warning] feature_fraction is set=0.4324560811299005, colsample_bytree=1.0 will be ignored. Current value: feature_fraction=0.4324560811299005\n",
      "[LightGBM] [Warning] bagging_fraction is set=0.5796655259176215, subsample=1.0 will be ignored. Current value: bagging_fraction=0.5796655259176215\n",
      "[LightGBM] [Warning] lambda_l1 is set=2.599839757926277e-07, reg_alpha=0.0 will be ignored. Current value: lambda_l1=2.599839757926277e-07\n",
      "[LightGBM] [Warning] lambda_l2 is set=0.00016730537715173757, reg_lambda=0.0 will be ignored. Current value: lambda_l2=0.00016730537715173757\n",
      "[LightGBM] [Warning] bagging_freq is set=6, subsample_freq=0 will be ignored. Current value: bagging_freq=6\n"
     ]
    },
    {
     "name": "stderr",
     "output_type": "stream",
     "text": [
      "C:\\Users\\Sarkhel\\anaconda3\\lib\\site-packages\\lightgbm\\basic.py:1702: UserWarning: Using categorical_feature in Dataset.\n",
      "  _log_warning('Using categorical_feature in Dataset.')\n",
      "C:\\Users\\Sarkhel\\anaconda3\\lib\\site-packages\\lightgbm\\basic.py:1705: UserWarning: categorical_feature in Dataset is overridden.\n",
      "New categorical_feature is [6, 9, 12]\n",
      "  _log_warning('categorical_feature in Dataset is overridden.\\n'\n",
      "C:\\Users\\Sarkhel\\anaconda3\\lib\\site-packages\\lightgbm\\basic.py:1433: UserWarning: Overriding the parameters from Reference Dataset.\n",
      "  _log_warning('Overriding the parameters from Reference Dataset.')\n",
      "C:\\Users\\Sarkhel\\anaconda3\\lib\\site-packages\\lightgbm\\basic.py:1245: UserWarning: categorical_column in param dict is overridden.\n",
      "  _log_warning('{} in param dict is overridden.'.format(cat_alias))\n"
     ]
    },
    {
     "name": "stdout",
     "output_type": "stream",
     "text": [
      "Training until validation scores don't improve for 2000 rounds\n"
     ]
    },
    {
     "name": "stderr",
     "output_type": "stream",
     "text": [
      "\u001b[32m[I 2022-01-20 20:01:01,043]\u001b[0m Trial 98 finished with value: 0.5760520961223983 and parameters: {'learning_rate': 0.020231115158864416, 'lambda_l1': 2.599839757926277e-07, 'lambda_l2': 0.00016730537715173757, 'num_leaves': 73, 'feature_fraction': 0.4324560811299005, 'bagging_fraction': 0.5796655259176215, 'bagging_freq': 6, 'min_child_samples': 99}. Best is trial 73 with value: 0.5889527849202367.\u001b[0m\n"
     ]
    },
    {
     "name": "stdout",
     "output_type": "stream",
     "text": [
      "Did not meet early stopping. Best iteration is:\n",
      "[72]\tvalid_0's auc: 0.576052\n",
      "[LightGBM] [Warning] Unknown parameter: nestimators\n",
      "[LightGBM] [Warning] feature_fraction is set=0.4687275614604773, colsample_bytree=1.0 will be ignored. Current value: feature_fraction=0.4687275614604773\n",
      "[LightGBM] [Warning] bagging_fraction is set=0.5269448887122795, subsample=1.0 will be ignored. Current value: bagging_fraction=0.5269448887122795\n",
      "[LightGBM] [Warning] lambda_l1 is set=3.6367259497325045e-07, reg_alpha=0.0 will be ignored. Current value: lambda_l1=3.6367259497325045e-07\n",
      "[LightGBM] [Warning] lambda_l2 is set=0.0008949060433677835, reg_lambda=0.0 will be ignored. Current value: lambda_l2=0.0008949060433677835\n",
      "[LightGBM] [Warning] bagging_freq is set=5, subsample_freq=0 will be ignored. Current value: bagging_freq=5\n"
     ]
    },
    {
     "name": "stderr",
     "output_type": "stream",
     "text": [
      "C:\\Users\\Sarkhel\\anaconda3\\lib\\site-packages\\lightgbm\\basic.py:1702: UserWarning: Using categorical_feature in Dataset.\n",
      "  _log_warning('Using categorical_feature in Dataset.')\n",
      "C:\\Users\\Sarkhel\\anaconda3\\lib\\site-packages\\lightgbm\\basic.py:1705: UserWarning: categorical_feature in Dataset is overridden.\n",
      "New categorical_feature is [6, 9, 12]\n",
      "  _log_warning('categorical_feature in Dataset is overridden.\\n'\n",
      "C:\\Users\\Sarkhel\\anaconda3\\lib\\site-packages\\lightgbm\\basic.py:1433: UserWarning: Overriding the parameters from Reference Dataset.\n",
      "  _log_warning('Overriding the parameters from Reference Dataset.')\n",
      "C:\\Users\\Sarkhel\\anaconda3\\lib\\site-packages\\lightgbm\\basic.py:1245: UserWarning: categorical_column in param dict is overridden.\n",
      "  _log_warning('{} in param dict is overridden.'.format(cat_alias))\n"
     ]
    },
    {
     "name": "stdout",
     "output_type": "stream",
     "text": [
      "Training until validation scores don't improve for 2000 rounds\n"
     ]
    },
    {
     "name": "stderr",
     "output_type": "stream",
     "text": [
      "\u001b[32m[I 2022-01-20 20:01:03,299]\u001b[0m Trial 99 finished with value: 0.5757360496238885 and parameters: {'learning_rate': 0.010977084574566313, 'lambda_l1': 3.6367259497325045e-07, 'lambda_l2': 0.0008949060433677835, 'num_leaves': 115, 'feature_fraction': 0.4687275614604773, 'bagging_fraction': 0.5269448887122795, 'bagging_freq': 5, 'min_child_samples': 100}. Best is trial 73 with value: 0.5889527849202367.\u001b[0m\n"
     ]
    },
    {
     "name": "stdout",
     "output_type": "stream",
     "text": [
      "Did not meet early stopping. Best iteration is:\n",
      "[39]\tvalid_0's auc: 0.575736\n",
      "[LightGBM] [Warning] Unknown parameter: nestimators\n",
      "[LightGBM] [Warning] feature_fraction is set=0.40253063528322064, colsample_bytree=1.0 will be ignored. Current value: feature_fraction=0.40253063528322064\n",
      "[LightGBM] [Warning] bagging_fraction is set=0.503563732236153, subsample=1.0 will be ignored. Current value: bagging_fraction=0.503563732236153\n",
      "[LightGBM] [Warning] lambda_l1 is set=8.065875906144036e-08, reg_alpha=0.0 will be ignored. Current value: lambda_l1=8.065875906144036e-08\n",
      "[LightGBM] [Warning] lambda_l2 is set=0.0006709738186672419, reg_lambda=0.0 will be ignored. Current value: lambda_l2=0.0006709738186672419\n",
      "[LightGBM] [Warning] bagging_freq is set=4, subsample_freq=0 will be ignored. Current value: bagging_freq=4\n"
     ]
    },
    {
     "name": "stderr",
     "output_type": "stream",
     "text": [
      "C:\\Users\\Sarkhel\\anaconda3\\lib\\site-packages\\lightgbm\\basic.py:1702: UserWarning: Using categorical_feature in Dataset.\n",
      "  _log_warning('Using categorical_feature in Dataset.')\n",
      "C:\\Users\\Sarkhel\\anaconda3\\lib\\site-packages\\lightgbm\\basic.py:1705: UserWarning: categorical_feature in Dataset is overridden.\n",
      "New categorical_feature is [6, 9, 12]\n",
      "  _log_warning('categorical_feature in Dataset is overridden.\\n'\n",
      "C:\\Users\\Sarkhel\\anaconda3\\lib\\site-packages\\lightgbm\\basic.py:1433: UserWarning: Overriding the parameters from Reference Dataset.\n",
      "  _log_warning('Overriding the parameters from Reference Dataset.')\n",
      "C:\\Users\\Sarkhel\\anaconda3\\lib\\site-packages\\lightgbm\\basic.py:1245: UserWarning: categorical_column in param dict is overridden.\n",
      "  _log_warning('{} in param dict is overridden.'.format(cat_alias))\n"
     ]
    },
    {
     "name": "stdout",
     "output_type": "stream",
     "text": [
      "Training until validation scores don't improve for 2000 rounds\n"
     ]
    },
    {
     "name": "stderr",
     "output_type": "stream",
     "text": [
      "\u001b[32m[I 2022-01-20 20:01:05,184]\u001b[0m Trial 100 finished with value: 0.5769297931447329 and parameters: {'learning_rate': 0.012816021771913256, 'lambda_l1': 8.065875906144036e-08, 'lambda_l2': 0.0006709738186672419, 'num_leaves': 89, 'feature_fraction': 0.40253063528322064, 'bagging_fraction': 0.503563732236153, 'bagging_freq': 4, 'min_child_samples': 96}. Best is trial 73 with value: 0.5889527849202367.\u001b[0m\n"
     ]
    },
    {
     "name": "stdout",
     "output_type": "stream",
     "text": [
      "Did not meet early stopping. Best iteration is:\n",
      "[86]\tvalid_0's auc: 0.57693\n",
      "[LightGBM] [Warning] Unknown parameter: nestimators\n",
      "[LightGBM] [Warning] feature_fraction is set=0.5278233628749892, colsample_bytree=1.0 will be ignored. Current value: feature_fraction=0.5278233628749892\n",
      "[LightGBM] [Warning] bagging_fraction is set=0.4409727284537881, subsample=1.0 will be ignored. Current value: bagging_fraction=0.4409727284537881\n",
      "[LightGBM] [Warning] lambda_l1 is set=1.912720839679605e-08, reg_alpha=0.0 will be ignored. Current value: lambda_l1=1.912720839679605e-08\n",
      "[LightGBM] [Warning] lambda_l2 is set=0.005682627710517802, reg_lambda=0.0 will be ignored. Current value: lambda_l2=0.005682627710517802\n",
      "[LightGBM] [Warning] bagging_freq is set=5, subsample_freq=0 will be ignored. Current value: bagging_freq=5\n"
     ]
    },
    {
     "name": "stderr",
     "output_type": "stream",
     "text": [
      "C:\\Users\\Sarkhel\\anaconda3\\lib\\site-packages\\lightgbm\\basic.py:1702: UserWarning: Using categorical_feature in Dataset.\n",
      "  _log_warning('Using categorical_feature in Dataset.')\n",
      "C:\\Users\\Sarkhel\\anaconda3\\lib\\site-packages\\lightgbm\\basic.py:1705: UserWarning: categorical_feature in Dataset is overridden.\n",
      "New categorical_feature is [6, 9, 12]\n",
      "  _log_warning('categorical_feature in Dataset is overridden.\\n'\n",
      "C:\\Users\\Sarkhel\\anaconda3\\lib\\site-packages\\lightgbm\\basic.py:1433: UserWarning: Overriding the parameters from Reference Dataset.\n",
      "  _log_warning('Overriding the parameters from Reference Dataset.')\n",
      "C:\\Users\\Sarkhel\\anaconda3\\lib\\site-packages\\lightgbm\\basic.py:1245: UserWarning: categorical_column in param dict is overridden.\n",
      "  _log_warning('{} in param dict is overridden.'.format(cat_alias))\n"
     ]
    },
    {
     "name": "stdout",
     "output_type": "stream",
     "text": [
      "Training until validation scores don't improve for 2000 rounds\n"
     ]
    },
    {
     "name": "stderr",
     "output_type": "stream",
     "text": [
      "\u001b[32m[I 2022-01-20 20:01:06,971]\u001b[0m Trial 101 finished with value: 0.5820040802655546 and parameters: {'learning_rate': 0.015346616369771837, 'lambda_l1': 1.912720839679605e-08, 'lambda_l2': 0.005682627710517802, 'num_leaves': 81, 'feature_fraction': 0.5278233628749892, 'bagging_fraction': 0.4409727284537881, 'bagging_freq': 5, 'min_child_samples': 90}. Best is trial 73 with value: 0.5889527849202367.\u001b[0m\n"
     ]
    },
    {
     "name": "stdout",
     "output_type": "stream",
     "text": [
      "Did not meet early stopping. Best iteration is:\n",
      "[58]\tvalid_0's auc: 0.582004\n",
      "[LightGBM] [Warning] Unknown parameter: nestimators\n",
      "[LightGBM] [Warning] feature_fraction is set=0.452806260212164, colsample_bytree=1.0 will be ignored. Current value: feature_fraction=0.452806260212164\n",
      "[LightGBM] [Warning] bagging_fraction is set=0.4792533574458737, subsample=1.0 will be ignored. Current value: bagging_fraction=0.4792533574458737\n",
      "[LightGBM] [Warning] lambda_l1 is set=3.4793660546479715e-08, reg_alpha=0.0 will be ignored. Current value: lambda_l1=3.4793660546479715e-08\n",
      "[LightGBM] [Warning] lambda_l2 is set=0.01195621759863977, reg_lambda=0.0 will be ignored. Current value: lambda_l2=0.01195621759863977\n",
      "[LightGBM] [Warning] bagging_freq is set=5, subsample_freq=0 will be ignored. Current value: bagging_freq=5\n"
     ]
    },
    {
     "name": "stderr",
     "output_type": "stream",
     "text": [
      "C:\\Users\\Sarkhel\\anaconda3\\lib\\site-packages\\lightgbm\\basic.py:1702: UserWarning: Using categorical_feature in Dataset.\n",
      "  _log_warning('Using categorical_feature in Dataset.')\n",
      "C:\\Users\\Sarkhel\\anaconda3\\lib\\site-packages\\lightgbm\\basic.py:1705: UserWarning: categorical_feature in Dataset is overridden.\n",
      "New categorical_feature is [6, 9, 12]\n",
      "  _log_warning('categorical_feature in Dataset is overridden.\\n'\n",
      "C:\\Users\\Sarkhel\\anaconda3\\lib\\site-packages\\lightgbm\\basic.py:1433: UserWarning: Overriding the parameters from Reference Dataset.\n",
      "  _log_warning('Overriding the parameters from Reference Dataset.')\n",
      "C:\\Users\\Sarkhel\\anaconda3\\lib\\site-packages\\lightgbm\\basic.py:1245: UserWarning: categorical_column in param dict is overridden.\n",
      "  _log_warning('{} in param dict is overridden.'.format(cat_alias))\n"
     ]
    },
    {
     "name": "stdout",
     "output_type": "stream",
     "text": [
      "Training until validation scores don't improve for 2000 rounds\n"
     ]
    },
    {
     "name": "stderr",
     "output_type": "stream",
     "text": [
      "\u001b[32m[I 2022-01-20 20:01:08,234]\u001b[0m Trial 102 finished with value: 0.5834142792021162 and parameters: {'learning_rate': 0.01475833050716473, 'lambda_l1': 3.4793660546479715e-08, 'lambda_l2': 0.01195621759863977, 'num_leaves': 47, 'feature_fraction': 0.452806260212164, 'bagging_fraction': 0.4792533574458737, 'bagging_freq': 5, 'min_child_samples': 93}. Best is trial 73 with value: 0.5889527849202367.\u001b[0m\n"
     ]
    },
    {
     "name": "stdout",
     "output_type": "stream",
     "text": [
      "Did not meet early stopping. Best iteration is:\n",
      "[46]\tvalid_0's auc: 0.583414\n",
      "[LightGBM] [Warning] Unknown parameter: nestimators\n",
      "[LightGBM] [Warning] feature_fraction is set=0.45003265691628164, colsample_bytree=1.0 will be ignored. Current value: feature_fraction=0.45003265691628164\n",
      "[LightGBM] [Warning] bagging_fraction is set=0.551881098563712, subsample=1.0 will be ignored. Current value: bagging_fraction=0.551881098563712\n",
      "[LightGBM] [Warning] lambda_l1 is set=3.912464886537639e-08, reg_alpha=0.0 will be ignored. Current value: lambda_l1=3.912464886537639e-08\n",
      "[LightGBM] [Warning] lambda_l2 is set=0.044324857861367355, reg_lambda=0.0 will be ignored. Current value: lambda_l2=0.044324857861367355\n",
      "[LightGBM] [Warning] bagging_freq is set=5, subsample_freq=0 will be ignored. Current value: bagging_freq=5\n"
     ]
    },
    {
     "name": "stderr",
     "output_type": "stream",
     "text": [
      "C:\\Users\\Sarkhel\\anaconda3\\lib\\site-packages\\lightgbm\\basic.py:1702: UserWarning: Using categorical_feature in Dataset.\n",
      "  _log_warning('Using categorical_feature in Dataset.')\n",
      "C:\\Users\\Sarkhel\\anaconda3\\lib\\site-packages\\lightgbm\\basic.py:1705: UserWarning: categorical_feature in Dataset is overridden.\n",
      "New categorical_feature is [6, 9, 12]\n",
      "  _log_warning('categorical_feature in Dataset is overridden.\\n'\n",
      "C:\\Users\\Sarkhel\\anaconda3\\lib\\site-packages\\lightgbm\\basic.py:1433: UserWarning: Overriding the parameters from Reference Dataset.\n",
      "  _log_warning('Overriding the parameters from Reference Dataset.')\n",
      "C:\\Users\\Sarkhel\\anaconda3\\lib\\site-packages\\lightgbm\\basic.py:1245: UserWarning: categorical_column in param dict is overridden.\n",
      "  _log_warning('{} in param dict is overridden.'.format(cat_alias))\n"
     ]
    },
    {
     "name": "stdout",
     "output_type": "stream",
     "text": [
      "Training until validation scores don't improve for 2000 rounds\n"
     ]
    },
    {
     "name": "stderr",
     "output_type": "stream",
     "text": [
      "\u001b[32m[I 2022-01-20 20:01:09,524]\u001b[0m Trial 103 finished with value: 0.5784277078046212 and parameters: {'learning_rate': 0.016526542249359916, 'lambda_l1': 3.912464886537639e-08, 'lambda_l2': 0.044324857861367355, 'num_leaves': 49, 'feature_fraction': 0.45003265691628164, 'bagging_fraction': 0.551881098563712, 'bagging_freq': 5, 'min_child_samples': 93}. Best is trial 73 with value: 0.5889527849202367.\u001b[0m\n"
     ]
    },
    {
     "name": "stdout",
     "output_type": "stream",
     "text": [
      "Did not meet early stopping. Best iteration is:\n",
      "[100]\tvalid_0's auc: 0.578428\n",
      "[LightGBM] [Warning] Unknown parameter: nestimators\n",
      "[LightGBM] [Warning] feature_fraction is set=0.44214233506009154, colsample_bytree=1.0 will be ignored. Current value: feature_fraction=0.44214233506009154\n",
      "[LightGBM] [Warning] bagging_fraction is set=0.4811938983962347, subsample=1.0 will be ignored. Current value: bagging_fraction=0.4811938983962347\n",
      "[LightGBM] [Warning] lambda_l1 is set=1.598293421137928e-07, reg_alpha=0.0 will be ignored. Current value: lambda_l1=1.598293421137928e-07\n",
      "[LightGBM] [Warning] lambda_l2 is set=0.012193774226958637, reg_lambda=0.0 will be ignored. Current value: lambda_l2=0.012193774226958637\n",
      "[LightGBM] [Warning] bagging_freq is set=5, subsample_freq=0 will be ignored. Current value: bagging_freq=5\n"
     ]
    },
    {
     "name": "stderr",
     "output_type": "stream",
     "text": [
      "C:\\Users\\Sarkhel\\anaconda3\\lib\\site-packages\\lightgbm\\basic.py:1702: UserWarning: Using categorical_feature in Dataset.\n",
      "  _log_warning('Using categorical_feature in Dataset.')\n",
      "C:\\Users\\Sarkhel\\anaconda3\\lib\\site-packages\\lightgbm\\basic.py:1705: UserWarning: categorical_feature in Dataset is overridden.\n",
      "New categorical_feature is [6, 9, 12]\n",
      "  _log_warning('categorical_feature in Dataset is overridden.\\n'\n",
      "C:\\Users\\Sarkhel\\anaconda3\\lib\\site-packages\\lightgbm\\basic.py:1433: UserWarning: Overriding the parameters from Reference Dataset.\n",
      "  _log_warning('Overriding the parameters from Reference Dataset.')\n",
      "C:\\Users\\Sarkhel\\anaconda3\\lib\\site-packages\\lightgbm\\basic.py:1245: UserWarning: categorical_column in param dict is overridden.\n",
      "  _log_warning('{} in param dict is overridden.'.format(cat_alias))\n"
     ]
    },
    {
     "name": "stdout",
     "output_type": "stream",
     "text": [
      "Training until validation scores don't improve for 2000 rounds\n"
     ]
    },
    {
     "name": "stderr",
     "output_type": "stream",
     "text": [
      "\u001b[32m[I 2022-01-20 20:01:10,967]\u001b[0m Trial 104 finished with value: 0.5826596540869724 and parameters: {'learning_rate': 0.01457546884480976, 'lambda_l1': 1.598293421137928e-07, 'lambda_l2': 0.012193774226958637, 'num_leaves': 59, 'feature_fraction': 0.44214233506009154, 'bagging_fraction': 0.4811938983962347, 'bagging_freq': 5, 'min_child_samples': 88}. Best is trial 73 with value: 0.5889527849202367.\u001b[0m\n"
     ]
    },
    {
     "name": "stdout",
     "output_type": "stream",
     "text": [
      "Did not meet early stopping. Best iteration is:\n",
      "[42]\tvalid_0's auc: 0.58266\n",
      "[LightGBM] [Warning] Unknown parameter: nestimators\n",
      "[LightGBM] [Warning] feature_fraction is set=0.6395986129294906, colsample_bytree=1.0 will be ignored. Current value: feature_fraction=0.6395986129294906\n",
      "[LightGBM] [Warning] bagging_fraction is set=0.4950567148235812, subsample=1.0 will be ignored. Current value: bagging_fraction=0.4950567148235812\n",
      "[LightGBM] [Warning] lambda_l1 is set=1.0136649531921789e-08, reg_alpha=0.0 will be ignored. Current value: lambda_l1=1.0136649531921789e-08\n",
      "[LightGBM] [Warning] lambda_l2 is set=0.0003662927887479545, reg_lambda=0.0 will be ignored. Current value: lambda_l2=0.0003662927887479545\n",
      "[LightGBM] [Warning] bagging_freq is set=6, subsample_freq=0 will be ignored. Current value: bagging_freq=6\n"
     ]
    },
    {
     "name": "stderr",
     "output_type": "stream",
     "text": [
      "C:\\Users\\Sarkhel\\anaconda3\\lib\\site-packages\\lightgbm\\basic.py:1702: UserWarning: Using categorical_feature in Dataset.\n",
      "  _log_warning('Using categorical_feature in Dataset.')\n",
      "C:\\Users\\Sarkhel\\anaconda3\\lib\\site-packages\\lightgbm\\basic.py:1705: UserWarning: categorical_feature in Dataset is overridden.\n",
      "New categorical_feature is [6, 9, 12]\n",
      "  _log_warning('categorical_feature in Dataset is overridden.\\n'\n",
      "C:\\Users\\Sarkhel\\anaconda3\\lib\\site-packages\\lightgbm\\basic.py:1433: UserWarning: Overriding the parameters from Reference Dataset.\n",
      "  _log_warning('Overriding the parameters from Reference Dataset.')\n",
      "C:\\Users\\Sarkhel\\anaconda3\\lib\\site-packages\\lightgbm\\basic.py:1245: UserWarning: categorical_column in param dict is overridden.\n",
      "  _log_warning('{} in param dict is overridden.'.format(cat_alias))\n"
     ]
    },
    {
     "name": "stdout",
     "output_type": "stream",
     "text": [
      "Training until validation scores don't improve for 2000 rounds\n"
     ]
    },
    {
     "name": "stderr",
     "output_type": "stream",
     "text": [
      "\u001b[32m[I 2022-01-20 20:01:13,548]\u001b[0m Trial 105 finished with value: 0.5842066895519238 and parameters: {'learning_rate': 0.018673759446082825, 'lambda_l1': 1.0136649531921789e-08, 'lambda_l2': 0.0003662927887479545, 'num_leaves': 149, 'feature_fraction': 0.6395986129294906, 'bagging_fraction': 0.4950567148235812, 'bagging_freq': 6, 'min_child_samples': 96}. Best is trial 73 with value: 0.5889527849202367.\u001b[0m\n"
     ]
    },
    {
     "name": "stdout",
     "output_type": "stream",
     "text": [
      "Did not meet early stopping. Best iteration is:\n",
      "[72]\tvalid_0's auc: 0.584207\n",
      "[LightGBM] [Warning] Unknown parameter: nestimators\n",
      "[LightGBM] [Warning] feature_fraction is set=0.6398566412208824, colsample_bytree=1.0 will be ignored. Current value: feature_fraction=0.6398566412208824\n",
      "[LightGBM] [Warning] bagging_fraction is set=0.49516054756437683, subsample=1.0 will be ignored. Current value: bagging_fraction=0.49516054756437683\n",
      "[LightGBM] [Warning] lambda_l1 is set=2.9809057843989446e-08, reg_alpha=0.0 will be ignored. Current value: lambda_l1=2.9809057843989446e-08\n",
      "[LightGBM] [Warning] lambda_l2 is set=3.831033527713876e-05, reg_lambda=0.0 will be ignored. Current value: lambda_l2=3.831033527713876e-05\n",
      "[LightGBM] [Warning] bagging_freq is set=6, subsample_freq=0 will be ignored. Current value: bagging_freq=6\n"
     ]
    },
    {
     "name": "stderr",
     "output_type": "stream",
     "text": [
      "C:\\Users\\Sarkhel\\anaconda3\\lib\\site-packages\\lightgbm\\basic.py:1702: UserWarning: Using categorical_feature in Dataset.\n",
      "  _log_warning('Using categorical_feature in Dataset.')\n",
      "C:\\Users\\Sarkhel\\anaconda3\\lib\\site-packages\\lightgbm\\basic.py:1705: UserWarning: categorical_feature in Dataset is overridden.\n",
      "New categorical_feature is [6, 9, 12]\n",
      "  _log_warning('categorical_feature in Dataset is overridden.\\n'\n",
      "C:\\Users\\Sarkhel\\anaconda3\\lib\\site-packages\\lightgbm\\basic.py:1433: UserWarning: Overriding the parameters from Reference Dataset.\n",
      "  _log_warning('Overriding the parameters from Reference Dataset.')\n",
      "C:\\Users\\Sarkhel\\anaconda3\\lib\\site-packages\\lightgbm\\basic.py:1245: UserWarning: categorical_column in param dict is overridden.\n",
      "  _log_warning('{} in param dict is overridden.'.format(cat_alias))\n"
     ]
    },
    {
     "name": "stdout",
     "output_type": "stream",
     "text": [
      "Training until validation scores don't improve for 2000 rounds\n"
     ]
    },
    {
     "name": "stderr",
     "output_type": "stream",
     "text": [
      "\u001b[32m[I 2022-01-20 20:01:16,456]\u001b[0m Trial 106 finished with value: 0.5621859945788984 and parameters: {'learning_rate': 0.09145753924477446, 'lambda_l1': 2.9809057843989446e-08, 'lambda_l2': 3.831033527713876e-05, 'num_leaves': 153, 'feature_fraction': 0.6398566412208824, 'bagging_fraction': 0.49516054756437683, 'bagging_freq': 6, 'min_child_samples': 62}. Best is trial 73 with value: 0.5889527849202367.\u001b[0m\n"
     ]
    },
    {
     "name": "stdout",
     "output_type": "stream",
     "text": [
      "Did not meet early stopping. Best iteration is:\n",
      "[52]\tvalid_0's auc: 0.562186\n",
      "[LightGBM] [Warning] Unknown parameter: nestimators\n",
      "[LightGBM] [Warning] feature_fraction is set=0.41951725218412583, colsample_bytree=1.0 will be ignored. Current value: feature_fraction=0.41951725218412583\n",
      "[LightGBM] [Warning] bagging_fraction is set=0.5231582785038535, subsample=1.0 will be ignored. Current value: bagging_fraction=0.5231582785038535\n",
      "[LightGBM] [Warning] lambda_l1 is set=5.5104196611865914e-08, reg_alpha=0.0 will be ignored. Current value: lambda_l1=5.5104196611865914e-08\n",
      "[LightGBM] [Warning] lambda_l2 is set=0.0002794306525805966, reg_lambda=0.0 will be ignored. Current value: lambda_l2=0.0002794306525805966\n",
      "[LightGBM] [Warning] bagging_freq is set=6, subsample_freq=0 will be ignored. Current value: bagging_freq=6\n"
     ]
    },
    {
     "name": "stderr",
     "output_type": "stream",
     "text": [
      "C:\\Users\\Sarkhel\\anaconda3\\lib\\site-packages\\lightgbm\\basic.py:1702: UserWarning: Using categorical_feature in Dataset.\n",
      "  _log_warning('Using categorical_feature in Dataset.')\n",
      "C:\\Users\\Sarkhel\\anaconda3\\lib\\site-packages\\lightgbm\\basic.py:1705: UserWarning: categorical_feature in Dataset is overridden.\n",
      "New categorical_feature is [6, 9, 12]\n",
      "  _log_warning('categorical_feature in Dataset is overridden.\\n'\n",
      "C:\\Users\\Sarkhel\\anaconda3\\lib\\site-packages\\lightgbm\\basic.py:1433: UserWarning: Overriding the parameters from Reference Dataset.\n",
      "  _log_warning('Overriding the parameters from Reference Dataset.')\n",
      "C:\\Users\\Sarkhel\\anaconda3\\lib\\site-packages\\lightgbm\\basic.py:1245: UserWarning: categorical_column in param dict is overridden.\n",
      "  _log_warning('{} in param dict is overridden.'.format(cat_alias))\n"
     ]
    },
    {
     "name": "stdout",
     "output_type": "stream",
     "text": [
      "Training until validation scores don't improve for 2000 rounds\n"
     ]
    },
    {
     "name": "stderr",
     "output_type": "stream",
     "text": [
      "\u001b[32m[I 2022-01-20 20:01:18,872]\u001b[0m Trial 107 finished with value: 0.5735493641149848 and parameters: {'learning_rate': 0.013536714565178513, 'lambda_l1': 5.5104196611865914e-08, 'lambda_l2': 0.0002794306525805966, 'num_leaves': 129, 'feature_fraction': 0.41951725218412583, 'bagging_fraction': 0.5231582785038535, 'bagging_freq': 6, 'min_child_samples': 95}. Best is trial 73 with value: 0.5889527849202367.\u001b[0m\n"
     ]
    },
    {
     "name": "stdout",
     "output_type": "stream",
     "text": [
      "Did not meet early stopping. Best iteration is:\n",
      "[70]\tvalid_0's auc: 0.573549\n",
      "[LightGBM] [Warning] Unknown parameter: nestimators\n",
      "[LightGBM] [Warning] feature_fraction is set=0.6456078835001005, colsample_bytree=1.0 will be ignored. Current value: feature_fraction=0.6456078835001005\n",
      "[LightGBM] [Warning] bagging_fraction is set=0.5114648473690568, subsample=1.0 will be ignored. Current value: bagging_fraction=0.5114648473690568\n",
      "[LightGBM] [Warning] lambda_l1 is set=1.6235610213865574e-08, reg_alpha=0.0 will be ignored. Current value: lambda_l1=1.6235610213865574e-08\n",
      "[LightGBM] [Warning] lambda_l2 is set=0.15236541699810785, reg_lambda=0.0 will be ignored. Current value: lambda_l2=0.15236541699810785\n",
      "[LightGBM] [Warning] bagging_freq is set=6, subsample_freq=0 will be ignored. Current value: bagging_freq=6\n"
     ]
    },
    {
     "name": "stderr",
     "output_type": "stream",
     "text": [
      "C:\\Users\\Sarkhel\\anaconda3\\lib\\site-packages\\lightgbm\\basic.py:1702: UserWarning: Using categorical_feature in Dataset.\n",
      "  _log_warning('Using categorical_feature in Dataset.')\n",
      "C:\\Users\\Sarkhel\\anaconda3\\lib\\site-packages\\lightgbm\\basic.py:1705: UserWarning: categorical_feature in Dataset is overridden.\n",
      "New categorical_feature is [6, 9, 12]\n",
      "  _log_warning('categorical_feature in Dataset is overridden.\\n'\n",
      "C:\\Users\\Sarkhel\\anaconda3\\lib\\site-packages\\lightgbm\\basic.py:1433: UserWarning: Overriding the parameters from Reference Dataset.\n",
      "  _log_warning('Overriding the parameters from Reference Dataset.')\n",
      "C:\\Users\\Sarkhel\\anaconda3\\lib\\site-packages\\lightgbm\\basic.py:1245: UserWarning: categorical_column in param dict is overridden.\n",
      "  _log_warning('{} in param dict is overridden.'.format(cat_alias))\n"
     ]
    },
    {
     "name": "stdout",
     "output_type": "stream",
     "text": [
      "Training until validation scores don't improve for 2000 rounds\n"
     ]
    },
    {
     "name": "stderr",
     "output_type": "stream",
     "text": [
      "\u001b[32m[I 2022-01-20 20:01:21,418]\u001b[0m Trial 108 finished with value: 0.5777810405028027 and parameters: {'learning_rate': 0.01782695482997935, 'lambda_l1': 1.6235610213865574e-08, 'lambda_l2': 0.15236541699810785, 'num_leaves': 145, 'feature_fraction': 0.6456078835001005, 'bagging_fraction': 0.5114648473690568, 'bagging_freq': 6, 'min_child_samples': 100}. Best is trial 73 with value: 0.5889527849202367.\u001b[0m\n"
     ]
    },
    {
     "name": "stdout",
     "output_type": "stream",
     "text": [
      "Did not meet early stopping. Best iteration is:\n",
      "[82]\tvalid_0's auc: 0.577781\n",
      "[LightGBM] [Warning] Unknown parameter: nestimators\n",
      "[LightGBM] [Warning] feature_fraction is set=0.6116630394142015, colsample_bytree=1.0 will be ignored. Current value: feature_fraction=0.6116630394142015\n",
      "[LightGBM] [Warning] bagging_fraction is set=0.4738413394134465, subsample=1.0 will be ignored. Current value: bagging_fraction=0.4738413394134465\n",
      "[LightGBM] [Warning] lambda_l1 is set=9.060208772984761e-08, reg_alpha=0.0 will be ignored. Current value: lambda_l1=9.060208772984761e-08\n",
      "[LightGBM] [Warning] lambda_l2 is set=0.00043077573962543343, reg_lambda=0.0 will be ignored. Current value: lambda_l2=0.00043077573962543343\n",
      "[LightGBM] [Warning] bagging_freq is set=7, subsample_freq=0 will be ignored. Current value: bagging_freq=7\n"
     ]
    },
    {
     "name": "stderr",
     "output_type": "stream",
     "text": [
      "C:\\Users\\Sarkhel\\anaconda3\\lib\\site-packages\\lightgbm\\basic.py:1702: UserWarning: Using categorical_feature in Dataset.\n",
      "  _log_warning('Using categorical_feature in Dataset.')\n",
      "C:\\Users\\Sarkhel\\anaconda3\\lib\\site-packages\\lightgbm\\basic.py:1705: UserWarning: categorical_feature in Dataset is overridden.\n",
      "New categorical_feature is [6, 9, 12]\n",
      "  _log_warning('categorical_feature in Dataset is overridden.\\n'\n",
      "C:\\Users\\Sarkhel\\anaconda3\\lib\\site-packages\\lightgbm\\basic.py:1433: UserWarning: Overriding the parameters from Reference Dataset.\n",
      "  _log_warning('Overriding the parameters from Reference Dataset.')\n",
      "C:\\Users\\Sarkhel\\anaconda3\\lib\\site-packages\\lightgbm\\basic.py:1245: UserWarning: categorical_column in param dict is overridden.\n",
      "  _log_warning('{} in param dict is overridden.'.format(cat_alias))\n"
     ]
    },
    {
     "name": "stdout",
     "output_type": "stream",
     "text": [
      "Training until validation scores don't improve for 2000 rounds\n"
     ]
    },
    {
     "name": "stderr",
     "output_type": "stream",
     "text": [
      "\u001b[32m[I 2022-01-20 20:01:22,623]\u001b[0m Trial 109 finished with value: 0.5787899062683275 and parameters: {'learning_rate': 0.01889074266506408, 'lambda_l1': 9.060208772984761e-08, 'lambda_l2': 0.00043077573962543343, 'num_leaves': 44, 'feature_fraction': 0.6116630394142015, 'bagging_fraction': 0.4738413394134465, 'bagging_freq': 7, 'min_child_samples': 97}. Best is trial 73 with value: 0.5889527849202367.\u001b[0m\n"
     ]
    },
    {
     "name": "stdout",
     "output_type": "stream",
     "text": [
      "Did not meet early stopping. Best iteration is:\n",
      "[92]\tvalid_0's auc: 0.57879\n",
      "[LightGBM] [Warning] Unknown parameter: nestimators\n",
      "[LightGBM] [Warning] feature_fraction is set=0.6747580996177672, colsample_bytree=1.0 will be ignored. Current value: feature_fraction=0.6747580996177672\n",
      "[LightGBM] [Warning] bagging_fraction is set=0.539215121527483, subsample=1.0 will be ignored. Current value: bagging_fraction=0.539215121527483\n",
      "[LightGBM] [Warning] lambda_l1 is set=2.647202530694355e-08, reg_alpha=0.0 will be ignored. Current value: lambda_l1=2.647202530694355e-08\n",
      "[LightGBM] [Warning] lambda_l2 is set=0.0014111558801001146, reg_lambda=0.0 will be ignored. Current value: lambda_l2=0.0014111558801001146\n",
      "[LightGBM] [Warning] bagging_freq is set=6, subsample_freq=0 will be ignored. Current value: bagging_freq=6\n"
     ]
    },
    {
     "name": "stderr",
     "output_type": "stream",
     "text": [
      "C:\\Users\\Sarkhel\\anaconda3\\lib\\site-packages\\lightgbm\\basic.py:1702: UserWarning: Using categorical_feature in Dataset.\n",
      "  _log_warning('Using categorical_feature in Dataset.')\n",
      "C:\\Users\\Sarkhel\\anaconda3\\lib\\site-packages\\lightgbm\\basic.py:1705: UserWarning: categorical_feature in Dataset is overridden.\n",
      "New categorical_feature is [6, 9, 12]\n",
      "  _log_warning('categorical_feature in Dataset is overridden.\\n'\n",
      "C:\\Users\\Sarkhel\\anaconda3\\lib\\site-packages\\lightgbm\\basic.py:1433: UserWarning: Overriding the parameters from Reference Dataset.\n",
      "  _log_warning('Overriding the parameters from Reference Dataset.')\n",
      "C:\\Users\\Sarkhel\\anaconda3\\lib\\site-packages\\lightgbm\\basic.py:1245: UserWarning: categorical_column in param dict is overridden.\n",
      "  _log_warning('{} in param dict is overridden.'.format(cat_alias))\n"
     ]
    },
    {
     "name": "stdout",
     "output_type": "stream",
     "text": [
      "Training until validation scores don't improve for 2000 rounds\n"
     ]
    },
    {
     "name": "stderr",
     "output_type": "stream",
     "text": [
      "\u001b[32m[I 2022-01-20 20:01:23,658]\u001b[0m Trial 110 finished with value: 0.575684769662559 and parameters: {'learning_rate': 0.014954868877684407, 'lambda_l1': 2.647202530694355e-08, 'lambda_l2': 0.0014111558801001146, 'num_leaves': 32, 'feature_fraction': 0.6747580996177672, 'bagging_fraction': 0.539215121527483, 'bagging_freq': 6, 'min_child_samples': 9}. Best is trial 73 with value: 0.5889527849202367.\u001b[0m\n"
     ]
    },
    {
     "name": "stdout",
     "output_type": "stream",
     "text": [
      "Did not meet early stopping. Best iteration is:\n",
      "[78]\tvalid_0's auc: 0.575685\n",
      "[LightGBM] [Warning] Unknown parameter: nestimators\n",
      "[LightGBM] [Warning] feature_fraction is set=0.4791290644709635, colsample_bytree=1.0 will be ignored. Current value: feature_fraction=0.4791290644709635\n",
      "[LightGBM] [Warning] bagging_fraction is set=0.4605432790954066, subsample=1.0 will be ignored. Current value: bagging_fraction=0.4605432790954066\n",
      "[LightGBM] [Warning] lambda_l1 is set=1.1376781217446721e-08, reg_alpha=0.0 will be ignored. Current value: lambda_l1=1.1376781217446721e-08\n",
      "[LightGBM] [Warning] lambda_l2 is set=0.0035073175712418787, reg_lambda=0.0 will be ignored. Current value: lambda_l2=0.0035073175712418787\n",
      "[LightGBM] [Warning] bagging_freq is set=5, subsample_freq=0 will be ignored. Current value: bagging_freq=5\n"
     ]
    },
    {
     "name": "stderr",
     "output_type": "stream",
     "text": [
      "C:\\Users\\Sarkhel\\anaconda3\\lib\\site-packages\\lightgbm\\basic.py:1702: UserWarning: Using categorical_feature in Dataset.\n",
      "  _log_warning('Using categorical_feature in Dataset.')\n",
      "C:\\Users\\Sarkhel\\anaconda3\\lib\\site-packages\\lightgbm\\basic.py:1705: UserWarning: categorical_feature in Dataset is overridden.\n",
      "New categorical_feature is [6, 9, 12]\n",
      "  _log_warning('categorical_feature in Dataset is overridden.\\n'\n",
      "C:\\Users\\Sarkhel\\anaconda3\\lib\\site-packages\\lightgbm\\basic.py:1433: UserWarning: Overriding the parameters from Reference Dataset.\n",
      "  _log_warning('Overriding the parameters from Reference Dataset.')\n",
      "C:\\Users\\Sarkhel\\anaconda3\\lib\\site-packages\\lightgbm\\basic.py:1245: UserWarning: categorical_column in param dict is overridden.\n",
      "  _log_warning('{} in param dict is overridden.'.format(cat_alias))\n"
     ]
    },
    {
     "name": "stdout",
     "output_type": "stream",
     "text": [
      "Training until validation scores don't improve for 2000 rounds\n"
     ]
    },
    {
     "name": "stderr",
     "output_type": "stream",
     "text": [
      "\u001b[32m[I 2022-01-20 20:01:26,064]\u001b[0m Trial 111 finished with value: 0.5792325333029612 and parameters: {'learning_rate': 0.01614927257895964, 'lambda_l1': 1.1376781217446721e-08, 'lambda_l2': 0.0035073175712418787, 'num_leaves': 161, 'feature_fraction': 0.4791290644709635, 'bagging_fraction': 0.4605432790954066, 'bagging_freq': 5, 'min_child_samples': 93}. Best is trial 73 with value: 0.5889527849202367.\u001b[0m\n"
     ]
    },
    {
     "name": "stdout",
     "output_type": "stream",
     "text": [
      "Did not meet early stopping. Best iteration is:\n",
      "[100]\tvalid_0's auc: 0.579233\n",
      "[LightGBM] [Warning] Unknown parameter: nestimators\n",
      "[LightGBM] [Warning] feature_fraction is set=0.5656771124916266, colsample_bytree=1.0 will be ignored. Current value: feature_fraction=0.5656771124916266\n",
      "[LightGBM] [Warning] bagging_fraction is set=0.41978392493446454, subsample=1.0 will be ignored. Current value: bagging_fraction=0.41978392493446454\n",
      "[LightGBM] [Warning] lambda_l1 is set=1.0322548833518956e-08, reg_alpha=0.0 will be ignored. Current value: lambda_l1=1.0322548833518956e-08\n",
      "[LightGBM] [Warning] lambda_l2 is set=8.165545980397041e-05, reg_lambda=0.0 will be ignored. Current value: lambda_l2=8.165545980397041e-05\n",
      "[LightGBM] [Warning] bagging_freq is set=5, subsample_freq=0 will be ignored. Current value: bagging_freq=5\n"
     ]
    },
    {
     "name": "stderr",
     "output_type": "stream",
     "text": [
      "C:\\Users\\Sarkhel\\anaconda3\\lib\\site-packages\\lightgbm\\basic.py:1702: UserWarning: Using categorical_feature in Dataset.\n",
      "  _log_warning('Using categorical_feature in Dataset.')\n",
      "C:\\Users\\Sarkhel\\anaconda3\\lib\\site-packages\\lightgbm\\basic.py:1705: UserWarning: categorical_feature in Dataset is overridden.\n",
      "New categorical_feature is [6, 9, 12]\n",
      "  _log_warning('categorical_feature in Dataset is overridden.\\n'\n",
      "C:\\Users\\Sarkhel\\anaconda3\\lib\\site-packages\\lightgbm\\basic.py:1433: UserWarning: Overriding the parameters from Reference Dataset.\n",
      "  _log_warning('Overriding the parameters from Reference Dataset.')\n",
      "C:\\Users\\Sarkhel\\anaconda3\\lib\\site-packages\\lightgbm\\basic.py:1245: UserWarning: categorical_column in param dict is overridden.\n",
      "  _log_warning('{} in param dict is overridden.'.format(cat_alias))\n"
     ]
    },
    {
     "name": "stdout",
     "output_type": "stream",
     "text": [
      "Training until validation scores don't improve for 2000 rounds\n"
     ]
    },
    {
     "name": "stderr",
     "output_type": "stream",
     "text": [
      "\u001b[32m[I 2022-01-20 20:01:27,172]\u001b[0m Trial 112 finished with value: 0.5775046685006899 and parameters: {'learning_rate': 0.020231724661347195, 'lambda_l1': 1.0322548833518956e-08, 'lambda_l2': 8.165545980397041e-05, 'num_leaves': 38, 'feature_fraction': 0.5656771124916266, 'bagging_fraction': 0.41978392493446454, 'bagging_freq': 5, 'min_child_samples': 90}. Best is trial 73 with value: 0.5889527849202367.\u001b[0m\n"
     ]
    },
    {
     "name": "stdout",
     "output_type": "stream",
     "text": [
      "Did not meet early stopping. Best iteration is:\n",
      "[50]\tvalid_0's auc: 0.577505\n",
      "[LightGBM] [Warning] Unknown parameter: nestimators\n",
      "[LightGBM] [Warning] feature_fraction is set=0.9601113308815359, colsample_bytree=1.0 will be ignored. Current value: feature_fraction=0.9601113308815359\n",
      "[LightGBM] [Warning] bagging_fraction is set=0.4970602265581358, subsample=1.0 will be ignored. Current value: bagging_fraction=0.4970602265581358\n",
      "[LightGBM] [Warning] lambda_l1 is set=4.199281761772535e-08, reg_alpha=0.0 will be ignored. Current value: lambda_l1=4.199281761772535e-08\n",
      "[LightGBM] [Warning] lambda_l2 is set=0.0010965886876732145, reg_lambda=0.0 will be ignored. Current value: lambda_l2=0.0010965886876732145\n",
      "[LightGBM] [Warning] bagging_freq is set=5, subsample_freq=0 will be ignored. Current value: bagging_freq=5\n"
     ]
    },
    {
     "name": "stderr",
     "output_type": "stream",
     "text": [
      "C:\\Users\\Sarkhel\\anaconda3\\lib\\site-packages\\lightgbm\\basic.py:1702: UserWarning: Using categorical_feature in Dataset.\n",
      "  _log_warning('Using categorical_feature in Dataset.')\n",
      "C:\\Users\\Sarkhel\\anaconda3\\lib\\site-packages\\lightgbm\\basic.py:1705: UserWarning: categorical_feature in Dataset is overridden.\n",
      "New categorical_feature is [6, 9, 12]\n",
      "  _log_warning('categorical_feature in Dataset is overridden.\\n'\n",
      "C:\\Users\\Sarkhel\\anaconda3\\lib\\site-packages\\lightgbm\\basic.py:1433: UserWarning: Overriding the parameters from Reference Dataset.\n",
      "  _log_warning('Overriding the parameters from Reference Dataset.')\n",
      "C:\\Users\\Sarkhel\\anaconda3\\lib\\site-packages\\lightgbm\\basic.py:1245: UserWarning: categorical_column in param dict is overridden.\n",
      "  _log_warning('{} in param dict is overridden.'.format(cat_alias))\n"
     ]
    },
    {
     "name": "stdout",
     "output_type": "stream",
     "text": [
      "Training until validation scores don't improve for 2000 rounds\n"
     ]
    },
    {
     "name": "stderr",
     "output_type": "stream",
     "text": [
      "\u001b[32m[I 2022-01-20 20:01:28,545]\u001b[0m Trial 113 finished with value: 0.5785507797118119 and parameters: {'learning_rate': 0.011428789121250088, 'lambda_l1': 4.199281761772535e-08, 'lambda_l2': 0.0010965886876732145, 'num_leaves': 51, 'feature_fraction': 0.9601113308815359, 'bagging_fraction': 0.4970602265581358, 'bagging_freq': 5, 'min_child_samples': 98}. Best is trial 73 with value: 0.5889527849202367.\u001b[0m\n"
     ]
    },
    {
     "name": "stdout",
     "output_type": "stream",
     "text": [
      "Did not meet early stopping. Best iteration is:\n",
      "[30]\tvalid_0's auc: 0.578551\n",
      "[LightGBM] [Warning] Unknown parameter: nestimators\n",
      "[LightGBM] [Warning] feature_fraction is set=0.6315573099035057, colsample_bytree=1.0 will be ignored. Current value: feature_fraction=0.6315573099035057\n",
      "[LightGBM] [Warning] bagging_fraction is set=0.4491255904182954, subsample=1.0 will be ignored. Current value: bagging_fraction=0.4491255904182954\n",
      "[LightGBM] [Warning] lambda_l1 is set=2.0360588307661276e-08, reg_alpha=0.0 will be ignored. Current value: lambda_l1=2.0360588307661276e-08\n",
      "[LightGBM] [Warning] lambda_l2 is set=0.0001259367786465167, reg_lambda=0.0 will be ignored. Current value: lambda_l2=0.0001259367786465167\n",
      "[LightGBM] [Warning] bagging_freq is set=5, subsample_freq=0 will be ignored. Current value: bagging_freq=5\n"
     ]
    },
    {
     "name": "stderr",
     "output_type": "stream",
     "text": [
      "C:\\Users\\Sarkhel\\anaconda3\\lib\\site-packages\\lightgbm\\basic.py:1702: UserWarning: Using categorical_feature in Dataset.\n",
      "  _log_warning('Using categorical_feature in Dataset.')\n",
      "C:\\Users\\Sarkhel\\anaconda3\\lib\\site-packages\\lightgbm\\basic.py:1705: UserWarning: categorical_feature in Dataset is overridden.\n",
      "New categorical_feature is [6, 9, 12]\n",
      "  _log_warning('categorical_feature in Dataset is overridden.\\n'\n",
      "C:\\Users\\Sarkhel\\anaconda3\\lib\\site-packages\\lightgbm\\basic.py:1433: UserWarning: Overriding the parameters from Reference Dataset.\n",
      "  _log_warning('Overriding the parameters from Reference Dataset.')\n",
      "C:\\Users\\Sarkhel\\anaconda3\\lib\\site-packages\\lightgbm\\basic.py:1245: UserWarning: categorical_column in param dict is overridden.\n",
      "  _log_warning('{} in param dict is overridden.'.format(cat_alias))\n"
     ]
    },
    {
     "name": "stdout",
     "output_type": "stream",
     "text": [
      "Training until validation scores don't improve for 2000 rounds\n"
     ]
    },
    {
     "name": "stderr",
     "output_type": "stream",
     "text": [
      "\u001b[32m[I 2022-01-20 20:01:30,964]\u001b[0m Trial 114 finished with value: 0.5792311838302946 and parameters: {'learning_rate': 0.02270923616901411, 'lambda_l1': 2.0360588307661276e-08, 'lambda_l2': 0.0001259367786465167, 'num_leaves': 115, 'feature_fraction': 0.6315573099035057, 'bagging_fraction': 0.4491255904182954, 'bagging_freq': 5, 'min_child_samples': 14}. Best is trial 73 with value: 0.5889527849202367.\u001b[0m\n"
     ]
    },
    {
     "name": "stdout",
     "output_type": "stream",
     "text": [
      "Did not meet early stopping. Best iteration is:\n",
      "[29]\tvalid_0's auc: 0.579231\n",
      "[LightGBM] [Warning] Unknown parameter: nestimators\n",
      "[LightGBM] [Warning] feature_fraction is set=0.5117257683880959, colsample_bytree=1.0 will be ignored. Current value: feature_fraction=0.5117257683880959\n",
      "[LightGBM] [Warning] bagging_fraction is set=0.48151437187325535, subsample=1.0 will be ignored. Current value: bagging_fraction=0.48151437187325535\n",
      "[LightGBM] [Warning] lambda_l1 is set=7.271677937490928e-08, reg_alpha=0.0 will be ignored. Current value: lambda_l1=7.271677937490928e-08\n",
      "[LightGBM] [Warning] lambda_l2 is set=0.0005802149339167456, reg_lambda=0.0 will be ignored. Current value: lambda_l2=0.0005802149339167456\n",
      "[LightGBM] [Warning] bagging_freq is set=5, subsample_freq=0 will be ignored. Current value: bagging_freq=5\n"
     ]
    },
    {
     "name": "stderr",
     "output_type": "stream",
     "text": [
      "C:\\Users\\Sarkhel\\anaconda3\\lib\\site-packages\\lightgbm\\basic.py:1702: UserWarning: Using categorical_feature in Dataset.\n",
      "  _log_warning('Using categorical_feature in Dataset.')\n",
      "C:\\Users\\Sarkhel\\anaconda3\\lib\\site-packages\\lightgbm\\basic.py:1705: UserWarning: categorical_feature in Dataset is overridden.\n",
      "New categorical_feature is [6, 9, 12]\n",
      "  _log_warning('categorical_feature in Dataset is overridden.\\n'\n",
      "C:\\Users\\Sarkhel\\anaconda3\\lib\\site-packages\\lightgbm\\basic.py:1433: UserWarning: Overriding the parameters from Reference Dataset.\n",
      "  _log_warning('Overriding the parameters from Reference Dataset.')\n",
      "C:\\Users\\Sarkhel\\anaconda3\\lib\\site-packages\\lightgbm\\basic.py:1245: UserWarning: categorical_column in param dict is overridden.\n",
      "  _log_warning('{} in param dict is overridden.'.format(cat_alias))\n"
     ]
    },
    {
     "name": "stdout",
     "output_type": "stream",
     "text": [
      "Training until validation scores don't improve for 2000 rounds\n"
     ]
    },
    {
     "name": "stderr",
     "output_type": "stream",
     "text": [
      "\u001b[32m[I 2022-01-20 20:01:33,123]\u001b[0m Trial 115 finished with value: 0.5853680457287705 and parameters: {'learning_rate': 0.017035776024911985, 'lambda_l1': 7.271677937490928e-08, 'lambda_l2': 0.0005802149339167456, 'num_leaves': 108, 'feature_fraction': 0.5117257683880959, 'bagging_fraction': 0.48151437187325535, 'bagging_freq': 5, 'min_child_samples': 92}. Best is trial 73 with value: 0.5889527849202367.\u001b[0m\n"
     ]
    },
    {
     "name": "stdout",
     "output_type": "stream",
     "text": [
      "Did not meet early stopping. Best iteration is:\n",
      "[48]\tvalid_0's auc: 0.585368\n",
      "[LightGBM] [Warning] Unknown parameter: nestimators\n",
      "[LightGBM] [Warning] feature_fraction is set=0.6057184024280782, colsample_bytree=1.0 will be ignored. Current value: feature_fraction=0.6057184024280782\n",
      "[LightGBM] [Warning] bagging_fraction is set=0.48555531845768873, subsample=1.0 will be ignored. Current value: bagging_fraction=0.48555531845768873\n",
      "[LightGBM] [Warning] lambda_l1 is set=1.3298881661514134e-07, reg_alpha=0.0 will be ignored. Current value: lambda_l1=1.3298881661514134e-07\n",
      "[LightGBM] [Warning] lambda_l2 is set=0.0005431980124946656, reg_lambda=0.0 will be ignored. Current value: lambda_l2=0.0005431980124946656\n",
      "[LightGBM] [Warning] bagging_freq is set=6, subsample_freq=0 will be ignored. Current value: bagging_freq=6\n"
     ]
    },
    {
     "name": "stderr",
     "output_type": "stream",
     "text": [
      "C:\\Users\\Sarkhel\\anaconda3\\lib\\site-packages\\lightgbm\\basic.py:1702: UserWarning: Using categorical_feature in Dataset.\n",
      "  _log_warning('Using categorical_feature in Dataset.')\n",
      "C:\\Users\\Sarkhel\\anaconda3\\lib\\site-packages\\lightgbm\\basic.py:1705: UserWarning: categorical_feature in Dataset is overridden.\n",
      "New categorical_feature is [6, 9, 12]\n",
      "  _log_warning('categorical_feature in Dataset is overridden.\\n'\n",
      "C:\\Users\\Sarkhel\\anaconda3\\lib\\site-packages\\lightgbm\\basic.py:1433: UserWarning: Overriding the parameters from Reference Dataset.\n",
      "  _log_warning('Overriding the parameters from Reference Dataset.')\n",
      "C:\\Users\\Sarkhel\\anaconda3\\lib\\site-packages\\lightgbm\\basic.py:1245: UserWarning: categorical_column in param dict is overridden.\n",
      "  _log_warning('{} in param dict is overridden.'.format(cat_alias))\n"
     ]
    },
    {
     "name": "stdout",
     "output_type": "stream",
     "text": [
      "Training until validation scores don't improve for 2000 rounds\n"
     ]
    },
    {
     "name": "stderr",
     "output_type": "stream",
     "text": [
      "\u001b[32m[I 2022-01-20 20:01:35,167]\u001b[0m Trial 116 finished with value: 0.5764032289102388 and parameters: {'learning_rate': 0.01714475216666268, 'lambda_l1': 1.3298881661514134e-07, 'lambda_l2': 0.0005431980124946656, 'num_leaves': 94, 'feature_fraction': 0.6057184024280782, 'bagging_fraction': 0.48555531845768873, 'bagging_freq': 6, 'min_child_samples': 45}. Best is trial 73 with value: 0.5889527849202367.\u001b[0m\n"
     ]
    },
    {
     "name": "stdout",
     "output_type": "stream",
     "text": [
      "Did not meet early stopping. Best iteration is:\n",
      "[64]\tvalid_0's auc: 0.576403\n",
      "[LightGBM] [Warning] Unknown parameter: nestimators\n",
      "[LightGBM] [Warning] feature_fraction is set=0.4703901272303666, colsample_bytree=1.0 will be ignored. Current value: feature_fraction=0.4703901272303666\n",
      "[LightGBM] [Warning] bagging_fraction is set=0.5176182886728868, subsample=1.0 will be ignored. Current value: bagging_fraction=0.5176182886728868\n",
      "[LightGBM] [Warning] lambda_l1 is set=7.958428686198637e-08, reg_alpha=0.0 will be ignored. Current value: lambda_l1=7.958428686198637e-08\n",
      "[LightGBM] [Warning] lambda_l2 is set=0.023595954489151277, reg_lambda=0.0 will be ignored. Current value: lambda_l2=0.023595954489151277\n",
      "[LightGBM] [Warning] bagging_freq is set=5, subsample_freq=0 will be ignored. Current value: bagging_freq=5\n"
     ]
    },
    {
     "name": "stderr",
     "output_type": "stream",
     "text": [
      "C:\\Users\\Sarkhel\\anaconda3\\lib\\site-packages\\lightgbm\\basic.py:1702: UserWarning: Using categorical_feature in Dataset.\n",
      "  _log_warning('Using categorical_feature in Dataset.')\n",
      "C:\\Users\\Sarkhel\\anaconda3\\lib\\site-packages\\lightgbm\\basic.py:1705: UserWarning: categorical_feature in Dataset is overridden.\n",
      "New categorical_feature is [6, 9, 12]\n",
      "  _log_warning('categorical_feature in Dataset is overridden.\\n'\n",
      "C:\\Users\\Sarkhel\\anaconda3\\lib\\site-packages\\lightgbm\\basic.py:1433: UserWarning: Overriding the parameters from Reference Dataset.\n",
      "  _log_warning('Overriding the parameters from Reference Dataset.')\n",
      "C:\\Users\\Sarkhel\\anaconda3\\lib\\site-packages\\lightgbm\\basic.py:1245: UserWarning: categorical_column in param dict is overridden.\n",
      "  _log_warning('{} in param dict is overridden.'.format(cat_alias))\n"
     ]
    },
    {
     "name": "stdout",
     "output_type": "stream",
     "text": [
      "Training until validation scores don't improve for 2000 rounds\n"
     ]
    },
    {
     "name": "stderr",
     "output_type": "stream",
     "text": [
      "\u001b[32m[I 2022-01-20 20:01:37,344]\u001b[0m Trial 117 finished with value: 0.5797561286975887 and parameters: {'learning_rate': 0.012433358805029375, 'lambda_l1': 7.958428686198637e-08, 'lambda_l2': 0.023595954489151277, 'num_leaves': 107, 'feature_fraction': 0.4703901272303666, 'bagging_fraction': 0.5176182886728868, 'bagging_freq': 5, 'min_child_samples': 95}. Best is trial 73 with value: 0.5889527849202367.\u001b[0m\n"
     ]
    },
    {
     "name": "stdout",
     "output_type": "stream",
     "text": [
      "Did not meet early stopping. Best iteration is:\n",
      "[44]\tvalid_0's auc: 0.579756\n",
      "[LightGBM] [Warning] Unknown parameter: nestimators\n",
      "[LightGBM] [Warning] feature_fraction is set=0.5940784962345029, colsample_bytree=1.0 will be ignored. Current value: feature_fraction=0.5940784962345029\n",
      "[LightGBM] [Warning] bagging_fraction is set=0.4709918969707193, subsample=1.0 will be ignored. Current value: bagging_fraction=0.4709918969707193\n",
      "[LightGBM] [Warning] lambda_l1 is set=4.008544760868665e-07, reg_alpha=0.0 will be ignored. Current value: lambda_l1=4.008544760868665e-07\n",
      "[LightGBM] [Warning] lambda_l2 is set=1.0511731972735234e-08, reg_lambda=0.0 will be ignored. Current value: lambda_l2=1.0511731972735234e-08\n",
      "[LightGBM] [Warning] bagging_freq is set=6, subsample_freq=0 will be ignored. Current value: bagging_freq=6\n"
     ]
    },
    {
     "name": "stderr",
     "output_type": "stream",
     "text": [
      "C:\\Users\\Sarkhel\\anaconda3\\lib\\site-packages\\lightgbm\\basic.py:1702: UserWarning: Using categorical_feature in Dataset.\n",
      "  _log_warning('Using categorical_feature in Dataset.')\n",
      "C:\\Users\\Sarkhel\\anaconda3\\lib\\site-packages\\lightgbm\\basic.py:1705: UserWarning: categorical_feature in Dataset is overridden.\n",
      "New categorical_feature is [6, 9, 12]\n",
      "  _log_warning('categorical_feature in Dataset is overridden.\\n'\n",
      "C:\\Users\\Sarkhel\\anaconda3\\lib\\site-packages\\lightgbm\\basic.py:1433: UserWarning: Overriding the parameters from Reference Dataset.\n",
      "  _log_warning('Overriding the parameters from Reference Dataset.')\n",
      "C:\\Users\\Sarkhel\\anaconda3\\lib\\site-packages\\lightgbm\\basic.py:1245: UserWarning: categorical_column in param dict is overridden.\n",
      "  _log_warning('{} in param dict is overridden.'.format(cat_alias))\n"
     ]
    },
    {
     "name": "stdout",
     "output_type": "stream",
     "text": [
      "Training until validation scores don't improve for 2000 rounds\n"
     ]
    },
    {
     "name": "stderr",
     "output_type": "stream",
     "text": [
      "\u001b[32m[I 2022-01-20 20:01:38,839]\u001b[0m Trial 118 finished with value: 0.5813957379874666 and parameters: {'learning_rate': 0.01833302057561417, 'lambda_l1': 4.008544760868665e-07, 'lambda_l2': 1.0511731972735234e-08, 'num_leaves': 62, 'feature_fraction': 0.5940784962345029, 'bagging_fraction': 0.4709918969707193, 'bagging_freq': 6, 'min_child_samples': 91}. Best is trial 73 with value: 0.5889527849202367.\u001b[0m\n"
     ]
    },
    {
     "name": "stdout",
     "output_type": "stream",
     "text": [
      "Did not meet early stopping. Best iteration is:\n",
      "[83]\tvalid_0's auc: 0.581396\n",
      "[LightGBM] [Warning] Unknown parameter: nestimators\n",
      "[LightGBM] [Warning] feature_fraction is set=0.4575359350889897, colsample_bytree=1.0 will be ignored. Current value: feature_fraction=0.4575359350889897\n",
      "[LightGBM] [Warning] bagging_fraction is set=0.568107259830828, subsample=1.0 will be ignored. Current value: bagging_fraction=0.568107259830828\n",
      "[LightGBM] [Warning] lambda_l1 is set=5.5197694671595004e-08, reg_alpha=0.0 will be ignored. Current value: lambda_l1=5.5197694671595004e-08\n",
      "[LightGBM] [Warning] lambda_l2 is set=0.00033370371835617676, reg_lambda=0.0 will be ignored. Current value: lambda_l2=0.00033370371835617676\n",
      "[LightGBM] [Warning] bagging_freq is set=5, subsample_freq=0 will be ignored. Current value: bagging_freq=5\n"
     ]
    },
    {
     "name": "stderr",
     "output_type": "stream",
     "text": [
      "C:\\Users\\Sarkhel\\anaconda3\\lib\\site-packages\\lightgbm\\basic.py:1702: UserWarning: Using categorical_feature in Dataset.\n",
      "  _log_warning('Using categorical_feature in Dataset.')\n",
      "C:\\Users\\Sarkhel\\anaconda3\\lib\\site-packages\\lightgbm\\basic.py:1705: UserWarning: categorical_feature in Dataset is overridden.\n",
      "New categorical_feature is [6, 9, 12]\n",
      "  _log_warning('categorical_feature in Dataset is overridden.\\n'\n",
      "C:\\Users\\Sarkhel\\anaconda3\\lib\\site-packages\\lightgbm\\basic.py:1433: UserWarning: Overriding the parameters from Reference Dataset.\n",
      "  _log_warning('Overriding the parameters from Reference Dataset.')\n",
      "C:\\Users\\Sarkhel\\anaconda3\\lib\\site-packages\\lightgbm\\basic.py:1245: UserWarning: categorical_column in param dict is overridden.\n",
      "  _log_warning('{} in param dict is overridden.'.format(cat_alias))\n"
     ]
    },
    {
     "name": "stdout",
     "output_type": "stream",
     "text": [
      "Training until validation scores don't improve for 2000 rounds\n"
     ]
    },
    {
     "name": "stderr",
     "output_type": "stream",
     "text": [
      "\u001b[32m[I 2022-01-20 20:01:39,729]\u001b[0m Trial 119 finished with value: 0.5788079892020594 and parameters: {'learning_rate': 0.01392007943191401, 'lambda_l1': 5.5197694671595004e-08, 'lambda_l2': 0.00033370371835617676, 'num_leaves': 24, 'feature_fraction': 0.4575359350889897, 'bagging_fraction': 0.568107259830828, 'bagging_freq': 5, 'min_child_samples': 28}. Best is trial 73 with value: 0.5889527849202367.\u001b[0m\n"
     ]
    },
    {
     "name": "stdout",
     "output_type": "stream",
     "text": [
      "Did not meet early stopping. Best iteration is:\n",
      "[100]\tvalid_0's auc: 0.578808\n",
      "[LightGBM] [Warning] Unknown parameter: nestimators\n",
      "[LightGBM] [Warning] feature_fraction is set=0.6192862503046763, colsample_bytree=1.0 will be ignored. Current value: feature_fraction=0.6192862503046763\n",
      "[LightGBM] [Warning] bagging_fraction is set=0.5025973312874867, subsample=1.0 will be ignored. Current value: bagging_fraction=0.5025973312874867\n",
      "[LightGBM] [Warning] lambda_l1 is set=2.144281679327719e-07, reg_alpha=0.0 will be ignored. Current value: lambda_l1=2.144281679327719e-07\n",
      "[LightGBM] [Warning] lambda_l2 is set=0.0020695576855680096, reg_lambda=0.0 will be ignored. Current value: lambda_l2=0.0020695576855680096\n",
      "[LightGBM] [Warning] bagging_freq is set=4, subsample_freq=0 will be ignored. Current value: bagging_freq=4\n"
     ]
    },
    {
     "name": "stderr",
     "output_type": "stream",
     "text": [
      "C:\\Users\\Sarkhel\\anaconda3\\lib\\site-packages\\lightgbm\\basic.py:1702: UserWarning: Using categorical_feature in Dataset.\n",
      "  _log_warning('Using categorical_feature in Dataset.')\n",
      "C:\\Users\\Sarkhel\\anaconda3\\lib\\site-packages\\lightgbm\\basic.py:1705: UserWarning: categorical_feature in Dataset is overridden.\n",
      "New categorical_feature is [6, 9, 12]\n",
      "  _log_warning('categorical_feature in Dataset is overridden.\\n'\n",
      "C:\\Users\\Sarkhel\\anaconda3\\lib\\site-packages\\lightgbm\\basic.py:1433: UserWarning: Overriding the parameters from Reference Dataset.\n",
      "  _log_warning('Overriding the parameters from Reference Dataset.')\n",
      "C:\\Users\\Sarkhel\\anaconda3\\lib\\site-packages\\lightgbm\\basic.py:1245: UserWarning: categorical_column in param dict is overridden.\n",
      "  _log_warning('{} in param dict is overridden.'.format(cat_alias))\n"
     ]
    },
    {
     "name": "stdout",
     "output_type": "stream",
     "text": [
      "Training until validation scores don't improve for 2000 rounds\n"
     ]
    },
    {
     "name": "stderr",
     "output_type": "stream",
     "text": [
      "\u001b[32m[I 2022-01-20 20:01:41,412]\u001b[0m Trial 120 finished with value: 0.582633474317241 and parameters: {'learning_rate': 0.015078210413866063, 'lambda_l1': 2.144281679327719e-07, 'lambda_l2': 0.0020695576855680096, 'num_leaves': 70, 'feature_fraction': 0.6192862503046763, 'bagging_fraction': 0.5025973312874867, 'bagging_freq': 4, 'min_child_samples': 88}. Best is trial 73 with value: 0.5889527849202367.\u001b[0m\n"
     ]
    },
    {
     "name": "stdout",
     "output_type": "stream",
     "text": [
      "Did not meet early stopping. Best iteration is:\n",
      "[75]\tvalid_0's auc: 0.582633\n",
      "[LightGBM] [Warning] Unknown parameter: nestimators\n",
      "[LightGBM] [Warning] feature_fraction is set=0.5058864226322457, colsample_bytree=1.0 will be ignored. Current value: feature_fraction=0.5058864226322457\n",
      "[LightGBM] [Warning] bagging_fraction is set=0.41159515571991967, subsample=1.0 will be ignored. Current value: bagging_fraction=0.41159515571991967\n",
      "[LightGBM] [Warning] lambda_l1 is set=1.7094671080166417e-08, reg_alpha=0.0 will be ignored. Current value: lambda_l1=1.7094671080166417e-08\n",
      "[LightGBM] [Warning] lambda_l2 is set=0.0007298887371185264, reg_lambda=0.0 will be ignored. Current value: lambda_l2=0.0007298887371185264\n",
      "[LightGBM] [Warning] bagging_freq is set=5, subsample_freq=0 will be ignored. Current value: bagging_freq=5\n"
     ]
    },
    {
     "name": "stderr",
     "output_type": "stream",
     "text": [
      "C:\\Users\\Sarkhel\\anaconda3\\lib\\site-packages\\lightgbm\\basic.py:1702: UserWarning: Using categorical_feature in Dataset.\n",
      "  _log_warning('Using categorical_feature in Dataset.')\n",
      "C:\\Users\\Sarkhel\\anaconda3\\lib\\site-packages\\lightgbm\\basic.py:1705: UserWarning: categorical_feature in Dataset is overridden.\n",
      "New categorical_feature is [6, 9, 12]\n",
      "  _log_warning('categorical_feature in Dataset is overridden.\\n'\n",
      "C:\\Users\\Sarkhel\\anaconda3\\lib\\site-packages\\lightgbm\\basic.py:1433: UserWarning: Overriding the parameters from Reference Dataset.\n",
      "  _log_warning('Overriding the parameters from Reference Dataset.')\n",
      "C:\\Users\\Sarkhel\\anaconda3\\lib\\site-packages\\lightgbm\\basic.py:1245: UserWarning: categorical_column in param dict is overridden.\n",
      "  _log_warning('{} in param dict is overridden.'.format(cat_alias))\n"
     ]
    },
    {
     "name": "stdout",
     "output_type": "stream",
     "text": [
      "Training until validation scores don't improve for 2000 rounds\n"
     ]
    },
    {
     "name": "stderr",
     "output_type": "stream",
     "text": [
      "\u001b[32m[I 2022-01-20 20:01:43,654]\u001b[0m Trial 121 finished with value: 0.5774911737740244 and parameters: {'learning_rate': 0.02101619917905706, 'lambda_l1': 1.7094671080166417e-08, 'lambda_l2': 0.0007298887371185264, 'num_leaves': 115, 'feature_fraction': 0.5058864226322457, 'bagging_fraction': 0.41159515571991967, 'bagging_freq': 5, 'min_child_samples': 93}. Best is trial 73 with value: 0.5889527849202367.\u001b[0m\n"
     ]
    },
    {
     "name": "stdout",
     "output_type": "stream",
     "text": [
      "Did not meet early stopping. Best iteration is:\n",
      "[100]\tvalid_0's auc: 0.577491\n",
      "[LightGBM] [Warning] Unknown parameter: nestimators\n",
      "[LightGBM] [Warning] feature_fraction is set=0.4856020286959898, colsample_bytree=1.0 will be ignored. Current value: feature_fraction=0.4856020286959898\n",
      "[LightGBM] [Warning] bagging_fraction is set=0.43242306674314396, subsample=1.0 will be ignored. Current value: bagging_fraction=0.43242306674314396\n",
      "[LightGBM] [Warning] lambda_l1 is set=2.7724091461808974e-08, reg_alpha=0.0 will be ignored. Current value: lambda_l1=2.7724091461808974e-08\n",
      "[LightGBM] [Warning] lambda_l2 is set=0.008001671781244262, reg_lambda=0.0 will be ignored. Current value: lambda_l2=0.008001671781244262\n",
      "[LightGBM] [Warning] bagging_freq is set=5, subsample_freq=0 will be ignored. Current value: bagging_freq=5\n"
     ]
    },
    {
     "name": "stderr",
     "output_type": "stream",
     "text": [
      "C:\\Users\\Sarkhel\\anaconda3\\lib\\site-packages\\lightgbm\\basic.py:1702: UserWarning: Using categorical_feature in Dataset.\n",
      "  _log_warning('Using categorical_feature in Dataset.')\n",
      "C:\\Users\\Sarkhel\\anaconda3\\lib\\site-packages\\lightgbm\\basic.py:1705: UserWarning: categorical_feature in Dataset is overridden.\n",
      "New categorical_feature is [6, 9, 12]\n",
      "  _log_warning('categorical_feature in Dataset is overridden.\\n'\n",
      "C:\\Users\\Sarkhel\\anaconda3\\lib\\site-packages\\lightgbm\\basic.py:1433: UserWarning: Overriding the parameters from Reference Dataset.\n",
      "  _log_warning('Overriding the parameters from Reference Dataset.')\n",
      "C:\\Users\\Sarkhel\\anaconda3\\lib\\site-packages\\lightgbm\\basic.py:1245: UserWarning: categorical_column in param dict is overridden.\n",
      "  _log_warning('{} in param dict is overridden.'.format(cat_alias))\n"
     ]
    },
    {
     "name": "stdout",
     "output_type": "stream",
     "text": [
      "Training until validation scores don't improve for 2000 rounds\n"
     ]
    },
    {
     "name": "stderr",
     "output_type": "stream",
     "text": [
      "\u001b[32m[I 2022-01-20 20:01:46,095]\u001b[0m Trial 122 finished with value: 0.5798325088505164 and parameters: {'learning_rate': 0.019275253411144357, 'lambda_l1': 2.7724091461808974e-08, 'lambda_l2': 0.008001671781244262, 'num_leaves': 133, 'feature_fraction': 0.4856020286959898, 'bagging_fraction': 0.43242306674314396, 'bagging_freq': 5, 'min_child_samples': 71}. Best is trial 73 with value: 0.5889527849202367.\u001b[0m\n"
     ]
    },
    {
     "name": "stdout",
     "output_type": "stream",
     "text": [
      "Did not meet early stopping. Best iteration is:\n",
      "[20]\tvalid_0's auc: 0.579833\n",
      "[LightGBM] [Warning] Unknown parameter: nestimators\n",
      "[LightGBM] [Warning] feature_fraction is set=0.5136609597660632, colsample_bytree=1.0 will be ignored. Current value: feature_fraction=0.5136609597660632\n",
      "[LightGBM] [Warning] bagging_fraction is set=0.45752177423805523, subsample=1.0 will be ignored. Current value: bagging_fraction=0.45752177423805523\n",
      "[LightGBM] [Warning] lambda_l1 is set=1.000924524679181e-08, reg_alpha=0.0 will be ignored. Current value: lambda_l1=1.000924524679181e-08\n",
      "[LightGBM] [Warning] lambda_l2 is set=0.004489557129815475, reg_lambda=0.0 will be ignored. Current value: lambda_l2=0.004489557129815475\n",
      "[LightGBM] [Warning] bagging_freq is set=5, subsample_freq=0 will be ignored. Current value: bagging_freq=5\n"
     ]
    },
    {
     "name": "stderr",
     "output_type": "stream",
     "text": [
      "C:\\Users\\Sarkhel\\anaconda3\\lib\\site-packages\\lightgbm\\basic.py:1702: UserWarning: Using categorical_feature in Dataset.\n",
      "  _log_warning('Using categorical_feature in Dataset.')\n",
      "C:\\Users\\Sarkhel\\anaconda3\\lib\\site-packages\\lightgbm\\basic.py:1705: UserWarning: categorical_feature in Dataset is overridden.\n",
      "New categorical_feature is [6, 9, 12]\n",
      "  _log_warning('categorical_feature in Dataset is overridden.\\n'\n",
      "C:\\Users\\Sarkhel\\anaconda3\\lib\\site-packages\\lightgbm\\basic.py:1433: UserWarning: Overriding the parameters from Reference Dataset.\n",
      "  _log_warning('Overriding the parameters from Reference Dataset.')\n",
      "C:\\Users\\Sarkhel\\anaconda3\\lib\\site-packages\\lightgbm\\basic.py:1245: UserWarning: categorical_column in param dict is overridden.\n",
      "  _log_warning('{} in param dict is overridden.'.format(cat_alias))\n"
     ]
    },
    {
     "name": "stdout",
     "output_type": "stream",
     "text": [
      "Training until validation scores don't improve for 2000 rounds\n"
     ]
    },
    {
     "name": "stderr",
     "output_type": "stream",
     "text": [
      "\u001b[32m[I 2022-01-20 20:01:48,211]\u001b[0m Trial 123 finished with value: 0.5832941761347918 and parameters: {'learning_rate': 0.016941819183083646, 'lambda_l1': 1.000924524679181e-08, 'lambda_l2': 0.004489557129815475, 'num_leaves': 104, 'feature_fraction': 0.5136609597660632, 'bagging_fraction': 0.45752177423805523, 'bagging_freq': 5, 'min_child_samples': 97}. Best is trial 73 with value: 0.5889527849202367.\u001b[0m\n"
     ]
    },
    {
     "name": "stdout",
     "output_type": "stream",
     "text": [
      "Did not meet early stopping. Best iteration is:\n",
      "[31]\tvalid_0's auc: 0.583294\n",
      "[LightGBM] [Warning] Unknown parameter: nestimators\n",
      "[LightGBM] [Warning] feature_fraction is set=0.5443255149243014, colsample_bytree=1.0 will be ignored. Current value: feature_fraction=0.5443255149243014\n",
      "[LightGBM] [Warning] bagging_fraction is set=0.479555355621079, subsample=1.0 will be ignored. Current value: bagging_fraction=0.479555355621079\n",
      "[LightGBM] [Warning] lambda_l1 is set=3.7698009096791676e-08, reg_alpha=0.0 will be ignored. Current value: lambda_l1=3.7698009096791676e-08\n",
      "[LightGBM] [Warning] lambda_l2 is set=0.046386988204904916, reg_lambda=0.0 will be ignored. Current value: lambda_l2=0.046386988204904916\n",
      "[LightGBM] [Warning] bagging_freq is set=5, subsample_freq=0 will be ignored. Current value: bagging_freq=5\n"
     ]
    },
    {
     "name": "stderr",
     "output_type": "stream",
     "text": [
      "C:\\Users\\Sarkhel\\anaconda3\\lib\\site-packages\\lightgbm\\basic.py:1702: UserWarning: Using categorical_feature in Dataset.\n",
      "  _log_warning('Using categorical_feature in Dataset.')\n",
      "C:\\Users\\Sarkhel\\anaconda3\\lib\\site-packages\\lightgbm\\basic.py:1705: UserWarning: categorical_feature in Dataset is overridden.\n",
      "New categorical_feature is [6, 9, 12]\n",
      "  _log_warning('categorical_feature in Dataset is overridden.\\n'\n",
      "C:\\Users\\Sarkhel\\anaconda3\\lib\\site-packages\\lightgbm\\basic.py:1433: UserWarning: Overriding the parameters from Reference Dataset.\n",
      "  _log_warning('Overriding the parameters from Reference Dataset.')\n",
      "C:\\Users\\Sarkhel\\anaconda3\\lib\\site-packages\\lightgbm\\basic.py:1245: UserWarning: categorical_column in param dict is overridden.\n",
      "  _log_warning('{} in param dict is overridden.'.format(cat_alias))\n"
     ]
    },
    {
     "name": "stdout",
     "output_type": "stream",
     "text": [
      "Training until validation scores don't improve for 2000 rounds\n"
     ]
    },
    {
     "name": "stderr",
     "output_type": "stream",
     "text": [
      "\u001b[32m[I 2022-01-20 20:01:49,991]\u001b[0m Trial 124 finished with value: 0.5858252470682032 and parameters: {'learning_rate': 0.01602785332410024, 'lambda_l1': 3.7698009096791676e-08, 'lambda_l2': 0.046386988204904916, 'num_leaves': 80, 'feature_fraction': 0.5443255149243014, 'bagging_fraction': 0.479555355621079, 'bagging_freq': 5, 'min_child_samples': 96}. Best is trial 73 with value: 0.5889527849202367.\u001b[0m\n"
     ]
    },
    {
     "name": "stdout",
     "output_type": "stream",
     "text": [
      "Did not meet early stopping. Best iteration is:\n",
      "[67]\tvalid_0's auc: 0.585825\n",
      "[LightGBM] [Warning] Unknown parameter: nestimators\n",
      "[LightGBM] [Warning] feature_fraction is set=0.5148984187405028, colsample_bytree=1.0 will be ignored. Current value: feature_fraction=0.5148984187405028\n",
      "[LightGBM] [Warning] bagging_fraction is set=0.4860617136897794, subsample=1.0 will be ignored. Current value: bagging_fraction=0.4860617136897794\n",
      "[LightGBM] [Warning] lambda_l1 is set=4.073677919438273e-08, reg_alpha=0.0 will be ignored. Current value: lambda_l1=4.073677919438273e-08\n",
      "[LightGBM] [Warning] lambda_l2 is set=0.012575890566157323, reg_lambda=0.0 will be ignored. Current value: lambda_l2=0.012575890566157323\n",
      "[LightGBM] [Warning] bagging_freq is set=5, subsample_freq=0 will be ignored. Current value: bagging_freq=5\n"
     ]
    },
    {
     "name": "stderr",
     "output_type": "stream",
     "text": [
      "C:\\Users\\Sarkhel\\anaconda3\\lib\\site-packages\\lightgbm\\basic.py:1702: UserWarning: Using categorical_feature in Dataset.\n",
      "  _log_warning('Using categorical_feature in Dataset.')\n",
      "C:\\Users\\Sarkhel\\anaconda3\\lib\\site-packages\\lightgbm\\basic.py:1705: UserWarning: categorical_feature in Dataset is overridden.\n",
      "New categorical_feature is [6, 9, 12]\n",
      "  _log_warning('categorical_feature in Dataset is overridden.\\n'\n",
      "C:\\Users\\Sarkhel\\anaconda3\\lib\\site-packages\\lightgbm\\basic.py:1433: UserWarning: Overriding the parameters from Reference Dataset.\n",
      "  _log_warning('Overriding the parameters from Reference Dataset.')\n",
      "C:\\Users\\Sarkhel\\anaconda3\\lib\\site-packages\\lightgbm\\basic.py:1245: UserWarning: categorical_column in param dict is overridden.\n",
      "  _log_warning('{} in param dict is overridden.'.format(cat_alias))\n"
     ]
    },
    {
     "name": "stdout",
     "output_type": "stream",
     "text": [
      "Training until validation scores don't improve for 2000 rounds\n"
     ]
    },
    {
     "name": "stderr",
     "output_type": "stream",
     "text": [
      "\u001b[32m[I 2022-01-20 20:01:51,919]\u001b[0m Trial 125 finished with value: 0.5842277413255222 and parameters: {'learning_rate': 0.016368158309462484, 'lambda_l1': 4.073677919438273e-08, 'lambda_l2': 0.012575890566157323, 'num_leaves': 91, 'feature_fraction': 0.5148984187405028, 'bagging_fraction': 0.4860617136897794, 'bagging_freq': 5, 'min_child_samples': 96}. Best is trial 73 with value: 0.5889527849202367.\u001b[0m\n"
     ]
    },
    {
     "name": "stdout",
     "output_type": "stream",
     "text": [
      "Did not meet early stopping. Best iteration is:\n",
      "[66]\tvalid_0's auc: 0.584228\n",
      "[LightGBM] [Warning] Unknown parameter: nestimators\n",
      "[LightGBM] [Warning] feature_fraction is set=0.5310389626091966, colsample_bytree=1.0 will be ignored. Current value: feature_fraction=0.5310389626091966\n",
      "[LightGBM] [Warning] bagging_fraction is set=0.48610630154820245, subsample=1.0 will be ignored. Current value: bagging_fraction=0.48610630154820245\n",
      "[LightGBM] [Warning] lambda_l1 is set=3.8957388151447917e-08, reg_alpha=0.0 will be ignored. Current value: lambda_l1=3.8957388151447917e-08\n",
      "[LightGBM] [Warning] lambda_l2 is set=0.028333346274077745, reg_lambda=0.0 will be ignored. Current value: lambda_l2=0.028333346274077745\n",
      "[LightGBM] [Warning] bagging_freq is set=5, subsample_freq=0 will be ignored. Current value: bagging_freq=5\n"
     ]
    },
    {
     "name": "stderr",
     "output_type": "stream",
     "text": [
      "C:\\Users\\Sarkhel\\anaconda3\\lib\\site-packages\\lightgbm\\basic.py:1702: UserWarning: Using categorical_feature in Dataset.\n",
      "  _log_warning('Using categorical_feature in Dataset.')\n",
      "C:\\Users\\Sarkhel\\anaconda3\\lib\\site-packages\\lightgbm\\basic.py:1705: UserWarning: categorical_feature in Dataset is overridden.\n",
      "New categorical_feature is [6, 9, 12]\n",
      "  _log_warning('categorical_feature in Dataset is overridden.\\n'\n",
      "C:\\Users\\Sarkhel\\anaconda3\\lib\\site-packages\\lightgbm\\basic.py:1433: UserWarning: Overriding the parameters from Reference Dataset.\n",
      "  _log_warning('Overriding the parameters from Reference Dataset.')\n",
      "C:\\Users\\Sarkhel\\anaconda3\\lib\\site-packages\\lightgbm\\basic.py:1245: UserWarning: categorical_column in param dict is overridden.\n",
      "  _log_warning('{} in param dict is overridden.'.format(cat_alias))\n"
     ]
    },
    {
     "name": "stdout",
     "output_type": "stream",
     "text": [
      "Training until validation scores don't improve for 2000 rounds\n"
     ]
    },
    {
     "name": "stderr",
     "output_type": "stream",
     "text": [
      "\u001b[32m[I 2022-01-20 20:01:54,019]\u001b[0m Trial 126 finished with value: 0.5803785054914091 and parameters: {'learning_rate': 0.016472785929416995, 'lambda_l1': 3.8957388151447917e-08, 'lambda_l2': 0.028333346274077745, 'num_leaves': 103, 'feature_fraction': 0.5310389626091966, 'bagging_fraction': 0.48610630154820245, 'bagging_freq': 5, 'min_child_samples': 96}. Best is trial 73 with value: 0.5889527849202367.\u001b[0m\n"
     ]
    },
    {
     "name": "stdout",
     "output_type": "stream",
     "text": [
      "Did not meet early stopping. Best iteration is:\n",
      "[67]\tvalid_0's auc: 0.580379\n",
      "[LightGBM] [Warning] Unknown parameter: nestimators\n",
      "[LightGBM] [Warning] feature_fraction is set=0.5413027208894989, colsample_bytree=1.0 will be ignored. Current value: feature_fraction=0.5413027208894989\n",
      "[LightGBM] [Warning] bagging_fraction is set=0.510885787399592, subsample=1.0 will be ignored. Current value: bagging_fraction=0.510885787399592\n",
      "[LightGBM] [Warning] lambda_l1 is set=2.0792328756773772e-08, reg_alpha=0.0 will be ignored. Current value: lambda_l1=2.0792328756773772e-08\n",
      "[LightGBM] [Warning] lambda_l2 is set=0.012529813936096208, reg_lambda=0.0 will be ignored. Current value: lambda_l2=0.012529813936096208\n",
      "[LightGBM] [Warning] bagging_freq is set=6, subsample_freq=0 will be ignored. Current value: bagging_freq=6\n"
     ]
    },
    {
     "name": "stderr",
     "output_type": "stream",
     "text": [
      "C:\\Users\\Sarkhel\\anaconda3\\lib\\site-packages\\lightgbm\\basic.py:1702: UserWarning: Using categorical_feature in Dataset.\n",
      "  _log_warning('Using categorical_feature in Dataset.')\n",
      "C:\\Users\\Sarkhel\\anaconda3\\lib\\site-packages\\lightgbm\\basic.py:1705: UserWarning: categorical_feature in Dataset is overridden.\n",
      "New categorical_feature is [6, 9, 12]\n",
      "  _log_warning('categorical_feature in Dataset is overridden.\\n'\n",
      "C:\\Users\\Sarkhel\\anaconda3\\lib\\site-packages\\lightgbm\\basic.py:1433: UserWarning: Overriding the parameters from Reference Dataset.\n",
      "  _log_warning('Overriding the parameters from Reference Dataset.')\n",
      "C:\\Users\\Sarkhel\\anaconda3\\lib\\site-packages\\lightgbm\\basic.py:1245: UserWarning: categorical_column in param dict is overridden.\n",
      "  _log_warning('{} in param dict is overridden.'.format(cat_alias))\n"
     ]
    },
    {
     "name": "stdout",
     "output_type": "stream",
     "text": [
      "Training until validation scores don't improve for 2000 rounds\n"
     ]
    },
    {
     "name": "stderr",
     "output_type": "stream",
     "text": [
      "\u001b[32m[I 2022-01-20 20:01:55,772]\u001b[0m Trial 127 finished with value: 0.5798327787450498 and parameters: {'learning_rate': 0.018475741559787037, 'lambda_l1': 2.0792328756773772e-08, 'lambda_l2': 0.012529813936096208, 'num_leaves': 80, 'feature_fraction': 0.5413027208894989, 'bagging_fraction': 0.510885787399592, 'bagging_freq': 6, 'min_child_samples': 100}. Best is trial 73 with value: 0.5889527849202367.\u001b[0m\n"
     ]
    },
    {
     "name": "stdout",
     "output_type": "stream",
     "text": [
      "Did not meet early stopping. Best iteration is:\n",
      "[35]\tvalid_0's auc: 0.579833\n",
      "[LightGBM] [Warning] Unknown parameter: nestimators\n",
      "[LightGBM] [Warning] feature_fraction is set=0.5212420670008324, colsample_bytree=1.0 will be ignored. Current value: feature_fraction=0.5212420670008324\n",
      "[LightGBM] [Warning] bagging_fraction is set=0.8013342601441984, subsample=1.0 will be ignored. Current value: bagging_fraction=0.8013342601441984\n",
      "[LightGBM] [Warning] lambda_l1 is set=6.653010421279653e-08, reg_alpha=0.0 will be ignored. Current value: lambda_l1=6.653010421279653e-08\n",
      "[LightGBM] [Warning] lambda_l2 is set=0.053682479719942555, reg_lambda=0.0 will be ignored. Current value: lambda_l2=0.053682479719942555\n",
      "[LightGBM] [Warning] bagging_freq is set=5, subsample_freq=0 will be ignored. Current value: bagging_freq=5\n"
     ]
    },
    {
     "name": "stderr",
     "output_type": "stream",
     "text": [
      "C:\\Users\\Sarkhel\\anaconda3\\lib\\site-packages\\lightgbm\\basic.py:1702: UserWarning: Using categorical_feature in Dataset.\n",
      "  _log_warning('Using categorical_feature in Dataset.')\n",
      "C:\\Users\\Sarkhel\\anaconda3\\lib\\site-packages\\lightgbm\\basic.py:1705: UserWarning: categorical_feature in Dataset is overridden.\n",
      "New categorical_feature is [6, 9, 12]\n",
      "  _log_warning('categorical_feature in Dataset is overridden.\\n'\n",
      "C:\\Users\\Sarkhel\\anaconda3\\lib\\site-packages\\lightgbm\\basic.py:1433: UserWarning: Overriding the parameters from Reference Dataset.\n",
      "  _log_warning('Overriding the parameters from Reference Dataset.')\n",
      "C:\\Users\\Sarkhel\\anaconda3\\lib\\site-packages\\lightgbm\\basic.py:1245: UserWarning: categorical_column in param dict is overridden.\n",
      "  _log_warning('{} in param dict is overridden.'.format(cat_alias))\n"
     ]
    },
    {
     "name": "stdout",
     "output_type": "stream",
     "text": [
      "Training until validation scores don't improve for 2000 rounds\n"
     ]
    },
    {
     "name": "stderr",
     "output_type": "stream",
     "text": [
      "\u001b[32m[I 2022-01-20 20:01:57,712]\u001b[0m Trial 128 finished with value: 0.5807979215961778 and parameters: {'learning_rate': 0.016694722477205017, 'lambda_l1': 6.653010421279653e-08, 'lambda_l2': 0.053682479719942555, 'num_leaves': 89, 'feature_fraction': 0.5212420670008324, 'bagging_fraction': 0.8013342601441984, 'bagging_freq': 5, 'min_child_samples': 98}. Best is trial 73 with value: 0.5889527849202367.\u001b[0m\n"
     ]
    },
    {
     "name": "stdout",
     "output_type": "stream",
     "text": [
      "Did not meet early stopping. Best iteration is:\n",
      "[48]\tvalid_0's auc: 0.580798\n",
      "[LightGBM] [Warning] Unknown parameter: nestimators\n",
      "[LightGBM] [Warning] feature_fraction is set=0.49718196393137326, colsample_bytree=1.0 will be ignored. Current value: feature_fraction=0.49718196393137326\n",
      "[LightGBM] [Warning] bagging_fraction is set=0.4936420247711512, subsample=1.0 will be ignored. Current value: bagging_fraction=0.4936420247711512\n",
      "[LightGBM] [Warning] lambda_l1 is set=1.547432505116732e-08, reg_alpha=0.0 will be ignored. Current value: lambda_l1=1.547432505116732e-08\n",
      "[LightGBM] [Warning] lambda_l2 is set=0.017465621654192187, reg_lambda=0.0 will be ignored. Current value: lambda_l2=0.017465621654192187\n",
      "[LightGBM] [Warning] bagging_freq is set=5, subsample_freq=0 will be ignored. Current value: bagging_freq=5\n"
     ]
    },
    {
     "name": "stderr",
     "output_type": "stream",
     "text": [
      "C:\\Users\\Sarkhel\\anaconda3\\lib\\site-packages\\lightgbm\\basic.py:1702: UserWarning: Using categorical_feature in Dataset.\n",
      "  _log_warning('Using categorical_feature in Dataset.')\n",
      "C:\\Users\\Sarkhel\\anaconda3\\lib\\site-packages\\lightgbm\\basic.py:1705: UserWarning: categorical_feature in Dataset is overridden.\n",
      "New categorical_feature is [6, 9, 12]\n",
      "  _log_warning('categorical_feature in Dataset is overridden.\\n'\n",
      "C:\\Users\\Sarkhel\\anaconda3\\lib\\site-packages\\lightgbm\\basic.py:1433: UserWarning: Overriding the parameters from Reference Dataset.\n",
      "  _log_warning('Overriding the parameters from Reference Dataset.')\n",
      "C:\\Users\\Sarkhel\\anaconda3\\lib\\site-packages\\lightgbm\\basic.py:1245: UserWarning: categorical_column in param dict is overridden.\n",
      "  _log_warning('{} in param dict is overridden.'.format(cat_alias))\n"
     ]
    },
    {
     "name": "stdout",
     "output_type": "stream",
     "text": [
      "Training until validation scores don't improve for 2000 rounds\n"
     ]
    },
    {
     "name": "stderr",
     "output_type": "stream",
     "text": [
      "\u001b[32m[I 2022-01-20 20:01:59,769]\u001b[0m Trial 129 finished with value: 0.5796659839234622 and parameters: {'learning_rate': 0.02432951108253409, 'lambda_l1': 1.547432505116732e-08, 'lambda_l2': 0.017465621654192187, 'num_leaves': 101, 'feature_fraction': 0.49718196393137326, 'bagging_fraction': 0.4936420247711512, 'bagging_freq': 5, 'min_child_samples': 95}. Best is trial 73 with value: 0.5889527849202367.\u001b[0m\n"
     ]
    },
    {
     "name": "stdout",
     "output_type": "stream",
     "text": [
      "Did not meet early stopping. Best iteration is:\n",
      "[57]\tvalid_0's auc: 0.579666\n",
      "[LightGBM] [Warning] Unknown parameter: nestimators\n",
      "[LightGBM] [Warning] feature_fraction is set=0.5493994483349318, colsample_bytree=1.0 will be ignored. Current value: feature_fraction=0.5493994483349318\n",
      "[LightGBM] [Warning] bagging_fraction is set=0.4689032643570187, subsample=1.0 will be ignored. Current value: bagging_fraction=0.4689032643570187\n",
      "[LightGBM] [Warning] lambda_l1 is set=2.809882505956053e-08, reg_alpha=0.0 will be ignored. Current value: lambda_l1=2.809882505956053e-08\n",
      "[LightGBM] [Warning] lambda_l2 is set=0.005091774765141659, reg_lambda=0.0 will be ignored. Current value: lambda_l2=0.005091774765141659\n",
      "[LightGBM] [Warning] bagging_freq is set=4, subsample_freq=0 will be ignored. Current value: bagging_freq=4\n"
     ]
    },
    {
     "name": "stderr",
     "output_type": "stream",
     "text": [
      "C:\\Users\\Sarkhel\\anaconda3\\lib\\site-packages\\lightgbm\\basic.py:1702: UserWarning: Using categorical_feature in Dataset.\n",
      "  _log_warning('Using categorical_feature in Dataset.')\n",
      "C:\\Users\\Sarkhel\\anaconda3\\lib\\site-packages\\lightgbm\\basic.py:1705: UserWarning: categorical_feature in Dataset is overridden.\n",
      "New categorical_feature is [6, 9, 12]\n",
      "  _log_warning('categorical_feature in Dataset is overridden.\\n'\n",
      "C:\\Users\\Sarkhel\\anaconda3\\lib\\site-packages\\lightgbm\\basic.py:1433: UserWarning: Overriding the parameters from Reference Dataset.\n",
      "  _log_warning('Overriding the parameters from Reference Dataset.')\n",
      "C:\\Users\\Sarkhel\\anaconda3\\lib\\site-packages\\lightgbm\\basic.py:1245: UserWarning: categorical_column in param dict is overridden.\n",
      "  _log_warning('{} in param dict is overridden.'.format(cat_alias))\n"
     ]
    },
    {
     "name": "stdout",
     "output_type": "stream",
     "text": [
      "Training until validation scores don't improve for 2000 rounds\n"
     ]
    },
    {
     "name": "stderr",
     "output_type": "stream",
     "text": [
      "\u001b[32m[I 2022-01-20 20:02:01,638]\u001b[0m Trial 130 finished with value: 0.5814078832414658 and parameters: {'learning_rate': 0.014277845491734574, 'lambda_l1': 2.809882505956053e-08, 'lambda_l2': 0.005091774765141659, 'num_leaves': 82, 'feature_fraction': 0.5493994483349318, 'bagging_fraction': 0.4689032643570187, 'bagging_freq': 4, 'min_child_samples': 91}. Best is trial 73 with value: 0.5889527849202367.\u001b[0m\n"
     ]
    },
    {
     "name": "stdout",
     "output_type": "stream",
     "text": [
      "Did not meet early stopping. Best iteration is:\n",
      "[49]\tvalid_0's auc: 0.581408\n",
      "[LightGBM] [Warning] Unknown parameter: nestimators\n",
      "[LightGBM] [Warning] feature_fraction is set=0.5196553811240231, colsample_bytree=1.0 will be ignored. Current value: feature_fraction=0.5196553811240231\n",
      "[LightGBM] [Warning] bagging_fraction is set=0.4826668713940501, subsample=1.0 will be ignored. Current value: bagging_fraction=0.4826668713940501\n",
      "[LightGBM] [Warning] lambda_l1 is set=9.830739690940549e-08, reg_alpha=0.0 will be ignored. Current value: lambda_l1=9.830739690940549e-08\n",
      "[LightGBM] [Warning] lambda_l2 is set=0.0021006102435871545, reg_lambda=0.0 will be ignored. Current value: lambda_l2=0.0021006102435871545\n",
      "[LightGBM] [Warning] bagging_freq is set=5, subsample_freq=0 will be ignored. Current value: bagging_freq=5\n"
     ]
    },
    {
     "name": "stderr",
     "output_type": "stream",
     "text": [
      "C:\\Users\\Sarkhel\\anaconda3\\lib\\site-packages\\lightgbm\\basic.py:1702: UserWarning: Using categorical_feature in Dataset.\n",
      "  _log_warning('Using categorical_feature in Dataset.')\n",
      "C:\\Users\\Sarkhel\\anaconda3\\lib\\site-packages\\lightgbm\\basic.py:1705: UserWarning: categorical_feature in Dataset is overridden.\n",
      "New categorical_feature is [6, 9, 12]\n",
      "  _log_warning('categorical_feature in Dataset is overridden.\\n'\n",
      "C:\\Users\\Sarkhel\\anaconda3\\lib\\site-packages\\lightgbm\\basic.py:1433: UserWarning: Overriding the parameters from Reference Dataset.\n",
      "  _log_warning('Overriding the parameters from Reference Dataset.')\n",
      "C:\\Users\\Sarkhel\\anaconda3\\lib\\site-packages\\lightgbm\\basic.py:1245: UserWarning: categorical_column in param dict is overridden.\n",
      "  _log_warning('{} in param dict is overridden.'.format(cat_alias))\n"
     ]
    },
    {
     "name": "stdout",
     "output_type": "stream",
     "text": [
      "Training until validation scores don't improve for 2000 rounds\n"
     ]
    },
    {
     "name": "stderr",
     "output_type": "stream",
     "text": [
      "\u001b[32m[I 2022-01-20 20:02:03,595]\u001b[0m Trial 131 finished with value: 0.5827927120918959 and parameters: {'learning_rate': 0.01572964934201836, 'lambda_l1': 9.830739690940549e-08, 'lambda_l2': 0.0021006102435871545, 'num_leaves': 92, 'feature_fraction': 0.5196553811240231, 'bagging_fraction': 0.4826668713940501, 'bagging_freq': 5, 'min_child_samples': 97}. Best is trial 73 with value: 0.5889527849202367.\u001b[0m\n"
     ]
    },
    {
     "name": "stdout",
     "output_type": "stream",
     "text": [
      "Did not meet early stopping. Best iteration is:\n",
      "[62]\tvalid_0's auc: 0.582793\n",
      "[LightGBM] [Warning] Unknown parameter: nestimators\n",
      "[LightGBM] [Warning] feature_fraction is set=0.434388741832081, colsample_bytree=1.0 will be ignored. Current value: feature_fraction=0.434388741832081\n",
      "[LightGBM] [Warning] bagging_fraction is set=0.4478055320040909, subsample=1.0 will be ignored. Current value: bagging_fraction=0.4478055320040909\n",
      "[LightGBM] [Warning] lambda_l1 is set=4.329478374666831e-08, reg_alpha=0.0 will be ignored. Current value: lambda_l1=4.329478374666831e-08\n",
      "[LightGBM] [Warning] lambda_l2 is set=0.00020544177587662022, reg_lambda=0.0 will be ignored. Current value: lambda_l2=0.00020544177587662022\n",
      "[LightGBM] [Warning] bagging_freq is set=5, subsample_freq=0 will be ignored. Current value: bagging_freq=5\n"
     ]
    },
    {
     "name": "stderr",
     "output_type": "stream",
     "text": [
      "C:\\Users\\Sarkhel\\anaconda3\\lib\\site-packages\\lightgbm\\basic.py:1702: UserWarning: Using categorical_feature in Dataset.\n",
      "  _log_warning('Using categorical_feature in Dataset.')\n",
      "C:\\Users\\Sarkhel\\anaconda3\\lib\\site-packages\\lightgbm\\basic.py:1705: UserWarning: categorical_feature in Dataset is overridden.\n",
      "New categorical_feature is [6, 9, 12]\n",
      "  _log_warning('categorical_feature in Dataset is overridden.\\n'\n",
      "C:\\Users\\Sarkhel\\anaconda3\\lib\\site-packages\\lightgbm\\basic.py:1433: UserWarning: Overriding the parameters from Reference Dataset.\n",
      "  _log_warning('Overriding the parameters from Reference Dataset.')\n",
      "C:\\Users\\Sarkhel\\anaconda3\\lib\\site-packages\\lightgbm\\basic.py:1245: UserWarning: categorical_column in param dict is overridden.\n",
      "  _log_warning('{} in param dict is overridden.'.format(cat_alias))\n"
     ]
    },
    {
     "name": "stdout",
     "output_type": "stream",
     "text": [
      "Training until validation scores don't improve for 2000 rounds\n"
     ]
    },
    {
     "name": "stderr",
     "output_type": "stream",
     "text": [
      "\u001b[32m[I 2022-01-20 20:02:05,925]\u001b[0m Trial 132 finished with value: 0.5771152106891191 and parameters: {'learning_rate': 0.017194646675792038, 'lambda_l1': 4.329478374666831e-08, 'lambda_l2': 0.00020544177587662022, 'num_leaves': 121, 'feature_fraction': 0.434388741832081, 'bagging_fraction': 0.4478055320040909, 'bagging_freq': 5, 'min_child_samples': 86}. Best is trial 73 with value: 0.5889527849202367.\u001b[0m\n"
     ]
    },
    {
     "name": "stdout",
     "output_type": "stream",
     "text": [
      "Did not meet early stopping. Best iteration is:\n",
      "[99]\tvalid_0's auc: 0.577115\n",
      "[LightGBM] [Warning] Unknown parameter: nestimators\n",
      "[LightGBM] [Warning] feature_fraction is set=0.5637542871122662, colsample_bytree=1.0 will be ignored. Current value: feature_fraction=0.5637542871122662\n",
      "[LightGBM] [Warning] bagging_fraction is set=0.4776531427460187, subsample=1.0 will be ignored. Current value: bagging_fraction=0.4776531427460187\n",
      "[LightGBM] [Warning] lambda_l1 is set=2.55649983968772e-08, reg_alpha=0.0 will be ignored. Current value: lambda_l1=2.55649983968772e-08\n",
      "[LightGBM] [Warning] lambda_l2 is set=0.000979160964189678, reg_lambda=0.0 will be ignored. Current value: lambda_l2=0.000979160964189678\n",
      "[LightGBM] [Warning] bagging_freq is set=5, subsample_freq=0 will be ignored. Current value: bagging_freq=5\n"
     ]
    },
    {
     "name": "stderr",
     "output_type": "stream",
     "text": [
      "C:\\Users\\Sarkhel\\anaconda3\\lib\\site-packages\\lightgbm\\basic.py:1702: UserWarning: Using categorical_feature in Dataset.\n",
      "  _log_warning('Using categorical_feature in Dataset.')\n",
      "C:\\Users\\Sarkhel\\anaconda3\\lib\\site-packages\\lightgbm\\basic.py:1705: UserWarning: categorical_feature in Dataset is overridden.\n",
      "New categorical_feature is [6, 9, 12]\n",
      "  _log_warning('categorical_feature in Dataset is overridden.\\n'\n",
      "C:\\Users\\Sarkhel\\anaconda3\\lib\\site-packages\\lightgbm\\basic.py:1433: UserWarning: Overriding the parameters from Reference Dataset.\n",
      "  _log_warning('Overriding the parameters from Reference Dataset.')\n",
      "C:\\Users\\Sarkhel\\anaconda3\\lib\\site-packages\\lightgbm\\basic.py:1245: UserWarning: categorical_column in param dict is overridden.\n",
      "  _log_warning('{} in param dict is overridden.'.format(cat_alias))\n"
     ]
    },
    {
     "name": "stdout",
     "output_type": "stream",
     "text": [
      "Training until validation scores don't improve for 2000 rounds\n"
     ]
    },
    {
     "name": "stderr",
     "output_type": "stream",
     "text": [
      "\u001b[32m[I 2022-01-20 20:02:07,959]\u001b[0m Trial 133 finished with value: 0.5877711866533915 and parameters: {'learning_rate': 0.014844117174912543, 'lambda_l1': 2.55649983968772e-08, 'lambda_l2': 0.000979160964189678, 'num_leaves': 98, 'feature_fraction': 0.5637542871122662, 'bagging_fraction': 0.4776531427460187, 'bagging_freq': 5, 'min_child_samples': 94}. Best is trial 73 with value: 0.5889527849202367.\u001b[0m\n"
     ]
    },
    {
     "name": "stdout",
     "output_type": "stream",
     "text": [
      "Did not meet early stopping. Best iteration is:\n",
      "[39]\tvalid_0's auc: 0.587771\n",
      "[LightGBM] [Warning] Unknown parameter: nestimators\n",
      "[LightGBM] [Warning] feature_fraction is set=0.5352986502074523, colsample_bytree=1.0 will be ignored. Current value: feature_fraction=0.5352986502074523\n",
      "[LightGBM] [Warning] bagging_fraction is set=0.5224970731903884, subsample=1.0 will be ignored. Current value: bagging_fraction=0.5224970731903884\n",
      "[LightGBM] [Warning] lambda_l1 is set=2.466708741553311e-08, reg_alpha=0.0 will be ignored. Current value: lambda_l1=2.466708741553311e-08\n",
      "[LightGBM] [Warning] lambda_l2 is set=0.0010997282306095479, reg_lambda=0.0 will be ignored. Current value: lambda_l2=0.0010997282306095479\n",
      "[LightGBM] [Warning] bagging_freq is set=5, subsample_freq=0 will be ignored. Current value: bagging_freq=5\n"
     ]
    },
    {
     "name": "stderr",
     "output_type": "stream",
     "text": [
      "C:\\Users\\Sarkhel\\anaconda3\\lib\\site-packages\\lightgbm\\basic.py:1702: UserWarning: Using categorical_feature in Dataset.\n",
      "  _log_warning('Using categorical_feature in Dataset.')\n",
      "C:\\Users\\Sarkhel\\anaconda3\\lib\\site-packages\\lightgbm\\basic.py:1705: UserWarning: categorical_feature in Dataset is overridden.\n",
      "New categorical_feature is [6, 9, 12]\n",
      "  _log_warning('categorical_feature in Dataset is overridden.\\n'\n",
      "C:\\Users\\Sarkhel\\anaconda3\\lib\\site-packages\\lightgbm\\basic.py:1433: UserWarning: Overriding the parameters from Reference Dataset.\n",
      "  _log_warning('Overriding the parameters from Reference Dataset.')\n",
      "C:\\Users\\Sarkhel\\anaconda3\\lib\\site-packages\\lightgbm\\basic.py:1245: UserWarning: categorical_column in param dict is overridden.\n",
      "  _log_warning('{} in param dict is overridden.'.format(cat_alias))\n"
     ]
    },
    {
     "name": "stdout",
     "output_type": "stream",
     "text": [
      "Training until validation scores don't improve for 2000 rounds\n"
     ]
    },
    {
     "name": "stderr",
     "output_type": "stream",
     "text": [
      "\u001b[32m[I 2022-01-20 20:02:10,001]\u001b[0m Trial 134 finished with value: 0.5790460361804417 and parameters: {'learning_rate': 0.01508878383188141, 'lambda_l1': 2.466708741553311e-08, 'lambda_l2': 0.0010997282306095479, 'num_leaves': 98, 'feature_fraction': 0.5352986502074523, 'bagging_fraction': 0.5224970731903884, 'bagging_freq': 5, 'min_child_samples': 95}. Best is trial 73 with value: 0.5889527849202367.\u001b[0m\n"
     ]
    },
    {
     "name": "stdout",
     "output_type": "stream",
     "text": [
      "Did not meet early stopping. Best iteration is:\n",
      "[62]\tvalid_0's auc: 0.579046\n",
      "[LightGBM] [Warning] Unknown parameter: nestimators\n",
      "[LightGBM] [Warning] feature_fraction is set=0.5708467096904131, colsample_bytree=1.0 will be ignored. Current value: feature_fraction=0.5708467096904131\n",
      "[LightGBM] [Warning] bagging_fraction is set=0.5407571132000195, subsample=1.0 will be ignored. Current value: bagging_fraction=0.5407571132000195\n",
      "[LightGBM] [Warning] lambda_l1 is set=1.0200962243024068e-08, reg_alpha=0.0 will be ignored. Current value: lambda_l1=1.0200962243024068e-08\n",
      "[LightGBM] [Warning] lambda_l2 is set=0.10514901308389864, reg_lambda=0.0 will be ignored. Current value: lambda_l2=0.10514901308389864\n",
      "[LightGBM] [Warning] bagging_freq is set=5, subsample_freq=0 will be ignored. Current value: bagging_freq=5\n"
     ]
    },
    {
     "name": "stderr",
     "output_type": "stream",
     "text": [
      "C:\\Users\\Sarkhel\\anaconda3\\lib\\site-packages\\lightgbm\\basic.py:1702: UserWarning: Using categorical_feature in Dataset.\n",
      "  _log_warning('Using categorical_feature in Dataset.')\n",
      "C:\\Users\\Sarkhel\\anaconda3\\lib\\site-packages\\lightgbm\\basic.py:1705: UserWarning: categorical_feature in Dataset is overridden.\n",
      "New categorical_feature is [6, 9, 12]\n",
      "  _log_warning('categorical_feature in Dataset is overridden.\\n'\n",
      "C:\\Users\\Sarkhel\\anaconda3\\lib\\site-packages\\lightgbm\\basic.py:1433: UserWarning: Overriding the parameters from Reference Dataset.\n",
      "  _log_warning('Overriding the parameters from Reference Dataset.')\n",
      "C:\\Users\\Sarkhel\\anaconda3\\lib\\site-packages\\lightgbm\\basic.py:1245: UserWarning: categorical_column in param dict is overridden.\n",
      "  _log_warning('{} in param dict is overridden.'.format(cat_alias))\n"
     ]
    },
    {
     "name": "stdout",
     "output_type": "stream",
     "text": [
      "Training until validation scores don't improve for 2000 rounds\n"
     ]
    },
    {
     "name": "stderr",
     "output_type": "stream",
     "text": [
      "\u001b[32m[I 2022-01-20 20:02:12,003]\u001b[0m Trial 135 finished with value: 0.5870892981149756 and parameters: {'learning_rate': 0.013342771926948903, 'lambda_l1': 1.0200962243024068e-08, 'lambda_l2': 0.10514901308389864, 'num_leaves': 93, 'feature_fraction': 0.5708467096904131, 'bagging_fraction': 0.5407571132000195, 'bagging_freq': 5, 'min_child_samples': 92}. Best is trial 73 with value: 0.5889527849202367.\u001b[0m\n"
     ]
    },
    {
     "name": "stdout",
     "output_type": "stream",
     "text": [
      "Did not meet early stopping. Best iteration is:\n",
      "[13]\tvalid_0's auc: 0.587089\n",
      "[LightGBM] [Warning] Unknown parameter: nestimators\n",
      "[LightGBM] [Warning] feature_fraction is set=0.5578350438276612, colsample_bytree=1.0 will be ignored. Current value: feature_fraction=0.5578350438276612\n",
      "[LightGBM] [Warning] bagging_fraction is set=0.5476446542454458, subsample=1.0 will be ignored. Current value: bagging_fraction=0.5476446542454458\n",
      "[LightGBM] [Warning] lambda_l1 is set=1.6005559778537085e-08, reg_alpha=0.0 will be ignored. Current value: lambda_l1=1.6005559778537085e-08\n",
      "[LightGBM] [Warning] lambda_l2 is set=0.12947942603831536, reg_lambda=0.0 will be ignored. Current value: lambda_l2=0.12947942603831536\n",
      "[LightGBM] [Warning] bagging_freq is set=5, subsample_freq=0 will be ignored. Current value: bagging_freq=5\n"
     ]
    },
    {
     "name": "stderr",
     "output_type": "stream",
     "text": [
      "C:\\Users\\Sarkhel\\anaconda3\\lib\\site-packages\\lightgbm\\basic.py:1702: UserWarning: Using categorical_feature in Dataset.\n",
      "  _log_warning('Using categorical_feature in Dataset.')\n",
      "C:\\Users\\Sarkhel\\anaconda3\\lib\\site-packages\\lightgbm\\basic.py:1705: UserWarning: categorical_feature in Dataset is overridden.\n",
      "New categorical_feature is [6, 9, 12]\n",
      "  _log_warning('categorical_feature in Dataset is overridden.\\n'\n",
      "C:\\Users\\Sarkhel\\anaconda3\\lib\\site-packages\\lightgbm\\basic.py:1433: UserWarning: Overriding the parameters from Reference Dataset.\n",
      "  _log_warning('Overriding the parameters from Reference Dataset.')\n",
      "C:\\Users\\Sarkhel\\anaconda3\\lib\\site-packages\\lightgbm\\basic.py:1245: UserWarning: categorical_column in param dict is overridden.\n",
      "  _log_warning('{} in param dict is overridden.'.format(cat_alias))\n"
     ]
    },
    {
     "name": "stdout",
     "output_type": "stream",
     "text": [
      "Training until validation scores don't improve for 2000 rounds\n"
     ]
    },
    {
     "name": "stderr",
     "output_type": "stream",
     "text": [
      "\u001b[32m[I 2022-01-20 20:02:13,945]\u001b[0m Trial 136 finished with value: 0.5823090610881986 and parameters: {'learning_rate': 0.013249277740945016, 'lambda_l1': 1.6005559778537085e-08, 'lambda_l2': 0.12947942603831536, 'num_leaves': 85, 'feature_fraction': 0.5578350438276612, 'bagging_fraction': 0.5476446542454458, 'bagging_freq': 5, 'min_child_samples': 89}. Best is trial 73 with value: 0.5889527849202367.\u001b[0m\n"
     ]
    },
    {
     "name": "stdout",
     "output_type": "stream",
     "text": [
      "Did not meet early stopping. Best iteration is:\n",
      "[14]\tvalid_0's auc: 0.582309\n",
      "[LightGBM] [Warning] Unknown parameter: nestimators\n",
      "[LightGBM] [Warning] feature_fraction is set=0.5665801037946581, colsample_bytree=1.0 will be ignored. Current value: feature_fraction=0.5665801037946581\n",
      "[LightGBM] [Warning] bagging_fraction is set=0.5097806778285553, subsample=1.0 will be ignored. Current value: bagging_fraction=0.5097806778285553\n",
      "[LightGBM] [Warning] lambda_l1 is set=3.811768226305786e-08, reg_alpha=0.0 will be ignored. Current value: lambda_l1=3.811768226305786e-08\n",
      "[LightGBM] [Warning] lambda_l2 is set=0.3928972047105827, reg_lambda=0.0 will be ignored. Current value: lambda_l2=0.3928972047105827\n",
      "[LightGBM] [Warning] bagging_freq is set=6, subsample_freq=0 will be ignored. Current value: bagging_freq=6\n"
     ]
    },
    {
     "name": "stderr",
     "output_type": "stream",
     "text": [
      "C:\\Users\\Sarkhel\\anaconda3\\lib\\site-packages\\lightgbm\\basic.py:1702: UserWarning: Using categorical_feature in Dataset.\n",
      "  _log_warning('Using categorical_feature in Dataset.')\n",
      "C:\\Users\\Sarkhel\\anaconda3\\lib\\site-packages\\lightgbm\\basic.py:1705: UserWarning: categorical_feature in Dataset is overridden.\n",
      "New categorical_feature is [6, 9, 12]\n",
      "  _log_warning('categorical_feature in Dataset is overridden.\\n'\n",
      "C:\\Users\\Sarkhel\\anaconda3\\lib\\site-packages\\lightgbm\\basic.py:1433: UserWarning: Overriding the parameters from Reference Dataset.\n",
      "  _log_warning('Overriding the parameters from Reference Dataset.')\n",
      "C:\\Users\\Sarkhel\\anaconda3\\lib\\site-packages\\lightgbm\\basic.py:1245: UserWarning: categorical_column in param dict is overridden.\n",
      "  _log_warning('{} in param dict is overridden.'.format(cat_alias))\n"
     ]
    },
    {
     "name": "stdout",
     "output_type": "stream",
     "text": [
      "Training until validation scores don't improve for 2000 rounds\n"
     ]
    },
    {
     "name": "stderr",
     "output_type": "stream",
     "text": [
      "\u001b[32m[I 2022-01-20 20:02:15,807]\u001b[0m Trial 137 finished with value: 0.5782822346511653 and parameters: {'learning_rate': 0.014617470534187616, 'lambda_l1': 3.811768226305786e-08, 'lambda_l2': 0.3928972047105827, 'num_leaves': 76, 'feature_fraction': 0.5665801037946581, 'bagging_fraction': 0.5097806778285553, 'bagging_freq': 6, 'min_child_samples': 93}. Best is trial 73 with value: 0.5889527849202367.\u001b[0m\n"
     ]
    },
    {
     "name": "stdout",
     "output_type": "stream",
     "text": [
      "Did not meet early stopping. Best iteration is:\n",
      "[35]\tvalid_0's auc: 0.578282\n",
      "[LightGBM] [Warning] Unknown parameter: nestimators\n",
      "[LightGBM] [Warning] feature_fraction is set=0.5856809032069649, colsample_bytree=1.0 will be ignored. Current value: feature_fraction=0.5856809032069649\n",
      "[LightGBM] [Warning] bagging_fraction is set=0.5320839941242861, subsample=1.0 will be ignored. Current value: bagging_fraction=0.5320839941242861\n",
      "[LightGBM] [Warning] lambda_l1 is set=6.746988339885997e-08, reg_alpha=0.0 will be ignored. Current value: lambda_l1=6.746988339885997e-08\n",
      "[LightGBM] [Warning] lambda_l2 is set=0.18851258641924004, reg_lambda=0.0 will be ignored. Current value: lambda_l2=0.18851258641924004\n",
      "[LightGBM] [Warning] bagging_freq is set=5, subsample_freq=0 will be ignored. Current value: bagging_freq=5\n"
     ]
    },
    {
     "name": "stderr",
     "output_type": "stream",
     "text": [
      "C:\\Users\\Sarkhel\\anaconda3\\lib\\site-packages\\lightgbm\\basic.py:1702: UserWarning: Using categorical_feature in Dataset.\n",
      "  _log_warning('Using categorical_feature in Dataset.')\n",
      "C:\\Users\\Sarkhel\\anaconda3\\lib\\site-packages\\lightgbm\\basic.py:1705: UserWarning: categorical_feature in Dataset is overridden.\n",
      "New categorical_feature is [6, 9, 12]\n",
      "  _log_warning('categorical_feature in Dataset is overridden.\\n'\n",
      "C:\\Users\\Sarkhel\\anaconda3\\lib\\site-packages\\lightgbm\\basic.py:1433: UserWarning: Overriding the parameters from Reference Dataset.\n",
      "  _log_warning('Overriding the parameters from Reference Dataset.')\n",
      "C:\\Users\\Sarkhel\\anaconda3\\lib\\site-packages\\lightgbm\\basic.py:1245: UserWarning: categorical_column in param dict is overridden.\n",
      "  _log_warning('{} in param dict is overridden.'.format(cat_alias))\n"
     ]
    },
    {
     "name": "stdout",
     "output_type": "stream",
     "text": [
      "Training until validation scores don't improve for 2000 rounds\n"
     ]
    },
    {
     "name": "stderr",
     "output_type": "stream",
     "text": [
      "\u001b[32m[I 2022-01-20 20:02:17,916]\u001b[0m Trial 138 finished with value: 0.5770148099227265 and parameters: {'learning_rate': 0.013438963411135794, 'lambda_l1': 6.746988339885997e-08, 'lambda_l2': 0.18851258641924004, 'num_leaves': 92, 'feature_fraction': 0.5856809032069649, 'bagging_fraction': 0.5320839941242861, 'bagging_freq': 5, 'min_child_samples': 98}. Best is trial 73 with value: 0.5889527849202367.\u001b[0m\n"
     ]
    },
    {
     "name": "stdout",
     "output_type": "stream",
     "text": [
      "Did not meet early stopping. Best iteration is:\n",
      "[78]\tvalid_0's auc: 0.577015\n",
      "[LightGBM] [Warning] Unknown parameter: nestimators\n",
      "[LightGBM] [Warning] feature_fraction is set=0.5784514817415961, colsample_bytree=1.0 will be ignored. Current value: feature_fraction=0.5784514817415961\n",
      "[LightGBM] [Warning] bagging_fraction is set=0.5000983837921671, subsample=1.0 will be ignored. Current value: bagging_fraction=0.5000983837921671\n",
      "[LightGBM] [Warning] lambda_l1 is set=2.3713632932177544e-08, reg_alpha=0.0 will be ignored. Current value: lambda_l1=2.3713632932177544e-08\n",
      "[LightGBM] [Warning] lambda_l2 is set=0.091722372207889, reg_lambda=0.0 will be ignored. Current value: lambda_l2=0.091722372207889\n",
      "[LightGBM] [Warning] bagging_freq is set=5, subsample_freq=0 will be ignored. Current value: bagging_freq=5\n"
     ]
    },
    {
     "name": "stderr",
     "output_type": "stream",
     "text": [
      "C:\\Users\\Sarkhel\\anaconda3\\lib\\site-packages\\lightgbm\\basic.py:1702: UserWarning: Using categorical_feature in Dataset.\n",
      "  _log_warning('Using categorical_feature in Dataset.')\n",
      "C:\\Users\\Sarkhel\\anaconda3\\lib\\site-packages\\lightgbm\\basic.py:1705: UserWarning: categorical_feature in Dataset is overridden.\n",
      "New categorical_feature is [6, 9, 12]\n",
      "  _log_warning('categorical_feature in Dataset is overridden.\\n'\n",
      "C:\\Users\\Sarkhel\\anaconda3\\lib\\site-packages\\lightgbm\\basic.py:1433: UserWarning: Overriding the parameters from Reference Dataset.\n",
      "  _log_warning('Overriding the parameters from Reference Dataset.')\n",
      "C:\\Users\\Sarkhel\\anaconda3\\lib\\site-packages\\lightgbm\\basic.py:1245: UserWarning: categorical_column in param dict is overridden.\n",
      "  _log_warning('{} in param dict is overridden.'.format(cat_alias))\n"
     ]
    },
    {
     "name": "stdout",
     "output_type": "stream",
     "text": [
      "Training until validation scores don't improve for 2000 rounds\n"
     ]
    },
    {
     "name": "stderr",
     "output_type": "stream",
     "text": [
      "\u001b[32m[I 2022-01-20 20:02:20,217]\u001b[0m Trial 139 finished with value: 0.5835602921446386 and parameters: {'learning_rate': 0.018016320857973972, 'lambda_l1': 2.3713632932177544e-08, 'lambda_l2': 0.091722372207889, 'num_leaves': 109, 'feature_fraction': 0.5784514817415961, 'bagging_fraction': 0.5000983837921671, 'bagging_freq': 5, 'min_child_samples': 92}. Best is trial 73 with value: 0.5889527849202367.\u001b[0m\n"
     ]
    },
    {
     "name": "stdout",
     "output_type": "stream",
     "text": [
      "Did not meet early stopping. Best iteration is:\n",
      "[62]\tvalid_0's auc: 0.58356\n",
      "[LightGBM] [Warning] Unknown parameter: nestimators\n",
      "[LightGBM] [Warning] feature_fraction is set=0.5941111664742481, colsample_bytree=1.0 will be ignored. Current value: feature_fraction=0.5941111664742481\n",
      "[LightGBM] [Warning] bagging_fraction is set=0.4725972261118533, subsample=1.0 will be ignored. Current value: bagging_fraction=0.4725972261118533\n",
      "[LightGBM] [Warning] lambda_l1 is set=2.9481329105807154e-08, reg_alpha=0.0 will be ignored. Current value: lambda_l1=2.9481329105807154e-08\n",
      "[LightGBM] [Warning] lambda_l2 is set=0.0795198077683996, reg_lambda=0.0 will be ignored. Current value: lambda_l2=0.0795198077683996\n",
      "[LightGBM] [Warning] bagging_freq is set=5, subsample_freq=0 will be ignored. Current value: bagging_freq=5\n"
     ]
    },
    {
     "name": "stderr",
     "output_type": "stream",
     "text": [
      "C:\\Users\\Sarkhel\\anaconda3\\lib\\site-packages\\lightgbm\\basic.py:1702: UserWarning: Using categorical_feature in Dataset.\n",
      "  _log_warning('Using categorical_feature in Dataset.')\n",
      "C:\\Users\\Sarkhel\\anaconda3\\lib\\site-packages\\lightgbm\\basic.py:1705: UserWarning: categorical_feature in Dataset is overridden.\n",
      "New categorical_feature is [6, 9, 12]\n",
      "  _log_warning('categorical_feature in Dataset is overridden.\\n'\n",
      "C:\\Users\\Sarkhel\\anaconda3\\lib\\site-packages\\lightgbm\\basic.py:1433: UserWarning: Overriding the parameters from Reference Dataset.\n",
      "  _log_warning('Overriding the parameters from Reference Dataset.')\n",
      "C:\\Users\\Sarkhel\\anaconda3\\lib\\site-packages\\lightgbm\\basic.py:1245: UserWarning: categorical_column in param dict is overridden.\n",
      "  _log_warning('{} in param dict is overridden.'.format(cat_alias))\n"
     ]
    },
    {
     "name": "stdout",
     "output_type": "stream",
     "text": [
      "Training until validation scores don't improve for 2000 rounds\n"
     ]
    },
    {
     "name": "stderr",
     "output_type": "stream",
     "text": [
      "\u001b[32m[I 2022-01-20 20:02:22,565]\u001b[0m Trial 140 finished with value: 0.5785272988874137 and parameters: {'learning_rate': 0.018046136831166522, 'lambda_l1': 2.9481329105807154e-08, 'lambda_l2': 0.0795198077683996, 'num_leaves': 109, 'feature_fraction': 0.5941111664742481, 'bagging_fraction': 0.4725972261118533, 'bagging_freq': 5, 'min_child_samples': 91}. Best is trial 73 with value: 0.5889527849202367.\u001b[0m\n"
     ]
    },
    {
     "name": "stdout",
     "output_type": "stream",
     "text": [
      "Did not meet early stopping. Best iteration is:\n",
      "[62]\tvalid_0's auc: 0.578527\n",
      "[LightGBM] [Warning] Unknown parameter: nestimators\n",
      "[LightGBM] [Warning] feature_fraction is set=0.5668211880725411, colsample_bytree=1.0 will be ignored. Current value: feature_fraction=0.5668211880725411\n",
      "[LightGBM] [Warning] bagging_fraction is set=0.49849730176348456, subsample=1.0 will be ignored. Current value: bagging_fraction=0.49849730176348456\n",
      "[LightGBM] [Warning] lambda_l1 is set=1.772603230188872e-08, reg_alpha=0.0 will be ignored. Current value: lambda_l1=1.772603230188872e-08\n",
      "[LightGBM] [Warning] lambda_l2 is set=0.04217606411255306, reg_lambda=0.0 will be ignored. Current value: lambda_l2=0.04217606411255306\n",
      "[LightGBM] [Warning] bagging_freq is set=5, subsample_freq=0 will be ignored. Current value: bagging_freq=5\n"
     ]
    },
    {
     "name": "stderr",
     "output_type": "stream",
     "text": [
      "C:\\Users\\Sarkhel\\anaconda3\\lib\\site-packages\\lightgbm\\basic.py:1702: UserWarning: Using categorical_feature in Dataset.\n",
      "  _log_warning('Using categorical_feature in Dataset.')\n",
      "C:\\Users\\Sarkhel\\anaconda3\\lib\\site-packages\\lightgbm\\basic.py:1705: UserWarning: categorical_feature in Dataset is overridden.\n",
      "New categorical_feature is [6, 9, 12]\n",
      "  _log_warning('categorical_feature in Dataset is overridden.\\n'\n",
      "C:\\Users\\Sarkhel\\anaconda3\\lib\\site-packages\\lightgbm\\basic.py:1433: UserWarning: Overriding the parameters from Reference Dataset.\n",
      "  _log_warning('Overriding the parameters from Reference Dataset.')\n",
      "C:\\Users\\Sarkhel\\anaconda3\\lib\\site-packages\\lightgbm\\basic.py:1245: UserWarning: categorical_column in param dict is overridden.\n",
      "  _log_warning('{} in param dict is overridden.'.format(cat_alias))\n"
     ]
    },
    {
     "name": "stdout",
     "output_type": "stream",
     "text": [
      "Training until validation scores don't improve for 2000 rounds\n"
     ]
    },
    {
     "name": "stderr",
     "output_type": "stream",
     "text": [
      "\u001b[32m[I 2022-01-20 20:02:24,549]\u001b[0m Trial 141 finished with value: 0.5830202331834788 and parameters: {'learning_rate': 0.019577822519265025, 'lambda_l1': 1.772603230188872e-08, 'lambda_l2': 0.04217606411255306, 'num_leaves': 95, 'feature_fraction': 0.5668211880725411, 'bagging_fraction': 0.49849730176348456, 'bagging_freq': 5, 'min_child_samples': 94}. Best is trial 73 with value: 0.5889527849202367.\u001b[0m\n"
     ]
    },
    {
     "name": "stdout",
     "output_type": "stream",
     "text": [
      "Did not meet early stopping. Best iteration is:\n",
      "[61]\tvalid_0's auc: 0.58302\n",
      "[LightGBM] [Warning] Unknown parameter: nestimators\n",
      "[LightGBM] [Warning] feature_fraction is set=0.578948401078916, colsample_bytree=1.0 will be ignored. Current value: feature_fraction=0.578948401078916\n",
      "[LightGBM] [Warning] bagging_fraction is set=0.5216130028174326, subsample=1.0 will be ignored. Current value: bagging_fraction=0.5216130028174326\n",
      "[LightGBM] [Warning] lambda_l1 is set=4.784392676791509e-08, reg_alpha=0.0 will be ignored. Current value: lambda_l1=4.784392676791509e-08\n",
      "[LightGBM] [Warning] lambda_l2 is set=0.0866999502400699, reg_lambda=0.0 will be ignored. Current value: lambda_l2=0.0866999502400699\n",
      "[LightGBM] [Warning] bagging_freq is set=5, subsample_freq=0 will be ignored. Current value: bagging_freq=5\n"
     ]
    },
    {
     "name": "stderr",
     "output_type": "stream",
     "text": [
      "C:\\Users\\Sarkhel\\anaconda3\\lib\\site-packages\\lightgbm\\basic.py:1702: UserWarning: Using categorical_feature in Dataset.\n",
      "  _log_warning('Using categorical_feature in Dataset.')\n",
      "C:\\Users\\Sarkhel\\anaconda3\\lib\\site-packages\\lightgbm\\basic.py:1705: UserWarning: categorical_feature in Dataset is overridden.\n",
      "New categorical_feature is [6, 9, 12]\n",
      "  _log_warning('categorical_feature in Dataset is overridden.\\n'\n",
      "C:\\Users\\Sarkhel\\anaconda3\\lib\\site-packages\\lightgbm\\basic.py:1433: UserWarning: Overriding the parameters from Reference Dataset.\n",
      "  _log_warning('Overriding the parameters from Reference Dataset.')\n",
      "C:\\Users\\Sarkhel\\anaconda3\\lib\\site-packages\\lightgbm\\basic.py:1245: UserWarning: categorical_column in param dict is overridden.\n",
      "  _log_warning('{} in param dict is overridden.'.format(cat_alias))\n"
     ]
    },
    {
     "name": "stdout",
     "output_type": "stream",
     "text": [
      "Training until validation scores don't improve for 2000 rounds\n"
     ]
    },
    {
     "name": "stderr",
     "output_type": "stream",
     "text": [
      "\u001b[32m[I 2022-01-20 20:02:26,198]\u001b[0m Trial 142 finished with value: 0.5797310285059907 and parameters: {'learning_rate': 0.01595105946488473, 'lambda_l1': 4.784392676791509e-08, 'lambda_l2': 0.0866999502400699, 'num_leaves': 73, 'feature_fraction': 0.578948401078916, 'bagging_fraction': 0.5216130028174326, 'bagging_freq': 5, 'min_child_samples': 100}. Best is trial 73 with value: 0.5889527849202367.\u001b[0m\n"
     ]
    },
    {
     "name": "stdout",
     "output_type": "stream",
     "text": [
      "Did not meet early stopping. Best iteration is:\n",
      "[63]\tvalid_0's auc: 0.579731\n",
      "[LightGBM] [Warning] Unknown parameter: nestimators\n",
      "[LightGBM] [Warning] feature_fraction is set=0.5721890756915805, colsample_bytree=1.0 will be ignored. Current value: feature_fraction=0.5721890756915805\n",
      "[LightGBM] [Warning] bagging_fraction is set=0.5063203654866194, subsample=1.0 will be ignored. Current value: bagging_fraction=0.5063203654866194\n",
      "[LightGBM] [Warning] lambda_l1 is set=2.313034347536078e-08, reg_alpha=0.0 will be ignored. Current value: lambda_l1=2.313034347536078e-08\n",
      "[LightGBM] [Warning] lambda_l2 is set=0.2391840445770515, reg_lambda=0.0 will be ignored. Current value: lambda_l2=0.2391840445770515\n",
      "[LightGBM] [Warning] bagging_freq is set=5, subsample_freq=0 will be ignored. Current value: bagging_freq=5\n"
     ]
    },
    {
     "name": "stderr",
     "output_type": "stream",
     "text": [
      "C:\\Users\\Sarkhel\\anaconda3\\lib\\site-packages\\lightgbm\\basic.py:1702: UserWarning: Using categorical_feature in Dataset.\n",
      "  _log_warning('Using categorical_feature in Dataset.')\n",
      "C:\\Users\\Sarkhel\\anaconda3\\lib\\site-packages\\lightgbm\\basic.py:1705: UserWarning: categorical_feature in Dataset is overridden.\n",
      "New categorical_feature is [6, 9, 12]\n",
      "  _log_warning('categorical_feature in Dataset is overridden.\\n'\n",
      "C:\\Users\\Sarkhel\\anaconda3\\lib\\site-packages\\lightgbm\\basic.py:1433: UserWarning: Overriding the parameters from Reference Dataset.\n",
      "  _log_warning('Overriding the parameters from Reference Dataset.')\n",
      "C:\\Users\\Sarkhel\\anaconda3\\lib\\site-packages\\lightgbm\\basic.py:1245: UserWarning: categorical_column in param dict is overridden.\n",
      "  _log_warning('{} in param dict is overridden.'.format(cat_alias))\n"
     ]
    },
    {
     "name": "stdout",
     "output_type": "stream",
     "text": [
      "Training until validation scores don't improve for 2000 rounds\n"
     ]
    },
    {
     "name": "stderr",
     "output_type": "stream",
     "text": [
      "\u001b[32m[I 2022-01-20 20:02:28,343]\u001b[0m Trial 143 finished with value: 0.5790989355089712 and parameters: {'learning_rate': 0.021343928319587115, 'lambda_l1': 2.313034347536078e-08, 'lambda_l2': 0.2391840445770515, 'num_leaves': 86, 'feature_fraction': 0.5721890756915805, 'bagging_fraction': 0.5063203654866194, 'bagging_freq': 5, 'min_child_samples': 87}. Best is trial 73 with value: 0.5889527849202367.\u001b[0m\n"
     ]
    },
    {
     "name": "stdout",
     "output_type": "stream",
     "text": [
      "Did not meet early stopping. Best iteration is:\n",
      "[71]\tvalid_0's auc: 0.579099\n",
      "[LightGBM] [Warning] Unknown parameter: nestimators\n",
      "[LightGBM] [Warning] feature_fraction is set=0.546254254096263, colsample_bytree=1.0 will be ignored. Current value: feature_fraction=0.546254254096263\n",
      "[LightGBM] [Warning] bagging_fraction is set=0.4882230637624605, subsample=1.0 will be ignored. Current value: bagging_fraction=0.4882230637624605\n",
      "[LightGBM] [Warning] lambda_l1 is set=1.0054078375833662e-08, reg_alpha=0.0 will be ignored. Current value: lambda_l1=1.0054078375833662e-08\n",
      "[LightGBM] [Warning] lambda_l2 is set=0.00036518872729688674, reg_lambda=0.0 will be ignored. Current value: lambda_l2=0.00036518872729688674\n",
      "[LightGBM] [Warning] bagging_freq is set=5, subsample_freq=0 will be ignored. Current value: bagging_freq=5\n"
     ]
    },
    {
     "name": "stderr",
     "output_type": "stream",
     "text": [
      "C:\\Users\\Sarkhel\\anaconda3\\lib\\site-packages\\lightgbm\\basic.py:1702: UserWarning: Using categorical_feature in Dataset.\n",
      "  _log_warning('Using categorical_feature in Dataset.')\n",
      "C:\\Users\\Sarkhel\\anaconda3\\lib\\site-packages\\lightgbm\\basic.py:1705: UserWarning: categorical_feature in Dataset is overridden.\n",
      "New categorical_feature is [6, 9, 12]\n",
      "  _log_warning('categorical_feature in Dataset is overridden.\\n'\n",
      "C:\\Users\\Sarkhel\\anaconda3\\lib\\site-packages\\lightgbm\\basic.py:1433: UserWarning: Overriding the parameters from Reference Dataset.\n",
      "  _log_warning('Overriding the parameters from Reference Dataset.')\n",
      "C:\\Users\\Sarkhel\\anaconda3\\lib\\site-packages\\lightgbm\\basic.py:1245: UserWarning: categorical_column in param dict is overridden.\n",
      "  _log_warning('{} in param dict is overridden.'.format(cat_alias))\n"
     ]
    },
    {
     "name": "stdout",
     "output_type": "stream",
     "text": [
      "Training until validation scores don't improve for 2000 rounds\n"
     ]
    },
    {
     "name": "stderr",
     "output_type": "stream",
     "text": [
      "\u001b[32m[I 2022-01-20 20:02:29,773]\u001b[0m Trial 144 finished with value: 0.584510051007368 and parameters: {'learning_rate': 0.014202334109133753, 'lambda_l1': 1.0054078375833662e-08, 'lambda_l2': 0.00036518872729688674, 'num_leaves': 58, 'feature_fraction': 0.546254254096263, 'bagging_fraction': 0.4882230637624605, 'bagging_freq': 5, 'min_child_samples': 89}. Best is trial 73 with value: 0.5889527849202367.\u001b[0m\n"
     ]
    },
    {
     "name": "stdout",
     "output_type": "stream",
     "text": [
      "Did not meet early stopping. Best iteration is:\n",
      "[87]\tvalid_0's auc: 0.58451\n",
      "[LightGBM] [Warning] Unknown parameter: nestimators\n",
      "[LightGBM] [Warning] feature_fraction is set=0.5491182781241106, colsample_bytree=1.0 will be ignored. Current value: feature_fraction=0.5491182781241106\n",
      "[LightGBM] [Warning] bagging_fraction is set=0.4929069248780417, subsample=1.0 will be ignored. Current value: bagging_fraction=0.4929069248780417\n",
      "[LightGBM] [Warning] lambda_l1 is set=1.3751173531921285e-08, reg_alpha=0.0 will be ignored. Current value: lambda_l1=1.3751173531921285e-08\n",
      "[LightGBM] [Warning] lambda_l2 is set=0.00035259442249494313, reg_lambda=0.0 will be ignored. Current value: lambda_l2=0.00035259442249494313\n",
      "[LightGBM] [Warning] bagging_freq is set=5, subsample_freq=0 will be ignored. Current value: bagging_freq=5\n"
     ]
    },
    {
     "name": "stderr",
     "output_type": "stream",
     "text": [
      "C:\\Users\\Sarkhel\\anaconda3\\lib\\site-packages\\lightgbm\\basic.py:1702: UserWarning: Using categorical_feature in Dataset.\n",
      "  _log_warning('Using categorical_feature in Dataset.')\n",
      "C:\\Users\\Sarkhel\\anaconda3\\lib\\site-packages\\lightgbm\\basic.py:1705: UserWarning: categorical_feature in Dataset is overridden.\n",
      "New categorical_feature is [6, 9, 12]\n",
      "  _log_warning('categorical_feature in Dataset is overridden.\\n'\n",
      "C:\\Users\\Sarkhel\\anaconda3\\lib\\site-packages\\lightgbm\\basic.py:1433: UserWarning: Overriding the parameters from Reference Dataset.\n",
      "  _log_warning('Overriding the parameters from Reference Dataset.')\n",
      "C:\\Users\\Sarkhel\\anaconda3\\lib\\site-packages\\lightgbm\\basic.py:1245: UserWarning: categorical_column in param dict is overridden.\n",
      "  _log_warning('{} in param dict is overridden.'.format(cat_alias))\n"
     ]
    },
    {
     "name": "stdout",
     "output_type": "stream",
     "text": [
      "Training until validation scores don't improve for 2000 rounds\n"
     ]
    },
    {
     "name": "stderr",
     "output_type": "stream",
     "text": [
      "\u001b[32m[I 2022-01-20 20:02:31,808]\u001b[0m Trial 145 finished with value: 0.5804799858359349 and parameters: {'learning_rate': 0.012184140328124794, 'lambda_l1': 1.3751173531921285e-08, 'lambda_l2': 0.00035259442249494313, 'num_leaves': 99, 'feature_fraction': 0.5491182781241106, 'bagging_fraction': 0.4929069248780417, 'bagging_freq': 5, 'min_child_samples': 83}. Best is trial 73 with value: 0.5889527849202367.\u001b[0m\n"
     ]
    },
    {
     "name": "stdout",
     "output_type": "stream",
     "text": [
      "Did not meet early stopping. Best iteration is:\n",
      "[83]\tvalid_0's auc: 0.58048\n",
      "[LightGBM] [Warning] Unknown parameter: nestimators\n",
      "[LightGBM] [Warning] feature_fraction is set=0.5448771492062316, colsample_bytree=1.0 will be ignored. Current value: feature_fraction=0.5448771492062316\n",
      "[LightGBM] [Warning] bagging_fraction is set=0.4819659264819878, subsample=1.0 will be ignored. Current value: bagging_fraction=0.4819659264819878\n",
      "[LightGBM] [Warning] lambda_l1 is set=3.8033907181007277e-08, reg_alpha=0.0 will be ignored. Current value: lambda_l1=3.8033907181007277e-08\n",
      "[LightGBM] [Warning] lambda_l2 is set=0.0005646898006105733, reg_lambda=0.0 will be ignored. Current value: lambda_l2=0.0005646898006105733\n",
      "[LightGBM] [Warning] bagging_freq is set=5, subsample_freq=0 will be ignored. Current value: bagging_freq=5\n"
     ]
    },
    {
     "name": "stderr",
     "output_type": "stream",
     "text": [
      "C:\\Users\\Sarkhel\\anaconda3\\lib\\site-packages\\lightgbm\\basic.py:1702: UserWarning: Using categorical_feature in Dataset.\n",
      "  _log_warning('Using categorical_feature in Dataset.')\n",
      "C:\\Users\\Sarkhel\\anaconda3\\lib\\site-packages\\lightgbm\\basic.py:1705: UserWarning: categorical_feature in Dataset is overridden.\n",
      "New categorical_feature is [6, 9, 12]\n",
      "  _log_warning('categorical_feature in Dataset is overridden.\\n'\n",
      "C:\\Users\\Sarkhel\\anaconda3\\lib\\site-packages\\lightgbm\\basic.py:1433: UserWarning: Overriding the parameters from Reference Dataset.\n",
      "  _log_warning('Overriding the parameters from Reference Dataset.')\n",
      "C:\\Users\\Sarkhel\\anaconda3\\lib\\site-packages\\lightgbm\\basic.py:1245: UserWarning: categorical_column in param dict is overridden.\n",
      "  _log_warning('{} in param dict is overridden.'.format(cat_alias))\n"
     ]
    },
    {
     "name": "stdout",
     "output_type": "stream",
     "text": [
      "Training until validation scores don't improve for 2000 rounds\n"
     ]
    },
    {
     "name": "stderr",
     "output_type": "stream",
     "text": [
      "\u001b[32m[I 2022-01-20 20:02:33,213]\u001b[0m Trial 146 finished with value: 0.5847310946301514 and parameters: {'learning_rate': 0.014290416355386635, 'lambda_l1': 3.8033907181007277e-08, 'lambda_l2': 0.0005646898006105733, 'num_leaves': 55, 'feature_fraction': 0.5448771492062316, 'bagging_fraction': 0.4819659264819878, 'bagging_freq': 5, 'min_child_samples': 89}. Best is trial 73 with value: 0.5889527849202367.\u001b[0m\n"
     ]
    },
    {
     "name": "stdout",
     "output_type": "stream",
     "text": [
      "Did not meet early stopping. Best iteration is:\n",
      "[29]\tvalid_0's auc: 0.584731\n",
      "[LightGBM] [Warning] Unknown parameter: nestimators\n",
      "[LightGBM] [Warning] feature_fraction is set=0.5590599955265657, colsample_bytree=1.0 will be ignored. Current value: feature_fraction=0.5590599955265657\n",
      "[LightGBM] [Warning] bagging_fraction is set=0.4607354610869652, subsample=1.0 will be ignored. Current value: bagging_fraction=0.4607354610869652\n",
      "[LightGBM] [Warning] lambda_l1 is set=5.8624100328347744e-08, reg_alpha=0.0 will be ignored. Current value: lambda_l1=5.8624100328347744e-08\n",
      "[LightGBM] [Warning] lambda_l2 is set=0.0005040673992456177, reg_lambda=0.0 will be ignored. Current value: lambda_l2=0.0005040673992456177\n",
      "[LightGBM] [Warning] bagging_freq is set=5, subsample_freq=0 will be ignored. Current value: bagging_freq=5\n"
     ]
    },
    {
     "name": "stderr",
     "output_type": "stream",
     "text": [
      "C:\\Users\\Sarkhel\\anaconda3\\lib\\site-packages\\lightgbm\\basic.py:1702: UserWarning: Using categorical_feature in Dataset.\n",
      "  _log_warning('Using categorical_feature in Dataset.')\n",
      "C:\\Users\\Sarkhel\\anaconda3\\lib\\site-packages\\lightgbm\\basic.py:1705: UserWarning: categorical_feature in Dataset is overridden.\n",
      "New categorical_feature is [6, 9, 12]\n",
      "  _log_warning('categorical_feature in Dataset is overridden.\\n'\n",
      "C:\\Users\\Sarkhel\\anaconda3\\lib\\site-packages\\lightgbm\\basic.py:1433: UserWarning: Overriding the parameters from Reference Dataset.\n",
      "  _log_warning('Overriding the parameters from Reference Dataset.')\n",
      "C:\\Users\\Sarkhel\\anaconda3\\lib\\site-packages\\lightgbm\\basic.py:1245: UserWarning: categorical_column in param dict is overridden.\n",
      "  _log_warning('{} in param dict is overridden.'.format(cat_alias))\n"
     ]
    },
    {
     "name": "stdout",
     "output_type": "stream",
     "text": [
      "Training until validation scores don't improve for 2000 rounds\n"
     ]
    },
    {
     "name": "stderr",
     "output_type": "stream",
     "text": [
      "\u001b[32m[I 2022-01-20 20:02:34,720]\u001b[0m Trial 147 finished with value: 0.5790622298524406 and parameters: {'learning_rate': 0.010413634587756444, 'lambda_l1': 5.8624100328347744e-08, 'lambda_l2': 0.0005040673992456177, 'num_leaves': 64, 'feature_fraction': 0.5590599955265657, 'bagging_fraction': 0.4607354610869652, 'bagging_freq': 5, 'min_child_samples': 89}. Best is trial 73 with value: 0.5889527849202367.\u001b[0m\n"
     ]
    },
    {
     "name": "stdout",
     "output_type": "stream",
     "text": [
      "Did not meet early stopping. Best iteration is:\n",
      "[63]\tvalid_0's auc: 0.579062\n",
      "[LightGBM] [Warning] Unknown parameter: nestimators\n",
      "[LightGBM] [Warning] feature_fraction is set=0.5439658098139658, colsample_bytree=1.0 will be ignored. Current value: feature_fraction=0.5439658098139658\n",
      "[LightGBM] [Warning] bagging_fraction is set=0.5437563855583015, subsample=1.0 will be ignored. Current value: bagging_fraction=0.5437563855583015\n",
      "[LightGBM] [Warning] lambda_l1 is set=1.3988427508701556e-08, reg_alpha=0.0 will be ignored. Current value: lambda_l1=1.3988427508701556e-08\n",
      "[LightGBM] [Warning] lambda_l2 is set=0.00021843017393697434, reg_lambda=0.0 will be ignored. Current value: lambda_l2=0.00021843017393697434\n",
      "[LightGBM] [Warning] bagging_freq is set=4, subsample_freq=0 will be ignored. Current value: bagging_freq=4\n"
     ]
    },
    {
     "name": "stderr",
     "output_type": "stream",
     "text": [
      "C:\\Users\\Sarkhel\\anaconda3\\lib\\site-packages\\lightgbm\\basic.py:1702: UserWarning: Using categorical_feature in Dataset.\n",
      "  _log_warning('Using categorical_feature in Dataset.')\n",
      "C:\\Users\\Sarkhel\\anaconda3\\lib\\site-packages\\lightgbm\\basic.py:1705: UserWarning: categorical_feature in Dataset is overridden.\n",
      "New categorical_feature is [6, 9, 12]\n",
      "  _log_warning('categorical_feature in Dataset is overridden.\\n'\n",
      "C:\\Users\\Sarkhel\\anaconda3\\lib\\site-packages\\lightgbm\\basic.py:1433: UserWarning: Overriding the parameters from Reference Dataset.\n",
      "  _log_warning('Overriding the parameters from Reference Dataset.')\n",
      "C:\\Users\\Sarkhel\\anaconda3\\lib\\site-packages\\lightgbm\\basic.py:1245: UserWarning: categorical_column in param dict is overridden.\n",
      "  _log_warning('{} in param dict is overridden.'.format(cat_alias))\n"
     ]
    },
    {
     "name": "stdout",
     "output_type": "stream",
     "text": [
      "Training until validation scores don't improve for 2000 rounds\n"
     ]
    },
    {
     "name": "stderr",
     "output_type": "stream",
     "text": [
      "\u001b[32m[I 2022-01-20 20:02:36,162]\u001b[0m Trial 148 finished with value: 0.579638184786531 and parameters: {'learning_rate': 0.014183558513277551, 'lambda_l1': 1.3988427508701556e-08, 'lambda_l2': 0.00021843017393697434, 'num_leaves': 57, 'feature_fraction': 0.5439658098139658, 'bagging_fraction': 0.5437563855583015, 'bagging_freq': 4, 'min_child_samples': 91}. Best is trial 73 with value: 0.5889527849202367.\u001b[0m\n"
     ]
    },
    {
     "name": "stdout",
     "output_type": "stream",
     "text": [
      "Did not meet early stopping. Best iteration is:\n",
      "[60]\tvalid_0's auc: 0.579638\n",
      "[LightGBM] [Warning] Unknown parameter: nestimators\n",
      "[LightGBM] [Warning] feature_fraction is set=0.6519993082650116, colsample_bytree=1.0 will be ignored. Current value: feature_fraction=0.6519993082650116\n",
      "[LightGBM] [Warning] bagging_fraction is set=0.49053981190416573, subsample=1.0 will be ignored. Current value: bagging_fraction=0.49053981190416573\n",
      "[LightGBM] [Warning] lambda_l1 is set=2.536644167119355e-08, reg_alpha=0.0 will be ignored. Current value: lambda_l1=2.536644167119355e-08\n",
      "[LightGBM] [Warning] lambda_l2 is set=0.00012376518601228217, reg_lambda=0.0 will be ignored. Current value: lambda_l2=0.00012376518601228217\n",
      "[LightGBM] [Warning] bagging_freq is set=5, subsample_freq=0 will be ignored. Current value: bagging_freq=5\n"
     ]
    },
    {
     "name": "stderr",
     "output_type": "stream",
     "text": [
      "C:\\Users\\Sarkhel\\anaconda3\\lib\\site-packages\\lightgbm\\basic.py:1702: UserWarning: Using categorical_feature in Dataset.\n",
      "  _log_warning('Using categorical_feature in Dataset.')\n",
      "C:\\Users\\Sarkhel\\anaconda3\\lib\\site-packages\\lightgbm\\basic.py:1705: UserWarning: categorical_feature in Dataset is overridden.\n",
      "New categorical_feature is [6, 9, 12]\n",
      "  _log_warning('categorical_feature in Dataset is overridden.\\n'\n",
      "C:\\Users\\Sarkhel\\anaconda3\\lib\\site-packages\\lightgbm\\basic.py:1433: UserWarning: Overriding the parameters from Reference Dataset.\n",
      "  _log_warning('Overriding the parameters from Reference Dataset.')\n",
      "C:\\Users\\Sarkhel\\anaconda3\\lib\\site-packages\\lightgbm\\basic.py:1245: UserWarning: categorical_column in param dict is overridden.\n",
      "  _log_warning('{} in param dict is overridden.'.format(cat_alias))\n"
     ]
    },
    {
     "name": "stdout",
     "output_type": "stream",
     "text": [
      "Training until validation scores don't improve for 2000 rounds\n"
     ]
    },
    {
     "name": "stderr",
     "output_type": "stream",
     "text": [
      "\u001b[32m[I 2022-01-20 20:02:37,961]\u001b[0m Trial 149 finished with value: 0.5805258679065981 and parameters: {'learning_rate': 0.012882591291006256, 'lambda_l1': 2.536644167119355e-08, 'lambda_l2': 0.00012376518601228217, 'num_leaves': 82, 'feature_fraction': 0.6519993082650116, 'bagging_fraction': 0.49053981190416573, 'bagging_freq': 5, 'min_child_samples': 85}. Best is trial 73 with value: 0.5889527849202367.\u001b[0m\n"
     ]
    },
    {
     "name": "stdout",
     "output_type": "stream",
     "text": [
      "Did not meet early stopping. Best iteration is:\n",
      "[67]\tvalid_0's auc: 0.580526\n"
     ]
    }
   ],
   "source": [
    "study = optuna.create_study(direction=\"maximize\")\n",
    "study.optimize(run, n_trials=150)"
   ]
  },
  {
   "cell_type": "code",
   "execution_count": 102,
   "id": "e0b6d433",
   "metadata": {},
   "outputs": [
    {
     "data": {
      "text/plain": [
       "{'learning_rate': 0.018508133231121448,\n",
       " 'lambda_l1': 5.842694522644729e-08,\n",
       " 'lambda_l2': 0.02217395184292706,\n",
       " 'num_leaves': 76,\n",
       " 'feature_fraction': 0.5745960798262617,\n",
       " 'bagging_fraction': 0.5288996205050897,\n",
       " 'bagging_freq': 5,\n",
       " 'min_child_samples': 77}"
      ]
     },
     "execution_count": 102,
     "metadata": {},
     "output_type": "execute_result"
    }
   ],
   "source": [
    "study.best_params"
   ]
  },
  {
   "cell_type": "code",
   "execution_count": 31,
   "id": "8dc812a9",
   "metadata": {
    "scrolled": true
   },
   "outputs": [
    {
     "name": "stderr",
     "output_type": "stream",
     "text": [
      "C:\\Users\\Sarkhel\\anaconda3\\lib\\site-packages\\lightgbm\\engine.py:148: UserWarning: Found `n_estimators` in params. Will use it instead of argument\n",
      "  _log_warning(\"Found `{}` in params. Will use it instead of argument\".format(alias))\n"
     ]
    },
    {
     "name": "stdout",
     "output_type": "stream",
     "text": [
      "ROC-AUC is:  0.5803466579364782\n",
      "0 0.5803466579364782\n"
     ]
    },
    {
     "name": "stderr",
     "output_type": "stream",
     "text": [
      "C:\\Users\\Sarkhel\\anaconda3\\lib\\site-packages\\lightgbm\\engine.py:148: UserWarning: Found `n_estimators` in params. Will use it instead of argument\n",
      "  _log_warning(\"Found `{}` in params. Will use it instead of argument\".format(alias))\n"
     ]
    },
    {
     "name": "stdout",
     "output_type": "stream",
     "text": [
      "ROC-AUC is:  0.5755706042749675\n",
      "1 0.5755706042749675\n"
     ]
    },
    {
     "name": "stderr",
     "output_type": "stream",
     "text": [
      "C:\\Users\\Sarkhel\\anaconda3\\lib\\site-packages\\lightgbm\\engine.py:148: UserWarning: Found `n_estimators` in params. Will use it instead of argument\n",
      "  _log_warning(\"Found `{}` in params. Will use it instead of argument\".format(alias))\n"
     ]
    },
    {
     "name": "stdout",
     "output_type": "stream",
     "text": [
      "ROC-AUC is:  0.5719162322939065\n",
      "2 0.5719162322939065\n"
     ]
    },
    {
     "name": "stderr",
     "output_type": "stream",
     "text": [
      "C:\\Users\\Sarkhel\\anaconda3\\lib\\site-packages\\lightgbm\\engine.py:148: UserWarning: Found `n_estimators` in params. Will use it instead of argument\n",
      "  _log_warning(\"Found `{}` in params. Will use it instead of argument\".format(alias))\n"
     ]
    },
    {
     "name": "stdout",
     "output_type": "stream",
     "text": [
      "ROC-AUC is:  0.58233443117433\n",
      "3 0.58233443117433\n"
     ]
    },
    {
     "name": "stderr",
     "output_type": "stream",
     "text": [
      "C:\\Users\\Sarkhel\\anaconda3\\lib\\site-packages\\lightgbm\\engine.py:148: UserWarning: Found `n_estimators` in params. Will use it instead of argument\n",
      "  _log_warning(\"Found `{}` in params. Will use it instead of argument\".format(alias))\n"
     ]
    },
    {
     "name": "stdout",
     "output_type": "stream",
     "text": [
      "ROC-AUC is:  0.5719357860643521\n",
      "4 0.5719357860643521\n"
     ]
    },
    {
     "name": "stderr",
     "output_type": "stream",
     "text": [
      "C:\\Users\\Sarkhel\\anaconda3\\lib\\site-packages\\lightgbm\\engine.py:148: UserWarning: Found `n_estimators` in params. Will use it instead of argument\n",
      "  _log_warning(\"Found `{}` in params. Will use it instead of argument\".format(alias))\n"
     ]
    },
    {
     "name": "stdout",
     "output_type": "stream",
     "text": [
      "ROC-AUC is:  0.5892536255111654\n",
      "5 0.5892536255111654\n"
     ]
    },
    {
     "name": "stderr",
     "output_type": "stream",
     "text": [
      "C:\\Users\\Sarkhel\\anaconda3\\lib\\site-packages\\lightgbm\\engine.py:148: UserWarning: Found `n_estimators` in params. Will use it instead of argument\n",
      "  _log_warning(\"Found `{}` in params. Will use it instead of argument\".format(alias))\n"
     ]
    },
    {
     "name": "stdout",
     "output_type": "stream",
     "text": [
      "ROC-AUC is:  0.5709150739456419\n",
      "6 0.5709150739456419\n"
     ]
    },
    {
     "name": "stderr",
     "output_type": "stream",
     "text": [
      "C:\\Users\\Sarkhel\\anaconda3\\lib\\site-packages\\lightgbm\\engine.py:148: UserWarning: Found `n_estimators` in params. Will use it instead of argument\n",
      "  _log_warning(\"Found `{}` in params. Will use it instead of argument\".format(alias))\n"
     ]
    },
    {
     "name": "stdout",
     "output_type": "stream",
     "text": [
      "ROC-AUC is:  0.5777853865754906\n",
      "7 0.5777853865754906\n"
     ]
    },
    {
     "name": "stderr",
     "output_type": "stream",
     "text": [
      "C:\\Users\\Sarkhel\\anaconda3\\lib\\site-packages\\lightgbm\\engine.py:148: UserWarning: Found `n_estimators` in params. Will use it instead of argument\n",
      "  _log_warning(\"Found `{}` in params. Will use it instead of argument\".format(alias))\n"
     ]
    },
    {
     "name": "stdout",
     "output_type": "stream",
     "text": [
      "ROC-AUC is:  0.5685139856177533\n",
      "8 0.5685139856177533\n"
     ]
    },
    {
     "name": "stderr",
     "output_type": "stream",
     "text": [
      "C:\\Users\\Sarkhel\\anaconda3\\lib\\site-packages\\lightgbm\\engine.py:148: UserWarning: Found `n_estimators` in params. Will use it instead of argument\n",
      "  _log_warning(\"Found `{}` in params. Will use it instead of argument\".format(alias))\n"
     ]
    },
    {
     "name": "stdout",
     "output_type": "stream",
     "text": [
      "ROC-AUC is:  0.5685676789065779\n",
      "9 0.5685676789065779\n",
      "0.5757139462300663\n"
     ]
    }
   ],
   "source": [
    "scores = []\n",
    "final_test_predictions = []\n",
    "for fold in range(10):\n",
    "    xtrain =  train[train.kfold != fold].reset_index(drop=True)\n",
    "    xvalid = train[train.kfold == fold].reset_index(drop=True)\n",
    "\n",
    "    ytrain = xtrain.song_popularity\n",
    "    yvalid = xvalid.song_popularity\n",
    "    \n",
    "    xtrain = xtrain[features]\n",
    "    xvalid = xvalid[features]\n",
    "    \n",
    "    params_lgb = {  \n",
    "                \"task\": \"train\",\n",
    "                \"objective\": \"regression\",\n",
    "                \"metric\": \"auc\",\n",
    "                \"verbosity\": -1,\n",
    "                \"boosting_type\": \"gbdt\",\n",
    "                \"device\": \"gpu\",\n",
    "                \"gpu_platform_id\": 0,\n",
    "                \"gpu_device_id\": 0,\n",
    "                'learning_rate': 0.018508133231121448,\n",
    "                'lambda_l1': 5.842694522644729e-08,\n",
    "                'lambda_l2': 0.02217395184292706,\n",
    "                'num_leaves': 76,\n",
    "                'feature_fraction': 0.5745960798262617,\n",
    "                'bagging_fraction': 0.5288996205050897,\n",
    "                'bagging_freq': 5,\n",
    "                'min_child_samples': 77,\n",
    "                'n_estimators': 10000\n",
    "             }\n",
    "    lgb_train = lgb.Dataset(xtrain, ytrain)\n",
    "    lgb_val = lgb.Dataset(xvalid, yvalid)\n",
    "    \n",
    "    model = lgb.train(params=params_lgb,\n",
    "                      train_set=lgb_train,\n",
    "                      valid_sets=lgb_val,\n",
    "                      early_stopping_rounds=3000,\n",
    "                      verbose_eval=False)\n",
    "   \n",
    "    preds_valid = model.predict(xvalid,num_iteration=model.best_iteration)\n",
    "    test_predict = model.predict(test[features],num_iteration=model.best_iteration)\n",
    "    #preds_valid = model.predict(xvalid, num_iteration=model.best_iteration)\n",
    "    #test_preds = model.predict(test[features], num_iteration=model.best_iteration)\n",
    "    final_test_predictions.append(test_predict)\n",
    "    roc = roc_auc_score(yvalid, preds_valid)\n",
    "    print(\"ROC-AUC is: \", roc)\n",
    "    print(fold, roc)\n",
    "    \n",
    "    scores.append(roc)\n",
    "\n",
    "print(np.mean(scores))"
   ]
  },
  {
   "cell_type": "markdown",
   "id": "ad2e13f0",
   "metadata": {},
   "source": [
    "# *Submission*"
   ]
  },
  {
   "cell_type": "code",
   "execution_count": 32,
   "id": "6c57785e",
   "metadata": {},
   "outputs": [],
   "source": [
    "submission.song_popularity = np.mean(np.column_stack(final_test_predictions), axis=1)"
   ]
  },
  {
   "cell_type": "code",
   "execution_count": 34,
   "id": "487fc665",
   "metadata": {},
   "outputs": [
    {
     "data": {
      "text/html": [
       "<div>\n",
       "<style scoped>\n",
       "    .dataframe tbody tr th:only-of-type {\n",
       "        vertical-align: middle;\n",
       "    }\n",
       "\n",
       "    .dataframe tbody tr th {\n",
       "        vertical-align: top;\n",
       "    }\n",
       "\n",
       "    .dataframe thead th {\n",
       "        text-align: right;\n",
       "    }\n",
       "</style>\n",
       "<table border=\"1\" class=\"dataframe\">\n",
       "  <thead>\n",
       "    <tr style=\"text-align: right;\">\n",
       "      <th></th>\n",
       "      <th>id</th>\n",
       "      <th>song_popularity</th>\n",
       "    </tr>\n",
       "  </thead>\n",
       "  <tbody>\n",
       "    <tr>\n",
       "      <th>0</th>\n",
       "      <td>0</td>\n",
       "      <td>0.417862</td>\n",
       "    </tr>\n",
       "    <tr>\n",
       "      <th>1</th>\n",
       "      <td>1</td>\n",
       "      <td>0.436469</td>\n",
       "    </tr>\n",
       "    <tr>\n",
       "      <th>2</th>\n",
       "      <td>2</td>\n",
       "      <td>0.318221</td>\n",
       "    </tr>\n",
       "    <tr>\n",
       "      <th>3</th>\n",
       "      <td>3</td>\n",
       "      <td>0.338337</td>\n",
       "    </tr>\n",
       "    <tr>\n",
       "      <th>4</th>\n",
       "      <td>4</td>\n",
       "      <td>0.382079</td>\n",
       "    </tr>\n",
       "  </tbody>\n",
       "</table>\n",
       "</div>"
      ],
      "text/plain": [
       "   id  song_popularity\n",
       "0   0         0.417862\n",
       "1   1         0.436469\n",
       "2   2         0.318221\n",
       "3   3         0.338337\n",
       "4   4         0.382079"
      ]
     },
     "execution_count": 34,
     "metadata": {},
     "output_type": "execute_result"
    }
   ],
   "source": [
    "submission.head()"
   ]
  },
  {
   "cell_type": "code",
   "execution_count": 35,
   "id": "f50acfad",
   "metadata": {},
   "outputs": [],
   "source": [
    "submission.to_csv(\"D:\\\\COMPI-TOP\\\\Song-popularity\\\\Sub_LGBMReg1.csv\", index=False)"
   ]
  },
  {
   "cell_type": "code",
   "execution_count": null,
   "id": "3853421b",
   "metadata": {},
   "outputs": [],
   "source": []
  }
 ],
 "metadata": {
  "kernelspec": {
   "display_name": "Python 3",
   "language": "python",
   "name": "python3"
  },
  "language_info": {
   "codemirror_mode": {
    "name": "ipython",
    "version": 3
   },
   "file_extension": ".py",
   "mimetype": "text/x-python",
   "name": "python",
   "nbconvert_exporter": "python",
   "pygments_lexer": "ipython3",
   "version": "3.8.8"
  }
 },
 "nbformat": 4,
 "nbformat_minor": 5
}
