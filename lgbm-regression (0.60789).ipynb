{
 "cells": [
  {
   "cell_type": "code",
   "execution_count": 1,
   "id": "f66dcd75",
   "metadata": {
    "execution": {
     "iopub.execute_input": "2022-01-20T07:49:41.911972Z",
     "iopub.status.busy": "2022-01-20T07:49:41.910445Z",
     "iopub.status.idle": "2022-01-20T07:49:45.109904Z",
     "shell.execute_reply": "2022-01-20T07:49:45.108914Z",
     "shell.execute_reply.started": "2022-01-20T07:37:19.802489Z"
    },
    "papermill": {
     "duration": 3.212817,
     "end_time": "2022-01-20T07:49:45.110090",
     "exception": false,
     "start_time": "2022-01-20T07:49:41.897273",
     "status": "completed"
    },
    "tags": []
   },
   "outputs": [
    {
     "data": {
      "text/html": [
       "<style type='text/css'>\n",
       ".datatable table.frame { margin-bottom: 0; }\n",
       ".datatable table.frame thead { border-bottom: none; }\n",
       ".datatable table.frame tr.coltypes td {  color: #FFFFFF;  line-height: 6px;  padding: 0 0.5em;}\n",
       ".datatable .bool    { background: #DDDD99; }\n",
       ".datatable .object  { background: #565656; }\n",
       ".datatable .int     { background: #5D9E5D; }\n",
       ".datatable .float   { background: #4040CC; }\n",
       ".datatable .str     { background: #CC4040; }\n",
       ".datatable .time    { background: #40CC40; }\n",
       ".datatable .row_index {  background: var(--jp-border-color3);  border-right: 1px solid var(--jp-border-color0);  color: var(--jp-ui-font-color3);  font-size: 9px;}\n",
       ".datatable .frame tbody td { text-align: left; }\n",
       ".datatable .frame tr.coltypes .row_index {  background: var(--jp-border-color0);}\n",
       ".datatable th:nth-child(2) { padding-left: 12px; }\n",
       ".datatable .hellipsis {  color: var(--jp-cell-editor-border-color);}\n",
       ".datatable .vellipsis {  background: var(--jp-layout-color0);  color: var(--jp-cell-editor-border-color);}\n",
       ".datatable .na {  color: var(--jp-cell-editor-border-color);  font-size: 80%;}\n",
       ".datatable .sp {  opacity: 0.25;}\n",
       ".datatable .footer { font-size: 9px; }\n",
       ".datatable .frame_dimensions {  background: var(--jp-border-color3);  border-top: 1px solid var(--jp-border-color0);  color: var(--jp-ui-font-color3);  display: inline-block;  opacity: 0.6;  padding: 1px 10px 1px 5px;}\n",
       "</style>\n"
      ],
      "text/plain": [
       "<IPython.core.display.HTML object>"
      ]
     },
     "metadata": {},
     "output_type": "display_data"
    }
   ],
   "source": [
    "#Import necessay libraries\n",
    "import pandas as pd\n",
    "import numpy as np\n",
    "\n",
    "#Preprocessing\n",
    "from sklearn import model_selection,metrics\n",
    "from sklearn.preprocessing import OrdinalEncoder\n",
    "from sklearn import preprocessing\n",
    "from sklearn.model_selection import train_test_split,KFold,StratifiedKFold\n",
    "from sklearn.impute import SimpleImputer\n",
    "from sklearn.preprocessing import StandardScaler,OrdinalEncoder,LabelEncoder,RobustScaler\n",
    "#Model\n",
    "from sklearn.ensemble import RandomForestRegressor\n",
    "from sklearn.metrics import mean_squared_error,roc_auc_score\n",
    "from xgboost import XGBRegressor\n",
    "from lightgbm import LGBMRegressor, early_stopping, log_evaluation\n",
    "import lightgbm as lgb\n",
    "from sklearn.metrics import mean_squared_log_error,mean_squared_error\n",
    "from catboost import CatBoostRegressor"
   ]
  },
  {
   "cell_type": "markdown",
   "id": "014af156",
   "metadata": {
    "papermill": {
     "duration": 0.009391,
     "end_time": "2022-01-20T07:49:45.129166",
     "exception": false,
     "start_time": "2022-01-20T07:49:45.119775",
     "status": "completed"
    },
    "tags": []
   },
   "source": [
    "## **Read Data**"
   ]
  },
  {
   "cell_type": "code",
   "execution_count": 2,
   "id": "a340d7b6",
   "metadata": {
    "execution": {
     "iopub.execute_input": "2022-01-20T07:49:45.151392Z",
     "iopub.status.busy": "2022-01-20T07:49:45.150812Z",
     "iopub.status.idle": "2022-01-20T07:49:45.493394Z",
     "shell.execute_reply": "2022-01-20T07:49:45.493794Z",
     "shell.execute_reply.started": "2022-01-20T07:37:22.031313Z"
    },
    "papermill": {
     "duration": 0.356134,
     "end_time": "2022-01-20T07:49:45.493945",
     "exception": false,
     "start_time": "2022-01-20T07:49:45.137811",
     "status": "completed"
    },
    "tags": []
   },
   "outputs": [
    {
     "name": "stdout",
     "output_type": "stream",
     "text": [
      "(40000, 15) (10000, 14) (10000, 2)\n"
     ]
    },
    {
     "data": {
      "text/html": [
       "<div>\n",
       "<style scoped>\n",
       "    .dataframe tbody tr th:only-of-type {\n",
       "        vertical-align: middle;\n",
       "    }\n",
       "\n",
       "    .dataframe tbody tr th {\n",
       "        vertical-align: top;\n",
       "    }\n",
       "\n",
       "    .dataframe thead th {\n",
       "        text-align: right;\n",
       "    }\n",
       "</style>\n",
       "<table border=\"1\" class=\"dataframe\">\n",
       "  <thead>\n",
       "    <tr style=\"text-align: right;\">\n",
       "      <th></th>\n",
       "      <th>count</th>\n",
       "      <th>mean</th>\n",
       "      <th>std</th>\n",
       "      <th>min</th>\n",
       "      <th>25%</th>\n",
       "      <th>50%</th>\n",
       "      <th>75%</th>\n",
       "      <th>max</th>\n",
       "    </tr>\n",
       "  </thead>\n",
       "  <tbody>\n",
       "    <tr>\n",
       "      <th>id</th>\n",
       "      <td>40000.0</td>\n",
       "      <td>19999.500000</td>\n",
       "      <td>11547.149720</td>\n",
       "      <td>0.000000</td>\n",
       "      <td>9999.750000</td>\n",
       "      <td>19999.500000</td>\n",
       "      <td>29999.250000</td>\n",
       "      <td>39999.000000</td>\n",
       "    </tr>\n",
       "    <tr>\n",
       "      <th>song_duration_ms</th>\n",
       "      <td>35899.0</td>\n",
       "      <td>193165.847572</td>\n",
       "      <td>45822.127679</td>\n",
       "      <td>25658.000000</td>\n",
       "      <td>166254.500000</td>\n",
       "      <td>186660.000000</td>\n",
       "      <td>215116.000000</td>\n",
       "      <td>491671.000000</td>\n",
       "    </tr>\n",
       "    <tr>\n",
       "      <th>acousticness</th>\n",
       "      <td>36008.0</td>\n",
       "      <td>0.276404</td>\n",
       "      <td>0.297928</td>\n",
       "      <td>-0.013551</td>\n",
       "      <td>0.039618</td>\n",
       "      <td>0.140532</td>\n",
       "      <td>0.482499</td>\n",
       "      <td>1.065284</td>\n",
       "    </tr>\n",
       "    <tr>\n",
       "      <th>danceability</th>\n",
       "      <td>35974.0</td>\n",
       "      <td>0.570951</td>\n",
       "      <td>0.190010</td>\n",
       "      <td>0.043961</td>\n",
       "      <td>0.424760</td>\n",
       "      <td>0.608234</td>\n",
       "      <td>0.718464</td>\n",
       "      <td>0.957131</td>\n",
       "    </tr>\n",
       "    <tr>\n",
       "      <th>energy</th>\n",
       "      <td>36025.0</td>\n",
       "      <td>0.683932</td>\n",
       "      <td>0.212662</td>\n",
       "      <td>-0.001682</td>\n",
       "      <td>0.539276</td>\n",
       "      <td>0.704453</td>\n",
       "      <td>0.870503</td>\n",
       "      <td>1.039741</td>\n",
       "    </tr>\n",
       "    <tr>\n",
       "      <th>instrumentalness</th>\n",
       "      <td>36015.0</td>\n",
       "      <td>0.036527</td>\n",
       "      <td>0.150024</td>\n",
       "      <td>-0.004398</td>\n",
       "      <td>0.000941</td>\n",
       "      <td>0.001974</td>\n",
       "      <td>0.003225</td>\n",
       "      <td>1.075415</td>\n",
       "    </tr>\n",
       "    <tr>\n",
       "      <th>key</th>\n",
       "      <td>35935.0</td>\n",
       "      <td>5.042605</td>\n",
       "      <td>3.372728</td>\n",
       "      <td>0.000000</td>\n",
       "      <td>2.000000</td>\n",
       "      <td>5.000000</td>\n",
       "      <td>8.000000</td>\n",
       "      <td>11.000000</td>\n",
       "    </tr>\n",
       "    <tr>\n",
       "      <th>liveness</th>\n",
       "      <td>35914.0</td>\n",
       "      <td>0.198514</td>\n",
       "      <td>0.151670</td>\n",
       "      <td>0.027843</td>\n",
       "      <td>0.111796</td>\n",
       "      <td>0.135945</td>\n",
       "      <td>0.212842</td>\n",
       "      <td>1.065298</td>\n",
       "    </tr>\n",
       "    <tr>\n",
       "      <th>loudness</th>\n",
       "      <td>36043.0</td>\n",
       "      <td>-7.407596</td>\n",
       "      <td>3.877198</td>\n",
       "      <td>-32.117911</td>\n",
       "      <td>-9.578139</td>\n",
       "      <td>-6.345413</td>\n",
       "      <td>-4.620711</td>\n",
       "      <td>-0.877346</td>\n",
       "    </tr>\n",
       "    <tr>\n",
       "      <th>audio_mode</th>\n",
       "      <td>40000.0</td>\n",
       "      <td>0.321150</td>\n",
       "      <td>0.466924</td>\n",
       "      <td>0.000000</td>\n",
       "      <td>0.000000</td>\n",
       "      <td>0.000000</td>\n",
       "      <td>1.000000</td>\n",
       "      <td>1.000000</td>\n",
       "    </tr>\n",
       "    <tr>\n",
       "      <th>speechiness</th>\n",
       "      <td>40000.0</td>\n",
       "      <td>0.094107</td>\n",
       "      <td>0.083591</td>\n",
       "      <td>0.015065</td>\n",
       "      <td>0.038500</td>\n",
       "      <td>0.055881</td>\n",
       "      <td>0.118842</td>\n",
       "      <td>0.560748</td>\n",
       "    </tr>\n",
       "    <tr>\n",
       "      <th>tempo</th>\n",
       "      <td>40000.0</td>\n",
       "      <td>116.562815</td>\n",
       "      <td>26.167911</td>\n",
       "      <td>62.055779</td>\n",
       "      <td>96.995309</td>\n",
       "      <td>113.795959</td>\n",
       "      <td>128.517383</td>\n",
       "      <td>219.163578</td>\n",
       "    </tr>\n",
       "    <tr>\n",
       "      <th>time_signature</th>\n",
       "      <td>40000.0</td>\n",
       "      <td>3.394375</td>\n",
       "      <td>0.524405</td>\n",
       "      <td>2.000000</td>\n",
       "      <td>3.000000</td>\n",
       "      <td>3.000000</td>\n",
       "      <td>4.000000</td>\n",
       "      <td>5.000000</td>\n",
       "    </tr>\n",
       "    <tr>\n",
       "      <th>audio_valence</th>\n",
       "      <td>40000.0</td>\n",
       "      <td>0.580645</td>\n",
       "      <td>0.237351</td>\n",
       "      <td>0.013398</td>\n",
       "      <td>0.398669</td>\n",
       "      <td>0.598827</td>\n",
       "      <td>0.759635</td>\n",
       "      <td>1.022558</td>\n",
       "    </tr>\n",
       "    <tr>\n",
       "      <th>song_popularity</th>\n",
       "      <td>40000.0</td>\n",
       "      <td>0.364400</td>\n",
       "      <td>0.481268</td>\n",
       "      <td>0.000000</td>\n",
       "      <td>0.000000</td>\n",
       "      <td>0.000000</td>\n",
       "      <td>1.000000</td>\n",
       "      <td>1.000000</td>\n",
       "    </tr>\n",
       "  </tbody>\n",
       "</table>\n",
       "</div>"
      ],
      "text/plain": [
       "                    count           mean           std           min  \\\n",
       "id                40000.0   19999.500000  11547.149720      0.000000   \n",
       "song_duration_ms  35899.0  193165.847572  45822.127679  25658.000000   \n",
       "acousticness      36008.0       0.276404      0.297928     -0.013551   \n",
       "danceability      35974.0       0.570951      0.190010      0.043961   \n",
       "energy            36025.0       0.683932      0.212662     -0.001682   \n",
       "instrumentalness  36015.0       0.036527      0.150024     -0.004398   \n",
       "key               35935.0       5.042605      3.372728      0.000000   \n",
       "liveness          35914.0       0.198514      0.151670      0.027843   \n",
       "loudness          36043.0      -7.407596      3.877198    -32.117911   \n",
       "audio_mode        40000.0       0.321150      0.466924      0.000000   \n",
       "speechiness       40000.0       0.094107      0.083591      0.015065   \n",
       "tempo             40000.0     116.562815     26.167911     62.055779   \n",
       "time_signature    40000.0       3.394375      0.524405      2.000000   \n",
       "audio_valence     40000.0       0.580645      0.237351      0.013398   \n",
       "song_popularity   40000.0       0.364400      0.481268      0.000000   \n",
       "\n",
       "                            25%            50%            75%            max  \n",
       "id                  9999.750000   19999.500000   29999.250000   39999.000000  \n",
       "song_duration_ms  166254.500000  186660.000000  215116.000000  491671.000000  \n",
       "acousticness           0.039618       0.140532       0.482499       1.065284  \n",
       "danceability           0.424760       0.608234       0.718464       0.957131  \n",
       "energy                 0.539276       0.704453       0.870503       1.039741  \n",
       "instrumentalness       0.000941       0.001974       0.003225       1.075415  \n",
       "key                    2.000000       5.000000       8.000000      11.000000  \n",
       "liveness               0.111796       0.135945       0.212842       1.065298  \n",
       "loudness              -9.578139      -6.345413      -4.620711      -0.877346  \n",
       "audio_mode             0.000000       0.000000       1.000000       1.000000  \n",
       "speechiness            0.038500       0.055881       0.118842       0.560748  \n",
       "tempo                 96.995309     113.795959     128.517383     219.163578  \n",
       "time_signature         3.000000       3.000000       4.000000       5.000000  \n",
       "audio_valence          0.398669       0.598827       0.759635       1.022558  \n",
       "song_popularity        0.000000       0.000000       1.000000       1.000000  "
      ]
     },
     "execution_count": 2,
     "metadata": {},
     "output_type": "execute_result"
    }
   ],
   "source": [
    "#import the data and shape\n",
    "train = pd.read_csv(\"../input/song-popularity-prediction/train.csv\")\n",
    "test = pd.read_csv(\"../input/song-popularity-prediction/test.csv\")\n",
    "sample=pd.read_csv(\"../input/song-popularity-prediction/sample_submission.csv\")\n",
    "print(train.shape,test.shape,sample.shape)\n",
    "train.describe().transpose()"
   ]
  },
  {
   "cell_type": "code",
   "execution_count": 3,
   "id": "5a723c93",
   "metadata": {
    "execution": {
     "iopub.execute_input": "2022-01-20T07:49:45.517633Z",
     "iopub.status.busy": "2022-01-20T07:49:45.516856Z",
     "iopub.status.idle": "2022-01-20T07:49:45.528430Z",
     "shell.execute_reply": "2022-01-20T07:49:45.527964Z",
     "shell.execute_reply.started": "2022-01-20T07:37:22.392857Z"
    },
    "papermill": {
     "duration": 0.024958,
     "end_time": "2022-01-20T07:49:45.528536",
     "exception": false,
     "start_time": "2022-01-20T07:49:45.503578",
     "status": "completed"
    },
    "tags": []
   },
   "outputs": [
    {
     "name": "stdout",
     "output_type": "stream",
     "text": [
      "<class 'pandas.core.frame.DataFrame'>\n",
      "RangeIndex: 40000 entries, 0 to 39999\n",
      "Data columns (total 15 columns):\n",
      " #   Column            Non-Null Count  Dtype  \n",
      "---  ------            --------------  -----  \n",
      " 0   id                40000 non-null  int64  \n",
      " 1   song_duration_ms  35899 non-null  float64\n",
      " 2   acousticness      36008 non-null  float64\n",
      " 3   danceability      35974 non-null  float64\n",
      " 4   energy            36025 non-null  float64\n",
      " 5   instrumentalness  36015 non-null  float64\n",
      " 6   key               35935 non-null  float64\n",
      " 7   liveness          35914 non-null  float64\n",
      " 8   loudness          36043 non-null  float64\n",
      " 9   audio_mode        40000 non-null  int64  \n",
      " 10  speechiness       40000 non-null  float64\n",
      " 11  tempo             40000 non-null  float64\n",
      " 12  time_signature    40000 non-null  int64  \n",
      " 13  audio_valence     40000 non-null  float64\n",
      " 14  song_popularity   40000 non-null  int64  \n",
      "dtypes: float64(11), int64(4)\n",
      "memory usage: 4.6 MB\n"
     ]
    }
   ],
   "source": [
    "train.info()"
   ]
  },
  {
   "cell_type": "markdown",
   "id": "321f6785",
   "metadata": {
    "papermill": {
     "duration": 0.009624,
     "end_time": "2022-01-20T07:49:45.548145",
     "exception": false,
     "start_time": "2022-01-20T07:49:45.538521",
     "status": "completed"
    },
    "tags": []
   },
   "source": [
    "## **Apply Simple_Imputers**"
   ]
  },
  {
   "cell_type": "code",
   "execution_count": 4,
   "id": "6d3e1915",
   "metadata": {
    "_kg_hide-input": true,
    "execution": {
     "iopub.execute_input": "2022-01-20T07:49:45.577139Z",
     "iopub.status.busy": "2022-01-20T07:49:45.576228Z",
     "iopub.status.idle": "2022-01-20T07:49:46.526245Z",
     "shell.execute_reply": "2022-01-20T07:49:46.526689Z",
     "shell.execute_reply.started": "2022-01-20T07:37:32.271667Z"
    },
    "papermill": {
     "duration": 0.968785,
     "end_time": "2022-01-20T07:49:46.526909",
     "exception": false,
     "start_time": "2022-01-20T07:49:45.558124",
     "status": "completed"
    },
    "tags": []
   },
   "outputs": [
    {
     "name": "stdout",
     "output_type": "stream",
     "text": [
      "4    4000\n",
      "9    4000\n",
      "5    4000\n",
      "1    4000\n",
      "8    4000\n",
      "7    4000\n",
      "6    4000\n",
      "0    4000\n",
      "2    4000\n",
      "3    4000\n",
      "Name: kfold, dtype: int64\n",
      "successfully folds\n"
     ]
    }
   ],
   "source": [
    "from sklearn.impute import SimpleImputer\n",
    "imputer = SimpleImputer(strategy='median')\n",
    "train_im = pd.DataFrame(imputer.fit_transform(train))\n",
    "test_im = pd.DataFrame(imputer.fit_transform(test))\n",
    "#remove column\n",
    "train_im.columns = train.columns\n",
    "test_im.columns = test.columns\n",
    "\n",
    "train = train_im\n",
    "test = test_im\n",
    "\n",
    "#insert the kfold columns\n",
    "train['kfold'] = -1\n",
    "#distributing the data\n",
    "kfold = KFold(n_splits=10, shuffle=True,random_state=3333)\n",
    "for fold, (tr_i,va_i) in enumerate(kfold.split(X=train)):\n",
    "    train.loc[va_i,'kfold'] = fold\n",
    "    \n",
    "print(train.kfold.value_counts())\n",
    "train.to_csv(\"folds_10.csv\",index=False)\n",
    "print(\"successfully folds\")"
   ]
  },
  {
   "cell_type": "code",
   "execution_count": 5,
   "id": "8f57f387",
   "metadata": {
    "_kg_hide-input": true,
    "execution": {
     "iopub.execute_input": "2022-01-20T07:49:46.553985Z",
     "iopub.status.busy": "2022-01-20T07:49:46.553202Z",
     "iopub.status.idle": "2022-01-20T07:49:46.560368Z",
     "shell.execute_reply": "2022-01-20T07:49:46.559925Z",
     "shell.execute_reply.started": "2022-01-20T07:37:35.019333Z"
    },
    "papermill": {
     "duration": 0.02189,
     "end_time": "2022-01-20T07:49:46.560482",
     "exception": false,
     "start_time": "2022-01-20T07:49:46.538592",
     "status": "completed"
    },
    "tags": []
   },
   "outputs": [
    {
     "data": {
      "text/plain": [
       "id                  0\n",
       "song_duration_ms    0\n",
       "acousticness        0\n",
       "danceability        0\n",
       "energy              0\n",
       "instrumentalness    0\n",
       "key                 0\n",
       "liveness            0\n",
       "loudness            0\n",
       "audio_mode          0\n",
       "speechiness         0\n",
       "tempo               0\n",
       "time_signature      0\n",
       "audio_valence       0\n",
       "song_popularity     0\n",
       "kfold               0\n",
       "dtype: int64"
      ]
     },
     "execution_count": 5,
     "metadata": {},
     "output_type": "execute_result"
    }
   ],
   "source": [
    "train.isnull().sum()"
   ]
  },
  {
   "cell_type": "markdown",
   "id": "8da5b01a",
   "metadata": {
    "papermill": {
     "duration": 0.010818,
     "end_time": "2022-01-20T07:49:46.582471",
     "exception": false,
     "start_time": "2022-01-20T07:49:46.571653",
     "status": "completed"
    },
    "tags": []
   },
   "source": [
    "## **Feature Separation**"
   ]
  },
  {
   "cell_type": "code",
   "execution_count": 6,
   "id": "2cb3715d",
   "metadata": {
    "execution": {
     "iopub.execute_input": "2022-01-20T07:49:46.609406Z",
     "iopub.status.busy": "2022-01-20T07:49:46.608574Z",
     "iopub.status.idle": "2022-01-20T07:49:46.706814Z",
     "shell.execute_reply": "2022-01-20T07:49:46.706280Z",
     "shell.execute_reply.started": "2022-01-20T07:37:37.555502Z"
    },
    "papermill": {
     "duration": 0.113784,
     "end_time": "2022-01-20T07:49:46.706938",
     "exception": false,
     "start_time": "2022-01-20T07:49:46.593154",
     "status": "completed"
    },
    "tags": []
   },
   "outputs": [],
   "source": [
    "df = pd.read_csv(\"./folds_10.csv\")\n",
    "\n",
    "#features taken to train\n",
    "features = [f for f in df.columns if f not in(\"id\",\"kfold\",\"song_popularity\")]\n",
    "test= test[features]"
   ]
  },
  {
   "cell_type": "markdown",
   "id": "eb44ccbe",
   "metadata": {
    "papermill": {
     "duration": 0.010863,
     "end_time": "2022-01-20T07:49:46.728810",
     "exception": false,
     "start_time": "2022-01-20T07:49:46.717947",
     "status": "completed"
    },
    "tags": []
   },
   "source": [
    "## **Build_Model**"
   ]
  },
  {
   "cell_type": "code",
   "execution_count": 7,
   "id": "b482c86d",
   "metadata": {
    "_kg_hide-input": true,
    "execution": {
     "iopub.execute_input": "2022-01-20T07:49:46.763214Z",
     "iopub.status.busy": "2022-01-20T07:49:46.762287Z",
     "iopub.status.idle": "2022-01-20T07:52:08.069648Z",
     "shell.execute_reply": "2022-01-20T07:52:08.069147Z",
     "shell.execute_reply.started": "2022-01-20T07:37:45.100697Z"
    },
    "papermill": {
     "duration": 141.330284,
     "end_time": "2022-01-20T07:52:08.069795",
     "exception": false,
     "start_time": "2022-01-20T07:49:46.739511",
     "status": "completed"
    },
    "tags": []
   },
   "outputs": [
    {
     "name": "stderr",
     "output_type": "stream",
     "text": [
      "/opt/conda/lib/python3.7/site-packages/lightgbm/engine.py:177: UserWarning: Found `n_estimators` in params. Will use it instead of argument\n",
      "  _log_warning(f\"Found `{alias}` in params. Will use it instead of argument\")\n"
     ]
    },
    {
     "name": "stdout",
     "output_type": "stream",
     "text": [
      "[LightGBM] [Warning] bagging_fraction is set=0.7705303688019942, subsample=0.95312 will be ignored. Current value: bagging_fraction=0.7705303688019942\n",
      "[LightGBM] [Warning] feature_fraction is set=0.2256038826485174, colsample_bytree=0.1107 will be ignored. Current value: feature_fraction=0.2256038826485174\n",
      "fold|split:0,roc:0.565306373959737\n",
      "[LightGBM] [Warning] bagging_fraction is set=0.7705303688019942, subsample=0.95312 will be ignored. Current value: bagging_fraction=0.7705303688019942\n",
      "[LightGBM] [Warning] feature_fraction is set=0.2256038826485174, colsample_bytree=0.1107 will be ignored. Current value: feature_fraction=0.2256038826485174\n"
     ]
    },
    {
     "name": "stderr",
     "output_type": "stream",
     "text": [
      "/opt/conda/lib/python3.7/site-packages/lightgbm/engine.py:177: UserWarning: Found `n_estimators` in params. Will use it instead of argument\n",
      "  _log_warning(f\"Found `{alias}` in params. Will use it instead of argument\")\n"
     ]
    },
    {
     "name": "stdout",
     "output_type": "stream",
     "text": [
      "fold|split:1,roc:0.5835125243482633\n",
      "[LightGBM] [Warning] bagging_fraction is set=0.7705303688019942, subsample=0.95312 will be ignored. Current value: bagging_fraction=0.7705303688019942\n",
      "[LightGBM] [Warning] feature_fraction is set=0.2256038826485174, colsample_bytree=0.1107 will be ignored. Current value: feature_fraction=0.2256038826485174\n"
     ]
    },
    {
     "name": "stderr",
     "output_type": "stream",
     "text": [
      "/opt/conda/lib/python3.7/site-packages/lightgbm/engine.py:177: UserWarning: Found `n_estimators` in params. Will use it instead of argument\n",
      "  _log_warning(f\"Found `{alias}` in params. Will use it instead of argument\")\n"
     ]
    },
    {
     "name": "stdout",
     "output_type": "stream",
     "text": [
      "fold|split:2,roc:0.5649374750802565\n",
      "[LightGBM] [Warning] bagging_fraction is set=0.7705303688019942, subsample=0.95312 will be ignored. Current value: bagging_fraction=0.7705303688019942\n",
      "[LightGBM] [Warning] feature_fraction is set=0.2256038826485174, colsample_bytree=0.1107 will be ignored. Current value: feature_fraction=0.2256038826485174\n"
     ]
    },
    {
     "name": "stderr",
     "output_type": "stream",
     "text": [
      "/opt/conda/lib/python3.7/site-packages/lightgbm/engine.py:177: UserWarning: Found `n_estimators` in params. Will use it instead of argument\n",
      "  _log_warning(f\"Found `{alias}` in params. Will use it instead of argument\")\n"
     ]
    },
    {
     "name": "stdout",
     "output_type": "stream",
     "text": [
      "fold|split:3,roc:0.57579786234021\n",
      "[LightGBM] [Warning] bagging_fraction is set=0.7705303688019942, subsample=0.95312 will be ignored. Current value: bagging_fraction=0.7705303688019942\n",
      "[LightGBM] [Warning] feature_fraction is set=0.2256038826485174, colsample_bytree=0.1107 will be ignored. Current value: feature_fraction=0.2256038826485174\n"
     ]
    },
    {
     "name": "stderr",
     "output_type": "stream",
     "text": [
      "/opt/conda/lib/python3.7/site-packages/lightgbm/engine.py:177: UserWarning: Found `n_estimators` in params. Will use it instead of argument\n",
      "  _log_warning(f\"Found `{alias}` in params. Will use it instead of argument\")\n"
     ]
    },
    {
     "name": "stdout",
     "output_type": "stream",
     "text": [
      "fold|split:4,roc:0.5911724769939897\n",
      "[LightGBM] [Warning] bagging_fraction is set=0.7705303688019942, subsample=0.95312 will be ignored. Current value: bagging_fraction=0.7705303688019942\n",
      "[LightGBM] [Warning] feature_fraction is set=0.2256038826485174, colsample_bytree=0.1107 will be ignored. Current value: feature_fraction=0.2256038826485174\n"
     ]
    },
    {
     "name": "stderr",
     "output_type": "stream",
     "text": [
      "/opt/conda/lib/python3.7/site-packages/lightgbm/engine.py:177: UserWarning: Found `n_estimators` in params. Will use it instead of argument\n",
      "  _log_warning(f\"Found `{alias}` in params. Will use it instead of argument\")\n"
     ]
    },
    {
     "name": "stdout",
     "output_type": "stream",
     "text": [
      "fold|split:5,roc:0.5584901083635153\n",
      "[LightGBM] [Warning] bagging_fraction is set=0.7705303688019942, subsample=0.95312 will be ignored. Current value: bagging_fraction=0.7705303688019942\n",
      "[LightGBM] [Warning] feature_fraction is set=0.2256038826485174, colsample_bytree=0.1107 will be ignored. Current value: feature_fraction=0.2256038826485174\n"
     ]
    },
    {
     "name": "stderr",
     "output_type": "stream",
     "text": [
      "/opt/conda/lib/python3.7/site-packages/lightgbm/engine.py:177: UserWarning: Found `n_estimators` in params. Will use it instead of argument\n",
      "  _log_warning(f\"Found `{alias}` in params. Will use it instead of argument\")\n"
     ]
    },
    {
     "name": "stdout",
     "output_type": "stream",
     "text": [
      "fold|split:6,roc:0.5651727126608519\n",
      "[LightGBM] [Warning] bagging_fraction is set=0.7705303688019942, subsample=0.95312 will be ignored. Current value: bagging_fraction=0.7705303688019942\n",
      "[LightGBM] [Warning] feature_fraction is set=0.2256038826485174, colsample_bytree=0.1107 will be ignored. Current value: feature_fraction=0.2256038826485174\n"
     ]
    },
    {
     "name": "stderr",
     "output_type": "stream",
     "text": [
      "/opt/conda/lib/python3.7/site-packages/lightgbm/engine.py:177: UserWarning: Found `n_estimators` in params. Will use it instead of argument\n",
      "  _log_warning(f\"Found `{alias}` in params. Will use it instead of argument\")\n"
     ]
    },
    {
     "name": "stdout",
     "output_type": "stream",
     "text": [
      "fold|split:7,roc:0.5894034865694648\n",
      "[LightGBM] [Warning] bagging_fraction is set=0.7705303688019942, subsample=0.95312 will be ignored. Current value: bagging_fraction=0.7705303688019942\n",
      "[LightGBM] [Warning] feature_fraction is set=0.2256038826485174, colsample_bytree=0.1107 will be ignored. Current value: feature_fraction=0.2256038826485174\n"
     ]
    },
    {
     "name": "stderr",
     "output_type": "stream",
     "text": [
      "/opt/conda/lib/python3.7/site-packages/lightgbm/engine.py:177: UserWarning: Found `n_estimators` in params. Will use it instead of argument\n",
      "  _log_warning(f\"Found `{alias}` in params. Will use it instead of argument\")\n"
     ]
    },
    {
     "name": "stdout",
     "output_type": "stream",
     "text": [
      "fold|split:8,roc:0.5705354956327718\n",
      "[LightGBM] [Warning] bagging_fraction is set=0.7705303688019942, subsample=0.95312 will be ignored. Current value: bagging_fraction=0.7705303688019942\n",
      "[LightGBM] [Warning] feature_fraction is set=0.2256038826485174, colsample_bytree=0.1107 will be ignored. Current value: feature_fraction=0.2256038826485174\n"
     ]
    },
    {
     "name": "stderr",
     "output_type": "stream",
     "text": [
      "/opt/conda/lib/python3.7/site-packages/lightgbm/engine.py:177: UserWarning: Found `n_estimators` in params. Will use it instead of argument\n",
      "  _log_warning(f\"Found `{alias}` in params. Will use it instead of argument\")\n"
     ]
    },
    {
     "name": "stdout",
     "output_type": "stream",
     "text": [
      "fold|split:9,roc:0.5761422089055924\n",
      "0.5740470724854653 0.01057656710083471\n"
     ]
    }
   ],
   "source": [
    "prediction = []\n",
    "score = []\n",
    "\n",
    "for fold in range (10):\n",
    "    xtrain = df[df.kfold != fold].reset_index(drop=True)\n",
    "    xvalid = df[df.kfold == fold].reset_index(drop=True)\n",
    "    xtest = test.copy()\n",
    "    \n",
    "    ytrain = xtrain.song_popularity\n",
    "    yvalid = xvalid.song_popularity\n",
    "    \n",
    "    xtrain = xtrain[features]\n",
    "    xvalid = xvalid[features]\n",
    "    \n",
    "    lE = RobustScaler()\n",
    "    xtrain[features] = lE.fit_transform(xtrain[features])\n",
    "    xvalid[features] = lE.transform(xvalid[features])\n",
    "    xtest[features] = lE.transform(xtest[features])\n",
    "    \n",
    "    \n",
    "    #Model hyperparameter of XGboostRegressor\n",
    "    #lgb parameters\n",
    "    params_lgb = {\n",
    "        \"task\": \"train\",\n",
    "        \"boosting_type\": \"gbdt\",\n",
    "        \"objective\": \"binary\",\n",
    "        'subsample': 0.95312,\n",
    "        'learning_rate': 0.001635,\n",
    "        \"max_depth\": 3,\n",
    "        \"feature_fraction\": 0.2256038826485174,\n",
    "        \"bagging_fraction\": 0.7705303688019942,\n",
    "        \"min_child_samples\": 290,\n",
    "        \"reg_alpha\": 14.68267919457715,\n",
    "        \"reg_lambda\": 66.156,\n",
    "        \"max_bin\": 772,\n",
    "        \"min_data_per_group\": 177,\n",
    "        \"bagging_freq\": 1,\n",
    "        \"cat_smooth\": 96,\n",
    "        \"cat_l2\": 17,\n",
    "        \"verbosity\": -1,\n",
    "        'random_state':2022,\n",
    "        'n_estimators':5123,\n",
    "        'colsample_bytree':0.1107\n",
    "    }\n",
    "    \n",
    "    lgb_train = lgb.Dataset(xtrain, ytrain)\n",
    "    lgb_val = lgb.Dataset(xvalid, yvalid)\n",
    "    \n",
    "    model = lgb.train(params=params_lgb,\n",
    "                      train_set=lgb_train,\n",
    "                      valid_sets=lgb_val,\n",
    "                      callbacks=[early_stopping(stopping_rounds=444, verbose=False),\n",
    "                                 log_evaluation(period=0)])\n",
    "    \n",
    "   \n",
    "    preds_valid = model.predict(xvalid,num_iteration=model.best_iteration)\n",
    "    test_predict = model.predict(xtest,num_iteration=model.best_iteration)\n",
    "    prediction.append(test_predict)\n",
    "    roc1= roc_auc_score(yvalid,preds_valid)\n",
    "    score.append(roc1)\n",
    "    print(f\"fold|split:{fold},roc:{roc1}\")\n",
    "    \n",
    "print(np.mean(score),np.std(score))"
   ]
  },
  {
   "cell_type": "markdown",
   "id": "d53d08f1",
   "metadata": {
    "papermill": {
     "duration": 0.026003,
     "end_time": "2022-01-20T07:52:08.120746",
     "exception": false,
     "start_time": "2022-01-20T07:52:08.094743",
     "status": "completed"
    },
    "tags": []
   },
   "source": [
    "## **Predict output**"
   ]
  },
  {
   "cell_type": "code",
   "execution_count": 8,
   "id": "4bd3d8f3",
   "metadata": {
    "execution": {
     "iopub.execute_input": "2022-01-20T07:52:08.181374Z",
     "iopub.status.busy": "2022-01-20T07:52:08.180473Z",
     "iopub.status.idle": "2022-01-20T07:52:08.238632Z",
     "shell.execute_reply": "2022-01-20T07:52:08.239413Z",
     "shell.execute_reply.started": "2022-01-20T07:45:56.170510Z"
    },
    "papermill": {
     "duration": 0.092942,
     "end_time": "2022-01-20T07:52:08.239604",
     "exception": false,
     "start_time": "2022-01-20T07:52:08.146662",
     "status": "completed"
    },
    "tags": []
   },
   "outputs": [
    {
     "name": "stdout",
     "output_type": "stream",
     "text": [
      "[0.38986701 0.45619705 0.33826309 ... 0.34096964 0.4371645  0.31547874]\n",
      "Success!\n"
     ]
    }
   ],
   "source": [
    "final_predict = np.mean(np.column_stack(prediction),axis=1)\n",
    "print(final_predict)\n",
    "sample.song_popularity = final_predict\n",
    "sample.to_csv(\"lgb_median_imputation_regression_v3.csv\",index=False)\n",
    "print('Success!')"
   ]
  }
 ],
 "metadata": {
  "kernelspec": {
   "display_name": "Python 3",
   "language": "python",
   "name": "python3"
  },
  "language_info": {
   "codemirror_mode": {
    "name": "ipython",
    "version": 3
   },
   "file_extension": ".py",
   "mimetype": "text/x-python",
   "name": "python",
   "nbconvert_exporter": "python",
   "pygments_lexer": "ipython3",
   "version": "3.7.12"
  },
  "papermill": {
   "default_parameters": {},
   "duration": 155.354838,
   "end_time": "2022-01-20T07:52:09.175860",
   "environment_variables": {},
   "exception": null,
   "input_path": "__notebook__.ipynb",
   "output_path": "__notebook__.ipynb",
   "parameters": {},
   "start_time": "2022-01-20T07:49:33.821022",
   "version": "2.3.3"
  }
 },
 "nbformat": 4,
 "nbformat_minor": 5
}
